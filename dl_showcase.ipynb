{
 "cells": [
  {
   "cell_type": "markdown",
   "metadata": {},
   "source": [
    "# MRC - Deep learning showcase"
   ]
  },
  {
   "cell_type": "markdown",
   "metadata": {},
   "source": [
    "Content:\n",
    "1. Working with image data in R (downloading data, plotting, preprocessing)\n",
    "2. Creating deep learning architectures using the keras interface\n",
    "    1. Starting with Fashion MNIST\n",
    "    2. Evaluation of model output\n",
    "    3. Storage and loading of models\n",
    "    4. Sequential and Functional API\n",
    "3. Running and comparing different architectures (FCN, CNN)\n",
    "4. Regularization and its effects on the generalization performance\n",
    "5. Transfer learning with pretrained models in case of few labeled data\n",
    "6. Data generator functionality for huge data sets\n"
   ]
  },
  {
   "cell_type": "markdown",
   "metadata": {},
   "source": [
    "## 1. Working with image data in R"
   ]
  },
  {
   "cell_type": "markdown",
   "metadata": {},
   "source": [
    "### Data provided by the keras package - MNIST\n",
    "\n",
    "MNIST is a [famous dataset provided by Yann LeCun et al.](http://yann.lecun.com/exdb/mnist/) that consists of 70K 28x28 grayscale images of handwritten digits."
   ]
  },
  {
   "cell_type": "code",
   "execution_count": 11,
   "metadata": {},
   "outputs": [
    {
     "name": "stderr",
     "output_type": "stream",
     "text": [
      "Warning message:\n",
      "“package ‘magick’ was built under R version 3.4.4”Linking to ImageMagick 6.9.9.39\n",
      "Enabled features: cairo, fontconfig, freetype, lcms, pango, rsvg, webp\n",
      "Disabled features: fftw, ghostscript, x11\n"
     ]
    }
   ],
   "source": [
    "# install and load requried packages\n",
    "# use install.packages('<package name>') to install a packages\n",
    "# use library('<package name>') to load already installed packages\n",
    "# devtools::install_github('rstudio/keras')\n",
    "library('keras')\n",
    "library('grid')\n",
    "library('magick')"
   ]
  },
  {
   "cell_type": "code",
   "execution_count": 12,
   "metadata": {},
   "outputs": [
    {
     "name": "stdout",
     "output_type": "stream",
     "text": [
      "List of 2\n",
      " $ train:List of 2\n",
      "  ..$ x: int [1:60000, 1:28, 1:28] 0 0 0 0 0 0 0 0 0 0 ...\n",
      "  ..$ y: int [1:60000(1d)] 5 0 4 1 9 2 1 3 1 4 ...\n",
      " $ test :List of 2\n",
      "  ..$ x: int [1:10000, 1:28, 1:28] 0 0 0 0 0 0 0 0 0 0 ...\n",
      "  ..$ y: int [1:10000(1d)] 7 2 1 0 4 1 4 9 5 9 ...\n"
     ]
    }
   ],
   "source": [
    "# files will be stored at\n",
    "# ~/.keras/datasets\n",
    "mnist = dataset_mnist()\n",
    "# what does the object contain?\n",
    "str(mnist)\n",
    "# 60K train and 10K test data with input X and labels y"
   ]
  },
  {
   "cell_type": "code",
   "execution_count": 4,
   "metadata": {},
   "outputs": [],
   "source": [
    "# assign values \n",
    "x_train = mnist$train$x\n",
    "x_test = mnist$test$x\n",
    "y_train = mnist$train$y\n",
    "y_test = mnist$test$y"
   ]
  },
  {
   "cell_type": "code",
   "execution_count": 5,
   "metadata": {},
   "outputs": [
    {
     "data": {
      "text/plain": [
       "y_test\n",
       "   0    1    2    3    4    5    6    7    8    9 \n",
       " 980 1135 1032 1010  982  892  958 1028  974 1009 "
      ]
     },
     "metadata": {},
     "output_type": "display_data"
    },
    {
     "data": {
      "text/plain": [
       "y_train\n",
       "   0    1    2    3    4    5    6    7    8    9 \n",
       "5923 6742 5958 6131 5842 5421 5918 6265 5851 5949 "
      ]
     },
     "metadata": {},
     "output_type": "display_data"
    }
   ],
   "source": [
    "# classes for train and test are equally balanced \n",
    "# (-> what if they were not?)\n",
    "table(y_test)\n",
    "table(y_train)"
   ]
  },
  {
   "cell_type": "code",
   "execution_count": 6,
   "metadata": {},
   "outputs": [
    {
     "name": "stdout",
     "output_type": "stream",
     "text": [
      "class: matrix\n",
      "max value: 254\n",
      "min value: 0\n",
      "mean value: 27.8469387755102\n",
      "data type: integer"
     ]
    }
   ],
   "source": [
    "# x_train is an array that contains 60K images with channel size 1 and dimensions 28x28 (as they are black-white)\n",
    "# resulting in tensor of shape [amount images, xdim, ydim]\n",
    "# If the images were coloured, they would contain  3 channels (RGB) resulting in shape\n",
    "# [60000, 28, 28, 3]\n",
    "\n",
    "# inspect one train image\n",
    "idx = 87\n",
    "foo_img = x_train[idx, , ]\n",
    "foo_label = y_train[idx]\n",
    "cat(paste0('class: ', class(foo_img), \n",
    "    '\\nmax value: ', max(foo_img), \n",
    "    '\\nmin value: ', min(foo_img), \n",
    "    '\\nmean value: ', mean(foo_img),\n",
    "    '\\ndata type: ', typeof(foo_img)))"
   ]
  },
  {
   "cell_type": "code",
   "execution_count": 54,
   "metadata": {},
   "outputs": [
    {
     "data": {
      "image/png": "[encoded data removed]",
      "text/plain": [
       "Plot with title \"Image 87 with label 3\""
      ]
     },
     "metadata": {},
     "output_type": "display_data"
    }
   ],
   "source": [
    "# helper to rotate the image\n",
    "rot = function(x){t(apply(x, 2, rev))}\n",
    "# plot the image with the label as header\n",
    "image(rot(foo_img), \n",
    "    axes = FALSE, \n",
    "    col = grey(seq(0, 1, length = 256)), \n",
    "    main = paste0('Image ', idx, ' with label ', foo_label))"
   ]
  },
  {
   "cell_type": "markdown",
   "metadata": {},
   "source": [
    "### Data provided by the keras package - Fashion MNIST\n",
    "\n",
    "Fashion Mnist is mainly a more complicated version of MNIST with 10 classes of different fashion objects. The dataset is published by [Zalando Research](https://github.com/zalandoresearch/fashion-mnist) and also often used for deep learning benchmarks. The dataset as well consists of 70K 28x28 grayscale images of fashion objects in 10 balanced categories such as bags, shoes, trousers, ..."
   ]
  },
  {
   "cell_type": "code",
   "execution_count": 7,
   "metadata": {},
   "outputs": [
    {
     "name": "stdout",
     "output_type": "stream",
     "text": [
      "List of 2\n",
      " $ train:List of 2\n",
      "  ..$ x: int [1:60000, 1:28, 1:28] 0 0 0 0 0 0 0 0 0 0 ...\n",
      "  ..$ y: int [1:60000(1d)] 9 0 0 3 0 2 7 2 5 5 ...\n",
      " $ test :List of 2\n",
      "  ..$ x: int [1:10000, 1:28, 1:28] 0 0 0 0 0 0 0 0 0 0 ...\n",
      "  ..$ y: int [1:10000(1d)] 9 2 1 1 6 1 4 6 5 7 ...\n"
     ]
    }
   ],
   "source": [
    "# files will be stored at\n",
    "# ~/.keras/datasets\n",
    "fmnist = dataset_fashion_mnist()\n",
    "# what does the object contain?\n",
    "str(fmnist)\n",
    "# 60K train and 10K test data with input X and labels y\n",
    "# assign values \n",
    "x_train = fmnist$train$x\n",
    "x_test = fmnist$test$x\n",
    "y_train = fmnist$train$y\n",
    "y_test = fmnist$test$y"
   ]
  },
  {
   "cell_type": "code",
   "execution_count": 8,
   "metadata": {},
   "outputs": [
    {
     "name": "stdout",
     "output_type": "stream",
     "text": [
      "class: matrix\n",
      "max value: 255\n",
      "min value: 0\n",
      "mean value: 107.353316326531\n",
      "data type: integer"
     ]
    },
    {
     "data": {
      "image/png": "[encoded data removed]",
      "text/plain": [
       "Plot with title “Image 6 with label 2”"
      ]
     },
     "metadata": {},
     "output_type": "display_data"
    }
   ],
   "source": [
    "# inspect one train image\n",
    "idx = 6\n",
    "foo_img = x_train[idx, , ]\n",
    "foo_label = y_train[idx]\n",
    "cat(paste0('class: ', class(foo_img), \n",
    "    '\\nmax value: ', max(foo_img), \n",
    "    '\\nmin value: ', min(foo_img), \n",
    "    '\\nmean value: ', mean(foo_img),\n",
    "    '\\ndata type: ', typeof(foo_img)))\n",
    "# helper to rotate the image\n",
    "rot = function(x){t(apply(x, 2, rev))}\n",
    "# plot the image with the label as header\n",
    "image(rot(foo_img), \n",
    "    axes = FALSE, \n",
    "    col = grey(seq(0, 1, length = 256)), \n",
    "    main = paste0('Image ', idx, ' with label ', foo_label))"
   ]
  },
  {
   "cell_type": "markdown",
   "metadata": {},
   "source": [
    "### Data provided by the keras package - CIFAR 10\n",
    "\n",
    "Cifar10 is a [public dataset](https://www.cs.toronto.edu/%7Ekriz/cifar.html) that contains 60K 32x32 RGB images from 10 classes (airplanes, deer, cars, cats, ...) and is widely used for benchmarking DL algorithms in image classification. "
   ]
  },
  {
   "cell_type": "code",
   "execution_count": 11,
   "metadata": {},
   "outputs": [],
   "source": [
    "# can take up to 5 min as the dataset contains roughly 170MB\n",
    "# also stored at ~/.keras/datasets\n",
    "cifar = dataset_cifar10()"
   ]
  },
  {
   "cell_type": "code",
   "execution_count": 12,
   "metadata": {},
   "outputs": [
    {
     "name": "stdout",
     "output_type": "stream",
     "text": [
      "List of 2\n",
      " $ train:List of 2\n",
      "  ..$ x: int [1:50000, 1:32, 1:32, 1:3] 59 154 255 28 170 159 164 28 134 125 ...\n",
      "  ..$ y: int [1:50000, 1] 6 9 9 4 1 1 2 7 8 3 ...\n",
      " $ test :List of 2\n",
      "  ..$ x: int [1:10000, 1:32, 1:32, 1:3] 158 235 158 155 65 179 160 83 23 217 ...\n",
      "  ..$ y: num [1:10000, 1] 3 8 8 0 6 6 1 6 3 1 ...\n"
     ]
    }
   ],
   "source": [
    "# similar structure as MNIST\n",
    "# but now with channel depth 3\n",
    "str(cifar)\n",
    "x_train = cifar$train$x\n",
    "y_train = cifar$train$y\n",
    "x_test = cifar$test$x\n",
    "y_test = cifar$test$y"
   ]
  },
  {
   "cell_type": "code",
   "execution_count": 13,
   "metadata": {},
   "outputs": [
    {
     "name": "stdout",
     "output_type": "stream",
     "text": [
      "class: array\n",
      "max value: 247\n",
      "min value: 0\n",
      "mean value: 111.307291666667\n",
      "data type: integer\n",
      "label of image 177 is 1"
     ]
    },
    {
     "data": {
      "image/png": "[encoded data removed]",
      "text/plain": [
       "plot without title"
      ]
     },
     "metadata": {},
     "output_type": "display_data"
    }
   ],
   "source": [
    "# inspect one train image\n",
    "# consists of 3 matrices of RGB integers in {0, ..., 255}\n",
    "idx = 177\n",
    "foo_img = x_train[idx, , ,]\n",
    "foo_label = y_train[idx]\n",
    "cat(paste0('class: ', class(foo_img), \n",
    "    '\\nmax value: ', max(foo_img), \n",
    "    '\\nmin value: ', min(foo_img), \n",
    "    '\\nmean value: ', mean(foo_img),\n",
    "    '\\ndata type: ', typeof(foo_img)))\n",
    "\n",
    "# print the label \n",
    "cat(paste0('\\nlabel of image ', idx, ' is ', foo_label))\n",
    "\n",
    "# plot the images with grid package\n",
    "# therefore, pixels have to be squashed to [0, 1]\n",
    "r = foo_img[ , , 1] / 255\n",
    "g = foo_img[ , , 2] / 255\n",
    "b = foo_img[ , , 3] / 255\n",
    "col <- rgb(r, g, b)\n",
    "dim(col) <- dim(r)\n",
    "grid.raster(col, interpolate=FALSE, name = \"yo\")"
   ]
  },
  {
   "cell_type": "markdown",
   "metadata": {},
   "source": [
    "## Load and manipulate your own image data\n",
    "\n",
    "We transform one example image in the R-eadable data format. [Random Forest creator Leo Breiman](https://de.wikipedia.org/wiki/Leo_Breiman) serves as an example here. The R package [magick](https://cran.r-project.org/web/packages/magick/vignettes/intro.html#installing_magick) offers very comprehensive image manipulation methods in a unified framework."
   ]
  },
  {
   "cell_type": "code",
   "execution_count": 14,
   "metadata": {},
   "outputs": [],
   "source": [
    "# install.packages('magick')\n",
    "# read the image\n",
    "data_path = './data/Breiman.jpg'\n",
    "img = image_read(path = data_path)\n"
   ]
  },
  {
   "cell_type": "code",
   "execution_count": 15,
   "metadata": {
    "scrolled": false
   },
   "outputs": [
    {
     "data": {
      "image/jpeg": "[encoded data removed]"
     },
     "metadata": {},
     "output_type": "display_data"
    },
    {
     "data": {
      "text/plain": [
       "  format width height colorspace matte filesize density\n",
       "1   JPEG   400    350       Gray FALSE    23266   72x72"
      ]
     },
     "metadata": {},
     "output_type": "display_data"
    }
   ],
   "source": [
    "# plot the image\n",
    "img"
   ]
  },
  {
   "cell_type": "code",
   "execution_count": 16,
   "metadata": {},
   "outputs": [
    {
     "data": {
      "text/html": [
       "<ol class=list-inline>\n",
       "\t<li>350</li>\n",
       "\t<li>400</li>\n",
       "\t<li>1</li>\n",
       "</ol>\n"
      ],
      "text/latex": [
       "\\begin{enumerate*}\n",
       "\\item 350\n",
       "\\item 400\n",
       "\\item 1\n",
       "\\end{enumerate*}\n"
      ],
      "text/markdown": [
       "1. 350\n",
       "2. 400\n",
       "3. 1\n",
       "\n",
       "\n"
      ],
      "text/plain": [
       "[1] 350 400   1"
      ]
     },
     "metadata": {},
     "output_type": "display_data"
    },
    {
     "data": {
      "text/html": [
       "<table>\n",
       "<tbody>\n",
       "\t<tr><td>81</td><td>81</td><td>81</td><td>81</td><td>80</td><td>78</td></tr>\n",
       "\t<tr><td>82</td><td>82</td><td>83</td><td>83</td><td>82</td><td>80</td></tr>\n",
       "\t<tr><td>83</td><td>83</td><td>84</td><td>85</td><td>84</td><td>82</td></tr>\n",
       "\t<tr><td>82</td><td>82</td><td>83</td><td>85</td><td>85</td><td>83</td></tr>\n",
       "\t<tr><td>79</td><td>79</td><td>81</td><td>83</td><td>83</td><td>83</td></tr>\n",
       "\t<tr><td>76</td><td>76</td><td>78</td><td>80</td><td>81</td><td>80</td></tr>\n",
       "</tbody>\n",
       "</table>\n"
      ],
      "text/latex": [
       "\\begin{tabular}{llllll}\n",
       "\t 81 & 81 & 81 & 81 & 80 & 78\\\\\n",
       "\t 82 & 82 & 83 & 83 & 82 & 80\\\\\n",
       "\t 83 & 83 & 84 & 85 & 84 & 82\\\\\n",
       "\t 82 & 82 & 83 & 85 & 85 & 83\\\\\n",
       "\t 79 & 79 & 81 & 83 & 83 & 83\\\\\n",
       "\t 76 & 76 & 78 & 80 & 81 & 80\\\\\n",
       "\\end{tabular}\n"
      ],
      "text/markdown": [
       "\n",
       "| 81 | 81 | 81 | 81 | 80 | 78 | \n",
       "| 82 | 82 | 83 | 83 | 82 | 80 | \n",
       "| 83 | 83 | 84 | 85 | 84 | 82 | \n",
       "| 82 | 82 | 83 | 85 | 85 | 83 | \n",
       "| 79 | 79 | 81 | 83 | 83 | 83 | \n",
       "| 76 | 76 | 78 | 80 | 81 | 80 | \n",
       "\n",
       "\n"
      ],
      "text/plain": [
       "     [,1] [,2] [,3] [,4] [,5] [,6]\n",
       "[1,] 81   81   81   81   80   78  \n",
       "[2,] 82   82   83   83   82   80  \n",
       "[3,] 83   83   84   85   84   82  \n",
       "[4,] 82   82   83   85   85   83  \n",
       "[5,] 79   79   81   83   83   83  \n",
       "[6,] 76   76   78   80   81   80  "
      ]
     },
     "metadata": {},
     "output_type": "display_data"
    },
    {
     "data": {
      "text/plain": [
       "   Min. 1st Qu.  Median    Mean 3rd Qu.    Max. \n",
       "   30.0   109.0   123.0   136.3   171.0   255.0 "
      ]
     },
     "metadata": {},
     "output_type": "display_data"
    }
   ],
   "source": [
    "# get data from the image object\n",
    "# then convert it to integer values\n",
    "img_data = as.integer(image_data(img))\n",
    "# dimension of the image\n",
    "dim(img_data)\n",
    "# some elements of the image\n",
    "img_data[25:30, 40:45, 1]\n",
    "# values should lie in the range {0, ..., 255}\n",
    "summary(img_data)"
   ]
  },
  {
   "cell_type": "code",
   "execution_count": 17,
   "metadata": {},
   "outputs": [
    {
     "data": {
      "image/jpeg": "[encoded data removed]"
     },
     "metadata": {},
     "output_type": "display_data"
    },
    {
     "data": {
      "text/plain": [
       "  format width height colorspace matte filesize density\n",
       "1   JPEG   224    224       Gray FALSE        0   72x72"
      ]
     },
     "metadata": {},
     "output_type": "display_data"
    }
   ],
   "source": [
    "# resize the image in case they have different formats\n",
    "# e.g. Resnet takes 224x224 images as input\n",
    "resized_img = magick::image_resize(image = img, geometry = \"224x224!\")\n",
    "resized_img"
   ]
  },
  {
   "cell_type": "code",
   "execution_count": 18,
   "metadata": {
    "scrolled": true
   },
   "outputs": [
    {
     "data": {
      "image/jpeg": "[encoded data removed]"
     },
     "metadata": {},
     "output_type": "display_data"
    },
    {
     "data": {
      "text/plain": [
       "  format width height colorspace matte filesize density\n",
       "1   JPEG   224    224       Gray FALSE        0   72x72"
      ]
     },
     "metadata": {},
     "output_type": "display_data"
    }
   ],
   "source": [
    "# Convolve over the image with a Sobel filter to detect edges (as is done in the lecture slides)\n",
    "# therefore, the pipe operator is used which works the same was as in unix\n",
    "sobel_img = resized_img %>%\n",
    "    image_convolve('Sobel')\n",
    "sobel_img"
   ]
  },
  {
   "cell_type": "markdown",
   "metadata": {},
   "source": [
    "## 2. Getting started with Keras for modeling\n",
    "\n",
    "Running and training neural networks with keras mainly consists of the following steps:\n",
    "1. Reading and splitting data\n",
    "2. Defininig the architecture of the model\n",
    "3. Training the model and setting the hyperparameters for this\n",
    "4. Evaluation of the model performance\n",
    "5. Introduction to the functional API\n",
    "\n",
    "In the following, we will train different model architectures on the task to classifiy the Fashion Mnist images in their corresponding 10 categories. Also, Keras allows the specification of the model architecture in a *sequential* and a *functional* way, both of which will be used in the following. \n"
   ]
  },
  {
   "cell_type": "markdown",
   "metadata": {},
   "source": [
    "### 2.1 Reading and preparing the data"
   ]
  },
  {
   "cell_type": "code",
   "execution_count": 20,
   "metadata": {},
   "outputs": [],
   "source": [
    "# read the data\n",
    "fmnist = dataset_fashion_mnist()\n",
    "# assign values \n",
    "x_train = fmnist$train$x\n",
    "x_test = fmnist$test$x\n",
    "y_train = fmnist$train$y\n",
    "y_test = fmnist$test$y\n",
    "# dictionary for translation of the labels to meaningful category names\n",
    "label_dict = cbind(c('tshirt', 'trouser', 'pullover', 'dress', 'coat', \n",
    "                     'sandal', 'shirt', 'sneaker', 'bag', 'ankleboot'), \n",
    "                   c(0:9))"
   ]
  },
  {
   "cell_type": "code",
   "execution_count": 21,
   "metadata": {},
   "outputs": [
    {
     "data": {
      "text/html": [
       "<ol class=list-inline>\n",
       "\t<li>60000</li>\n",
       "\t<li>28</li>\n",
       "\t<li>28</li>\n",
       "</ol>\n"
      ],
      "text/latex": [
       "\\begin{enumerate*}\n",
       "\\item 60000\n",
       "\\item 28\n",
       "\\item 28\n",
       "\\end{enumerate*}\n"
      ],
      "text/markdown": [
       "1. 60000\n",
       "2. 28\n",
       "3. 28\n",
       "\n",
       "\n"
      ],
      "text/plain": [
       "[1] 60000    28    28"
      ]
     },
     "metadata": {},
     "output_type": "display_data"
    }
   ],
   "source": [
    "dim(x_train)"
   ]
  },
  {
   "cell_type": "code",
   "execution_count": 22,
   "metadata": {},
   "outputs": [],
   "source": [
    "# convert the labels to categorical one-hot-encoded vectors\n",
    "# store the real value as well and translate them into meaningful classes\n",
    "y_train_noncateg = cbind(y_train, label_dict[match(y_train, label_dict[, 2]), 1])\n",
    "y_test_noncateg = cbind(y_test, label_dict[match(y_test, label_dict[, 2]), 1])\n",
    "y_train = to_categorical(y = y_train)\n",
    "y_test = to_categorical(y = y_test)\n",
    "\n",
    "# flatten the data input arrays from 60K 28x28 matrix to 60K 784 vector format\n",
    "x_train = array_reshape(x_train, c(nrow(x_train), 28*28))\n",
    "x_test = array_reshape(x_test, c(nrow(x_test), 28*28))"
   ]
  },
  {
   "cell_type": "markdown",
   "metadata": {},
   "source": [
    "### 2.2 Defining the architecture - Sequential\n",
    "\n",
    "For a first run, we want to use a Multi-Layer-Preceptron (MLP), which consists of three inner hidden layers with varying size (128, 64, 32). In this example, we use the __sequential architecture__ which allows to stack layers upon each other using the __pipe operator %>%__ which is known from the unix bash. \n"
   ]
  },
  {
   "cell_type": "code",
   "execution_count": 23,
   "metadata": {},
   "outputs": [],
   "source": [
    "# define and instantiate the sequential model type\n",
    "model_seq = keras_model_sequential() \n",
    "\n",
    "# build the model sequentially layer-wise with the pipe operator %>%\n",
    "model_seq %>% \n",
    "    # input the data as vectors of length 28x28 = 784\n",
    "    # define the three hidden layers with relu activation and (128, 64, 32) neurons per layer\n",
    "    layer_dense(units = 128, activation = 'relu', input_shape = c(784)) %>% \n",
    "    layer_dense(units = 64, activation = 'relu') %>%\n",
    "    layer_dense(units = 32, activation = 'relu') %>%\n",
    "\n",
    "    # add softmax as activation for the last layer as we want to output probality \n",
    "    # scores in [0, 1] for the 10 classes\n",
    "    layer_dense(units = 10, activation = 'softmax')\n"
   ]
  },
  {
   "cell_type": "code",
   "execution_count": 24,
   "metadata": {},
   "outputs": [
    {
     "name": "stdout",
     "output_type": "stream",
     "text": [
      "________________________________________________________________________________\n",
      "Layer (type)                        Output Shape                    Param #     \n",
      "================================================================================\n",
      "dense_1 (Dense)                     (None, 128)                     100480      \n",
      "________________________________________________________________________________\n",
      "dense_2 (Dense)                     (None, 64)                      8256        \n",
      "________________________________________________________________________________\n",
      "dense_3 (Dense)                     (None, 32)                      2080        \n",
      "________________________________________________________________________________\n",
      "dense_4 (Dense)                     (None, 10)                      330         \n",
      "================================================================================\n",
      "Total params: 111,146\n",
      "Trainable params: 111,146\n",
      "Non-trainable params: 0\n",
      "________________________________________________________________________________\n"
     ]
    }
   ],
   "source": [
    "# summary() allows us to check the architecture\n",
    "# for instance, the 3rd layer contains 2080 = 64*32 + 32 weight parameters, as 32 neurons are connected\n",
    "# with the output from the preceeding 64 neurons and are each combined with a bias factor\n",
    "summary(model_seq)"
   ]
  },
  {
   "cell_type": "markdown",
   "metadata": {},
   "source": [
    "### 2.3 Compiling and running the model "
   ]
  },
  {
   "cell_type": "code",
   "execution_count": 25,
   "metadata": {},
   "outputs": [],
   "source": [
    "# again, use the pipe operator %>%\n",
    "# choose categorical cross entropy as the classifier loss and \n",
    "# optimize the weights sequentially with rmsprop \n",
    "# check the CRAN documentation for more information on choosable losses, optimizer and metrics\n",
    "# this step defines the computational graph that is getting executed in the next step\n",
    "model_seq %>% compile(\n",
    "  loss = 'categorical_crossentropy',\n",
    "  optimizer = optimizer_rmsprop(),\n",
    "  metrics = c('accuracy')\n",
    ")"
   ]
  },
  {
   "cell_type": "code",
   "execution_count": 26,
   "metadata": {},
   "outputs": [],
   "source": [
    "# train the compiled model with the fit function\n",
    "# save the training progress in the history file\n",
    "history = model_seq %>% fit(\n",
    "    x_train, y_train, \n",
    "    epochs = 3, batch_size = 32, \n",
    "    validation_split = 0.2, \n",
    "    verbose = 1\n",
    ")"
   ]
  },
  {
   "cell_type": "code",
   "execution_count": 28,
   "metadata": {},
   "outputs": [
    {
     "data": {},
     "metadata": {},
     "output_type": "display_data"
    },
    {
     "data": {
      "image/png": "[encoded data removed]",
      "text/plain": [
       "plot without title"
      ]
     },
     "metadata": {},
     "output_type": "display_data"
    }
   ],
   "source": [
    "# inspect the train and validation history\n",
    "plot(history)"
   ]
  },
  {
   "cell_type": "markdown",
   "metadata": {},
   "source": [
    "### 2.4 Making predictions and performance evaluation"
   ]
  },
  {
   "cell_type": "code",
   "execution_count": 78,
   "metadata": {},
   "outputs": [
    {
     "data": {
      "text/html": [
       "<dl>\n",
       "\t<dt>$loss</dt>\n",
       "\t\t<dd>11.8889720275879</dd>\n",
       "\t<dt>$acc</dt>\n",
       "\t\t<dd>0.2614</dd>\n",
       "</dl>\n"
      ],
      "text/latex": [
       "\\begin{description}\n",
       "\\item[\\$loss] 11.8889720275879\n",
       "\\item[\\$acc] 0.2614\n",
       "\\end{description}\n"
      ],
      "text/markdown": [
       "$loss\n",
       ":   11.8889720275879\n",
       "$acc\n",
       ":   0.2614\n",
       "\n",
       "\n"
      ],
      "text/plain": [
       "$loss\n",
       "[1] 11.88897\n",
       "\n",
       "$acc\n",
       "[1] 0.2614\n"
      ]
     },
     "metadata": {},
     "output_type": "display_data"
    }
   ],
   "source": [
    "# get the test performance of the trained model\n",
    "test_perf = model_seq %>% evaluate(x_test, y_test)\n",
    "test_perf"
   ]
  },
  {
   "cell_type": "code",
   "execution_count": 69,
   "metadata": {},
   "outputs": [
    {
     "data": {
      "text/html": [
       "<table>\n",
       "<thead><tr><th scope=col>yhat</th><th scope=col>yhat_label</th><th scope=col>y</th><th scope=col>y_label</th></tr></thead>\n",
       "<tbody>\n",
       "\t<tr><td>5        </td><td>sandal   </td><td>9        </td><td>ankleboot</td></tr>\n",
       "\t<tr><td>5        </td><td>sandal   </td><td>2        </td><td>pullover </td></tr>\n",
       "\t<tr><td>1        </td><td>trouser  </td><td>1        </td><td>trouser  </td></tr>\n",
       "\t<tr><td>1        </td><td>trouser  </td><td>1        </td><td>trouser  </td></tr>\n",
       "\t<tr><td>5        </td><td>sandal   </td><td>6        </td><td>shirt    </td></tr>\n",
       "\t<tr><td>1        </td><td>trouser  </td><td>1        </td><td>trouser  </td></tr>\n",
       "</tbody>\n",
       "</table>\n"
      ],
      "text/latex": [
       "\\begin{tabular}{r|llll}\n",
       " yhat & yhat\\_label & y & y\\_label\\\\\n",
       "\\hline\n",
       "\t 5         & sandal    & 9         & ankleboot\\\\\n",
       "\t 5         & sandal    & 2         & pullover \\\\\n",
       "\t 1         & trouser   & 1         & trouser  \\\\\n",
       "\t 1         & trouser   & 1         & trouser  \\\\\n",
       "\t 5         & sandal    & 6         & shirt    \\\\\n",
       "\t 1         & trouser   & 1         & trouser  \\\\\n",
       "\\end{tabular}\n"
      ],
      "text/markdown": [
       "\n",
       "yhat | yhat_label | y | y_label | \n",
       "|---|---|---|---|---|---|\n",
       "| 5         | sandal    | 9         | ankleboot | \n",
       "| 5         | sandal    | 2         | pullover  | \n",
       "| 1         | trouser   | 1         | trouser   | \n",
       "| 1         | trouser   | 1         | trouser   | \n",
       "| 5         | sandal    | 6         | shirt     | \n",
       "| 1         | trouser   | 1         | trouser   | \n",
       "\n",
       "\n"
      ],
      "text/plain": [
       "  yhat yhat_label y y_label  \n",
       "1 5    sandal     9 ankleboot\n",
       "2 5    sandal     2 pullover \n",
       "3 1    trouser    1 trouser  \n",
       "4 1    trouser    1 trouser  \n",
       "5 5    sandal     6 shirt    \n",
       "6 1    trouser    1 trouser  "
      ]
     },
     "metadata": {},
     "output_type": "display_data"
    }
   ],
   "source": [
    "# make hard predictions on all our test data\n",
    "preds = model_seq %>% predict_classes(x_test)\n",
    "pred_frame = as.data.frame(cbind(preds, label_dict[match(preds, label_dict[, 2]), 1], y_test_noncateg))\n",
    "pred_frame[, 1] = factor(pred_frame[, 1], levels = as.character(c(0:9)))\n",
    "colnames(pred_frame) = c('yhat', 'yhat_label', 'y', 'y_label')\n",
    "head(pred_frame)"
   ]
  },
  {
   "cell_type": "code",
   "execution_count": 70,
   "metadata": {},
   "outputs": [
    {
     "data": {
      "text/html": [
       "<table>\n",
       "<thead><tr><th scope=col>yhat_class_0</th><th scope=col>yhat_class_1</th><th scope=col>yhat_class_2</th><th scope=col>yhat_class_3</th><th scope=col>yhat_class_4</th><th scope=col>yhat_class_5</th><th scope=col>yhat_class_6</th><th scope=col>yhat_class_7</th><th scope=col>yhat_class_8</th><th scope=col>yhat_class_9</th><th scope=col>y</th><th scope=col>y_label</th></tr></thead>\n",
       "<tbody>\n",
       "\t<tr><td>0        </td><td>0        </td><td>0        </td><td>0        </td><td>0        </td><td>1        </td><td>0        </td><td>0        </td><td>0        </td><td>0        </td><td>9        </td><td>ankleboot</td></tr>\n",
       "\t<tr><td>0        </td><td>0        </td><td>0        </td><td>0        </td><td>0        </td><td>1        </td><td>0        </td><td>0        </td><td>0        </td><td>0        </td><td>2        </td><td>pullover </td></tr>\n",
       "\t<tr><td>0        </td><td>1        </td><td>0        </td><td>0        </td><td>0        </td><td>0        </td><td>0        </td><td>0        </td><td>0        </td><td>0        </td><td>1        </td><td>trouser  </td></tr>\n",
       "\t<tr><td>0        </td><td>1        </td><td>0        </td><td>0        </td><td>0        </td><td>0        </td><td>0        </td><td>0        </td><td>0        </td><td>0        </td><td>1        </td><td>trouser  </td></tr>\n",
       "\t<tr><td>0        </td><td>0        </td><td>0        </td><td>0        </td><td>0        </td><td>1        </td><td>0        </td><td>0        </td><td>0        </td><td>0        </td><td>6        </td><td>shirt    </td></tr>\n",
       "\t<tr><td>0        </td><td>1        </td><td>0        </td><td>0        </td><td>0        </td><td>0        </td><td>0        </td><td>0        </td><td>0        </td><td>0        </td><td>1        </td><td>trouser  </td></tr>\n",
       "</tbody>\n",
       "</table>\n"
      ],
      "text/latex": [
       "\\begin{tabular}{llllllllllll}\n",
       " yhat\\_class\\_0 & yhat\\_class\\_1 & yhat\\_class\\_2 & yhat\\_class\\_3 & yhat\\_class\\_4 & yhat\\_class\\_5 & yhat\\_class\\_6 & yhat\\_class\\_7 & yhat\\_class\\_8 & yhat\\_class\\_9 & y & y\\_label\\\\\n",
       "\\hline\n",
       "\t 0         & 0         & 0         & 0         & 0         & 1         & 0         & 0         & 0         & 0         & 9         & ankleboot\\\\\n",
       "\t 0         & 0         & 0         & 0         & 0         & 1         & 0         & 0         & 0         & 0         & 2         & pullover \\\\\n",
       "\t 0         & 1         & 0         & 0         & 0         & 0         & 0         & 0         & 0         & 0         & 1         & trouser  \\\\\n",
       "\t 0         & 1         & 0         & 0         & 0         & 0         & 0         & 0         & 0         & 0         & 1         & trouser  \\\\\n",
       "\t 0         & 0         & 0         & 0         & 0         & 1         & 0         & 0         & 0         & 0         & 6         & shirt    \\\\\n",
       "\t 0         & 1         & 0         & 0         & 0         & 0         & 0         & 0         & 0         & 0         & 1         & trouser  \\\\\n",
       "\\end{tabular}\n"
      ],
      "text/markdown": [
       "\n",
       "yhat_class_0 | yhat_class_1 | yhat_class_2 | yhat_class_3 | yhat_class_4 | yhat_class_5 | yhat_class_6 | yhat_class_7 | yhat_class_8 | yhat_class_9 | y | y_label | \n",
       "|---|---|---|---|---|---|\n",
       "| 0         | 0         | 0         | 0         | 0         | 1         | 0         | 0         | 0         | 0         | 9         | ankleboot | \n",
       "| 0         | 0         | 0         | 0         | 0         | 1         | 0         | 0         | 0         | 0         | 2         | pullover  | \n",
       "| 0         | 1         | 0         | 0         | 0         | 0         | 0         | 0         | 0         | 0         | 1         | trouser   | \n",
       "| 0         | 1         | 0         | 0         | 0         | 0         | 0         | 0         | 0         | 0         | 1         | trouser   | \n",
       "| 0         | 0         | 0         | 0         | 0         | 1         | 0         | 0         | 0         | 0         | 6         | shirt     | \n",
       "| 0         | 1         | 0         | 0         | 0         | 0         | 0         | 0         | 0         | 0         | 1         | trouser   | \n",
       "\n",
       "\n"
      ],
      "text/plain": [
       "     yhat_class_0 yhat_class_1 yhat_class_2 yhat_class_3 yhat_class_4\n",
       "[1,] 0            0            0            0            0           \n",
       "[2,] 0            0            0            0            0           \n",
       "[3,] 0            1            0            0            0           \n",
       "[4,] 0            1            0            0            0           \n",
       "[5,] 0            0            0            0            0           \n",
       "[6,] 0            1            0            0            0           \n",
       "     yhat_class_5 yhat_class_6 yhat_class_7 yhat_class_8 yhat_class_9 y\n",
       "[1,] 1            0            0            0            0            9\n",
       "[2,] 1            0            0            0            0            2\n",
       "[3,] 0            0            0            0            0            1\n",
       "[4,] 0            0            0            0            0            1\n",
       "[5,] 1            0            0            0            0            6\n",
       "[6,] 0            0            0            0            0            1\n",
       "     y_label  \n",
       "[1,] ankleboot\n",
       "[2,] pullover \n",
       "[3,] trouser  \n",
       "[4,] trouser  \n",
       "[5,] shirt    \n",
       "[6,] trouser  "
      ]
     },
     "metadata": {},
     "output_type": "display_data"
    }
   ],
   "source": [
    "# make soft predictions (softmax) on all our test data\n",
    "preds = model_seq %>% predict_proba(x_test)\n",
    "soft_pred_frame = cbind(preds, y_test_noncateg)\n",
    "colnames(soft_pred_frame) = c(paste0('yhat_class_', c(0:9)), 'y', 'y_label')\n",
    "head(soft_pred_frame)"
   ]
  },
  {
   "cell_type": "code",
   "execution_count": 57,
   "metadata": {},
   "outputs": [
    {
     "data": {
      "image/png": "[encoded data removed]",
      "text/plain": [
       "Plot with title “Test image 119 with true label 7: sneaker and prediction 7: sneaker”"
      ]
     },
     "metadata": {},
     "output_type": "display_data"
    }
   ],
   "source": [
    "# check predictions for one test image\n",
    "idx = 119\n",
    "img_test = array_reshape(x_test[idx, ], c(28, 28))\n",
    "rot = function(x){t(apply(x, 2, rev))}\n",
    "# plot the image with the label as header\n",
    "image(rot(img_test), \n",
    "    axes = FALSE, \n",
    "    col = grey(seq(0, 1, length = 256)), \n",
    "    main = paste0('Test image ', idx,  \n",
    "                ' with true label ', \n",
    "                y_test_noncateg[idx, 1], \n",
    "                ': ', \n",
    "                y_test_noncateg[idx, 2], \n",
    "                ' and prediction ', \n",
    "                pred_frame[idx, 1], ': ', \n",
    "                pred_frame[idx, 2]))"
   ]
  },
  {
   "cell_type": "markdown",
   "metadata": {},
   "source": [
    "#### Confusion matrix"
   ]
  },
  {
   "cell_type": "code",
   "execution_count": 79,
   "metadata": {},
   "outputs": [],
   "source": [
    "# instantiate empty confusion matrix as data frame\n",
    "conf_frame = as.data.frame(matrix(0, nrow = 10, ncol = 10))\n",
    "# transform factors to integers\n",
    "pred_frame$y = as.integer(pred_frame$y)\n",
    "pred_frame$yhat = as.integer(pred_frame$yhat)\n",
    "# loop over all possible true labels\n",
    "for(label in 1:10){\n",
    "    # filter for current label\n",
    "    dat = pred_frame %>% \n",
    "        dplyr::filter(y == label)\n",
    "    # loop over all predictable labels\n",
    "    for(pred in 1:10){\n",
    "        # count for each predictable label, how often it was predicted for which lass\n",
    "        conf_frame[pred, label] = length(which(dat[, 1] == pred)) \n",
    "    }\n",
    "}\n",
    "# rename the columns with the actual label values\n",
    "colnames(conf_frame) = label_dict[, 1]\n",
    "rownames(conf_frame) = label_dict[, 1]"
   ]
  },
  {
   "cell_type": "code",
   "execution_count": 80,
   "metadata": {},
   "outputs": [
    {
     "data": {
      "text/html": [
       "<table>\n",
       "<thead><tr><th></th><th scope=col>tshirt</th><th scope=col>trouser</th><th scope=col>pullover</th><th scope=col>dress</th><th scope=col>coat</th><th scope=col>sandal</th><th scope=col>shirt</th><th scope=col>sneaker</th><th scope=col>bag</th><th scope=col>ankleboot</th></tr></thead>\n",
       "<tbody>\n",
       "\t<tr><th scope=row>tshirt</th><td>  0</td><td>  0</td><td>  0</td><td>  0</td><td>  0</td><td>  0</td><td>  0</td><td>  0</td><td>  0</td><td>  0</td></tr>\n",
       "\t<tr><th scope=row>trouser</th><td>911</td><td>987</td><td>432</td><td>969</td><td>496</td><td>  0</td><td>541</td><td>  0</td><td> 17</td><td>  0</td></tr>\n",
       "\t<tr><th scope=row>pullover</th><td>  0</td><td>  0</td><td>  0</td><td>  0</td><td>  0</td><td>  0</td><td>  0</td><td>  0</td><td>  0</td><td>  0</td></tr>\n",
       "\t<tr><th scope=row>dress</th><td>  0</td><td>  0</td><td>  0</td><td>  0</td><td>  0</td><td>  0</td><td>  0</td><td>  0</td><td>  0</td><td>  0</td></tr>\n",
       "\t<tr><th scope=row>coat</th><td>  0</td><td>  0</td><td>  0</td><td>  0</td><td>  0</td><td>  0</td><td>  0</td><td>  0</td><td>  0</td><td>  0</td></tr>\n",
       "\t<tr><th scope=row>sandal</th><td> 89</td><td> 13</td><td>568</td><td> 31</td><td>504</td><td>984</td><td>459</td><td>357</td><td>981</td><td>936</td></tr>\n",
       "\t<tr><th scope=row>shirt</th><td>  0</td><td>  0</td><td>  0</td><td>  0</td><td>  0</td><td>  0</td><td>  0</td><td>  0</td><td>  0</td><td>  0</td></tr>\n",
       "\t<tr><th scope=row>sneaker</th><td>  0</td><td>  0</td><td>  0</td><td>  0</td><td>  0</td><td> 16</td><td>  0</td><td>643</td><td>  2</td><td> 64</td></tr>\n",
       "\t<tr><th scope=row>bag</th><td>  0</td><td>  0</td><td>  0</td><td>  0</td><td>  0</td><td>  0</td><td>  0</td><td>  0</td><td>  0</td><td>  0</td></tr>\n",
       "\t<tr><th scope=row>ankleboot</th><td>  0</td><td>  0</td><td>  0</td><td>  0</td><td>  0</td><td>  0</td><td>  0</td><td>  0</td><td>  0</td><td>  0</td></tr>\n",
       "</tbody>\n",
       "</table>\n"
      ],
      "text/latex": [
       "\\begin{tabular}{r|llllllllll}\n",
       "  & tshirt & trouser & pullover & dress & coat & sandal & shirt & sneaker & bag & ankleboot\\\\\n",
       "\\hline\n",
       "\ttshirt &   0 &   0 &   0 &   0 &   0 &   0 &   0 &   0 &   0 &   0\\\\\n",
       "\ttrouser & 911 & 987 & 432 & 969 & 496 &   0 & 541 &   0 &  17 &   0\\\\\n",
       "\tpullover &   0 &   0 &   0 &   0 &   0 &   0 &   0 &   0 &   0 &   0\\\\\n",
       "\tdress &   0 &   0 &   0 &   0 &   0 &   0 &   0 &   0 &   0 &   0\\\\\n",
       "\tcoat &   0 &   0 &   0 &   0 &   0 &   0 &   0 &   0 &   0 &   0\\\\\n",
       "\tsandal &  89 &  13 & 568 &  31 & 504 & 984 & 459 & 357 & 981 & 936\\\\\n",
       "\tshirt &   0 &   0 &   0 &   0 &   0 &   0 &   0 &   0 &   0 &   0\\\\\n",
       "\tsneaker &   0 &   0 &   0 &   0 &   0 &  16 &   0 & 643 &   2 &  64\\\\\n",
       "\tbag &   0 &   0 &   0 &   0 &   0 &   0 &   0 &   0 &   0 &   0\\\\\n",
       "\tankleboot &   0 &   0 &   0 &   0 &   0 &   0 &   0 &   0 &   0 &   0\\\\\n",
       "\\end{tabular}\n"
      ],
      "text/markdown": [
       "\n",
       "| <!--/--> | tshirt | trouser | pullover | dress | coat | sandal | shirt | sneaker | bag | ankleboot | \n",
       "|---|---|---|---|---|---|---|---|---|---|\n",
       "| tshirt |   0 |   0 |   0 |   0 |   0 |   0 |   0 |   0 |   0 |   0 | \n",
       "| trouser | 911 | 987 | 432 | 969 | 496 |   0 | 541 |   0 |  17 |   0 | \n",
       "| pullover |   0 |   0 |   0 |   0 |   0 |   0 |   0 |   0 |   0 |   0 | \n",
       "| dress |   0 |   0 |   0 |   0 |   0 |   0 |   0 |   0 |   0 |   0 | \n",
       "| coat |   0 |   0 |   0 |   0 |   0 |   0 |   0 |   0 |   0 |   0 | \n",
       "| sandal |  89 |  13 | 568 |  31 | 504 | 984 | 459 | 357 | 981 | 936 | \n",
       "| shirt |   0 |   0 |   0 |   0 |   0 |   0 |   0 |   0 |   0 |   0 | \n",
       "| sneaker |   0 |   0 |   0 |   0 |   0 |  16 |   0 | 643 |   2 |  64 | \n",
       "| bag |   0 |   0 |   0 |   0 |   0 |   0 |   0 |   0 |   0 |   0 | \n",
       "| ankleboot |   0 |   0 |   0 |   0 |   0 |   0 |   0 |   0 |   0 |   0 | \n",
       "\n",
       "\n"
      ],
      "text/plain": [
       "          tshirt trouser pullover dress coat sandal shirt sneaker bag ankleboot\n",
       "tshirt      0      0       0        0     0    0      0     0       0   0      \n",
       "trouser   911    987     432      969   496    0    541     0      17   0      \n",
       "pullover    0      0       0        0     0    0      0     0       0   0      \n",
       "dress       0      0       0        0     0    0      0     0       0   0      \n",
       "coat        0      0       0        0     0    0      0     0       0   0      \n",
       "sandal     89     13     568       31   504  984    459   357     981 936      \n",
       "shirt       0      0       0        0     0    0      0     0       0   0      \n",
       "sneaker     0      0       0        0     0   16      0   643       2  64      \n",
       "bag         0      0       0        0     0    0      0     0       0   0      \n",
       "ankleboot   0      0       0        0     0    0      0     0       0   0      "
      ]
     },
     "metadata": {},
     "output_type": "display_data"
    }
   ],
   "source": [
    "# inspect the confusion matrix\n",
    "# rows represent the predicted values and columns represent the true values\n",
    "# a perfect confusion matrix contains only non-zero values on the diagonal \n",
    "# how can we interpret those results?\n",
    "conf_frame"
   ]
  },
  {
   "cell_type": "markdown",
   "metadata": {},
   "source": [
    "#### Saving and re-loading the model weights"
   ]
  },
  {
   "cell_type": "code",
   "execution_count": 74,
   "metadata": {},
   "outputs": [],
   "source": [
    "# save model weights and architecture to hdf5 file\n",
    "save_model_hdf5(object =  model_seq, filepath = './model_1.h5')"
   ]
  },
  {
   "cell_type": "code",
   "execution_count": 76,
   "metadata": {},
   "outputs": [
    {
     "name": "stdout",
     "output_type": "stream",
     "text": [
      "________________________________________________________________________________\n",
      "Layer (type)                        Output Shape                    Param #     \n",
      "================================================================================\n",
      "dense_1 (Dense)                     (None, 128)                     100480      \n",
      "________________________________________________________________________________\n",
      "dense_2 (Dense)                     (None, 64)                      8256        \n",
      "________________________________________________________________________________\n",
      "dense_3 (Dense)                     (None, 32)                      2080        \n",
      "________________________________________________________________________________\n",
      "dense_4 (Dense)                     (None, 10)                      330         \n",
      "================================================================================\n",
      "Total params: 111,146\n",
      "Trainable params: 111,146\n",
      "Non-trainable params: 0\n",
      "________________________________________________________________________________\n"
     ]
    }
   ],
   "source": [
    "# load model with a new name \n",
    "loaded_model = load_model_hdf5(filepath = './model_1.h5')\n",
    "# check the architecture \n",
    "summary(loaded_model)"
   ]
  },
  {
   "cell_type": "code",
   "execution_count": 81,
   "metadata": {},
   "outputs": [
    {
     "data": {
      "text/html": [
       "<dl>\n",
       "\t<dt>$loss</dt>\n",
       "\t\t<dd>11.8889720275879</dd>\n",
       "\t<dt>$acc</dt>\n",
       "\t\t<dd>0.2614</dd>\n",
       "</dl>\n"
      ],
      "text/latex": [
       "\\begin{description}\n",
       "\\item[\\$loss] 11.8889720275879\n",
       "\\item[\\$acc] 0.2614\n",
       "\\end{description}\n"
      ],
      "text/markdown": [
       "$loss\n",
       ":   11.8889720275879\n",
       "$acc\n",
       ":   0.2614\n",
       "\n",
       "\n"
      ],
      "text/plain": [
       "$loss\n",
       "[1] 11.88897\n",
       "\n",
       "$acc\n",
       "[1] 0.2614\n"
      ]
     },
     "metadata": {},
     "output_type": "display_data"
    }
   ],
   "source": [
    "# test performance of the loaded model on the same test data\n",
    "loaded_model %>% evaluate(x_test, y_test)"
   ]
  },
  {
   "cell_type": "markdown",
   "metadata": {},
   "source": [
    "### 2.5 Defining the architecture - Functional\n",
    "\n",
    "Again, we want to use a Multi-Layer-Preceptron (MLP), which consists of three inner hidden layers with varying size (128, 64, 32). For this chapter, the functional style is used. "
   ]
  },
  {
   "cell_type": "code",
   "execution_count": 82,
   "metadata": {},
   "outputs": [
    {
     "data": {
      "text/html": [
       "<dl>\n",
       "\t<dt>$loss</dt>\n",
       "\t\t<dd>10.26613387146</dd>\n",
       "\t<dt>$acc</dt>\n",
       "\t\t<dd>0.3627</dd>\n",
       "</dl>\n"
      ],
      "text/latex": [
       "\\begin{description}\n",
       "\\item[\\$loss] 10.26613387146\n",
       "\\item[\\$acc] 0.3627\n",
       "\\end{description}\n"
      ],
      "text/markdown": [
       "$loss\n",
       ":   10.26613387146\n",
       "$acc\n",
       ":   0.3627\n",
       "\n",
       "\n"
      ],
      "text/plain": [
       "$loss\n",
       "[1] 10.26613\n",
       "\n",
       "$acc\n",
       "[1] 0.3627\n"
      ]
     },
     "metadata": {},
     "output_type": "display_data"
    }
   ],
   "source": [
    "# define the start point of the architecture (input layer)\n",
    "input = layer_input(shape = c(784))\n",
    "\n",
    "# define the end point of the computational graph (predictions)\n",
    "output = input %>% \n",
    "    layer_dense(units = 128, activation = 'relu', input_shape = c(784)) %>% \n",
    "    layer_dense(units = 64, activation = 'relu') %>%\n",
    "    layer_dense(units = 32, activation = 'relu') %>%\n",
    "    layer_dense(units = 10, activation = 'softmax')\n",
    "\n",
    "# merge both layers to compile the model\n",
    "model_func = keras_model(inputs = input, outputs = output)\n",
    "model_func %>% compile(\n",
    "  optimizer = 'rmsprop',\n",
    "  loss = 'categorical_crossentropy',\n",
    "  metrics = c('accuracy')\n",
    ")\n",
    "\n",
    "# fit the model\n",
    "history = model_func %>% fit(\n",
    "    x = x_train, y = y_train, \n",
    "    epochs = 3, batch_size = 32, \n",
    "    validation_split = 0.2, \n",
    "    verbose = 1\n",
    ")\n",
    "\n",
    "# check test performance\n",
    "model_func %>% evaluate(x_test, y_test)"
   ]
  },
  {
   "cell_type": "code",
   "execution_count": 84,
   "metadata": {},
   "outputs": [
    {
     "name": "stdout",
     "output_type": "stream",
     "text": [
      "________________________________________________________________________________\n",
      "Layer (type)                        Output Shape                    Param #     \n",
      "================================================================================\n",
      "dense_1 (Dense)                     (None, 128)                     100480      \n",
      "________________________________________________________________________________\n",
      "dense_2 (Dense)                     (None, 64)                      8256        \n",
      "________________________________________________________________________________\n",
      "dense_3 (Dense)                     (None, 32)                      2080        \n",
      "________________________________________________________________________________\n",
      "dense_4 (Dense)                     (None, 10)                      330         \n",
      "================================================================================\n",
      "Total params: 111,146\n",
      "Trainable params: 111,146\n",
      "Non-trainable params: 0\n",
      "________________________________________________________________________________\n",
      "________________________________________________________________________________\n",
      "Layer (type)                        Output Shape                    Param #     \n",
      "================================================================================\n",
      "input_1 (InputLayer)                (None, 784)                     0           \n",
      "________________________________________________________________________________\n",
      "dense_5 (Dense)                     (None, 128)                     100480      \n",
      "________________________________________________________________________________\n",
      "dense_6 (Dense)                     (None, 64)                      8256        \n",
      "________________________________________________________________________________\n",
      "dense_7 (Dense)                     (None, 32)                      2080        \n",
      "________________________________________________________________________________\n",
      "dense_8 (Dense)                     (None, 10)                      330         \n",
      "================================================================================\n",
      "Total params: 111,146\n",
      "Trainable params: 111,146\n",
      "Non-trainable params: 0\n",
      "________________________________________________________________________________\n"
     ]
    }
   ],
   "source": [
    "# compare both architectures\n",
    "summary(model_seq)\n",
    "summary(model_func)"
   ]
  },
  {
   "cell_type": "markdown",
   "metadata": {},
   "source": [
    "# 3. Different architectures: from FCN to CNN\n",
    "\n",
    "In chapter two, each image was treated as a vector of integers of size 28x28=784 which was then fed in to a Multi-Layer-Perceptron, also called *Vanilla-Fully-Connected-Network*. \n",
    "\n",
    "An alternative to this simple neural net architecture is the use of __convolutional layers__ to extraxt features throughout the network. \n",
    "\n",
    "Convolutional neural networks (CNNs) are very popular in image processing tasks and recently are as well adapted to text and sequence modeling tasks. We apply them on the Fashion MNIST task and compare the performance with the previous FCN architecture. We will use the sequential modeling style for this task."
   ]
  },
  {
   "cell_type": "code",
   "execution_count": 85,
   "metadata": {},
   "outputs": [
    {
     "name": "stdout",
     "output_type": "stream",
     "text": [
      "________________________________________________________________________________\n",
      "Layer (type)                        Output Shape                    Param #     \n",
      "================================================================================\n",
      "conv2d_1 (Conv2D)                   (None, 28, 28, 64)              640         \n",
      "________________________________________________________________________________\n",
      "max_pooling2d_1 (MaxPooling2D)      (None, 9, 9, 64)                0           \n",
      "________________________________________________________________________________\n",
      "conv2d_2 (Conv2D)                   (None, 9, 9, 128)               73856       \n",
      "________________________________________________________________________________\n",
      "max_pooling2d_2 (MaxPooling2D)      (None, 3, 3, 128)               0           \n",
      "________________________________________________________________________________\n",
      "flatten_1 (Flatten)                 (None, 1152)                    0           \n",
      "________________________________________________________________________________\n",
      "dense_9 (Dense)                     (None, 512)                     590336      \n",
      "________________________________________________________________________________\n",
      "dense_10 (Dense)                    (None, 10)                      5130        \n",
      "================================================================================\n",
      "Total params: 669,962\n",
      "Trainable params: 669,962\n",
      "Non-trainable params: 0\n",
      "________________________________________________________________________________\n"
     ]
    }
   ],
   "source": [
    "# define and instantiate the sequential model type\n",
    "model_conv = keras_model_sequential() \n",
    "\n",
    "model_conv %>% \n",
    "    # input the data as matrices of dimension 28x28x1 as we are working with grayscale images\n",
    "    # first convolutional block creating 64 feature maps\n",
    "    layer_conv_2d(filters = 64, kernel_size = c(3, 3), activation = 'relu', \n",
    "                 padding = 'same', input_shape = c(28, 28, 1)) %>% \n",
    "    layer_max_pooling_2d(pool_size = c(3, 3)) %>% \n",
    "\n",
    "    # second convolutional block creating 128 feature maps\n",
    "    layer_conv_2d(filters = 128, kernel_size = c(3, 3), activation = 'relu', \n",
    "                 padding = 'same') %>% \n",
    "    layer_max_pooling_2d(pool_size = c(3, 3)) %>% \n",
    "\n",
    "    # connect the feature maps with a fully connected (dense) layer to the final output\n",
    "    # therefore, flatten the 2dimensional feature maps to vector format\n",
    "    layer_flatten() %>% \n",
    "    layer_dense(units = 512, activation = 'relu') %>% \n",
    "    layer_dense(units = 10, activation = 'softmax')\n",
    "\n",
    "# compile the model \n",
    "model_conv %>% compile(\n",
    "  loss = 'categorical_crossentropy',\n",
    "  optimizer = optimizer_rmsprop(),\n",
    "  metrics = c('accuracy')\n",
    ")\n",
    "\n",
    "# check the model architecture\n",
    "summary(model_conv)"
   ]
  },
  {
   "cell_type": "code",
   "execution_count": 86,
   "metadata": {},
   "outputs": [
    {
     "data": {
      "text/html": [
       "<ol class=list-inline>\n",
       "\t<li>60000</li>\n",
       "\t<li>28</li>\n",
       "\t<li>28</li>\n",
       "\t<li>1</li>\n",
       "</ol>\n"
      ],
      "text/latex": [
       "\\begin{enumerate*}\n",
       "\\item 60000\n",
       "\\item 28\n",
       "\\item 28\n",
       "\\item 1\n",
       "\\end{enumerate*}\n"
      ],
      "text/markdown": [
       "1. 60000\n",
       "2. 28\n",
       "3. 28\n",
       "4. 1\n",
       "\n",
       "\n"
      ],
      "text/plain": [
       "[1] 60000    28    28     1"
      ]
     },
     "metadata": {},
     "output_type": "display_data"
    }
   ],
   "source": [
    "# get the data in 28x28 format\n",
    "fmnist = dataset_fashion_mnist()\n",
    "x_train = fmnist$train$x\n",
    "x_test = fmnist$test$x\n",
    "y_train = fmnist$train$y\n",
    "y_test = fmnist$test$y\n",
    "\n",
    "# reshape the array to dimension (#data, Xdim, Ydim, #channels)\n",
    "x_train = array(x_train, c(60000, 28, 28, 1))\n",
    "x_test = array(x_test, c(10000, 28, 28, 1))\n",
    "\n",
    "# check the dimensionality of each of the 60K train images\n",
    "dim(x_train)\n",
    "# one-hot encode the labels\n",
    "y_train = to_categorical(y = y_train)\n",
    "y_test = to_categorical(y = y_test)\n"
   ]
  },
  {
   "cell_type": "code",
   "execution_count": 88,
   "metadata": {},
   "outputs": [],
   "source": [
    "# train the compiled model with the fit function\n",
    "# save the training progress in the history file\n",
    "history = model_conv %>% fit(\n",
    "    x = x_train, \n",
    "    y = y_train, \n",
    "    epochs = 2, \n",
    "    batch_size = 32, \n",
    "    validation_split = 0.2, \n",
    "    verbose = 1\n",
    ")"
   ]
  },
  {
   "cell_type": "code",
   "execution_count": 89,
   "metadata": {},
   "outputs": [
    {
     "data": {},
     "metadata": {},
     "output_type": "display_data"
    },
    {
     "data": {
      "image/png": "[encoded data removed]",
      "text/plain": [
       "plot without title"
      ]
     },
     "metadata": {},
     "output_type": "display_data"
    }
   ],
   "source": [
    "plot(history)"
   ]
  },
  {
   "cell_type": "code",
   "execution_count": 90,
   "metadata": {},
   "outputs": [
    {
     "data": {
      "text/html": [
       "<dl>\n",
       "\t<dt>$loss</dt>\n",
       "\t\t<dd>14.5062856903076</dd>\n",
       "\t<dt>$acc</dt>\n",
       "\t\t<dd>0.1</dd>\n",
       "</dl>\n"
      ],
      "text/latex": [
       "\\begin{description}\n",
       "\\item[\\$loss] 14.5062856903076\n",
       "\\item[\\$acc] 0.1\n",
       "\\end{description}\n"
      ],
      "text/markdown": [
       "$loss\n",
       ":   14.5062856903076\n",
       "$acc\n",
       ":   0.1\n",
       "\n",
       "\n"
      ],
      "text/plain": [
       "$loss\n",
       "[1] 14.50629\n",
       "\n",
       "$acc\n",
       "[1] 0.1\n"
      ]
     },
     "metadata": {},
     "output_type": "display_data"
    }
   ],
   "source": [
    "# evaluate the performance\n",
    "model_conv %>% evaluate(x_test, y_test)"
   ]
  },
  {
   "cell_type": "code",
   "execution_count": null,
   "metadata": {},
   "outputs": [],
   "source": []
  },
  {
   "cell_type": "markdown",
   "metadata": {},
   "source": [
    "# 4. The importance of regularization "
   ]
  },
  {
   "cell_type": "code",
   "execution_count": null,
   "metadata": {},
   "outputs": [],
   "source": []
  },
  {
   "cell_type": "code",
   "execution_count": null,
   "metadata": {},
   "outputs": [],
   "source": []
  },
  {
   "cell_type": "code",
   "execution_count": null,
   "metadata": {},
   "outputs": [],
   "source": []
  },
  {
   "cell_type": "markdown",
   "metadata": {},
   "source": [
    "# 5. Transfer Learning: working with pre-trained models\n",
    "\n",
    "In real-world applications, the amount of available, labeled train data is often times limited. As the performance of deep learning models is highly dependent on vast amounts of data, methods to overcome this problem were and currently are developed. One of such techniques is __transfer learnig__.\n",
    "\n",
    "The basic idea behind transfer learning is training a model on a rich, labeled dataset for a task that is related to the task of interest and then fine-tune this model on the small amount of labeled data form the initial task of interest. \n",
    "\n",
    "One example for a rich, labeled and public data set is [ImageNet](http://www.image-net.org/) provided by Stanford University, which contains XXX million images for YYY classes. \n",
    "\n",
    "In this chapter, we \n",
    "\n",
    "1. use a pretrained model to classifiy the object in a new, arbitrary image\n",
    "2. fine-tune a pre-trained model on a new task"
   ]
  },
  {
   "cell_type": "markdown",
   "metadata": {},
   "source": [
    "## 5.1. Use a pretrained net for classification \n",
    "\n",
    "We use the a pretrained VGG16 architecture to classify a new, arbitrary image. We use the picture of a peaceful cow and a set of dishes (licensed for free, commercial use by [pexels.com](https://www.pexels.com/search/cow/)). The VGG16 was trained on coloured RGB images with the dimension (xdim = 224, ydim = 224, channels = 3), thus we made sure, the images have the same dimensions. "
   ]
  },
  {
   "cell_type": "markdown",
   "metadata": {},
   "source": [
    "### 5.1.1 Cow detection "
   ]
  },
  {
   "cell_type": "code",
   "execution_count": 3,
   "metadata": {},
   "outputs": [
    {
     "data": {
      "image/jpeg": "[encoded data removed]"
     },
     "metadata": {},
     "output_type": "display_data"
    },
    {
     "data": {
      "text/plain": [
       "  format width height colorspace matte filesize density\n",
       "1   JPEG   224    224       sRGB FALSE    20166   72x72"
      ]
     },
     "metadata": {},
     "output_type": "display_data"
    },
    {
     "data": {
      "text/html": [
       "<ol class=list-inline>\n",
       "\t<li>1</li>\n",
       "\t<li>224</li>\n",
       "\t<li>224</li>\n",
       "\t<li>3</li>\n",
       "</ol>\n"
      ],
      "text/latex": [
       "\\begin{enumerate*}\n",
       "\\item 1\n",
       "\\item 224\n",
       "\\item 224\n",
       "\\item 3\n",
       "\\end{enumerate*}\n"
      ],
      "text/markdown": [
       "1. 1\n",
       "2. 224\n",
       "3. 224\n",
       "4. 3\n",
       "\n",
       "\n"
      ],
      "text/plain": [
       "[1]   1 224 224   3"
      ]
     },
     "metadata": {},
     "output_type": "display_data"
    }
   ],
   "source": [
    "# get the image\n",
    "# magick package\n",
    "cow = image_read(path = './data/cow.jpg')\n",
    "cow\n",
    "# get the data\n",
    "cow_data = as.integer(image_data(cow))\n",
    "# add 4th dimension such that the resulting array has dim\n",
    "# (batch size, xdim, ydim, channel size)\n",
    "cow_data = array(cow_data, c(1, 224, 224, 3))\n",
    "dim(cow_data)"
   ]
  },
  {
   "cell_type": "code",
   "execution_count": null,
   "metadata": {},
   "outputs": [],
   "source": [
    "# get the pretrained model from the keras library\n",
    "# load the weights from the folder of this Repository\n",
    "# we already downloaded the weights to this location for you\n",
    "model_pretrained = application_resnet50(weights = \n",
    "    './models/resnet50_weights_tf_dim_ordering_tf_kernels.h5')"
   ]
  },
  {
   "cell_type": "code",
   "execution_count": 38,
   "metadata": {
    "scrolled": true
   },
   "outputs": [
    {
     "name": "stdout",
     "output_type": "stream",
     "text": [
      "________________________________________________________________________________\n",
      "Layer (type)              Output Shape      Param #  Connected to               \n",
      "================================================================================\n",
      "input_5 (InputLayer)      (None, 224, 224,  0                                   \n",
      "________________________________________________________________________________\n",
      "conv1 (Conv2D)            (None, 112, 112,  9472     input_5[0][0]              \n",
      "________________________________________________________________________________\n",
      "bn_conv1 (BatchNormalizat (None, 112, 112,  256      conv1[0][0]                \n",
      "________________________________________________________________________________\n",
      "activation_50 (Activation (None, 112, 112,  0        bn_conv1[0][0]             \n",
      "________________________________________________________________________________\n",
      "max_pooling2d_2 (MaxPooli (None, 55, 55, 64 0        activation_50[0][0]        \n",
      "________________________________________________________________________________\n",
      "res2a_branch2a (Conv2D)   (None, 55, 55, 64 4160     max_pooling2d_2[0][0]      \n",
      "________________________________________________________________________________\n",
      "bn2a_branch2a (BatchNorma (None, 55, 55, 64 256      res2a_branch2a[0][0]       \n",
      "________________________________________________________________________________\n",
      "activation_51 (Activation (None, 55, 55, 64 0        bn2a_branch2a[0][0]        \n",
      "________________________________________________________________________________\n",
      "res2a_branch2b (Conv2D)   (None, 55, 55, 64 36928    activation_51[0][0]        \n",
      "________________________________________________________________________________\n",
      "bn2a_branch2b (BatchNorma (None, 55, 55, 64 256      res2a_branch2b[0][0]       \n",
      "________________________________________________________________________________\n",
      "activation_52 (Activation (None, 55, 55, 64 0        bn2a_branch2b[0][0]        \n",
      "________________________________________________________________________________\n",
      "res2a_branch2c (Conv2D)   (None, 55, 55, 25 16640    activation_52[0][0]        \n",
      "________________________________________________________________________________\n",
      "res2a_branch1 (Conv2D)    (None, 55, 55, 25 16640    max_pooling2d_2[0][0]      \n",
      "________________________________________________________________________________\n",
      "bn2a_branch2c (BatchNorma (None, 55, 55, 25 1024     res2a_branch2c[0][0]       \n",
      "________________________________________________________________________________\n",
      "bn2a_branch1 (BatchNormal (None, 55, 55, 25 1024     res2a_branch1[0][0]        \n",
      "________________________________________________________________________________\n",
      "add_17 (Add)              (None, 55, 55, 25 0        bn2a_branch2c[0][0]        \n",
      "                                                     bn2a_branch1[0][0]         \n",
      "________________________________________________________________________________\n",
      "activation_53 (Activation (None, 55, 55, 25 0        add_17[0][0]               \n",
      "________________________________________________________________________________\n",
      "res2b_branch2a (Conv2D)   (None, 55, 55, 64 16448    activation_53[0][0]        \n",
      "________________________________________________________________________________\n",
      "bn2b_branch2a (BatchNorma (None, 55, 55, 64 256      res2b_branch2a[0][0]       \n",
      "________________________________________________________________________________\n",
      "activation_54 (Activation (None, 55, 55, 64 0        bn2b_branch2a[0][0]        \n",
      "________________________________________________________________________________\n",
      "res2b_branch2b (Conv2D)   (None, 55, 55, 64 36928    activation_54[0][0]        \n",
      "________________________________________________________________________________\n",
      "bn2b_branch2b (BatchNorma (None, 55, 55, 64 256      res2b_branch2b[0][0]       \n",
      "________________________________________________________________________________\n",
      "activation_55 (Activation (None, 55, 55, 64 0        bn2b_branch2b[0][0]        \n",
      "________________________________________________________________________________\n",
      "res2b_branch2c (Conv2D)   (None, 55, 55, 25 16640    activation_55[0][0]        \n",
      "________________________________________________________________________________\n",
      "bn2b_branch2c (BatchNorma (None, 55, 55, 25 1024     res2b_branch2c[0][0]       \n",
      "________________________________________________________________________________\n",
      "add_18 (Add)              (None, 55, 55, 25 0        bn2b_branch2c[0][0]        \n",
      "                                                     activation_53[0][0]        \n",
      "________________________________________________________________________________\n",
      "activation_56 (Activation (None, 55, 55, 25 0        add_18[0][0]               \n",
      "________________________________________________________________________________\n",
      "res2c_branch2a (Conv2D)   (None, 55, 55, 64 16448    activation_56[0][0]        \n",
      "________________________________________________________________________________\n",
      "bn2c_branch2a (BatchNorma (None, 55, 55, 64 256      res2c_branch2a[0][0]       \n",
      "________________________________________________________________________________\n",
      "activation_57 (Activation (None, 55, 55, 64 0        bn2c_branch2a[0][0]        \n",
      "________________________________________________________________________________\n",
      "res2c_branch2b (Conv2D)   (None, 55, 55, 64 36928    activation_57[0][0]        \n",
      "________________________________________________________________________________\n",
      "bn2c_branch2b (BatchNorma (None, 55, 55, 64 256      res2c_branch2b[0][0]       \n",
      "________________________________________________________________________________\n",
      "activation_58 (Activation (None, 55, 55, 64 0        bn2c_branch2b[0][0]        \n",
      "________________________________________________________________________________\n",
      "res2c_branch2c (Conv2D)   (None, 55, 55, 25 16640    activation_58[0][0]        \n",
      "________________________________________________________________________________\n",
      "bn2c_branch2c (BatchNorma (None, 55, 55, 25 1024     res2c_branch2c[0][0]       \n",
      "________________________________________________________________________________\n",
      "add_19 (Add)              (None, 55, 55, 25 0        bn2c_branch2c[0][0]        \n",
      "                                                     activation_56[0][0]        \n",
      "________________________________________________________________________________\n",
      "activation_59 (Activation (None, 55, 55, 25 0        add_19[0][0]               \n",
      "________________________________________________________________________________\n",
      "res3a_branch2a (Conv2D)   (None, 28, 28, 12 32896    activation_59[0][0]        \n",
      "________________________________________________________________________________\n",
      "bn3a_branch2a (BatchNorma (None, 28, 28, 12 512      res3a_branch2a[0][0]       \n",
      "________________________________________________________________________________\n",
      "activation_60 (Activation (None, 28, 28, 12 0        bn3a_branch2a[0][0]        \n",
      "________________________________________________________________________________\n",
      "res3a_branch2b (Conv2D)   (None, 28, 28, 12 147584   activation_60[0][0]        \n",
      "________________________________________________________________________________\n",
      "bn3a_branch2b (BatchNorma (None, 28, 28, 12 512      res3a_branch2b[0][0]       \n",
      "________________________________________________________________________________\n",
      "activation_61 (Activation (None, 28, 28, 12 0        bn3a_branch2b[0][0]        \n",
      "________________________________________________________________________________\n",
      "res3a_branch2c (Conv2D)   (None, 28, 28, 51 66048    activation_61[0][0]        \n",
      "________________________________________________________________________________\n",
      "res3a_branch1 (Conv2D)    (None, 28, 28, 51 131584   activation_59[0][0]        \n",
      "________________________________________________________________________________\n",
      "bn3a_branch2c (BatchNorma (None, 28, 28, 51 2048     res3a_branch2c[0][0]       \n",
      "________________________________________________________________________________\n",
      "bn3a_branch1 (BatchNormal (None, 28, 28, 51 2048     res3a_branch1[0][0]        \n",
      "________________________________________________________________________________\n",
      "add_20 (Add)              (None, 28, 28, 51 0        bn3a_branch2c[0][0]        \n",
      "                                                     bn3a_branch1[0][0]         \n",
      "________________________________________________________________________________\n",
      "activation_62 (Activation (None, 28, 28, 51 0        add_20[0][0]               \n",
      "________________________________________________________________________________\n",
      "res3b_branch2a (Conv2D)   (None, 28, 28, 12 65664    activation_62[0][0]        \n",
      "________________________________________________________________________________\n",
      "bn3b_branch2a (BatchNorma (None, 28, 28, 12 512      res3b_branch2a[0][0]       \n",
      "________________________________________________________________________________\n",
      "activation_63 (Activation (None, 28, 28, 12 0        bn3b_branch2a[0][0]        \n",
      "________________________________________________________________________________\n",
      "res3b_branch2b (Conv2D)   (None, 28, 28, 12 147584   activation_63[0][0]        \n",
      "________________________________________________________________________________\n",
      "bn3b_branch2b (BatchNorma (None, 28, 28, 12 512      res3b_branch2b[0][0]       \n",
      "________________________________________________________________________________\n",
      "activation_64 (Activation (None, 28, 28, 12 0        bn3b_branch2b[0][0]        \n",
      "________________________________________________________________________________\n",
      "res3b_branch2c (Conv2D)   (None, 28, 28, 51 66048    activation_64[0][0]        \n",
      "________________________________________________________________________________\n",
      "bn3b_branch2c (BatchNorma (None, 28, 28, 51 2048     res3b_branch2c[0][0]       \n",
      "________________________________________________________________________________\n",
      "add_21 (Add)              (None, 28, 28, 51 0        bn3b_branch2c[0][0]        \n",
      "                                                     activation_62[0][0]        \n",
      "________________________________________________________________________________\n",
      "activation_65 (Activation (None, 28, 28, 51 0        add_21[0][0]               \n",
      "________________________________________________________________________________\n",
      "res3c_branch2a (Conv2D)   (None, 28, 28, 12 65664    activation_65[0][0]        \n",
      "________________________________________________________________________________\n",
      "bn3c_branch2a (BatchNorma (None, 28, 28, 12 512      res3c_branch2a[0][0]       \n",
      "________________________________________________________________________________\n",
      "activation_66 (Activation (None, 28, 28, 12 0        bn3c_branch2a[0][0]        \n",
      "________________________________________________________________________________\n",
      "res3c_branch2b (Conv2D)   (None, 28, 28, 12 147584   activation_66[0][0]        \n",
      "________________________________________________________________________________\n",
      "bn3c_branch2b (BatchNorma (None, 28, 28, 12 512      res3c_branch2b[0][0]       \n",
      "________________________________________________________________________________\n",
      "activation_67 (Activation (None, 28, 28, 12 0        bn3c_branch2b[0][0]        \n",
      "________________________________________________________________________________\n",
      "res3c_branch2c (Conv2D)   (None, 28, 28, 51 66048    activation_67[0][0]        \n",
      "________________________________________________________________________________\n",
      "bn3c_branch2c (BatchNorma (None, 28, 28, 51 2048     res3c_branch2c[0][0]       \n",
      "________________________________________________________________________________\n",
      "add_22 (Add)              (None, 28, 28, 51 0        bn3c_branch2c[0][0]        \n",
      "                                                     activation_65[0][0]        \n",
      "________________________________________________________________________________\n",
      "activation_68 (Activation (None, 28, 28, 51 0        add_22[0][0]               \n",
      "________________________________________________________________________________\n",
      "res3d_branch2a (Conv2D)   (None, 28, 28, 12 65664    activation_68[0][0]        \n",
      "________________________________________________________________________________\n",
      "bn3d_branch2a (BatchNorma (None, 28, 28, 12 512      res3d_branch2a[0][0]       \n",
      "________________________________________________________________________________\n",
      "activation_69 (Activation (None, 28, 28, 12 0        bn3d_branch2a[0][0]        \n",
      "________________________________________________________________________________\n",
      "res3d_branch2b (Conv2D)   (None, 28, 28, 12 147584   activation_69[0][0]        \n",
      "________________________________________________________________________________\n",
      "bn3d_branch2b (BatchNorma (None, 28, 28, 12 512      res3d_branch2b[0][0]       \n",
      "________________________________________________________________________________\n",
      "activation_70 (Activation (None, 28, 28, 12 0        bn3d_branch2b[0][0]        \n",
      "________________________________________________________________________________\n",
      "res3d_branch2c (Conv2D)   (None, 28, 28, 51 66048    activation_70[0][0]        \n",
      "________________________________________________________________________________\n",
      "bn3d_branch2c (BatchNorma (None, 28, 28, 51 2048     res3d_branch2c[0][0]       \n",
      "________________________________________________________________________________\n",
      "add_23 (Add)              (None, 28, 28, 51 0        bn3d_branch2c[0][0]        \n",
      "                                                     activation_68[0][0]        \n",
      "________________________________________________________________________________\n",
      "activation_71 (Activation (None, 28, 28, 51 0        add_23[0][0]               \n",
      "________________________________________________________________________________\n",
      "res4a_branch2a (Conv2D)   (None, 14, 14, 25 131328   activation_71[0][0]        \n",
      "________________________________________________________________________________\n",
      "bn4a_branch2a (BatchNorma (None, 14, 14, 25 1024     res4a_branch2a[0][0]       \n",
      "________________________________________________________________________________\n",
      "activation_72 (Activation (None, 14, 14, 25 0        bn4a_branch2a[0][0]        \n",
      "________________________________________________________________________________\n",
      "res4a_branch2b (Conv2D)   (None, 14, 14, 25 590080   activation_72[0][0]        \n",
      "________________________________________________________________________________\n",
      "bn4a_branch2b (BatchNorma (None, 14, 14, 25 1024     res4a_branch2b[0][0]       \n",
      "________________________________________________________________________________\n",
      "activation_73 (Activation (None, 14, 14, 25 0        bn4a_branch2b[0][0]        \n",
      "________________________________________________________________________________\n",
      "res4a_branch2c (Conv2D)   (None, 14, 14, 10 263168   activation_73[0][0]        \n",
      "________________________________________________________________________________\n",
      "res4a_branch1 (Conv2D)    (None, 14, 14, 10 525312   activation_71[0][0]        \n",
      "________________________________________________________________________________\n",
      "bn4a_branch2c (BatchNorma (None, 14, 14, 10 4096     res4a_branch2c[0][0]       \n",
      "________________________________________________________________________________\n",
      "bn4a_branch1 (BatchNormal (None, 14, 14, 10 4096     res4a_branch1[0][0]        \n",
      "________________________________________________________________________________\n",
      "add_24 (Add)              (None, 14, 14, 10 0        bn4a_branch2c[0][0]        \n",
      "                                                     bn4a_branch1[0][0]         \n",
      "________________________________________________________________________________\n",
      "activation_74 (Activation (None, 14, 14, 10 0        add_24[0][0]               \n",
      "________________________________________________________________________________\n",
      "res4b_branch2a (Conv2D)   (None, 14, 14, 25 262400   activation_74[0][0]        \n",
      "________________________________________________________________________________\n",
      "bn4b_branch2a (BatchNorma (None, 14, 14, 25 1024     res4b_branch2a[0][0]       \n",
      "________________________________________________________________________________\n",
      "activation_75 (Activation (None, 14, 14, 25 0        bn4b_branch2a[0][0]        \n",
      "________________________________________________________________________________\n",
      "res4b_branch2b (Conv2D)   (None, 14, 14, 25 590080   activation_75[0][0]        \n",
      "________________________________________________________________________________\n",
      "bn4b_branch2b (BatchNorma (None, 14, 14, 25 1024     res4b_branch2b[0][0]       \n",
      "________________________________________________________________________________\n",
      "activation_76 (Activation (None, 14, 14, 25 0        bn4b_branch2b[0][0]        \n",
      "________________________________________________________________________________\n",
      "res4b_branch2c (Conv2D)   (None, 14, 14, 10 263168   activation_76[0][0]        \n",
      "________________________________________________________________________________\n",
      "bn4b_branch2c (BatchNorma (None, 14, 14, 10 4096     res4b_branch2c[0][0]       \n",
      "________________________________________________________________________________\n",
      "add_25 (Add)              (None, 14, 14, 10 0        bn4b_branch2c[0][0]        \n",
      "                                                     activation_74[0][0]        \n",
      "________________________________________________________________________________\n",
      "activation_77 (Activation (None, 14, 14, 10 0        add_25[0][0]               \n",
      "________________________________________________________________________________\n",
      "res4c_branch2a (Conv2D)   (None, 14, 14, 25 262400   activation_77[0][0]        \n",
      "________________________________________________________________________________\n",
      "bn4c_branch2a (BatchNorma (None, 14, 14, 25 1024     res4c_branch2a[0][0]       \n",
      "________________________________________________________________________________\n",
      "activation_78 (Activation (None, 14, 14, 25 0        bn4c_branch2a[0][0]        \n",
      "________________________________________________________________________________\n",
      "res4c_branch2b (Conv2D)   (None, 14, 14, 25 590080   activation_78[0][0]        \n",
      "________________________________________________________________________________\n",
      "bn4c_branch2b (BatchNorma (None, 14, 14, 25 1024     res4c_branch2b[0][0]       \n",
      "________________________________________________________________________________\n",
      "activation_79 (Activation (None, 14, 14, 25 0        bn4c_branch2b[0][0]        \n",
      "________________________________________________________________________________\n",
      "res4c_branch2c (Conv2D)   (None, 14, 14, 10 263168   activation_79[0][0]        \n",
      "________________________________________________________________________________\n",
      "bn4c_branch2c (BatchNorma (None, 14, 14, 10 4096     res4c_branch2c[0][0]       \n",
      "________________________________________________________________________________\n",
      "add_26 (Add)              (None, 14, 14, 10 0        bn4c_branch2c[0][0]        \n",
      "                                                     activation_77[0][0]        \n",
      "________________________________________________________________________________\n",
      "activation_80 (Activation (None, 14, 14, 10 0        add_26[0][0]               \n",
      "________________________________________________________________________________\n",
      "res4d_branch2a (Conv2D)   (None, 14, 14, 25 262400   activation_80[0][0]        \n",
      "________________________________________________________________________________\n",
      "bn4d_branch2a (BatchNorma (None, 14, 14, 25 1024     res4d_branch2a[0][0]       \n",
      "________________________________________________________________________________\n",
      "activation_81 (Activation (None, 14, 14, 25 0        bn4d_branch2a[0][0]        \n",
      "________________________________________________________________________________\n",
      "res4d_branch2b (Conv2D)   (None, 14, 14, 25 590080   activation_81[0][0]        \n",
      "________________________________________________________________________________\n",
      "bn4d_branch2b (BatchNorma (None, 14, 14, 25 1024     res4d_branch2b[0][0]       \n",
      "________________________________________________________________________________\n",
      "activation_82 (Activation (None, 14, 14, 25 0        bn4d_branch2b[0][0]        \n",
      "________________________________________________________________________________\n",
      "res4d_branch2c (Conv2D)   (None, 14, 14, 10 263168   activation_82[0][0]        \n",
      "________________________________________________________________________________\n",
      "bn4d_branch2c (BatchNorma (None, 14, 14, 10 4096     res4d_branch2c[0][0]       \n",
      "________________________________________________________________________________\n",
      "add_27 (Add)              (None, 14, 14, 10 0        bn4d_branch2c[0][0]        \n",
      "                                                     activation_80[0][0]        \n",
      "________________________________________________________________________________\n",
      "activation_83 (Activation (None, 14, 14, 10 0        add_27[0][0]               \n",
      "________________________________________________________________________________\n",
      "res4e_branch2a (Conv2D)   (None, 14, 14, 25 262400   activation_83[0][0]        \n",
      "________________________________________________________________________________\n",
      "bn4e_branch2a (BatchNorma (None, 14, 14, 25 1024     res4e_branch2a[0][0]       \n",
      "________________________________________________________________________________\n",
      "activation_84 (Activation (None, 14, 14, 25 0        bn4e_branch2a[0][0]        \n",
      "________________________________________________________________________________\n",
      "res4e_branch2b (Conv2D)   (None, 14, 14, 25 590080   activation_84[0][0]        \n",
      "________________________________________________________________________________\n",
      "bn4e_branch2b (BatchNorma (None, 14, 14, 25 1024     res4e_branch2b[0][0]       \n",
      "________________________________________________________________________________\n",
      "activation_85 (Activation (None, 14, 14, 25 0        bn4e_branch2b[0][0]        \n",
      "________________________________________________________________________________\n",
      "res4e_branch2c (Conv2D)   (None, 14, 14, 10 263168   activation_85[0][0]        \n",
      "________________________________________________________________________________\n",
      "bn4e_branch2c (BatchNorma (None, 14, 14, 10 4096     res4e_branch2c[0][0]       \n",
      "________________________________________________________________________________\n",
      "add_28 (Add)              (None, 14, 14, 10 0        bn4e_branch2c[0][0]        \n",
      "                                                     activation_83[0][0]        \n",
      "________________________________________________________________________________\n",
      "activation_86 (Activation (None, 14, 14, 10 0        add_28[0][0]               \n",
      "________________________________________________________________________________\n",
      "res4f_branch2a (Conv2D)   (None, 14, 14, 25 262400   activation_86[0][0]        \n",
      "________________________________________________________________________________\n",
      "bn4f_branch2a (BatchNorma (None, 14, 14, 25 1024     res4f_branch2a[0][0]       \n",
      "________________________________________________________________________________\n",
      "activation_87 (Activation (None, 14, 14, 25 0        bn4f_branch2a[0][0]        \n",
      "________________________________________________________________________________\n",
      "res4f_branch2b (Conv2D)   (None, 14, 14, 25 590080   activation_87[0][0]        \n",
      "________________________________________________________________________________\n",
      "bn4f_branch2b (BatchNorma (None, 14, 14, 25 1024     res4f_branch2b[0][0]       \n",
      "________________________________________________________________________________\n",
      "activation_88 (Activation (None, 14, 14, 25 0        bn4f_branch2b[0][0]        \n",
      "________________________________________________________________________________\n",
      "res4f_branch2c (Conv2D)   (None, 14, 14, 10 263168   activation_88[0][0]        \n",
      "________________________________________________________________________________\n",
      "bn4f_branch2c (BatchNorma (None, 14, 14, 10 4096     res4f_branch2c[0][0]       \n",
      "________________________________________________________________________________\n",
      "add_29 (Add)              (None, 14, 14, 10 0        bn4f_branch2c[0][0]        \n",
      "                                                     activation_86[0][0]        \n",
      "________________________________________________________________________________\n",
      "activation_89 (Activation (None, 14, 14, 10 0        add_29[0][0]               \n",
      "________________________________________________________________________________\n",
      "res5a_branch2a (Conv2D)   (None, 7, 7, 512) 524800   activation_89[0][0]        \n",
      "________________________________________________________________________________\n",
      "bn5a_branch2a (BatchNorma (None, 7, 7, 512) 2048     res5a_branch2a[0][0]       \n",
      "________________________________________________________________________________\n",
      "activation_90 (Activation (None, 7, 7, 512) 0        bn5a_branch2a[0][0]        \n",
      "________________________________________________________________________________\n",
      "res5a_branch2b (Conv2D)   (None, 7, 7, 512) 2359808  activation_90[0][0]        \n",
      "________________________________________________________________________________\n",
      "bn5a_branch2b (BatchNorma (None, 7, 7, 512) 2048     res5a_branch2b[0][0]       \n",
      "________________________________________________________________________________\n",
      "activation_91 (Activation (None, 7, 7, 512) 0        bn5a_branch2b[0][0]        \n",
      "________________________________________________________________________________\n",
      "res5a_branch2c (Conv2D)   (None, 7, 7, 2048 1050624  activation_91[0][0]        \n",
      "________________________________________________________________________________\n",
      "res5a_branch1 (Conv2D)    (None, 7, 7, 2048 2099200  activation_89[0][0]        \n",
      "________________________________________________________________________________\n",
      "bn5a_branch2c (BatchNorma (None, 7, 7, 2048 8192     res5a_branch2c[0][0]       \n",
      "________________________________________________________________________________\n",
      "bn5a_branch1 (BatchNormal (None, 7, 7, 2048 8192     res5a_branch1[0][0]        \n",
      "________________________________________________________________________________\n",
      "add_30 (Add)              (None, 7, 7, 2048 0        bn5a_branch2c[0][0]        \n",
      "                                                     bn5a_branch1[0][0]         \n",
      "________________________________________________________________________________\n",
      "activation_92 (Activation (None, 7, 7, 2048 0        add_30[0][0]               \n",
      "________________________________________________________________________________\n",
      "res5b_branch2a (Conv2D)   (None, 7, 7, 512) 1049088  activation_92[0][0]        \n",
      "________________________________________________________________________________\n",
      "bn5b_branch2a (BatchNorma (None, 7, 7, 512) 2048     res5b_branch2a[0][0]       \n",
      "________________________________________________________________________________\n",
      "activation_93 (Activation (None, 7, 7, 512) 0        bn5b_branch2a[0][0]        \n",
      "________________________________________________________________________________\n",
      "res5b_branch2b (Conv2D)   (None, 7, 7, 512) 2359808  activation_93[0][0]        \n",
      "________________________________________________________________________________\n",
      "bn5b_branch2b (BatchNorma (None, 7, 7, 512) 2048     res5b_branch2b[0][0]       \n",
      "________________________________________________________________________________\n",
      "activation_94 (Activation (None, 7, 7, 512) 0        bn5b_branch2b[0][0]        \n",
      "________________________________________________________________________________\n",
      "res5b_branch2c (Conv2D)   (None, 7, 7, 2048 1050624  activation_94[0][0]        \n",
      "________________________________________________________________________________\n",
      "bn5b_branch2c (BatchNorma (None, 7, 7, 2048 8192     res5b_branch2c[0][0]       \n",
      "________________________________________________________________________________\n",
      "add_31 (Add)              (None, 7, 7, 2048 0        bn5b_branch2c[0][0]        \n",
      "                                                     activation_92[0][0]        \n",
      "________________________________________________________________________________\n",
      "activation_95 (Activation (None, 7, 7, 2048 0        add_31[0][0]               \n",
      "________________________________________________________________________________\n",
      "res5c_branch2a (Conv2D)   (None, 7, 7, 512) 1049088  activation_95[0][0]        \n",
      "________________________________________________________________________________\n",
      "bn5c_branch2a (BatchNorma (None, 7, 7, 512) 2048     res5c_branch2a[0][0]       \n",
      "________________________________________________________________________________\n",
      "activation_96 (Activation (None, 7, 7, 512) 0        bn5c_branch2a[0][0]        \n",
      "________________________________________________________________________________\n",
      "res5c_branch2b (Conv2D)   (None, 7, 7, 512) 2359808  activation_96[0][0]        \n",
      "________________________________________________________________________________\n",
      "bn5c_branch2b (BatchNorma (None, 7, 7, 512) 2048     res5c_branch2b[0][0]       \n",
      "________________________________________________________________________________\n",
      "activation_97 (Activation (None, 7, 7, 512) 0        bn5c_branch2b[0][0]        \n",
      "________________________________________________________________________________\n",
      "res5c_branch2c (Conv2D)   (None, 7, 7, 2048 1050624  activation_97[0][0]        \n",
      "________________________________________________________________________________\n",
      "bn5c_branch2c (BatchNorma (None, 7, 7, 2048 8192     res5c_branch2c[0][0]       \n",
      "________________________________________________________________________________\n",
      "add_32 (Add)              (None, 7, 7, 2048 0        bn5c_branch2c[0][0]        \n",
      "                                                     activation_95[0][0]        \n",
      "________________________________________________________________________________\n",
      "activation_98 (Activation (None, 7, 7, 2048 0        add_32[0][0]               \n",
      "________________________________________________________________________________\n",
      "avg_pool (AveragePooling2 (None, 1, 1, 2048 0        activation_98[0][0]        \n",
      "________________________________________________________________________________\n",
      "flatten_2 (Flatten)       (None, 2048)      0        avg_pool[0][0]             \n",
      "________________________________________________________________________________\n",
      "fc1000 (Dense)            (None, 1000)      2049000  flatten_2[0][0]            \n",
      "================================================================================\n",
      "Total params: 25,636,712\n",
      "Trainable params: 25,583,592\n",
      "Non-trainable params: 53,120\n",
      "________________________________________________________________________________\n"
     ]
    }
   ],
   "source": [
    "# The ResNet50 architecture, that we now deploy as a classifier for the cow and the dished, is a \n",
    "# lot more advanced than the simple CNN that we build in chapter 2. Let us take a look at the architecture:\n",
    "summary(model_pretrained)"
   ]
  },
  {
   "cell_type": "code",
   "execution_count": 93,
   "metadata": {},
   "outputs": [],
   "source": [
    "# run the model to make the prediction \n",
    "prediction = model_pretrained %>% predict(cow_data)"
   ]
  },
  {
   "cell_type": "code",
   "execution_count": 94,
   "metadata": {},
   "outputs": [
    {
     "data": {
      "text/html": [
       "<ol>\n",
       "\t<li><table>\n",
       "<thead><tr><th scope=col>class_name</th><th scope=col>class_description</th><th scope=col>score</th></tr></thead>\n",
       "<tbody>\n",
       "\t<tr><td>n02403003    </td><td>ox           </td><td>0.9488235712 </td></tr>\n",
       "\t<tr><td>n03868242    </td><td>oxcart       </td><td>0.0484120362 </td></tr>\n",
       "\t<tr><td>n03967562    </td><td>plow         </td><td>0.0008429451 </td></tr>\n",
       "\t<tr><td>n02408429    </td><td>water_buffalo</td><td>0.0004129720 </td></tr>\n",
       "\t<tr><td>n02389026    </td><td>sorrel       </td><td>0.0002694723 </td></tr>\n",
       "</tbody>\n",
       "</table>\n",
       "</li>\n",
       "</ol>\n"
      ],
      "text/latex": [
       "\\begin{enumerate}\n",
       "\\item \\begin{tabular}{r|lll}\n",
       " class\\_name & class\\_description & score\\\\\n",
       "\\hline\n",
       "\t n02403003     & ox            & 0.9488235712 \\\\\n",
       "\t n03868242     & oxcart        & 0.0484120362 \\\\\n",
       "\t n03967562     & plow          & 0.0008429451 \\\\\n",
       "\t n02408429       & water\\_buffalo & 0.0004129720   \\\\\n",
       "\t n02389026     & sorrel        & 0.0002694723 \\\\\n",
       "\\end{tabular}\n",
       "\n",
       "\\end{enumerate}\n"
      ],
      "text/markdown": [
       "1. \n",
       "class_name | class_description | score | \n",
       "|---|---|---|---|---|\n",
       "| n02403003     | ox            | 0.9488235712  | \n",
       "| n03868242     | oxcart        | 0.0484120362  | \n",
       "| n03967562     | plow          | 0.0008429451  | \n",
       "| n02408429     | water_buffalo | 0.0004129720  | \n",
       "| n02389026     | sorrel        | 0.0002694723  | \n",
       "\n",
       "\n",
       "\n",
       "\n",
       "\n"
      ],
      "text/plain": [
       "[[1]]\n",
       "  class_name class_description        score\n",
       "1  n02403003                ox 0.9488235712\n",
       "2  n03868242            oxcart 0.0484120362\n",
       "3  n03967562              plow 0.0008429451\n",
       "4  n02408429     water_buffalo 0.0004129720\n",
       "5  n02389026            sorrel 0.0002694723\n"
      ]
     },
     "metadata": {},
     "output_type": "display_data"
    }
   ],
   "source": [
    "# check the predicted classes with the top 5 highest scores\n",
    "imagenet_decode_predictions(preds = prediction, top = 5)[1]"
   ]
  },
  {
   "cell_type": "markdown",
   "metadata": {},
   "source": [
    "### 5.1.1. Dishes detection "
   ]
  },
  {
   "cell_type": "code",
   "execution_count": 95,
   "metadata": {},
   "outputs": [
    {
     "data": {
      "image/jpeg": "[encoded data removed]"
     },
     "metadata": {},
     "output_type": "display_data"
    },
    {
     "data": {
      "text/plain": [
       "  format width height colorspace matte filesize density\n",
       "1   JPEG   224    224       sRGB FALSE    18408   72x72"
      ]
     },
     "metadata": {},
     "output_type": "display_data"
    }
   ],
   "source": [
    "# get the dishes image\n",
    "dishes = image_read(path = './data/dishes.jpg')\n",
    "dishes_data = as.integer(image_data(dishes))\n",
    "dishes_data = array(dishes_data, c(1, 224, 224, 3))\n",
    "dishes"
   ]
  },
  {
   "cell_type": "code",
   "execution_count": 96,
   "metadata": {},
   "outputs": [
    {
     "data": {
      "text/html": [
       "<ol>\n",
       "\t<li><table>\n",
       "<thead><tr><th scope=col>class_name</th><th scope=col>class_description</th><th scope=col>score</th></tr></thead>\n",
       "<tbody>\n",
       "\t<tr><td>n03666591   </td><td>lighter     </td><td>0.21436484  </td></tr>\n",
       "\t<tr><td>n03063689   </td><td>coffeepot   </td><td>0.11708578  </td></tr>\n",
       "\t<tr><td>n04557648   </td><td>water_bottle</td><td>0.05618625  </td></tr>\n",
       "\t<tr><td>n03759954   </td><td>microphone  </td><td>0.04109137  </td></tr>\n",
       "\t<tr><td>n03544143   </td><td>hourglass   </td><td>0.03379996  </td></tr>\n",
       "</tbody>\n",
       "</table>\n",
       "</li>\n",
       "</ol>\n"
      ],
      "text/latex": [
       "\\begin{enumerate}\n",
       "\\item \\begin{tabular}{r|lll}\n",
       " class\\_name & class\\_description & score\\\\\n",
       "\\hline\n",
       "\t n03666591    & lighter      & 0.21436484  \\\\\n",
       "\t n03063689    & coffeepot    & 0.11708578  \\\\\n",
       "\t n04557648      & water\\_bottle & 0.05618625    \\\\\n",
       "\t n03759954    & microphone   & 0.04109137  \\\\\n",
       "\t n03544143    & hourglass    & 0.03379996  \\\\\n",
       "\\end{tabular}\n",
       "\n",
       "\\end{enumerate}\n"
      ],
      "text/markdown": [
       "1. \n",
       "class_name | class_description | score | \n",
       "|---|---|---|---|---|\n",
       "| n03666591    | lighter      | 0.21436484   | \n",
       "| n03063689    | coffeepot    | 0.11708578   | \n",
       "| n04557648    | water_bottle | 0.05618625   | \n",
       "| n03759954    | microphone   | 0.04109137   | \n",
       "| n03544143    | hourglass    | 0.03379996   | \n",
       "\n",
       "\n",
       "\n",
       "\n",
       "\n"
      ],
      "text/plain": [
       "[[1]]\n",
       "  class_name class_description      score\n",
       "1  n03666591           lighter 0.21436484\n",
       "2  n03063689         coffeepot 0.11708578\n",
       "3  n04557648      water_bottle 0.05618625\n",
       "4  n03759954        microphone 0.04109137\n",
       "5  n03544143         hourglass 0.03379996\n"
      ]
     },
     "metadata": {},
     "output_type": "display_data"
    }
   ],
   "source": [
    "# make prediction and show top5 results\n",
    "prediction = model_pretrained %>% predict(dishes_data)\n",
    "imagenet_decode_predictions(preds = prediction, top = 5)[1]"
   ]
  },
  {
   "cell_type": "markdown",
   "metadata": {},
   "source": [
    "## 5.2. Fine-tune a pretrained net on a new task\n",
    "\n",
    "We gathered a data set of 150 images of chicago buildings and 250 ancient egyptian buildings from [Wikicommons](https://commons.wikimedia.org/wiki/Hauptseite) provided by [researcher Zhe Xu](https://sites.google.com/site/zhexuutssjtu/projects/arch). \n",
    "\n",
    "As the type of the building has a major impact on its insurance premium, we want to predict the architecture from images of the buildings. \n",
    "\n",
    "Unfortunately, our data set is too small to train a deep convolutional neural network for this task end-to-end. Thus, we use the previous pretrained ResNet50 which was trained on ImageNet and fine tune it on our specific task."
   ]
  },
  {
   "cell_type": "code",
   "execution_count": 1,
   "metadata": {},
   "outputs": [
    {
     "ename": "ERROR",
     "evalue": "Error in image_read(path = \"./data/arch_data/train/egypt/egypt1.jpg\"): konnte Funktion \"image_read\" nicht finden\n",
     "output_type": "error",
     "traceback": [
      "Error in image_read(path = \"./data/arch_data/train/egypt/egypt1.jpg\"): konnte Funktion \"image_read\" nicht finden\nTraceback:\n"
     ]
    }
   ],
   "source": [
    "# example image of ancient egyptian building\n",
    "egyptian = image_read(path = './data/arch_data/train/egypt/egypt1.jpg')\n",
    "egyptian"
   ]
  },
  {
   "cell_type": "code",
   "execution_count": 2,
   "metadata": {},
   "outputs": [
    {
     "ename": "ERROR",
     "evalue": "Error in image_read(path = \"./data/arch_data/train/chicago/chicago1.jpg\"): konnte Funktion \"image_read\" nicht finden\n",
     "output_type": "error",
     "traceback": [
      "Error in image_read(path = \"./data/arch_data/train/chicago/chicago1.jpg\"): konnte Funktion \"image_read\" nicht finden\nTraceback:\n"
     ]
    }
   ],
   "source": [
    "# example image of building from chicago\n",
    "chicago = image_read(path = './data/arch_data/train/chicago/chicago1.jpg')\n",
    "chicago"
   ]
  },
  {
   "cell_type": "code",
   "execution_count": 3,
   "metadata": {},
   "outputs": [
    {
     "data": {
      "text/html": [
       "325"
      ],
      "text/latex": [
       "325"
      ],
      "text/markdown": [
       "325"
      ],
      "text/plain": [
       "[1] 325"
      ]
     },
     "metadata": {},
     "output_type": "display_data"
    }
   ],
   "source": [
    "# get the train data file paths\n",
    "train_paths_chicago = paste0('./data/arch_data/train/chicago/', list.files('./data/arch_data/train/chicago/'))\n",
    "train_paths_egypt = paste0('./data/arch_data/train/egypt/', list.files('./data/arch_data/train/egypt/'))\n",
    "all_train_paths = c(train_paths_chicago, train_paths_egypt)\n",
    "amount_train_data = length(train_paths_chicago) + length(train_paths_egypt)\n",
    "# how many train images do we have?\n",
    "amount_train_data"
   ]
  },
  {
   "cell_type": "code",
   "execution_count": 21,
   "metadata": {},
   "outputs": [],
   "source": [
    "# instantiate X_train array with rgb images \n",
    "X_train = array(0, c(amount_train_data, 3, 224, 224))\n",
    "for(i in 1:amount_train_data){\n",
    "    # read, and resize image\n",
    "    img = magick::image_resize(image = magick::image_read(path = all_train_paths[i]), geometry = \"224x224!\")\n",
    "    X_train[i, , , ] = as.integer(magick::image_data(img))\n",
    "}\n",
    "# permute axis to (#images, yaxis, xaxis, #channels)\n",
    "X_train = aperm(X_train, c(1, 3, 4, 2))\n",
    "\n",
    "y_train = array(c(rep(0, length(train_paths_chicago)), rep(1, length(train_paths_egypt))), c(325, 1))"
   ]
  },
  {
   "cell_type": "code",
   "execution_count": 22,
   "metadata": {},
   "outputs": [
    {
     "data": {
      "text/html": [
       "73"
      ],
      "text/latex": [
       "73"
      ],
      "text/markdown": [
       "73"
      ],
      "text/plain": [
       "[1] 73"
      ]
     },
     "metadata": {},
     "output_type": "display_data"
    }
   ],
   "source": [
    "# get the test data file paths\n",
    "test_paths_chicago = paste0('./data/arch_data/validation/chicago/', list.files('./data/arch_data/validation/chicago/'))\n",
    "test_paths_egypt = paste0('./data/arch_data/validation/egypt/', list.files('./data/arch_data/validation/egypt/'))\n",
    "all_test_paths = c(test_paths_chicago, test_paths_egypt)\n",
    "amount_test_data = length(test_paths_chicago) + length(test_paths_egypt)\n",
    "# how many test images do we have?\n",
    "amount_test_data"
   ]
  },
  {
   "cell_type": "code",
   "execution_count": 23,
   "metadata": {},
   "outputs": [],
   "source": [
    "# instantiate X_train array with rgb images \n",
    "X_test = array(0, c(amount_test_data, 3, 224, 224))\n",
    "for(i in 1:amount_test_data){\n",
    "    # read, and resize image\n",
    "    img = magick::image_resize(image = magick::image_read(path = all_test_paths[i]), geometry = \"224x224!\")\n",
    "    X_test[i, , , ] = as.integer(magick::image_data(img))\n",
    "}\n",
    "# permute axis to (#images, yaxis, xaxis, #channels)\n",
    "X_test = aperm(X_test, c(1, 3, 4, 2))\n",
    "\n",
    "y_test = array(c(rep(0, length(test_paths_chicago)), rep(1, length(test_paths_egypt))), c(amount_test_data, 1))"
   ]
  },
  {
   "cell_type": "code",
   "execution_count": 24,
   "metadata": {},
   "outputs": [
    {
     "data": {
      "text/plain": [
       "y_train\n",
       "  0   1 \n",
       "125 200 "
      ]
     },
     "metadata": {},
     "output_type": "display_data"
    },
    {
     "data": {
      "text/plain": [
       "y_test\n",
       " 0  1 \n",
       "19 54 "
      ]
     },
     "metadata": {},
     "output_type": "display_data"
    }
   ],
   "source": [
    "# what is the label distribution?\n",
    "# 125 chicago images and 200 egypt images for training \n",
    "table(y_train)\n",
    "# 19 chicago and 54 egypt images for testing\n",
    "table(y_test)"
   ]
  },
  {
   "cell_type": "markdown",
   "metadata": {},
   "source": [
    "#### Build and train the model"
   ]
  },
  {
   "cell_type": "code",
   "execution_count": 113,
   "metadata": {},
   "outputs": [],
   "source": [
    "# we use the pretrained Resnet and 'cut off its head' \n",
    "# and add two convolutional layers \n",
    "# which we will fine-tune\n",
    "# important: specify the input shape first\n",
    "# the weights are already a part of this repo, more details on additional, pretrained\n",
    "# architectures can be found in the sources at the end of the notebook\n",
    "input_tensor <- layer_input(shape = c(224, 224, 3))\n",
    "base_model <- application_resnet50(input_tensor = input_tensor,\n",
    "    weights = './models/resnet50_weights_tf_dim_ordering_tf_kernels_notop.h5', \n",
    "    include_top = FALSE)"
   ]
  },
  {
   "cell_type": "code",
   "execution_count": 114,
   "metadata": {},
   "outputs": [
    {
     "name": "stdout",
     "output_type": "stream",
     "text": [
      "________________________________________________________________________________\n",
      "Layer (type)              Output Shape      Param #  Connected to               \n",
      "================================================================================\n",
      "input_3 (InputLayer)      (None, 224, 224,  0                                   \n",
      "________________________________________________________________________________\n",
      "conv1 (Conv2D)            (None, 112, 112,  9472     input_3[0][0]              \n",
      "________________________________________________________________________________\n",
      "bn_conv1 (BatchNormalizat (None, 112, 112,  256      conv1[0][0]                \n",
      "________________________________________________________________________________\n",
      "activation_99 (Activation (None, 112, 112,  0        bn_conv1[0][0]             \n",
      "________________________________________________________________________________\n",
      "max_pooling2d_3 (MaxPooli (None, 55, 55, 64 0        activation_99[0][0]        \n",
      "________________________________________________________________________________\n",
      "res2a_branch2a (Conv2D)   (None, 55, 55, 64 4160     max_pooling2d_3[0][0]      \n",
      "________________________________________________________________________________\n",
      "bn2a_branch2a (BatchNorma (None, 55, 55, 64 256      res2a_branch2a[0][0]       \n",
      "________________________________________________________________________________\n",
      "activation_100 (Activatio (None, 55, 55, 64 0        bn2a_branch2a[0][0]        \n",
      "________________________________________________________________________________\n",
      "res2a_branch2b (Conv2D)   (None, 55, 55, 64 36928    activation_100[0][0]       \n",
      "________________________________________________________________________________\n",
      "bn2a_branch2b (BatchNorma (None, 55, 55, 64 256      res2a_branch2b[0][0]       \n",
      "________________________________________________________________________________\n",
      "activation_101 (Activatio (None, 55, 55, 64 0        bn2a_branch2b[0][0]        \n",
      "________________________________________________________________________________\n",
      "res2a_branch2c (Conv2D)   (None, 55, 55, 25 16640    activation_101[0][0]       \n",
      "________________________________________________________________________________\n",
      "res2a_branch1 (Conv2D)    (None, 55, 55, 25 16640    max_pooling2d_3[0][0]      \n",
      "________________________________________________________________________________\n",
      "bn2a_branch2c (BatchNorma (None, 55, 55, 25 1024     res2a_branch2c[0][0]       \n",
      "________________________________________________________________________________\n",
      "bn2a_branch1 (BatchNormal (None, 55, 55, 25 1024     res2a_branch1[0][0]        \n",
      "________________________________________________________________________________\n",
      "add_33 (Add)              (None, 55, 55, 25 0        bn2a_branch2c[0][0]        \n",
      "                                                     bn2a_branch1[0][0]         \n",
      "________________________________________________________________________________\n",
      "activation_102 (Activatio (None, 55, 55, 25 0        add_33[0][0]               \n",
      "________________________________________________________________________________\n",
      "res2b_branch2a (Conv2D)   (None, 55, 55, 64 16448    activation_102[0][0]       \n",
      "________________________________________________________________________________\n",
      "bn2b_branch2a (BatchNorma (None, 55, 55, 64 256      res2b_branch2a[0][0]       \n",
      "________________________________________________________________________________\n",
      "activation_103 (Activatio (None, 55, 55, 64 0        bn2b_branch2a[0][0]        \n",
      "________________________________________________________________________________\n",
      "res2b_branch2b (Conv2D)   (None, 55, 55, 64 36928    activation_103[0][0]       \n",
      "________________________________________________________________________________\n",
      "bn2b_branch2b (BatchNorma (None, 55, 55, 64 256      res2b_branch2b[0][0]       \n",
      "________________________________________________________________________________\n",
      "activation_104 (Activatio (None, 55, 55, 64 0        bn2b_branch2b[0][0]        \n",
      "________________________________________________________________________________\n",
      "res2b_branch2c (Conv2D)   (None, 55, 55, 25 16640    activation_104[0][0]       \n",
      "________________________________________________________________________________\n",
      "bn2b_branch2c (BatchNorma (None, 55, 55, 25 1024     res2b_branch2c[0][0]       \n",
      "________________________________________________________________________________\n",
      "add_34 (Add)              (None, 55, 55, 25 0        bn2b_branch2c[0][0]        \n",
      "                                                     activation_102[0][0]       \n",
      "________________________________________________________________________________\n",
      "activation_105 (Activatio (None, 55, 55, 25 0        add_34[0][0]               \n",
      "________________________________________________________________________________\n",
      "res2c_branch2a (Conv2D)   (None, 55, 55, 64 16448    activation_105[0][0]       \n",
      "________________________________________________________________________________\n",
      "bn2c_branch2a (BatchNorma (None, 55, 55, 64 256      res2c_branch2a[0][0]       \n",
      "________________________________________________________________________________\n",
      "activation_106 (Activatio (None, 55, 55, 64 0        bn2c_branch2a[0][0]        \n",
      "________________________________________________________________________________\n",
      "res2c_branch2b (Conv2D)   (None, 55, 55, 64 36928    activation_106[0][0]       \n",
      "________________________________________________________________________________\n",
      "bn2c_branch2b (BatchNorma (None, 55, 55, 64 256      res2c_branch2b[0][0]       \n",
      "________________________________________________________________________________\n",
      "activation_107 (Activatio (None, 55, 55, 64 0        bn2c_branch2b[0][0]        \n",
      "________________________________________________________________________________\n",
      "res2c_branch2c (Conv2D)   (None, 55, 55, 25 16640    activation_107[0][0]       \n",
      "________________________________________________________________________________\n",
      "bn2c_branch2c (BatchNorma (None, 55, 55, 25 1024     res2c_branch2c[0][0]       \n",
      "________________________________________________________________________________\n",
      "add_35 (Add)              (None, 55, 55, 25 0        bn2c_branch2c[0][0]        \n",
      "                                                     activation_105[0][0]       \n",
      "________________________________________________________________________________\n",
      "activation_108 (Activatio (None, 55, 55, 25 0        add_35[0][0]               \n",
      "________________________________________________________________________________\n",
      "res3a_branch2a (Conv2D)   (None, 28, 28, 12 32896    activation_108[0][0]       \n",
      "________________________________________________________________________________\n",
      "bn3a_branch2a (BatchNorma (None, 28, 28, 12 512      res3a_branch2a[0][0]       \n",
      "________________________________________________________________________________\n",
      "activation_109 (Activatio (None, 28, 28, 12 0        bn3a_branch2a[0][0]        \n",
      "________________________________________________________________________________\n",
      "res3a_branch2b (Conv2D)   (None, 28, 28, 12 147584   activation_109[0][0]       \n",
      "________________________________________________________________________________\n",
      "bn3a_branch2b (BatchNorma (None, 28, 28, 12 512      res3a_branch2b[0][0]       \n",
      "________________________________________________________________________________\n",
      "activation_110 (Activatio (None, 28, 28, 12 0        bn3a_branch2b[0][0]        \n",
      "________________________________________________________________________________\n",
      "res3a_branch2c (Conv2D)   (None, 28, 28, 51 66048    activation_110[0][0]       \n",
      "________________________________________________________________________________\n",
      "res3a_branch1 (Conv2D)    (None, 28, 28, 51 131584   activation_108[0][0]       \n",
      "________________________________________________________________________________\n",
      "bn3a_branch2c (BatchNorma (None, 28, 28, 51 2048     res3a_branch2c[0][0]       \n",
      "________________________________________________________________________________\n",
      "bn3a_branch1 (BatchNormal (None, 28, 28, 51 2048     res3a_branch1[0][0]        \n",
      "________________________________________________________________________________\n",
      "add_36 (Add)              (None, 28, 28, 51 0        bn3a_branch2c[0][0]        \n",
      "                                                     bn3a_branch1[0][0]         \n",
      "________________________________________________________________________________\n",
      "activation_111 (Activatio (None, 28, 28, 51 0        add_36[0][0]               \n",
      "________________________________________________________________________________\n",
      "res3b_branch2a (Conv2D)   (None, 28, 28, 12 65664    activation_111[0][0]       \n",
      "________________________________________________________________________________\n",
      "bn3b_branch2a (BatchNorma (None, 28, 28, 12 512      res3b_branch2a[0][0]       \n",
      "________________________________________________________________________________\n",
      "activation_112 (Activatio (None, 28, 28, 12 0        bn3b_branch2a[0][0]        \n",
      "________________________________________________________________________________\n",
      "res3b_branch2b (Conv2D)   (None, 28, 28, 12 147584   activation_112[0][0]       \n",
      "________________________________________________________________________________\n",
      "bn3b_branch2b (BatchNorma (None, 28, 28, 12 512      res3b_branch2b[0][0]       \n",
      "________________________________________________________________________________\n",
      "activation_113 (Activatio (None, 28, 28, 12 0        bn3b_branch2b[0][0]        \n",
      "________________________________________________________________________________\n",
      "res3b_branch2c (Conv2D)   (None, 28, 28, 51 66048    activation_113[0][0]       \n",
      "________________________________________________________________________________\n",
      "bn3b_branch2c (BatchNorma (None, 28, 28, 51 2048     res3b_branch2c[0][0]       \n",
      "________________________________________________________________________________\n",
      "add_37 (Add)              (None, 28, 28, 51 0        bn3b_branch2c[0][0]        \n",
      "                                                     activation_111[0][0]       \n",
      "________________________________________________________________________________\n",
      "activation_114 (Activatio (None, 28, 28, 51 0        add_37[0][0]               \n",
      "________________________________________________________________________________\n",
      "res3c_branch2a (Conv2D)   (None, 28, 28, 12 65664    activation_114[0][0]       \n",
      "________________________________________________________________________________\n",
      "bn3c_branch2a (BatchNorma (None, 28, 28, 12 512      res3c_branch2a[0][0]       \n",
      "________________________________________________________________________________\n",
      "activation_115 (Activatio (None, 28, 28, 12 0        bn3c_branch2a[0][0]        \n",
      "________________________________________________________________________________\n",
      "res3c_branch2b (Conv2D)   (None, 28, 28, 12 147584   activation_115[0][0]       \n",
      "________________________________________________________________________________\n",
      "bn3c_branch2b (BatchNorma (None, 28, 28, 12 512      res3c_branch2b[0][0]       \n",
      "________________________________________________________________________________\n",
      "activation_116 (Activatio (None, 28, 28, 12 0        bn3c_branch2b[0][0]        \n",
      "________________________________________________________________________________\n",
      "res3c_branch2c (Conv2D)   (None, 28, 28, 51 66048    activation_116[0][0]       \n",
      "________________________________________________________________________________\n",
      "bn3c_branch2c (BatchNorma (None, 28, 28, 51 2048     res3c_branch2c[0][0]       \n",
      "________________________________________________________________________________\n",
      "add_38 (Add)              (None, 28, 28, 51 0        bn3c_branch2c[0][0]        \n",
      "                                                     activation_114[0][0]       \n",
      "________________________________________________________________________________\n",
      "activation_117 (Activatio (None, 28, 28, 51 0        add_38[0][0]               \n",
      "________________________________________________________________________________\n",
      "res3d_branch2a (Conv2D)   (None, 28, 28, 12 65664    activation_117[0][0]       \n",
      "________________________________________________________________________________\n",
      "bn3d_branch2a (BatchNorma (None, 28, 28, 12 512      res3d_branch2a[0][0]       \n",
      "________________________________________________________________________________\n",
      "activation_118 (Activatio (None, 28, 28, 12 0        bn3d_branch2a[0][0]        \n",
      "________________________________________________________________________________\n",
      "res3d_branch2b (Conv2D)   (None, 28, 28, 12 147584   activation_118[0][0]       \n",
      "________________________________________________________________________________\n",
      "bn3d_branch2b (BatchNorma (None, 28, 28, 12 512      res3d_branch2b[0][0]       \n",
      "________________________________________________________________________________\n",
      "activation_119 (Activatio (None, 28, 28, 12 0        bn3d_branch2b[0][0]        \n",
      "________________________________________________________________________________\n",
      "res3d_branch2c (Conv2D)   (None, 28, 28, 51 66048    activation_119[0][0]       \n",
      "________________________________________________________________________________\n",
      "bn3d_branch2c (BatchNorma (None, 28, 28, 51 2048     res3d_branch2c[0][0]       \n",
      "________________________________________________________________________________\n",
      "add_39 (Add)              (None, 28, 28, 51 0        bn3d_branch2c[0][0]        \n",
      "                                                     activation_117[0][0]       \n",
      "________________________________________________________________________________\n",
      "activation_120 (Activatio (None, 28, 28, 51 0        add_39[0][0]               \n",
      "________________________________________________________________________________\n",
      "res4a_branch2a (Conv2D)   (None, 14, 14, 25 131328   activation_120[0][0]       \n",
      "________________________________________________________________________________\n",
      "bn4a_branch2a (BatchNorma (None, 14, 14, 25 1024     res4a_branch2a[0][0]       \n",
      "________________________________________________________________________________\n",
      "activation_121 (Activatio (None, 14, 14, 25 0        bn4a_branch2a[0][0]        \n",
      "________________________________________________________________________________\n",
      "res4a_branch2b (Conv2D)   (None, 14, 14, 25 590080   activation_121[0][0]       \n",
      "________________________________________________________________________________\n",
      "bn4a_branch2b (BatchNorma (None, 14, 14, 25 1024     res4a_branch2b[0][0]       \n",
      "________________________________________________________________________________\n",
      "activation_122 (Activatio (None, 14, 14, 25 0        bn4a_branch2b[0][0]        \n",
      "________________________________________________________________________________\n",
      "res4a_branch2c (Conv2D)   (None, 14, 14, 10 263168   activation_122[0][0]       \n",
      "________________________________________________________________________________\n",
      "res4a_branch1 (Conv2D)    (None, 14, 14, 10 525312   activation_120[0][0]       \n",
      "________________________________________________________________________________\n",
      "bn4a_branch2c (BatchNorma (None, 14, 14, 10 4096     res4a_branch2c[0][0]       \n",
      "________________________________________________________________________________\n",
      "bn4a_branch1 (BatchNormal (None, 14, 14, 10 4096     res4a_branch1[0][0]        \n",
      "________________________________________________________________________________\n",
      "add_40 (Add)              (None, 14, 14, 10 0        bn4a_branch2c[0][0]        \n",
      "                                                     bn4a_branch1[0][0]         \n",
      "________________________________________________________________________________\n",
      "activation_123 (Activatio (None, 14, 14, 10 0        add_40[0][0]               \n",
      "________________________________________________________________________________\n",
      "res4b_branch2a (Conv2D)   (None, 14, 14, 25 262400   activation_123[0][0]       \n",
      "________________________________________________________________________________\n",
      "bn4b_branch2a (BatchNorma (None, 14, 14, 25 1024     res4b_branch2a[0][0]       \n",
      "________________________________________________________________________________\n",
      "activation_124 (Activatio (None, 14, 14, 25 0        bn4b_branch2a[0][0]        \n",
      "________________________________________________________________________________\n",
      "res4b_branch2b (Conv2D)   (None, 14, 14, 25 590080   activation_124[0][0]       \n",
      "________________________________________________________________________________\n",
      "bn4b_branch2b (BatchNorma (None, 14, 14, 25 1024     res4b_branch2b[0][0]       \n",
      "________________________________________________________________________________\n",
      "activation_125 (Activatio (None, 14, 14, 25 0        bn4b_branch2b[0][0]        \n",
      "________________________________________________________________________________\n",
      "res4b_branch2c (Conv2D)   (None, 14, 14, 10 263168   activation_125[0][0]       \n",
      "________________________________________________________________________________\n",
      "bn4b_branch2c (BatchNorma (None, 14, 14, 10 4096     res4b_branch2c[0][0]       \n",
      "________________________________________________________________________________\n",
      "add_41 (Add)              (None, 14, 14, 10 0        bn4b_branch2c[0][0]        \n",
      "                                                     activation_123[0][0]       \n",
      "________________________________________________________________________________\n",
      "activation_126 (Activatio (None, 14, 14, 10 0        add_41[0][0]               \n",
      "________________________________________________________________________________\n",
      "res4c_branch2a (Conv2D)   (None, 14, 14, 25 262400   activation_126[0][0]       \n",
      "________________________________________________________________________________\n",
      "bn4c_branch2a (BatchNorma (None, 14, 14, 25 1024     res4c_branch2a[0][0]       \n",
      "________________________________________________________________________________\n",
      "activation_127 (Activatio (None, 14, 14, 25 0        bn4c_branch2a[0][0]        \n",
      "________________________________________________________________________________\n",
      "res4c_branch2b (Conv2D)   (None, 14, 14, 25 590080   activation_127[0][0]       \n",
      "________________________________________________________________________________\n",
      "bn4c_branch2b (BatchNorma (None, 14, 14, 25 1024     res4c_branch2b[0][0]       \n",
      "________________________________________________________________________________\n",
      "activation_128 (Activatio (None, 14, 14, 25 0        bn4c_branch2b[0][0]        \n",
      "________________________________________________________________________________\n",
      "res4c_branch2c (Conv2D)   (None, 14, 14, 10 263168   activation_128[0][0]       \n",
      "________________________________________________________________________________\n",
      "bn4c_branch2c (BatchNorma (None, 14, 14, 10 4096     res4c_branch2c[0][0]       \n",
      "________________________________________________________________________________\n",
      "add_42 (Add)              (None, 14, 14, 10 0        bn4c_branch2c[0][0]        \n",
      "                                                     activation_126[0][0]       \n",
      "________________________________________________________________________________\n",
      "activation_129 (Activatio (None, 14, 14, 10 0        add_42[0][0]               \n",
      "________________________________________________________________________________\n",
      "res4d_branch2a (Conv2D)   (None, 14, 14, 25 262400   activation_129[0][0]       \n",
      "________________________________________________________________________________\n",
      "bn4d_branch2a (BatchNorma (None, 14, 14, 25 1024     res4d_branch2a[0][0]       \n",
      "________________________________________________________________________________\n",
      "activation_130 (Activatio (None, 14, 14, 25 0        bn4d_branch2a[0][0]        \n",
      "________________________________________________________________________________\n",
      "res4d_branch2b (Conv2D)   (None, 14, 14, 25 590080   activation_130[0][0]       \n",
      "________________________________________________________________________________\n",
      "bn4d_branch2b (BatchNorma (None, 14, 14, 25 1024     res4d_branch2b[0][0]       \n",
      "________________________________________________________________________________\n",
      "activation_131 (Activatio (None, 14, 14, 25 0        bn4d_branch2b[0][0]        \n",
      "________________________________________________________________________________\n",
      "res4d_branch2c (Conv2D)   (None, 14, 14, 10 263168   activation_131[0][0]       \n",
      "________________________________________________________________________________\n",
      "bn4d_branch2c (BatchNorma (None, 14, 14, 10 4096     res4d_branch2c[0][0]       \n",
      "________________________________________________________________________________\n",
      "add_43 (Add)              (None, 14, 14, 10 0        bn4d_branch2c[0][0]        \n",
      "                                                     activation_129[0][0]       \n",
      "________________________________________________________________________________\n",
      "activation_132 (Activatio (None, 14, 14, 10 0        add_43[0][0]               \n",
      "________________________________________________________________________________\n",
      "res4e_branch2a (Conv2D)   (None, 14, 14, 25 262400   activation_132[0][0]       \n",
      "________________________________________________________________________________\n",
      "bn4e_branch2a (BatchNorma (None, 14, 14, 25 1024     res4e_branch2a[0][0]       \n",
      "________________________________________________________________________________\n",
      "activation_133 (Activatio (None, 14, 14, 25 0        bn4e_branch2a[0][0]        \n",
      "________________________________________________________________________________\n",
      "res4e_branch2b (Conv2D)   (None, 14, 14, 25 590080   activation_133[0][0]       \n",
      "________________________________________________________________________________\n",
      "bn4e_branch2b (BatchNorma (None, 14, 14, 25 1024     res4e_branch2b[0][0]       \n",
      "________________________________________________________________________________\n",
      "activation_134 (Activatio (None, 14, 14, 25 0        bn4e_branch2b[0][0]        \n",
      "________________________________________________________________________________\n",
      "res4e_branch2c (Conv2D)   (None, 14, 14, 10 263168   activation_134[0][0]       \n",
      "________________________________________________________________________________\n",
      "bn4e_branch2c (BatchNorma (None, 14, 14, 10 4096     res4e_branch2c[0][0]       \n",
      "________________________________________________________________________________\n",
      "add_44 (Add)              (None, 14, 14, 10 0        bn4e_branch2c[0][0]        \n",
      "                                                     activation_132[0][0]       \n",
      "________________________________________________________________________________\n",
      "activation_135 (Activatio (None, 14, 14, 10 0        add_44[0][0]               \n",
      "________________________________________________________________________________\n",
      "res4f_branch2a (Conv2D)   (None, 14, 14, 25 262400   activation_135[0][0]       \n",
      "________________________________________________________________________________\n",
      "bn4f_branch2a (BatchNorma (None, 14, 14, 25 1024     res4f_branch2a[0][0]       \n",
      "________________________________________________________________________________\n",
      "activation_136 (Activatio (None, 14, 14, 25 0        bn4f_branch2a[0][0]        \n",
      "________________________________________________________________________________\n",
      "res4f_branch2b (Conv2D)   (None, 14, 14, 25 590080   activation_136[0][0]       \n",
      "________________________________________________________________________________\n",
      "bn4f_branch2b (BatchNorma (None, 14, 14, 25 1024     res4f_branch2b[0][0]       \n",
      "________________________________________________________________________________\n",
      "activation_137 (Activatio (None, 14, 14, 25 0        bn4f_branch2b[0][0]        \n",
      "________________________________________________________________________________\n",
      "res4f_branch2c (Conv2D)   (None, 14, 14, 10 263168   activation_137[0][0]       \n",
      "________________________________________________________________________________\n",
      "bn4f_branch2c (BatchNorma (None, 14, 14, 10 4096     res4f_branch2c[0][0]       \n",
      "________________________________________________________________________________\n",
      "add_45 (Add)              (None, 14, 14, 10 0        bn4f_branch2c[0][0]        \n",
      "                                                     activation_135[0][0]       \n",
      "________________________________________________________________________________\n",
      "activation_138 (Activatio (None, 14, 14, 10 0        add_45[0][0]               \n",
      "________________________________________________________________________________\n",
      "res5a_branch2a (Conv2D)   (None, 7, 7, 512) 524800   activation_138[0][0]       \n",
      "________________________________________________________________________________\n",
      "bn5a_branch2a (BatchNorma (None, 7, 7, 512) 2048     res5a_branch2a[0][0]       \n",
      "________________________________________________________________________________\n",
      "activation_139 (Activatio (None, 7, 7, 512) 0        bn5a_branch2a[0][0]        \n",
      "________________________________________________________________________________\n",
      "res5a_branch2b (Conv2D)   (None, 7, 7, 512) 2359808  activation_139[0][0]       \n",
      "________________________________________________________________________________\n",
      "bn5a_branch2b (BatchNorma (None, 7, 7, 512) 2048     res5a_branch2b[0][0]       \n",
      "________________________________________________________________________________\n",
      "activation_140 (Activatio (None, 7, 7, 512) 0        bn5a_branch2b[0][0]        \n",
      "________________________________________________________________________________\n",
      "res5a_branch2c (Conv2D)   (None, 7, 7, 2048 1050624  activation_140[0][0]       \n",
      "________________________________________________________________________________\n",
      "res5a_branch1 (Conv2D)    (None, 7, 7, 2048 2099200  activation_138[0][0]       \n",
      "________________________________________________________________________________\n",
      "bn5a_branch2c (BatchNorma (None, 7, 7, 2048 8192     res5a_branch2c[0][0]       \n",
      "________________________________________________________________________________\n",
      "bn5a_branch1 (BatchNormal (None, 7, 7, 2048 8192     res5a_branch1[0][0]        \n",
      "________________________________________________________________________________\n",
      "add_46 (Add)              (None, 7, 7, 2048 0        bn5a_branch2c[0][0]        \n",
      "                                                     bn5a_branch1[0][0]         \n",
      "________________________________________________________________________________\n",
      "activation_141 (Activatio (None, 7, 7, 2048 0        add_46[0][0]               \n",
      "________________________________________________________________________________\n",
      "res5b_branch2a (Conv2D)   (None, 7, 7, 512) 1049088  activation_141[0][0]       \n",
      "________________________________________________________________________________\n",
      "bn5b_branch2a (BatchNorma (None, 7, 7, 512) 2048     res5b_branch2a[0][0]       \n",
      "________________________________________________________________________________\n",
      "activation_142 (Activatio (None, 7, 7, 512) 0        bn5b_branch2a[0][0]        \n",
      "________________________________________________________________________________\n",
      "res5b_branch2b (Conv2D)   (None, 7, 7, 512) 2359808  activation_142[0][0]       \n",
      "________________________________________________________________________________\n",
      "bn5b_branch2b (BatchNorma (None, 7, 7, 512) 2048     res5b_branch2b[0][0]       \n",
      "________________________________________________________________________________\n",
      "activation_143 (Activatio (None, 7, 7, 512) 0        bn5b_branch2b[0][0]        \n",
      "________________________________________________________________________________\n",
      "res5b_branch2c (Conv2D)   (None, 7, 7, 2048 1050624  activation_143[0][0]       \n",
      "________________________________________________________________________________\n",
      "bn5b_branch2c (BatchNorma (None, 7, 7, 2048 8192     res5b_branch2c[0][0]       \n",
      "________________________________________________________________________________\n",
      "add_47 (Add)              (None, 7, 7, 2048 0        bn5b_branch2c[0][0]        \n",
      "                                                     activation_141[0][0]       \n",
      "________________________________________________________________________________\n",
      "activation_144 (Activatio (None, 7, 7, 2048 0        add_47[0][0]               \n",
      "________________________________________________________________________________\n",
      "res5c_branch2a (Conv2D)   (None, 7, 7, 512) 1049088  activation_144[0][0]       \n",
      "________________________________________________________________________________\n",
      "bn5c_branch2a (BatchNorma (None, 7, 7, 512) 2048     res5c_branch2a[0][0]       \n",
      "________________________________________________________________________________\n",
      "activation_145 (Activatio (None, 7, 7, 512) 0        bn5c_branch2a[0][0]        \n",
      "________________________________________________________________________________\n",
      "res5c_branch2b (Conv2D)   (None, 7, 7, 512) 2359808  activation_145[0][0]       \n",
      "________________________________________________________________________________\n",
      "bn5c_branch2b (BatchNorma (None, 7, 7, 512) 2048     res5c_branch2b[0][0]       \n",
      "________________________________________________________________________________\n",
      "activation_146 (Activatio (None, 7, 7, 512) 0        bn5c_branch2b[0][0]        \n",
      "________________________________________________________________________________\n",
      "res5c_branch2c (Conv2D)   (None, 7, 7, 2048 1050624  activation_146[0][0]       \n",
      "________________________________________________________________________________\n",
      "bn5c_branch2c (BatchNorma (None, 7, 7, 2048 8192     res5c_branch2c[0][0]       \n",
      "________________________________________________________________________________\n",
      "add_48 (Add)              (None, 7, 7, 2048 0        bn5c_branch2c[0][0]        \n",
      "                                                     activation_144[0][0]       \n",
      "________________________________________________________________________________\n",
      "activation_147 (Activatio (None, 7, 7, 2048 0        add_48[0][0]               \n",
      "________________________________________________________________________________\n",
      "avg_pool (AveragePooling2 (None, 1, 1, 2048 0        activation_147[0][0]       \n",
      "================================================================================\n",
      "Total params: 23,587,712\n",
      "Trainable params: 23,534,592\n",
      "Non-trainable params: 53,120\n",
      "________________________________________________________________________________\n"
     ]
    }
   ],
   "source": [
    "summary(base_model)"
   ]
  },
  {
   "cell_type": "code",
   "execution_count": 115,
   "metadata": {},
   "outputs": [],
   "source": [
    "# add our custom layers\n",
    "ext_model <- base_model$output %>% \n",
    "    layer_flatten() %>% \n",
    "    layer_dense(units = 128, activation = 'relu') %>% \n",
    "    layer_dense(units = 1, activation = 'sigmoid')\n",
    "\n",
    "# this is the model we will train\n",
    "model <- keras_model(inputs = base_model$input, outputs = ext_model)"
   ]
  },
  {
   "cell_type": "code",
   "execution_count": 116,
   "metadata": {},
   "outputs": [
    {
     "name": "stdout",
     "output_type": "stream",
     "text": [
      "1 input_3 \n",
      "2 conv1 \n",
      "3 bn_conv1 \n",
      "4 activation_99 \n",
      "5 max_pooling2d_3 \n",
      "6 res2a_branch2a \n",
      "7 bn2a_branch2a \n",
      "8 activation_100 \n",
      "9 res2a_branch2b \n",
      "10 bn2a_branch2b \n",
      "11 activation_101 \n",
      "12 res2a_branch2c \n",
      "13 res2a_branch1 \n",
      "14 bn2a_branch2c \n",
      "15 bn2a_branch1 \n",
      "16 add_33 \n",
      "17 activation_102 \n",
      "18 res2b_branch2a \n",
      "19 bn2b_branch2a \n",
      "20 activation_103 \n",
      "21 res2b_branch2b \n",
      "22 bn2b_branch2b \n",
      "23 activation_104 \n",
      "24 res2b_branch2c \n",
      "25 bn2b_branch2c \n",
      "26 add_34 \n",
      "27 activation_105 \n",
      "28 res2c_branch2a \n",
      "29 bn2c_branch2a \n",
      "30 activation_106 \n",
      "31 res2c_branch2b \n",
      "32 bn2c_branch2b \n",
      "33 activation_107 \n",
      "34 res2c_branch2c \n",
      "35 bn2c_branch2c \n",
      "36 add_35 \n",
      "37 activation_108 \n",
      "38 res3a_branch2a \n",
      "39 bn3a_branch2a \n",
      "40 activation_109 \n",
      "41 res3a_branch2b \n",
      "42 bn3a_branch2b \n",
      "43 activation_110 \n",
      "44 res3a_branch2c \n",
      "45 res3a_branch1 \n",
      "46 bn3a_branch2c \n",
      "47 bn3a_branch1 \n",
      "48 add_36 \n",
      "49 activation_111 \n",
      "50 res3b_branch2a \n",
      "51 bn3b_branch2a \n",
      "52 activation_112 \n",
      "53 res3b_branch2b \n",
      "54 bn3b_branch2b \n",
      "55 activation_113 \n",
      "56 res3b_branch2c \n",
      "57 bn3b_branch2c \n",
      "58 add_37 \n",
      "59 activation_114 \n",
      "60 res3c_branch2a \n",
      "61 bn3c_branch2a \n",
      "62 activation_115 \n",
      "63 res3c_branch2b \n",
      "64 bn3c_branch2b \n",
      "65 activation_116 \n",
      "66 res3c_branch2c \n",
      "67 bn3c_branch2c \n",
      "68 add_38 \n",
      "69 activation_117 \n",
      "70 res3d_branch2a \n",
      "71 bn3d_branch2a \n",
      "72 activation_118 \n",
      "73 res3d_branch2b \n",
      "74 bn3d_branch2b \n",
      "75 activation_119 \n",
      "76 res3d_branch2c \n",
      "77 bn3d_branch2c \n",
      "78 add_39 \n",
      "79 activation_120 \n",
      "80 res4a_branch2a \n",
      "81 bn4a_branch2a \n",
      "82 activation_121 \n",
      "83 res4a_branch2b \n",
      "84 bn4a_branch2b \n",
      "85 activation_122 \n",
      "86 res4a_branch2c \n",
      "87 res4a_branch1 \n",
      "88 bn4a_branch2c \n",
      "89 bn4a_branch1 \n",
      "90 add_40 \n",
      "91 activation_123 \n",
      "92 res4b_branch2a \n",
      "93 bn4b_branch2a \n",
      "94 activation_124 \n",
      "95 res4b_branch2b \n",
      "96 bn4b_branch2b \n",
      "97 activation_125 \n",
      "98 res4b_branch2c \n",
      "99 bn4b_branch2c \n",
      "100 add_41 \n",
      "101 activation_126 \n",
      "102 res4c_branch2a \n",
      "103 bn4c_branch2a \n",
      "104 activation_127 \n",
      "105 res4c_branch2b \n",
      "106 bn4c_branch2b \n",
      "107 activation_128 \n",
      "108 res4c_branch2c \n",
      "109 bn4c_branch2c \n",
      "110 add_42 \n",
      "111 activation_129 \n",
      "112 res4d_branch2a \n",
      "113 bn4d_branch2a \n",
      "114 activation_130 \n",
      "115 res4d_branch2b \n",
      "116 bn4d_branch2b \n",
      "117 activation_131 \n",
      "118 res4d_branch2c \n",
      "119 bn4d_branch2c \n",
      "120 add_43 \n",
      "121 activation_132 \n",
      "122 res4e_branch2a \n",
      "123 bn4e_branch2a \n",
      "124 activation_133 \n",
      "125 res4e_branch2b \n",
      "126 bn4e_branch2b \n",
      "127 activation_134 \n",
      "128 res4e_branch2c \n",
      "129 bn4e_branch2c \n",
      "130 add_44 \n",
      "131 activation_135 \n",
      "132 res4f_branch2a \n",
      "133 bn4f_branch2a \n",
      "134 activation_136 \n",
      "135 res4f_branch2b \n",
      "136 bn4f_branch2b \n",
      "137 activation_137 \n",
      "138 res4f_branch2c \n",
      "139 bn4f_branch2c \n",
      "140 add_45 \n",
      "141 activation_138 \n",
      "142 res5a_branch2a \n",
      "143 bn5a_branch2a \n",
      "144 activation_139 \n",
      "145 res5a_branch2b \n",
      "146 bn5a_branch2b \n",
      "147 activation_140 \n",
      "148 res5a_branch2c \n",
      "149 res5a_branch1 \n",
      "150 bn5a_branch2c \n",
      "151 bn5a_branch1 \n",
      "152 add_46 \n",
      "153 activation_141 \n",
      "154 res5b_branch2a \n",
      "155 bn5b_branch2a \n",
      "156 activation_142 \n",
      "157 res5b_branch2b \n",
      "158 bn5b_branch2b \n",
      "159 activation_143 \n",
      "160 res5b_branch2c \n",
      "161 bn5b_branch2c \n",
      "162 add_47 \n",
      "163 activation_144 \n",
      "164 res5c_branch2a \n",
      "165 bn5c_branch2a \n",
      "166 activation_145 \n",
      "167 res5c_branch2b \n",
      "168 bn5c_branch2b \n",
      "169 activation_146 \n",
      "170 res5c_branch2c \n",
      "171 bn5c_branch2c \n",
      "172 add_48 \n",
      "173 activation_147 \n",
      "174 avg_pool \n",
      "175 flatten_3 \n",
      "176 dense_5 \n",
      "177 dense_6 \n"
     ]
    }
   ],
   "source": [
    "# check the layers in this huge model\n",
    "layers <- model$layers\n",
    "for (i in 1:length(layers))\n",
    "  cat(i, layers[[i]]$name, \"\\n\")"
   ]
  },
  {
   "cell_type": "code",
   "execution_count": 117,
   "metadata": {},
   "outputs": [],
   "source": [
    "# train only the top layers \n",
    "# freeze all layers from the ResNet50\n",
    "freeze_weights(model, from = 1, to = 174)\n",
    "# binary task -> binary cross entropy loss\n",
    "model %>% compile(optimizer = 'sgd', \n",
    "                loss = 'binary_crossentropy', \n",
    "                metrics = c('accuracy'))"
   ]
  },
  {
   "cell_type": "code",
   "execution_count": 118,
   "metadata": {},
   "outputs": [
    {
     "name": "stdout",
     "output_type": "stream",
     "text": [
      "________________________________________________________________________________\n",
      "Layer (type)              Output Shape      Param #  Connected to               \n",
      "================================================================================\n",
      "input_3 (InputLayer)      (None, 224, 224,  0                                   \n",
      "________________________________________________________________________________\n",
      "conv1 (Conv2D)            (None, 112, 112,  9472     input_3[0][0]              \n",
      "________________________________________________________________________________\n",
      "bn_conv1 (BatchNormalizat (None, 112, 112,  256      conv1[0][0]                \n",
      "________________________________________________________________________________\n",
      "activation_99 (Activation (None, 112, 112,  0        bn_conv1[0][0]             \n",
      "________________________________________________________________________________\n",
      "max_pooling2d_3 (MaxPooli (None, 55, 55, 64 0        activation_99[0][0]        \n",
      "________________________________________________________________________________\n",
      "res2a_branch2a (Conv2D)   (None, 55, 55, 64 4160     max_pooling2d_3[0][0]      \n",
      "________________________________________________________________________________\n",
      "bn2a_branch2a (BatchNorma (None, 55, 55, 64 256      res2a_branch2a[0][0]       \n",
      "________________________________________________________________________________\n",
      "activation_100 (Activatio (None, 55, 55, 64 0        bn2a_branch2a[0][0]        \n",
      "________________________________________________________________________________\n",
      "res2a_branch2b (Conv2D)   (None, 55, 55, 64 36928    activation_100[0][0]       \n",
      "________________________________________________________________________________\n",
      "bn2a_branch2b (BatchNorma (None, 55, 55, 64 256      res2a_branch2b[0][0]       \n",
      "________________________________________________________________________________\n",
      "activation_101 (Activatio (None, 55, 55, 64 0        bn2a_branch2b[0][0]        \n",
      "________________________________________________________________________________\n",
      "res2a_branch2c (Conv2D)   (None, 55, 55, 25 16640    activation_101[0][0]       \n",
      "________________________________________________________________________________\n",
      "res2a_branch1 (Conv2D)    (None, 55, 55, 25 16640    max_pooling2d_3[0][0]      \n",
      "________________________________________________________________________________\n",
      "bn2a_branch2c (BatchNorma (None, 55, 55, 25 1024     res2a_branch2c[0][0]       \n",
      "________________________________________________________________________________\n",
      "bn2a_branch1 (BatchNormal (None, 55, 55, 25 1024     res2a_branch1[0][0]        \n",
      "________________________________________________________________________________\n",
      "add_33 (Add)              (None, 55, 55, 25 0        bn2a_branch2c[0][0]        \n",
      "                                                     bn2a_branch1[0][0]         \n",
      "________________________________________________________________________________\n",
      "activation_102 (Activatio (None, 55, 55, 25 0        add_33[0][0]               \n",
      "________________________________________________________________________________\n",
      "res2b_branch2a (Conv2D)   (None, 55, 55, 64 16448    activation_102[0][0]       \n",
      "________________________________________________________________________________\n",
      "bn2b_branch2a (BatchNorma (None, 55, 55, 64 256      res2b_branch2a[0][0]       \n",
      "________________________________________________________________________________\n",
      "activation_103 (Activatio (None, 55, 55, 64 0        bn2b_branch2a[0][0]        \n",
      "________________________________________________________________________________\n",
      "res2b_branch2b (Conv2D)   (None, 55, 55, 64 36928    activation_103[0][0]       \n",
      "________________________________________________________________________________\n",
      "bn2b_branch2b (BatchNorma (None, 55, 55, 64 256      res2b_branch2b[0][0]       \n",
      "________________________________________________________________________________\n",
      "activation_104 (Activatio (None, 55, 55, 64 0        bn2b_branch2b[0][0]        \n",
      "________________________________________________________________________________\n",
      "res2b_branch2c (Conv2D)   (None, 55, 55, 25 16640    activation_104[0][0]       \n",
      "________________________________________________________________________________\n",
      "bn2b_branch2c (BatchNorma (None, 55, 55, 25 1024     res2b_branch2c[0][0]       \n",
      "________________________________________________________________________________\n",
      "add_34 (Add)              (None, 55, 55, 25 0        bn2b_branch2c[0][0]        \n",
      "                                                     activation_102[0][0]       \n",
      "________________________________________________________________________________\n",
      "activation_105 (Activatio (None, 55, 55, 25 0        add_34[0][0]               \n",
      "________________________________________________________________________________\n",
      "res2c_branch2a (Conv2D)   (None, 55, 55, 64 16448    activation_105[0][0]       \n",
      "________________________________________________________________________________\n",
      "bn2c_branch2a (BatchNorma (None, 55, 55, 64 256      res2c_branch2a[0][0]       \n",
      "________________________________________________________________________________\n",
      "activation_106 (Activatio (None, 55, 55, 64 0        bn2c_branch2a[0][0]        \n",
      "________________________________________________________________________________\n",
      "res2c_branch2b (Conv2D)   (None, 55, 55, 64 36928    activation_106[0][0]       \n",
      "________________________________________________________________________________\n",
      "bn2c_branch2b (BatchNorma (None, 55, 55, 64 256      res2c_branch2b[0][0]       \n",
      "________________________________________________________________________________\n",
      "activation_107 (Activatio (None, 55, 55, 64 0        bn2c_branch2b[0][0]        \n",
      "________________________________________________________________________________\n",
      "res2c_branch2c (Conv2D)   (None, 55, 55, 25 16640    activation_107[0][0]       \n",
      "________________________________________________________________________________\n",
      "bn2c_branch2c (BatchNorma (None, 55, 55, 25 1024     res2c_branch2c[0][0]       \n",
      "________________________________________________________________________________\n",
      "add_35 (Add)              (None, 55, 55, 25 0        bn2c_branch2c[0][0]        \n",
      "                                                     activation_105[0][0]       \n",
      "________________________________________________________________________________\n",
      "activation_108 (Activatio (None, 55, 55, 25 0        add_35[0][0]               \n",
      "________________________________________________________________________________\n",
      "res3a_branch2a (Conv2D)   (None, 28, 28, 12 32896    activation_108[0][0]       \n",
      "________________________________________________________________________________\n",
      "bn3a_branch2a (BatchNorma (None, 28, 28, 12 512      res3a_branch2a[0][0]       \n",
      "________________________________________________________________________________\n",
      "activation_109 (Activatio (None, 28, 28, 12 0        bn3a_branch2a[0][0]        \n",
      "________________________________________________________________________________\n",
      "res3a_branch2b (Conv2D)   (None, 28, 28, 12 147584   activation_109[0][0]       \n",
      "________________________________________________________________________________\n",
      "bn3a_branch2b (BatchNorma (None, 28, 28, 12 512      res3a_branch2b[0][0]       \n",
      "________________________________________________________________________________\n",
      "activation_110 (Activatio (None, 28, 28, 12 0        bn3a_branch2b[0][0]        \n",
      "________________________________________________________________________________\n",
      "res3a_branch2c (Conv2D)   (None, 28, 28, 51 66048    activation_110[0][0]       \n",
      "________________________________________________________________________________\n",
      "res3a_branch1 (Conv2D)    (None, 28, 28, 51 131584   activation_108[0][0]       \n",
      "________________________________________________________________________________\n",
      "bn3a_branch2c (BatchNorma (None, 28, 28, 51 2048     res3a_branch2c[0][0]       \n",
      "________________________________________________________________________________\n",
      "bn3a_branch1 (BatchNormal (None, 28, 28, 51 2048     res3a_branch1[0][0]        \n",
      "________________________________________________________________________________\n",
      "add_36 (Add)              (None, 28, 28, 51 0        bn3a_branch2c[0][0]        \n",
      "                                                     bn3a_branch1[0][0]         \n",
      "________________________________________________________________________________\n",
      "activation_111 (Activatio (None, 28, 28, 51 0        add_36[0][0]               \n",
      "________________________________________________________________________________\n",
      "res3b_branch2a (Conv2D)   (None, 28, 28, 12 65664    activation_111[0][0]       \n",
      "________________________________________________________________________________\n",
      "bn3b_branch2a (BatchNorma (None, 28, 28, 12 512      res3b_branch2a[0][0]       \n",
      "________________________________________________________________________________\n",
      "activation_112 (Activatio (None, 28, 28, 12 0        bn3b_branch2a[0][0]        \n",
      "________________________________________________________________________________\n",
      "res3b_branch2b (Conv2D)   (None, 28, 28, 12 147584   activation_112[0][0]       \n",
      "________________________________________________________________________________\n",
      "bn3b_branch2b (BatchNorma (None, 28, 28, 12 512      res3b_branch2b[0][0]       \n",
      "________________________________________________________________________________\n",
      "activation_113 (Activatio (None, 28, 28, 12 0        bn3b_branch2b[0][0]        \n",
      "________________________________________________________________________________\n",
      "res3b_branch2c (Conv2D)   (None, 28, 28, 51 66048    activation_113[0][0]       \n",
      "________________________________________________________________________________\n",
      "bn3b_branch2c (BatchNorma (None, 28, 28, 51 2048     res3b_branch2c[0][0]       \n",
      "________________________________________________________________________________\n",
      "add_37 (Add)              (None, 28, 28, 51 0        bn3b_branch2c[0][0]        \n",
      "                                                     activation_111[0][0]       \n",
      "________________________________________________________________________________\n",
      "activation_114 (Activatio (None, 28, 28, 51 0        add_37[0][0]               \n",
      "________________________________________________________________________________\n",
      "res3c_branch2a (Conv2D)   (None, 28, 28, 12 65664    activation_114[0][0]       \n",
      "________________________________________________________________________________\n",
      "bn3c_branch2a (BatchNorma (None, 28, 28, 12 512      res3c_branch2a[0][0]       \n",
      "________________________________________________________________________________\n",
      "activation_115 (Activatio (None, 28, 28, 12 0        bn3c_branch2a[0][0]        \n",
      "________________________________________________________________________________\n",
      "res3c_branch2b (Conv2D)   (None, 28, 28, 12 147584   activation_115[0][0]       \n",
      "________________________________________________________________________________\n",
      "bn3c_branch2b (BatchNorma (None, 28, 28, 12 512      res3c_branch2b[0][0]       \n",
      "________________________________________________________________________________\n",
      "activation_116 (Activatio (None, 28, 28, 12 0        bn3c_branch2b[0][0]        \n",
      "________________________________________________________________________________\n",
      "res3c_branch2c (Conv2D)   (None, 28, 28, 51 66048    activation_116[0][0]       \n",
      "________________________________________________________________________________\n",
      "bn3c_branch2c (BatchNorma (None, 28, 28, 51 2048     res3c_branch2c[0][0]       \n",
      "________________________________________________________________________________\n",
      "add_38 (Add)              (None, 28, 28, 51 0        bn3c_branch2c[0][0]        \n",
      "                                                     activation_114[0][0]       \n",
      "________________________________________________________________________________\n",
      "activation_117 (Activatio (None, 28, 28, 51 0        add_38[0][0]               \n",
      "________________________________________________________________________________\n",
      "res3d_branch2a (Conv2D)   (None, 28, 28, 12 65664    activation_117[0][0]       \n",
      "________________________________________________________________________________\n",
      "bn3d_branch2a (BatchNorma (None, 28, 28, 12 512      res3d_branch2a[0][0]       \n",
      "________________________________________________________________________________\n",
      "activation_118 (Activatio (None, 28, 28, 12 0        bn3d_branch2a[0][0]        \n",
      "________________________________________________________________________________\n",
      "res3d_branch2b (Conv2D)   (None, 28, 28, 12 147584   activation_118[0][0]       \n",
      "________________________________________________________________________________\n",
      "bn3d_branch2b (BatchNorma (None, 28, 28, 12 512      res3d_branch2b[0][0]       \n",
      "________________________________________________________________________________\n",
      "activation_119 (Activatio (None, 28, 28, 12 0        bn3d_branch2b[0][0]        \n",
      "________________________________________________________________________________\n",
      "res3d_branch2c (Conv2D)   (None, 28, 28, 51 66048    activation_119[0][0]       \n",
      "________________________________________________________________________________\n",
      "bn3d_branch2c (BatchNorma (None, 28, 28, 51 2048     res3d_branch2c[0][0]       \n",
      "________________________________________________________________________________\n",
      "add_39 (Add)              (None, 28, 28, 51 0        bn3d_branch2c[0][0]        \n",
      "                                                     activation_117[0][0]       \n",
      "________________________________________________________________________________\n",
      "activation_120 (Activatio (None, 28, 28, 51 0        add_39[0][0]               \n",
      "________________________________________________________________________________\n",
      "res4a_branch2a (Conv2D)   (None, 14, 14, 25 131328   activation_120[0][0]       \n",
      "________________________________________________________________________________\n",
      "bn4a_branch2a (BatchNorma (None, 14, 14, 25 1024     res4a_branch2a[0][0]       \n",
      "________________________________________________________________________________\n",
      "activation_121 (Activatio (None, 14, 14, 25 0        bn4a_branch2a[0][0]        \n",
      "________________________________________________________________________________\n",
      "res4a_branch2b (Conv2D)   (None, 14, 14, 25 590080   activation_121[0][0]       \n",
      "________________________________________________________________________________\n",
      "bn4a_branch2b (BatchNorma (None, 14, 14, 25 1024     res4a_branch2b[0][0]       \n",
      "________________________________________________________________________________\n",
      "activation_122 (Activatio (None, 14, 14, 25 0        bn4a_branch2b[0][0]        \n",
      "________________________________________________________________________________\n",
      "res4a_branch2c (Conv2D)   (None, 14, 14, 10 263168   activation_122[0][0]       \n",
      "________________________________________________________________________________\n",
      "res4a_branch1 (Conv2D)    (None, 14, 14, 10 525312   activation_120[0][0]       \n",
      "________________________________________________________________________________\n",
      "bn4a_branch2c (BatchNorma (None, 14, 14, 10 4096     res4a_branch2c[0][0]       \n",
      "________________________________________________________________________________\n",
      "bn4a_branch1 (BatchNormal (None, 14, 14, 10 4096     res4a_branch1[0][0]        \n",
      "________________________________________________________________________________\n",
      "add_40 (Add)              (None, 14, 14, 10 0        bn4a_branch2c[0][0]        \n",
      "                                                     bn4a_branch1[0][0]         \n",
      "________________________________________________________________________________\n",
      "activation_123 (Activatio (None, 14, 14, 10 0        add_40[0][0]               \n",
      "________________________________________________________________________________\n",
      "res4b_branch2a (Conv2D)   (None, 14, 14, 25 262400   activation_123[0][0]       \n",
      "________________________________________________________________________________\n",
      "bn4b_branch2a (BatchNorma (None, 14, 14, 25 1024     res4b_branch2a[0][0]       \n",
      "________________________________________________________________________________\n",
      "activation_124 (Activatio (None, 14, 14, 25 0        bn4b_branch2a[0][0]        \n",
      "________________________________________________________________________________\n",
      "res4b_branch2b (Conv2D)   (None, 14, 14, 25 590080   activation_124[0][0]       \n",
      "________________________________________________________________________________\n",
      "bn4b_branch2b (BatchNorma (None, 14, 14, 25 1024     res4b_branch2b[0][0]       \n",
      "________________________________________________________________________________\n",
      "activation_125 (Activatio (None, 14, 14, 25 0        bn4b_branch2b[0][0]        \n",
      "________________________________________________________________________________\n",
      "res4b_branch2c (Conv2D)   (None, 14, 14, 10 263168   activation_125[0][0]       \n",
      "________________________________________________________________________________\n",
      "bn4b_branch2c (BatchNorma (None, 14, 14, 10 4096     res4b_branch2c[0][0]       \n",
      "________________________________________________________________________________\n",
      "add_41 (Add)              (None, 14, 14, 10 0        bn4b_branch2c[0][0]        \n",
      "                                                     activation_123[0][0]       \n",
      "________________________________________________________________________________\n",
      "activation_126 (Activatio (None, 14, 14, 10 0        add_41[0][0]               \n",
      "________________________________________________________________________________\n",
      "res4c_branch2a (Conv2D)   (None, 14, 14, 25 262400   activation_126[0][0]       \n",
      "________________________________________________________________________________\n",
      "bn4c_branch2a (BatchNorma (None, 14, 14, 25 1024     res4c_branch2a[0][0]       \n",
      "________________________________________________________________________________\n",
      "activation_127 (Activatio (None, 14, 14, 25 0        bn4c_branch2a[0][0]        \n",
      "________________________________________________________________________________\n",
      "res4c_branch2b (Conv2D)   (None, 14, 14, 25 590080   activation_127[0][0]       \n",
      "________________________________________________________________________________\n",
      "bn4c_branch2b (BatchNorma (None, 14, 14, 25 1024     res4c_branch2b[0][0]       \n",
      "________________________________________________________________________________\n",
      "activation_128 (Activatio (None, 14, 14, 25 0        bn4c_branch2b[0][0]        \n",
      "________________________________________________________________________________\n",
      "res4c_branch2c (Conv2D)   (None, 14, 14, 10 263168   activation_128[0][0]       \n",
      "________________________________________________________________________________\n",
      "bn4c_branch2c (BatchNorma (None, 14, 14, 10 4096     res4c_branch2c[0][0]       \n",
      "________________________________________________________________________________\n",
      "add_42 (Add)              (None, 14, 14, 10 0        bn4c_branch2c[0][0]        \n",
      "                                                     activation_126[0][0]       \n",
      "________________________________________________________________________________\n",
      "activation_129 (Activatio (None, 14, 14, 10 0        add_42[0][0]               \n",
      "________________________________________________________________________________\n",
      "res4d_branch2a (Conv2D)   (None, 14, 14, 25 262400   activation_129[0][0]       \n",
      "________________________________________________________________________________\n",
      "bn4d_branch2a (BatchNorma (None, 14, 14, 25 1024     res4d_branch2a[0][0]       \n",
      "________________________________________________________________________________\n",
      "activation_130 (Activatio (None, 14, 14, 25 0        bn4d_branch2a[0][0]        \n",
      "________________________________________________________________________________\n",
      "res4d_branch2b (Conv2D)   (None, 14, 14, 25 590080   activation_130[0][0]       \n",
      "________________________________________________________________________________\n",
      "bn4d_branch2b (BatchNorma (None, 14, 14, 25 1024     res4d_branch2b[0][0]       \n",
      "________________________________________________________________________________\n",
      "activation_131 (Activatio (None, 14, 14, 25 0        bn4d_branch2b[0][0]        \n",
      "________________________________________________________________________________\n",
      "res4d_branch2c (Conv2D)   (None, 14, 14, 10 263168   activation_131[0][0]       \n",
      "________________________________________________________________________________\n",
      "bn4d_branch2c (BatchNorma (None, 14, 14, 10 4096     res4d_branch2c[0][0]       \n",
      "________________________________________________________________________________\n",
      "add_43 (Add)              (None, 14, 14, 10 0        bn4d_branch2c[0][0]        \n",
      "                                                     activation_129[0][0]       \n",
      "________________________________________________________________________________\n",
      "activation_132 (Activatio (None, 14, 14, 10 0        add_43[0][0]               \n",
      "________________________________________________________________________________\n",
      "res4e_branch2a (Conv2D)   (None, 14, 14, 25 262400   activation_132[0][0]       \n",
      "________________________________________________________________________________\n",
      "bn4e_branch2a (BatchNorma (None, 14, 14, 25 1024     res4e_branch2a[0][0]       \n",
      "________________________________________________________________________________\n",
      "activation_133 (Activatio (None, 14, 14, 25 0        bn4e_branch2a[0][0]        \n",
      "________________________________________________________________________________\n",
      "res4e_branch2b (Conv2D)   (None, 14, 14, 25 590080   activation_133[0][0]       \n",
      "________________________________________________________________________________\n",
      "bn4e_branch2b (BatchNorma (None, 14, 14, 25 1024     res4e_branch2b[0][0]       \n",
      "________________________________________________________________________________\n",
      "activation_134 (Activatio (None, 14, 14, 25 0        bn4e_branch2b[0][0]        \n",
      "________________________________________________________________________________\n",
      "res4e_branch2c (Conv2D)   (None, 14, 14, 10 263168   activation_134[0][0]       \n",
      "________________________________________________________________________________\n",
      "bn4e_branch2c (BatchNorma (None, 14, 14, 10 4096     res4e_branch2c[0][0]       \n",
      "________________________________________________________________________________\n",
      "add_44 (Add)              (None, 14, 14, 10 0        bn4e_branch2c[0][0]        \n",
      "                                                     activation_132[0][0]       \n",
      "________________________________________________________________________________\n",
      "activation_135 (Activatio (None, 14, 14, 10 0        add_44[0][0]               \n",
      "________________________________________________________________________________\n",
      "res4f_branch2a (Conv2D)   (None, 14, 14, 25 262400   activation_135[0][0]       \n",
      "________________________________________________________________________________\n",
      "bn4f_branch2a (BatchNorma (None, 14, 14, 25 1024     res4f_branch2a[0][0]       \n",
      "________________________________________________________________________________\n",
      "activation_136 (Activatio (None, 14, 14, 25 0        bn4f_branch2a[0][0]        \n",
      "________________________________________________________________________________\n",
      "res4f_branch2b (Conv2D)   (None, 14, 14, 25 590080   activation_136[0][0]       \n",
      "________________________________________________________________________________\n",
      "bn4f_branch2b (BatchNorma (None, 14, 14, 25 1024     res4f_branch2b[0][0]       \n",
      "________________________________________________________________________________\n",
      "activation_137 (Activatio (None, 14, 14, 25 0        bn4f_branch2b[0][0]        \n",
      "________________________________________________________________________________\n",
      "res4f_branch2c (Conv2D)   (None, 14, 14, 10 263168   activation_137[0][0]       \n",
      "________________________________________________________________________________\n",
      "bn4f_branch2c (BatchNorma (None, 14, 14, 10 4096     res4f_branch2c[0][0]       \n",
      "________________________________________________________________________________\n",
      "add_45 (Add)              (None, 14, 14, 10 0        bn4f_branch2c[0][0]        \n",
      "                                                     activation_135[0][0]       \n",
      "________________________________________________________________________________\n",
      "activation_138 (Activatio (None, 14, 14, 10 0        add_45[0][0]               \n",
      "________________________________________________________________________________\n",
      "res5a_branch2a (Conv2D)   (None, 7, 7, 512) 524800   activation_138[0][0]       \n",
      "________________________________________________________________________________\n",
      "bn5a_branch2a (BatchNorma (None, 7, 7, 512) 2048     res5a_branch2a[0][0]       \n",
      "________________________________________________________________________________\n",
      "activation_139 (Activatio (None, 7, 7, 512) 0        bn5a_branch2a[0][0]        \n",
      "________________________________________________________________________________\n",
      "res5a_branch2b (Conv2D)   (None, 7, 7, 512) 2359808  activation_139[0][0]       \n",
      "________________________________________________________________________________\n",
      "bn5a_branch2b (BatchNorma (None, 7, 7, 512) 2048     res5a_branch2b[0][0]       \n",
      "________________________________________________________________________________\n",
      "activation_140 (Activatio (None, 7, 7, 512) 0        bn5a_branch2b[0][0]        \n",
      "________________________________________________________________________________\n",
      "res5a_branch2c (Conv2D)   (None, 7, 7, 2048 1050624  activation_140[0][0]       \n",
      "________________________________________________________________________________\n",
      "res5a_branch1 (Conv2D)    (None, 7, 7, 2048 2099200  activation_138[0][0]       \n",
      "________________________________________________________________________________\n",
      "bn5a_branch2c (BatchNorma (None, 7, 7, 2048 8192     res5a_branch2c[0][0]       \n",
      "________________________________________________________________________________\n",
      "bn5a_branch1 (BatchNormal (None, 7, 7, 2048 8192     res5a_branch1[0][0]        \n",
      "________________________________________________________________________________\n",
      "add_46 (Add)              (None, 7, 7, 2048 0        bn5a_branch2c[0][0]        \n",
      "                                                     bn5a_branch1[0][0]         \n",
      "________________________________________________________________________________\n",
      "activation_141 (Activatio (None, 7, 7, 2048 0        add_46[0][0]               \n",
      "________________________________________________________________________________\n",
      "res5b_branch2a (Conv2D)   (None, 7, 7, 512) 1049088  activation_141[0][0]       \n",
      "________________________________________________________________________________\n",
      "bn5b_branch2a (BatchNorma (None, 7, 7, 512) 2048     res5b_branch2a[0][0]       \n",
      "________________________________________________________________________________\n",
      "activation_142 (Activatio (None, 7, 7, 512) 0        bn5b_branch2a[0][0]        \n",
      "________________________________________________________________________________\n",
      "res5b_branch2b (Conv2D)   (None, 7, 7, 512) 2359808  activation_142[0][0]       \n",
      "________________________________________________________________________________\n",
      "bn5b_branch2b (BatchNorma (None, 7, 7, 512) 2048     res5b_branch2b[0][0]       \n",
      "________________________________________________________________________________\n",
      "activation_143 (Activatio (None, 7, 7, 512) 0        bn5b_branch2b[0][0]        \n",
      "________________________________________________________________________________\n",
      "res5b_branch2c (Conv2D)   (None, 7, 7, 2048 1050624  activation_143[0][0]       \n",
      "________________________________________________________________________________\n",
      "bn5b_branch2c (BatchNorma (None, 7, 7, 2048 8192     res5b_branch2c[0][0]       \n",
      "________________________________________________________________________________\n",
      "add_47 (Add)              (None, 7, 7, 2048 0        bn5b_branch2c[0][0]        \n",
      "                                                     activation_141[0][0]       \n",
      "________________________________________________________________________________\n",
      "activation_144 (Activatio (None, 7, 7, 2048 0        add_47[0][0]               \n",
      "________________________________________________________________________________\n",
      "res5c_branch2a (Conv2D)   (None, 7, 7, 512) 1049088  activation_144[0][0]       \n",
      "________________________________________________________________________________\n",
      "bn5c_branch2a (BatchNorma (None, 7, 7, 512) 2048     res5c_branch2a[0][0]       \n",
      "________________________________________________________________________________\n",
      "activation_145 (Activatio (None, 7, 7, 512) 0        bn5c_branch2a[0][0]        \n",
      "________________________________________________________________________________\n",
      "res5c_branch2b (Conv2D)   (None, 7, 7, 512) 2359808  activation_145[0][0]       \n",
      "________________________________________________________________________________\n",
      "bn5c_branch2b (BatchNorma (None, 7, 7, 512) 2048     res5c_branch2b[0][0]       \n",
      "________________________________________________________________________________\n",
      "activation_146 (Activatio (None, 7, 7, 512) 0        bn5c_branch2b[0][0]        \n",
      "________________________________________________________________________________\n",
      "res5c_branch2c (Conv2D)   (None, 7, 7, 2048 1050624  activation_146[0][0]       \n",
      "________________________________________________________________________________\n",
      "bn5c_branch2c (BatchNorma (None, 7, 7, 2048 8192     res5c_branch2c[0][0]       \n",
      "________________________________________________________________________________\n",
      "add_48 (Add)              (None, 7, 7, 2048 0        bn5c_branch2c[0][0]        \n",
      "                                                     activation_144[0][0]       \n",
      "________________________________________________________________________________\n",
      "activation_147 (Activatio (None, 7, 7, 2048 0        add_48[0][0]               \n",
      "________________________________________________________________________________\n",
      "avg_pool (AveragePooling2 (None, 1, 1, 2048 0        activation_147[0][0]       \n",
      "________________________________________________________________________________\n",
      "flatten_3 (Flatten)       (None, 2048)      0        avg_pool[0][0]             \n",
      "________________________________________________________________________________\n",
      "dense_5 (Dense)           (None, 128)       262272   flatten_3[0][0]            \n",
      "________________________________________________________________________________\n",
      "dense_6 (Dense)           (None, 1)         129      dense_5[0][0]              \n",
      "================================================================================\n",
      "Total params: 23,850,113\n",
      "Trainable params: 262,401\n",
      "Non-trainable params: 23,587,712\n",
      "________________________________________________________________________________\n"
     ]
    }
   ],
   "source": [
    "# check the architecture of this massive model\n",
    "# special attention: 'only' a small fraction of the 24Mio parameters will be fine-tuned\n",
    "summary(model)"
   ]
  },
  {
   "cell_type": "code",
   "execution_count": 119,
   "metadata": {},
   "outputs": [],
   "source": [
    "history = model %>% fit(\n",
    "    x = X_train, \n",
    "    y = y_train, \n",
    "    epochs = 1, \n",
    "    batch_size = 32, \n",
    "    validation_split = 0.2, \n",
    "    verbose = 1\n",
    ")"
   ]
  },
  {
   "cell_type": "code",
   "execution_count": 120,
   "metadata": {},
   "outputs": [
    {
     "data": {},
     "metadata": {},
     "output_type": "display_data"
    },
    {
     "data": {
      "image/png": "[encoded data removed]",
      "text/plain": [
       "plot without title"
      ]
     },
     "metadata": {},
     "output_type": "display_data"
    }
   ],
   "source": [
    "plot(history)"
   ]
  },
  {
   "cell_type": "markdown",
   "metadata": {},
   "source": [
    "#### Evaluate performance"
   ]
  },
  {
   "cell_type": "code",
   "execution_count": 121,
   "metadata": {},
   "outputs": [
    {
     "data": {
      "text/html": [
       "<dl>\n",
       "\t<dt>$loss</dt>\n",
       "\t\t<dd>0.31873478342409</dd>\n",
       "\t<dt>$acc</dt>\n",
       "\t\t<dd>0.904109589041096</dd>\n",
       "</dl>\n"
      ],
      "text/latex": [
       "\\begin{description}\n",
       "\\item[\\$loss] 0.31873478342409\n",
       "\\item[\\$acc] 0.904109589041096\n",
       "\\end{description}\n"
      ],
      "text/markdown": [
       "$loss\n",
       ":   0.31873478342409\n",
       "$acc\n",
       ":   0.904109589041096\n",
       "\n",
       "\n"
      ],
      "text/plain": [
       "$loss\n",
       "[1] 0.3187348\n",
       "\n",
       "$acc\n",
       "[1] 0.9041096\n"
      ]
     },
     "metadata": {},
     "output_type": "display_data"
    }
   ],
   "source": [
    "# evaluate the performance on the test data\n",
    "model %>% evaluate(X_test, y_test)"
   ]
  },
  {
   "cell_type": "code",
   "execution_count": 122,
   "metadata": {},
   "outputs": [],
   "source": [
    "# make predictions on all our test data\n",
    "preds = model %>% predict(X_test)"
   ]
  },
  {
   "cell_type": "code",
   "execution_count": 123,
   "metadata": {},
   "outputs": [
    {
     "data": {
      "text/html": [
       "<table>\n",
       "<thead><tr><th scope=col>prob</th><th scope=col>yhat</th><th scope=col>y_test</th></tr></thead>\n",
       "<tbody>\n",
       "\t<tr><td>0.6291046</td><td>1        </td><td>0        </td></tr>\n",
       "\t<tr><td>0.3504156</td><td>0        </td><td>0        </td></tr>\n",
       "\t<tr><td>0.4788982</td><td>0        </td><td>0        </td></tr>\n",
       "\t<tr><td>0.5714399</td><td>1        </td><td>0        </td></tr>\n",
       "\t<tr><td>0.8136709</td><td>1        </td><td>0        </td></tr>\n",
       "\t<tr><td>0.4212023</td><td>0        </td><td>0        </td></tr>\n",
       "</tbody>\n",
       "</table>\n"
      ],
      "text/latex": [
       "\\begin{tabular}{r|lll}\n",
       " prob & yhat & y\\_test\\\\\n",
       "\\hline\n",
       "\t 0.6291046 & 1         & 0        \\\\\n",
       "\t 0.3504156 & 0         & 0        \\\\\n",
       "\t 0.4788982 & 0         & 0        \\\\\n",
       "\t 0.5714399 & 1         & 0        \\\\\n",
       "\t 0.8136709 & 1         & 0        \\\\\n",
       "\t 0.4212023 & 0         & 0        \\\\\n",
       "\\end{tabular}\n"
      ],
      "text/markdown": [
       "\n",
       "prob | yhat | y_test | \n",
       "|---|---|---|---|---|---|\n",
       "| 0.6291046 | 1         | 0         | \n",
       "| 0.3504156 | 0         | 0         | \n",
       "| 0.4788982 | 0         | 0         | \n",
       "| 0.5714399 | 1         | 0         | \n",
       "| 0.8136709 | 1         | 0         | \n",
       "| 0.4212023 | 0         | 0         | \n",
       "\n",
       "\n"
      ],
      "text/plain": [
       "  prob      yhat y_test\n",
       "1 0.6291046 1    0     \n",
       "2 0.3504156 0    0     \n",
       "3 0.4788982 0    0     \n",
       "4 0.5714399 1    0     \n",
       "5 0.8136709 1    0     \n",
       "6 0.4212023 0    0     "
      ]
     },
     "metadata": {},
     "output_type": "display_data"
    }
   ],
   "source": [
    "# set threshold to 0.5 to yield hard predictions\n",
    "# what would be a better way to yield a reasonable threshold?\n",
    "yhat = ifelse(preds > 0.5, 1, 0)\n",
    "pred_frame = as.data.frame(cbind(preds, yhat, y_test))\n",
    "colnames(pred_frame) = c('prob', 'yhat', 'y_test')\n",
    "head(pred_frame)"
   ]
  },
  {
   "cell_type": "code",
   "execution_count": 124,
   "metadata": {},
   "outputs": [
    {
     "data": {
      "text/html": [
       "0.904109589041096"
      ],
      "text/latex": [
       "0.904109589041096"
      ],
      "text/markdown": [
       "0.904109589041096"
      ],
      "text/plain": [
       "[1] 0.9041096"
      ]
     },
     "metadata": {},
     "output_type": "display_data"
    }
   ],
   "source": [
    "# simple accuracy \n",
    "# important note: not taking into account the unbalancedness of the test data\n",
    "acc = length(which(pred_frame$yhat == pred_frame$y_test)) / nrow(pred_frame)\n",
    "acc"
   ]
  },
  {
   "cell_type": "code",
   "execution_count": 125,
   "metadata": {},
   "outputs": [],
   "source": [
    "# confusion matrix\n",
    "# instantiate empty confusion matrix as data frame\n",
    "conf_frame = as.data.frame(matrix(0, nrow = 2, ncol = 2))\n",
    "# transform factors to integers\n",
    "# loop over all possible true labels\n",
    "for(label in 0:1){\n",
    "    # filter for current label\n",
    "    dat = pred_frame %>% \n",
    "        dplyr::filter(y_test == label)\n",
    "    # loop over all predictable labels\n",
    "    for(pred in 0:1){\n",
    "        # count for each predictable label, how often it was predicted for which lass\n",
    "        conf_frame[pred + 1, label + 1] = length(which(dat$yhat == pred)) \n",
    "    }\n",
    "}\n",
    "# rename the columns with the actual label values\n",
    "colnames(conf_frame) = c('chicago', 'egypt')\n",
    "rownames(conf_frame) = c('chicago', 'egypt')"
   ]
  },
  {
   "cell_type": "code",
   "execution_count": 126,
   "metadata": {},
   "outputs": [
    {
     "data": {
      "text/html": [
       "<table>\n",
       "<thead><tr><th></th><th scope=col>chicago</th><th scope=col>egypt</th></tr></thead>\n",
       "<tbody>\n",
       "\t<tr><th scope=row>chicago</th><td>12</td><td> 0</td></tr>\n",
       "\t<tr><th scope=row>egypt</th><td> 7</td><td>54</td></tr>\n",
       "</tbody>\n",
       "</table>\n"
      ],
      "text/latex": [
       "\\begin{tabular}{r|ll}\n",
       "  & chicago & egypt\\\\\n",
       "\\hline\n",
       "\tchicago & 12 &  0\\\\\n",
       "\tegypt &  7 & 54\\\\\n",
       "\\end{tabular}\n"
      ],
      "text/markdown": [
       "\n",
       "| <!--/--> | chicago | egypt | \n",
       "|---|---|\n",
       "| chicago | 12 |  0 | \n",
       "| egypt |  7 | 54 | \n",
       "\n",
       "\n"
      ],
      "text/plain": [
       "        chicago egypt\n",
       "chicago 12       0   \n",
       "egypt    7      54   "
      ]
     },
     "metadata": {},
     "output_type": "display_data"
    }
   ],
   "source": [
    "# inspect the confusion matrix\n",
    "# rows represent the predicted values and columns represent the true values\n",
    "# a perfect confusion matrix contains only non-zero values on the diagonal \n",
    "# how can we interpret those results?\n",
    "# what would be next steps for troubleshooting?\n",
    "conf_frame"
   ]
  },
  {
   "cell_type": "markdown",
   "metadata": {},
   "source": [
    "#### Check the missclassified images\n",
    "\n",
    "For troubleshooting, it is usual to check especially those images that were missclassified by the model."
   ]
  },
  {
   "cell_type": "code",
   "execution_count": 127,
   "metadata": {},
   "outputs": [
    {
     "data": {
      "text/html": [
       "<ol class=list-inline>\n",
       "\t<li>1</li>\n",
       "\t<li>4</li>\n",
       "\t<li>5</li>\n",
       "\t<li>7</li>\n",
       "\t<li>10</li>\n",
       "\t<li>14</li>\n",
       "\t<li>19</li>\n",
       "</ol>\n"
      ],
      "text/latex": [
       "\\begin{enumerate*}\n",
       "\\item 1\n",
       "\\item 4\n",
       "\\item 5\n",
       "\\item 7\n",
       "\\item 10\n",
       "\\item 14\n",
       "\\item 19\n",
       "\\end{enumerate*}\n"
      ],
      "text/markdown": [
       "1. 1\n",
       "2. 4\n",
       "3. 5\n",
       "4. 7\n",
       "5. 10\n",
       "6. 14\n",
       "7. 19\n",
       "\n",
       "\n"
      ],
      "text/plain": [
       "[1]  1  4  5  7 10 14 19"
      ]
     },
     "metadata": {},
     "output_type": "display_data"
    }
   ],
   "source": [
    "# indices of the missclassified chicago buildings\n",
    "miss_chicago = which(pred_frame$yhat != pred_frame$y_test & pred_frame$y_test == 0)\n",
    "miss_chicago"
   ]
  },
  {
   "cell_type": "code",
   "execution_count": 128,
   "metadata": {},
   "outputs": [
    {
     "data": {
      "text/html": [],
      "text/latex": [],
      "text/markdown": [],
      "text/plain": [
       "integer(0)"
      ]
     },
     "metadata": {},
     "output_type": "display_data"
    }
   ],
   "source": [
    "# indices of the missclassified egypt buildings\n",
    "miss_egypt = which(pred_frame$yhat != pred_frame$y_test & pred_frame$y_test == 1)\n",
    "miss_egypt"
   ]
  },
  {
   "cell_type": "code",
   "execution_count": 129,
   "metadata": {},
   "outputs": [
    {
     "data": {
      "text/html": [
       "<table>\n",
       "<thead><tr><th></th><th scope=col>prob</th><th scope=col>yhat</th><th scope=col>y_test</th></tr></thead>\n",
       "<tbody>\n",
       "\t<tr><th scope=row>1</th><td>0.6291046</td><td>1        </td><td>0        </td></tr>\n",
       "\t<tr><th scope=row>4</th><td>0.5714399</td><td>1        </td><td>0        </td></tr>\n",
       "\t<tr><th scope=row>5</th><td>0.8136709</td><td>1        </td><td>0        </td></tr>\n",
       "\t<tr><th scope=row>7</th><td>0.7151427</td><td>1        </td><td>0        </td></tr>\n",
       "\t<tr><th scope=row>10</th><td>0.5548339</td><td>1        </td><td>0        </td></tr>\n",
       "\t<tr><th scope=row>14</th><td>0.7243022</td><td>1        </td><td>0        </td></tr>\n",
       "\t<tr><th scope=row>19</th><td>0.5467451</td><td>1        </td><td>0        </td></tr>\n",
       "</tbody>\n",
       "</table>\n"
      ],
      "text/latex": [
       "\\begin{tabular}{r|lll}\n",
       "  & prob & yhat & y\\_test\\\\\n",
       "\\hline\n",
       "\t1 & 0.6291046 & 1         & 0        \\\\\n",
       "\t4 & 0.5714399 & 1         & 0        \\\\\n",
       "\t5 & 0.8136709 & 1         & 0        \\\\\n",
       "\t7 & 0.7151427 & 1         & 0        \\\\\n",
       "\t10 & 0.5548339 & 1         & 0        \\\\\n",
       "\t14 & 0.7243022 & 1         & 0        \\\\\n",
       "\t19 & 0.5467451 & 1         & 0        \\\\\n",
       "\\end{tabular}\n"
      ],
      "text/markdown": [
       "\n",
       "| <!--/--> | prob | yhat | y_test | \n",
       "|---|---|---|---|---|---|---|\n",
       "| 1 | 0.6291046 | 1         | 0         | \n",
       "| 4 | 0.5714399 | 1         | 0         | \n",
       "| 5 | 0.8136709 | 1         | 0         | \n",
       "| 7 | 0.7151427 | 1         | 0         | \n",
       "| 10 | 0.5548339 | 1         | 0         | \n",
       "| 14 | 0.7243022 | 1         | 0         | \n",
       "| 19 | 0.5467451 | 1         | 0         | \n",
       "\n",
       "\n"
      ],
      "text/plain": [
       "   prob      yhat y_test\n",
       "1  0.6291046 1    0     \n",
       "4  0.5714399 1    0     \n",
       "5  0.8136709 1    0     \n",
       "7  0.7151427 1    0     \n",
       "10 0.5548339 1    0     \n",
       "14 0.7243022 1    0     \n",
       "19 0.5467451 1    0     "
      ]
     },
     "metadata": {},
     "output_type": "display_data"
    },
    {
     "data": {
      "image/jpeg": "[encoded data removed]"
     },
     "metadata": {},
     "output_type": "display_data"
    },
    {
     "data": {
      "text/plain": [
       "  format width height colorspace matte filesize density\n",
       "1   JPEG   390    600       sRGB FALSE    62687   72x72"
      ]
     },
     "metadata": {},
     "output_type": "display_data"
    }
   ],
   "source": [
    "# probability scores for the missclassified samples to be part of class egyptian \n",
    "# p(y = 1|X)\n",
    "# it is interesting to see, that despite of sample 10 it was a close decision for the net\n",
    "# maybe, the color structure of image 10 is similar to an ancient egyptian building?\n",
    "pred_frame[miss_chicago, ]\n",
    "# show the third missclassified chicago image\n",
    "miss_chicago_image = image_read(path = paste0('./data/arch_data/train/chicago/chicago', miss_chicago[3], '.jpg'))\n",
    "miss_chicago_image"
   ]
  },
  {
   "cell_type": "code",
   "execution_count": 130,
   "metadata": {},
   "outputs": [
    {
     "data": {
      "text/html": [
       "<table>\n",
       "<thead><tr><th scope=col>prob</th><th scope=col>yhat</th><th scope=col>y_test</th></tr></thead>\n",
       "<tbody>\n",
       "</tbody>\n",
       "</table>\n"
      ],
      "text/latex": [
       "\\begin{tabular}{r|lll}\n",
       " prob & yhat & y\\_test\\\\\n",
       "\\hline\n",
       "\\end{tabular}\n"
      ],
      "text/markdown": [
       "\n",
       "prob | yhat | y_test | \n",
       "||\n",
       "\n",
       "\n"
      ],
      "text/plain": [
       "     prob yhat y_test"
      ]
     },
     "metadata": {},
     "output_type": "display_data"
    },
    {
     "ename": "ERROR",
     "evalue": "Error in magick_image_readpath(path, density, depth, strip): Magick: UnableToOpenBlob `./data/arch_data/train/egypt/egyptNA.jpg': No such file or directory @ error/blob.c/OpenBlob/2761\n",
     "output_type": "error",
     "traceback": [
      "Error in magick_image_readpath(path, density, depth, strip): Magick: UnableToOpenBlob `./data/arch_data/train/egypt/egyptNA.jpg': No such file or directory @ error/blob.c/OpenBlob/2761\nTraceback:\n",
      "1. image_read(path = paste0(\"./data/arch_data/train/egypt/egypt\", \n .     miss_egypt[1], \".jpg\"))",
      "2. magick_image_readpath(path, density, depth, strip)"
     ]
    }
   ],
   "source": [
    "# probability scores for the missclassified samples to be part of class egyptian \n",
    "# p(y = 1|X)\n",
    "# it is interesting to see, that it was a very close decision for the net for all three pyramids\n",
    "pred_frame[miss_egypt, ]\n",
    "# show the first missclassified egypt image\n",
    "miss_egypt_image = image_read(path = paste0('./data/arch_data/train/egypt/egypt', miss_egypt[1], '.jpg'))\n",
    "miss_egypt_image"
   ]
  },
  {
   "cell_type": "code",
   "execution_count": null,
   "metadata": {},
   "outputs": [],
   "source": []
  },
  {
   "cell_type": "markdown",
   "metadata": {},
   "source": [
    "# 6. Data Generator for huge data sets\n",
    "\n",
    "One problem in deep learning with massive amounts of data is, that the whole data set might not fit in the GPU memory. One option to overcome this limitation is the usage of a __data generator__. This is basically an object, that sequentially loads one batch of data (usually 32-64 data points) into the model during the batch-wise training process. \n",
    "\n",
    "In addition to that, one can use __data augmentation__ techniques within the data gernerator. This means, that each image is getting shifted/ rotated/ cropped  in such a way, that the meaning of the image does not change (a flipped t-shirt is still a t-shirt which also holds for ancient egypt pyramids). This way, the dataset is augmented artificially which can help increase the model performance. Also, this is done on the fly during training. \n",
    "\n",
    "Keras utilities make it straightforward to implement such a data generator which we will do in the following. We continue working on the architecture-detection problem. "
   ]
  },
  {
   "cell_type": "code",
   "execution_count": 134,
   "metadata": {},
   "outputs": [],
   "source": [
    "# define a data generator that handles the preprocessing/ augmentation of each \n",
    "# single image\n",
    "# here, we only do vertical flipping\n",
    "# check the docu for the full set of possible augmentation techniques\n",
    "data_generator_train = image_data_generator(\n",
    "    horizontal_flip = FALSE,\n",
    "    vertical_flip = TRUE)\n",
    "\n",
    "# we do not apply any augmentation on the validation data\n",
    "data_generator_validation = image_data_generator(\n",
    "    horizontal_flip = FALSE,\n",
    "    vertical_flip = FALSE)"
   ]
  },
  {
   "cell_type": "markdown",
   "metadata": {},
   "source": [
    "The function `flow_images_from_directory()` creates a data generator solely based on the image data being stored on a given path. Therefore, the data should follow such a folder structure:\n",
    "* data  \n",
    "    * train\n",
    "        * classname 0\n",
    "            *  classname0_1.jpg\n",
    "            *  classname0_2.jpg\n",
    "            *  ...\n",
    "        * classname 1\n",
    "        * ...\n",
    "    * validation \n",
    "        * classname 0\n",
    "        * classname 1\n",
    "        * ...\n",
    "    \n",
    "Given this folder structure, the function will determine the amount of classes and images by itself. For an example, check the folder `./data/arch_data/` in this repository."
   ]
  },
  {
   "cell_type": "code",
   "execution_count": 135,
   "metadata": {},
   "outputs": [],
   "source": [
    "train_generator = flow_images_from_directory(\n",
    "    directory = './data/arch_data/train/', \n",
    "    generator = data_generator_train, \n",
    "    target_size = c(224, 224), \n",
    "    classes = c('chicago', 'egypt'),\n",
    "    color_mode = 'rgb',\n",
    "    batch_size = 32,\n",
    "    class_mode = 'categorical',\n",
    "    shuffle = TRUE\n",
    ")\n",
    "validation_generator = flow_images_from_directory(\n",
    "    directory = './data/arch_data/validation/', \n",
    "    generator = data_generator_validation, \n",
    "    target_size = c(224, 224),\n",
    "    classes = c('chicago', 'egypt'),\n",
    "    color_mode = 'rgb',\n",
    "    batch_size = 32, \n",
    "    class_mode = 'categorical',\n",
    "    shuffle = FALSE\n",
    ")"
   ]
  },
  {
   "cell_type": "code",
   "execution_count": 136,
   "metadata": {},
   "outputs": [],
   "source": [
    "# we use the pretrained Resnet and 'cut off its head' \n",
    "# and add two convolutional layers, \n",
    "# which we will fine-tune\n",
    "input_tensor <- layer_input(shape = c(224, 224, 3))\n",
    "base_model <- application_resnet50(input_tensor = input_tensor,\n",
    "    weights = './models/resnet50_weights_tf_dim_ordering_tf_kernels_notop.h5', \n",
    "    include_top = FALSE)"
   ]
  },
  {
   "cell_type": "code",
   "execution_count": 142,
   "metadata": {},
   "outputs": [],
   "source": [
    "# add our custom layers\n",
    "ext_model <- base_model$output %>% \n",
    "    layer_flatten() %>% \n",
    "    layer_dense(units = 128, activation = 'relu') %>% \n",
    "    layer_dense(units = 2, activation = 'softmax')\n",
    "\n",
    "# this is the model we will train\n",
    "model_gen <- keras_model(inputs = base_model$input, outputs = ext_model)"
   ]
  },
  {
   "cell_type": "code",
   "execution_count": 143,
   "metadata": {},
   "outputs": [],
   "source": [
    "# train only the top layers \n",
    "# freeze all layers from the ResNet50\n",
    "freeze_weights(model_gen, from = 1, to = 174)\n",
    "model_gen %>% compile(optimizer = 'sgd', \n",
    "                loss = 'categorical_crossentropy', \n",
    "                metrics = c('accuracy'))"
   ]
  },
  {
   "cell_type": "code",
   "execution_count": 144,
   "metadata": {},
   "outputs": [
    {
     "name": "stdout",
     "output_type": "stream",
     "text": [
      "________________________________________________________________________________\n",
      "Layer (type)              Output Shape      Param #  Connected to               \n",
      "================================================================================\n",
      "input_6 (InputLayer)      (None, 224, 224,  0                                   \n",
      "________________________________________________________________________________\n",
      "conv1 (Conv2D)            (None, 112, 112,  9472     input_6[0][0]              \n",
      "________________________________________________________________________________\n",
      "bn_conv1 (BatchNormalizat (None, 112, 112,  256      conv1[0][0]                \n",
      "________________________________________________________________________________\n",
      "activation_246 (Activatio (None, 112, 112,  0        bn_conv1[0][0]             \n",
      "________________________________________________________________________________\n",
      "max_pooling2d_6 (MaxPooli (None, 55, 55, 64 0        activation_246[0][0]       \n",
      "________________________________________________________________________________\n",
      "res2a_branch2a (Conv2D)   (None, 55, 55, 64 4160     max_pooling2d_6[0][0]      \n",
      "________________________________________________________________________________\n",
      "bn2a_branch2a (BatchNorma (None, 55, 55, 64 256      res2a_branch2a[0][0]       \n",
      "________________________________________________________________________________\n",
      "activation_247 (Activatio (None, 55, 55, 64 0        bn2a_branch2a[0][0]        \n",
      "________________________________________________________________________________\n",
      "res2a_branch2b (Conv2D)   (None, 55, 55, 64 36928    activation_247[0][0]       \n",
      "________________________________________________________________________________\n",
      "bn2a_branch2b (BatchNorma (None, 55, 55, 64 256      res2a_branch2b[0][0]       \n",
      "________________________________________________________________________________\n",
      "activation_248 (Activatio (None, 55, 55, 64 0        bn2a_branch2b[0][0]        \n",
      "________________________________________________________________________________\n",
      "res2a_branch2c (Conv2D)   (None, 55, 55, 25 16640    activation_248[0][0]       \n",
      "________________________________________________________________________________\n",
      "res2a_branch1 (Conv2D)    (None, 55, 55, 25 16640    max_pooling2d_6[0][0]      \n",
      "________________________________________________________________________________\n",
      "bn2a_branch2c (BatchNorma (None, 55, 55, 25 1024     res2a_branch2c[0][0]       \n",
      "________________________________________________________________________________\n",
      "bn2a_branch1 (BatchNormal (None, 55, 55, 25 1024     res2a_branch1[0][0]        \n",
      "________________________________________________________________________________\n",
      "add_81 (Add)              (None, 55, 55, 25 0        bn2a_branch2c[0][0]        \n",
      "                                                     bn2a_branch1[0][0]         \n",
      "________________________________________________________________________________\n",
      "activation_249 (Activatio (None, 55, 55, 25 0        add_81[0][0]               \n",
      "________________________________________________________________________________\n",
      "res2b_branch2a (Conv2D)   (None, 55, 55, 64 16448    activation_249[0][0]       \n",
      "________________________________________________________________________________\n",
      "bn2b_branch2a (BatchNorma (None, 55, 55, 64 256      res2b_branch2a[0][0]       \n",
      "________________________________________________________________________________\n",
      "activation_250 (Activatio (None, 55, 55, 64 0        bn2b_branch2a[0][0]        \n",
      "________________________________________________________________________________\n",
      "res2b_branch2b (Conv2D)   (None, 55, 55, 64 36928    activation_250[0][0]       \n",
      "________________________________________________________________________________\n",
      "bn2b_branch2b (BatchNorma (None, 55, 55, 64 256      res2b_branch2b[0][0]       \n",
      "________________________________________________________________________________\n",
      "activation_251 (Activatio (None, 55, 55, 64 0        bn2b_branch2b[0][0]        \n",
      "________________________________________________________________________________\n",
      "res2b_branch2c (Conv2D)   (None, 55, 55, 25 16640    activation_251[0][0]       \n",
      "________________________________________________________________________________\n",
      "bn2b_branch2c (BatchNorma (None, 55, 55, 25 1024     res2b_branch2c[0][0]       \n",
      "________________________________________________________________________________\n",
      "add_82 (Add)              (None, 55, 55, 25 0        bn2b_branch2c[0][0]        \n",
      "                                                     activation_249[0][0]       \n",
      "________________________________________________________________________________\n",
      "activation_252 (Activatio (None, 55, 55, 25 0        add_82[0][0]               \n",
      "________________________________________________________________________________\n",
      "res2c_branch2a (Conv2D)   (None, 55, 55, 64 16448    activation_252[0][0]       \n",
      "________________________________________________________________________________\n",
      "bn2c_branch2a (BatchNorma (None, 55, 55, 64 256      res2c_branch2a[0][0]       \n",
      "________________________________________________________________________________\n",
      "activation_253 (Activatio (None, 55, 55, 64 0        bn2c_branch2a[0][0]        \n",
      "________________________________________________________________________________\n",
      "res2c_branch2b (Conv2D)   (None, 55, 55, 64 36928    activation_253[0][0]       \n",
      "________________________________________________________________________________\n",
      "bn2c_branch2b (BatchNorma (None, 55, 55, 64 256      res2c_branch2b[0][0]       \n",
      "________________________________________________________________________________\n",
      "activation_254 (Activatio (None, 55, 55, 64 0        bn2c_branch2b[0][0]        \n",
      "________________________________________________________________________________\n",
      "res2c_branch2c (Conv2D)   (None, 55, 55, 25 16640    activation_254[0][0]       \n",
      "________________________________________________________________________________\n",
      "bn2c_branch2c (BatchNorma (None, 55, 55, 25 1024     res2c_branch2c[0][0]       \n",
      "________________________________________________________________________________\n",
      "add_83 (Add)              (None, 55, 55, 25 0        bn2c_branch2c[0][0]        \n",
      "                                                     activation_252[0][0]       \n",
      "________________________________________________________________________________\n",
      "activation_255 (Activatio (None, 55, 55, 25 0        add_83[0][0]               \n",
      "________________________________________________________________________________\n",
      "res3a_branch2a (Conv2D)   (None, 28, 28, 12 32896    activation_255[0][0]       \n",
      "________________________________________________________________________________\n",
      "bn3a_branch2a (BatchNorma (None, 28, 28, 12 512      res3a_branch2a[0][0]       \n",
      "________________________________________________________________________________\n",
      "activation_256 (Activatio (None, 28, 28, 12 0        bn3a_branch2a[0][0]        \n",
      "________________________________________________________________________________\n",
      "res3a_branch2b (Conv2D)   (None, 28, 28, 12 147584   activation_256[0][0]       \n",
      "________________________________________________________________________________\n",
      "bn3a_branch2b (BatchNorma (None, 28, 28, 12 512      res3a_branch2b[0][0]       \n",
      "________________________________________________________________________________\n",
      "activation_257 (Activatio (None, 28, 28, 12 0        bn3a_branch2b[0][0]        \n",
      "________________________________________________________________________________\n",
      "res3a_branch2c (Conv2D)   (None, 28, 28, 51 66048    activation_257[0][0]       \n",
      "________________________________________________________________________________\n",
      "res3a_branch1 (Conv2D)    (None, 28, 28, 51 131584   activation_255[0][0]       \n",
      "________________________________________________________________________________\n",
      "bn3a_branch2c (BatchNorma (None, 28, 28, 51 2048     res3a_branch2c[0][0]       \n",
      "________________________________________________________________________________\n",
      "bn3a_branch1 (BatchNormal (None, 28, 28, 51 2048     res3a_branch1[0][0]        \n",
      "________________________________________________________________________________\n",
      "add_84 (Add)              (None, 28, 28, 51 0        bn3a_branch2c[0][0]        \n",
      "                                                     bn3a_branch1[0][0]         \n",
      "________________________________________________________________________________\n",
      "activation_258 (Activatio (None, 28, 28, 51 0        add_84[0][0]               \n",
      "________________________________________________________________________________\n",
      "res3b_branch2a (Conv2D)   (None, 28, 28, 12 65664    activation_258[0][0]       \n",
      "________________________________________________________________________________\n",
      "bn3b_branch2a (BatchNorma (None, 28, 28, 12 512      res3b_branch2a[0][0]       \n",
      "________________________________________________________________________________\n",
      "activation_259 (Activatio (None, 28, 28, 12 0        bn3b_branch2a[0][0]        \n",
      "________________________________________________________________________________\n",
      "res3b_branch2b (Conv2D)   (None, 28, 28, 12 147584   activation_259[0][0]       \n",
      "________________________________________________________________________________\n",
      "bn3b_branch2b (BatchNorma (None, 28, 28, 12 512      res3b_branch2b[0][0]       \n",
      "________________________________________________________________________________\n",
      "activation_260 (Activatio (None, 28, 28, 12 0        bn3b_branch2b[0][0]        \n",
      "________________________________________________________________________________\n",
      "res3b_branch2c (Conv2D)   (None, 28, 28, 51 66048    activation_260[0][0]       \n",
      "________________________________________________________________________________\n",
      "bn3b_branch2c (BatchNorma (None, 28, 28, 51 2048     res3b_branch2c[0][0]       \n",
      "________________________________________________________________________________\n",
      "add_85 (Add)              (None, 28, 28, 51 0        bn3b_branch2c[0][0]        \n",
      "                                                     activation_258[0][0]       \n",
      "________________________________________________________________________________\n",
      "activation_261 (Activatio (None, 28, 28, 51 0        add_85[0][0]               \n",
      "________________________________________________________________________________\n",
      "res3c_branch2a (Conv2D)   (None, 28, 28, 12 65664    activation_261[0][0]       \n",
      "________________________________________________________________________________\n",
      "bn3c_branch2a (BatchNorma (None, 28, 28, 12 512      res3c_branch2a[0][0]       \n",
      "________________________________________________________________________________\n",
      "activation_262 (Activatio (None, 28, 28, 12 0        bn3c_branch2a[0][0]        \n",
      "________________________________________________________________________________\n",
      "res3c_branch2b (Conv2D)   (None, 28, 28, 12 147584   activation_262[0][0]       \n",
      "________________________________________________________________________________\n",
      "bn3c_branch2b (BatchNorma (None, 28, 28, 12 512      res3c_branch2b[0][0]       \n",
      "________________________________________________________________________________\n",
      "activation_263 (Activatio (None, 28, 28, 12 0        bn3c_branch2b[0][0]        \n",
      "________________________________________________________________________________\n",
      "res3c_branch2c (Conv2D)   (None, 28, 28, 51 66048    activation_263[0][0]       \n",
      "________________________________________________________________________________\n",
      "bn3c_branch2c (BatchNorma (None, 28, 28, 51 2048     res3c_branch2c[0][0]       \n",
      "________________________________________________________________________________\n",
      "add_86 (Add)              (None, 28, 28, 51 0        bn3c_branch2c[0][0]        \n",
      "                                                     activation_261[0][0]       \n",
      "________________________________________________________________________________\n",
      "activation_264 (Activatio (None, 28, 28, 51 0        add_86[0][0]               \n",
      "________________________________________________________________________________\n",
      "res3d_branch2a (Conv2D)   (None, 28, 28, 12 65664    activation_264[0][0]       \n",
      "________________________________________________________________________________\n",
      "bn3d_branch2a (BatchNorma (None, 28, 28, 12 512      res3d_branch2a[0][0]       \n",
      "________________________________________________________________________________\n",
      "activation_265 (Activatio (None, 28, 28, 12 0        bn3d_branch2a[0][0]        \n",
      "________________________________________________________________________________\n",
      "res3d_branch2b (Conv2D)   (None, 28, 28, 12 147584   activation_265[0][0]       \n",
      "________________________________________________________________________________\n",
      "bn3d_branch2b (BatchNorma (None, 28, 28, 12 512      res3d_branch2b[0][0]       \n",
      "________________________________________________________________________________\n",
      "activation_266 (Activatio (None, 28, 28, 12 0        bn3d_branch2b[0][0]        \n",
      "________________________________________________________________________________\n",
      "res3d_branch2c (Conv2D)   (None, 28, 28, 51 66048    activation_266[0][0]       \n",
      "________________________________________________________________________________\n",
      "bn3d_branch2c (BatchNorma (None, 28, 28, 51 2048     res3d_branch2c[0][0]       \n",
      "________________________________________________________________________________\n",
      "add_87 (Add)              (None, 28, 28, 51 0        bn3d_branch2c[0][0]        \n",
      "                                                     activation_264[0][0]       \n",
      "________________________________________________________________________________\n",
      "activation_267 (Activatio (None, 28, 28, 51 0        add_87[0][0]               \n",
      "________________________________________________________________________________\n",
      "res4a_branch2a (Conv2D)   (None, 14, 14, 25 131328   activation_267[0][0]       \n",
      "________________________________________________________________________________\n",
      "bn4a_branch2a (BatchNorma (None, 14, 14, 25 1024     res4a_branch2a[0][0]       \n",
      "________________________________________________________________________________\n",
      "activation_268 (Activatio (None, 14, 14, 25 0        bn4a_branch2a[0][0]        \n",
      "________________________________________________________________________________\n",
      "res4a_branch2b (Conv2D)   (None, 14, 14, 25 590080   activation_268[0][0]       \n",
      "________________________________________________________________________________\n",
      "bn4a_branch2b (BatchNorma (None, 14, 14, 25 1024     res4a_branch2b[0][0]       \n",
      "________________________________________________________________________________\n",
      "activation_269 (Activatio (None, 14, 14, 25 0        bn4a_branch2b[0][0]        \n",
      "________________________________________________________________________________\n",
      "res4a_branch2c (Conv2D)   (None, 14, 14, 10 263168   activation_269[0][0]       \n",
      "________________________________________________________________________________\n",
      "res4a_branch1 (Conv2D)    (None, 14, 14, 10 525312   activation_267[0][0]       \n",
      "________________________________________________________________________________\n",
      "bn4a_branch2c (BatchNorma (None, 14, 14, 10 4096     res4a_branch2c[0][0]       \n",
      "________________________________________________________________________________\n",
      "bn4a_branch1 (BatchNormal (None, 14, 14, 10 4096     res4a_branch1[0][0]        \n",
      "________________________________________________________________________________\n",
      "add_88 (Add)              (None, 14, 14, 10 0        bn4a_branch2c[0][0]        \n",
      "                                                     bn4a_branch1[0][0]         \n",
      "________________________________________________________________________________\n",
      "activation_270 (Activatio (None, 14, 14, 10 0        add_88[0][0]               \n",
      "________________________________________________________________________________\n",
      "res4b_branch2a (Conv2D)   (None, 14, 14, 25 262400   activation_270[0][0]       \n",
      "________________________________________________________________________________\n",
      "bn4b_branch2a (BatchNorma (None, 14, 14, 25 1024     res4b_branch2a[0][0]       \n",
      "________________________________________________________________________________\n",
      "activation_271 (Activatio (None, 14, 14, 25 0        bn4b_branch2a[0][0]        \n",
      "________________________________________________________________________________\n",
      "res4b_branch2b (Conv2D)   (None, 14, 14, 25 590080   activation_271[0][0]       \n",
      "________________________________________________________________________________\n",
      "bn4b_branch2b (BatchNorma (None, 14, 14, 25 1024     res4b_branch2b[0][0]       \n",
      "________________________________________________________________________________\n",
      "activation_272 (Activatio (None, 14, 14, 25 0        bn4b_branch2b[0][0]        \n",
      "________________________________________________________________________________\n",
      "res4b_branch2c (Conv2D)   (None, 14, 14, 10 263168   activation_272[0][0]       \n",
      "________________________________________________________________________________\n",
      "bn4b_branch2c (BatchNorma (None, 14, 14, 10 4096     res4b_branch2c[0][0]       \n",
      "________________________________________________________________________________\n",
      "add_89 (Add)              (None, 14, 14, 10 0        bn4b_branch2c[0][0]        \n",
      "                                                     activation_270[0][0]       \n",
      "________________________________________________________________________________\n",
      "activation_273 (Activatio (None, 14, 14, 10 0        add_89[0][0]               \n",
      "________________________________________________________________________________\n",
      "res4c_branch2a (Conv2D)   (None, 14, 14, 25 262400   activation_273[0][0]       \n",
      "________________________________________________________________________________\n",
      "bn4c_branch2a (BatchNorma (None, 14, 14, 25 1024     res4c_branch2a[0][0]       \n",
      "________________________________________________________________________________\n",
      "activation_274 (Activatio (None, 14, 14, 25 0        bn4c_branch2a[0][0]        \n",
      "________________________________________________________________________________\n",
      "res4c_branch2b (Conv2D)   (None, 14, 14, 25 590080   activation_274[0][0]       \n",
      "________________________________________________________________________________\n",
      "bn4c_branch2b (BatchNorma (None, 14, 14, 25 1024     res4c_branch2b[0][0]       \n",
      "________________________________________________________________________________\n",
      "activation_275 (Activatio (None, 14, 14, 25 0        bn4c_branch2b[0][0]        \n",
      "________________________________________________________________________________\n",
      "res4c_branch2c (Conv2D)   (None, 14, 14, 10 263168   activation_275[0][0]       \n",
      "________________________________________________________________________________\n",
      "bn4c_branch2c (BatchNorma (None, 14, 14, 10 4096     res4c_branch2c[0][0]       \n",
      "________________________________________________________________________________\n",
      "add_90 (Add)              (None, 14, 14, 10 0        bn4c_branch2c[0][0]        \n",
      "                                                     activation_273[0][0]       \n",
      "________________________________________________________________________________\n",
      "activation_276 (Activatio (None, 14, 14, 10 0        add_90[0][0]               \n",
      "________________________________________________________________________________\n",
      "res4d_branch2a (Conv2D)   (None, 14, 14, 25 262400   activation_276[0][0]       \n",
      "________________________________________________________________________________\n",
      "bn4d_branch2a (BatchNorma (None, 14, 14, 25 1024     res4d_branch2a[0][0]       \n",
      "________________________________________________________________________________\n",
      "activation_277 (Activatio (None, 14, 14, 25 0        bn4d_branch2a[0][0]        \n",
      "________________________________________________________________________________\n",
      "res4d_branch2b (Conv2D)   (None, 14, 14, 25 590080   activation_277[0][0]       \n",
      "________________________________________________________________________________\n",
      "bn4d_branch2b (BatchNorma (None, 14, 14, 25 1024     res4d_branch2b[0][0]       \n",
      "________________________________________________________________________________\n",
      "activation_278 (Activatio (None, 14, 14, 25 0        bn4d_branch2b[0][0]        \n",
      "________________________________________________________________________________\n",
      "res4d_branch2c (Conv2D)   (None, 14, 14, 10 263168   activation_278[0][0]       \n",
      "________________________________________________________________________________\n",
      "bn4d_branch2c (BatchNorma (None, 14, 14, 10 4096     res4d_branch2c[0][0]       \n",
      "________________________________________________________________________________\n",
      "add_91 (Add)              (None, 14, 14, 10 0        bn4d_branch2c[0][0]        \n",
      "                                                     activation_276[0][0]       \n",
      "________________________________________________________________________________\n",
      "activation_279 (Activatio (None, 14, 14, 10 0        add_91[0][0]               \n",
      "________________________________________________________________________________\n",
      "res4e_branch2a (Conv2D)   (None, 14, 14, 25 262400   activation_279[0][0]       \n",
      "________________________________________________________________________________\n",
      "bn4e_branch2a (BatchNorma (None, 14, 14, 25 1024     res4e_branch2a[0][0]       \n",
      "________________________________________________________________________________\n",
      "activation_280 (Activatio (None, 14, 14, 25 0        bn4e_branch2a[0][0]        \n",
      "________________________________________________________________________________\n",
      "res4e_branch2b (Conv2D)   (None, 14, 14, 25 590080   activation_280[0][0]       \n",
      "________________________________________________________________________________\n",
      "bn4e_branch2b (BatchNorma (None, 14, 14, 25 1024     res4e_branch2b[0][0]       \n",
      "________________________________________________________________________________\n",
      "activation_281 (Activatio (None, 14, 14, 25 0        bn4e_branch2b[0][0]        \n",
      "________________________________________________________________________________\n",
      "res4e_branch2c (Conv2D)   (None, 14, 14, 10 263168   activation_281[0][0]       \n",
      "________________________________________________________________________________\n",
      "bn4e_branch2c (BatchNorma (None, 14, 14, 10 4096     res4e_branch2c[0][0]       \n",
      "________________________________________________________________________________\n",
      "add_92 (Add)              (None, 14, 14, 10 0        bn4e_branch2c[0][0]        \n",
      "                                                     activation_279[0][0]       \n",
      "________________________________________________________________________________\n",
      "activation_282 (Activatio (None, 14, 14, 10 0        add_92[0][0]               \n",
      "________________________________________________________________________________\n",
      "res4f_branch2a (Conv2D)   (None, 14, 14, 25 262400   activation_282[0][0]       \n",
      "________________________________________________________________________________\n",
      "bn4f_branch2a (BatchNorma (None, 14, 14, 25 1024     res4f_branch2a[0][0]       \n",
      "________________________________________________________________________________\n",
      "activation_283 (Activatio (None, 14, 14, 25 0        bn4f_branch2a[0][0]        \n",
      "________________________________________________________________________________\n",
      "res4f_branch2b (Conv2D)   (None, 14, 14, 25 590080   activation_283[0][0]       \n",
      "________________________________________________________________________________\n",
      "bn4f_branch2b (BatchNorma (None, 14, 14, 25 1024     res4f_branch2b[0][0]       \n",
      "________________________________________________________________________________\n",
      "activation_284 (Activatio (None, 14, 14, 25 0        bn4f_branch2b[0][0]        \n",
      "________________________________________________________________________________\n",
      "res4f_branch2c (Conv2D)   (None, 14, 14, 10 263168   activation_284[0][0]       \n",
      "________________________________________________________________________________\n",
      "bn4f_branch2c (BatchNorma (None, 14, 14, 10 4096     res4f_branch2c[0][0]       \n",
      "________________________________________________________________________________\n",
      "add_93 (Add)              (None, 14, 14, 10 0        bn4f_branch2c[0][0]        \n",
      "                                                     activation_282[0][0]       \n",
      "________________________________________________________________________________\n",
      "activation_285 (Activatio (None, 14, 14, 10 0        add_93[0][0]               \n",
      "________________________________________________________________________________\n",
      "res5a_branch2a (Conv2D)   (None, 7, 7, 512) 524800   activation_285[0][0]       \n",
      "________________________________________________________________________________\n",
      "bn5a_branch2a (BatchNorma (None, 7, 7, 512) 2048     res5a_branch2a[0][0]       \n",
      "________________________________________________________________________________\n",
      "activation_286 (Activatio (None, 7, 7, 512) 0        bn5a_branch2a[0][0]        \n",
      "________________________________________________________________________________\n",
      "res5a_branch2b (Conv2D)   (None, 7, 7, 512) 2359808  activation_286[0][0]       \n",
      "________________________________________________________________________________\n",
      "bn5a_branch2b (BatchNorma (None, 7, 7, 512) 2048     res5a_branch2b[0][0]       \n",
      "________________________________________________________________________________\n",
      "activation_287 (Activatio (None, 7, 7, 512) 0        bn5a_branch2b[0][0]        \n",
      "________________________________________________________________________________\n",
      "res5a_branch2c (Conv2D)   (None, 7, 7, 2048 1050624  activation_287[0][0]       \n",
      "________________________________________________________________________________\n",
      "res5a_branch1 (Conv2D)    (None, 7, 7, 2048 2099200  activation_285[0][0]       \n",
      "________________________________________________________________________________\n",
      "bn5a_branch2c (BatchNorma (None, 7, 7, 2048 8192     res5a_branch2c[0][0]       \n",
      "________________________________________________________________________________\n",
      "bn5a_branch1 (BatchNormal (None, 7, 7, 2048 8192     res5a_branch1[0][0]        \n",
      "________________________________________________________________________________\n",
      "add_94 (Add)              (None, 7, 7, 2048 0        bn5a_branch2c[0][0]        \n",
      "                                                     bn5a_branch1[0][0]         \n",
      "________________________________________________________________________________\n",
      "activation_288 (Activatio (None, 7, 7, 2048 0        add_94[0][0]               \n",
      "________________________________________________________________________________\n",
      "res5b_branch2a (Conv2D)   (None, 7, 7, 512) 1049088  activation_288[0][0]       \n",
      "________________________________________________________________________________\n",
      "bn5b_branch2a (BatchNorma (None, 7, 7, 512) 2048     res5b_branch2a[0][0]       \n",
      "________________________________________________________________________________\n",
      "activation_289 (Activatio (None, 7, 7, 512) 0        bn5b_branch2a[0][0]        \n",
      "________________________________________________________________________________\n",
      "res5b_branch2b (Conv2D)   (None, 7, 7, 512) 2359808  activation_289[0][0]       \n",
      "________________________________________________________________________________\n",
      "bn5b_branch2b (BatchNorma (None, 7, 7, 512) 2048     res5b_branch2b[0][0]       \n",
      "________________________________________________________________________________\n",
      "activation_290 (Activatio (None, 7, 7, 512) 0        bn5b_branch2b[0][0]        \n",
      "________________________________________________________________________________\n",
      "res5b_branch2c (Conv2D)   (None, 7, 7, 2048 1050624  activation_290[0][0]       \n",
      "________________________________________________________________________________\n",
      "bn5b_branch2c (BatchNorma (None, 7, 7, 2048 8192     res5b_branch2c[0][0]       \n",
      "________________________________________________________________________________\n",
      "add_95 (Add)              (None, 7, 7, 2048 0        bn5b_branch2c[0][0]        \n",
      "                                                     activation_288[0][0]       \n",
      "________________________________________________________________________________\n",
      "activation_291 (Activatio (None, 7, 7, 2048 0        add_95[0][0]               \n",
      "________________________________________________________________________________\n",
      "res5c_branch2a (Conv2D)   (None, 7, 7, 512) 1049088  activation_291[0][0]       \n",
      "________________________________________________________________________________\n",
      "bn5c_branch2a (BatchNorma (None, 7, 7, 512) 2048     res5c_branch2a[0][0]       \n",
      "________________________________________________________________________________\n",
      "activation_292 (Activatio (None, 7, 7, 512) 0        bn5c_branch2a[0][0]        \n",
      "________________________________________________________________________________\n",
      "res5c_branch2b (Conv2D)   (None, 7, 7, 512) 2359808  activation_292[0][0]       \n",
      "________________________________________________________________________________\n",
      "bn5c_branch2b (BatchNorma (None, 7, 7, 512) 2048     res5c_branch2b[0][0]       \n",
      "________________________________________________________________________________\n",
      "activation_293 (Activatio (None, 7, 7, 512) 0        bn5c_branch2b[0][0]        \n",
      "________________________________________________________________________________\n",
      "res5c_branch2c (Conv2D)   (None, 7, 7, 2048 1050624  activation_293[0][0]       \n",
      "________________________________________________________________________________\n",
      "bn5c_branch2c (BatchNorma (None, 7, 7, 2048 8192     res5c_branch2c[0][0]       \n",
      "________________________________________________________________________________\n",
      "add_96 (Add)              (None, 7, 7, 2048 0        bn5c_branch2c[0][0]        \n",
      "                                                     activation_291[0][0]       \n",
      "________________________________________________________________________________\n",
      "activation_294 (Activatio (None, 7, 7, 2048 0        add_96[0][0]               \n",
      "________________________________________________________________________________\n",
      "avg_pool (AveragePooling2 (None, 1, 1, 2048 0        activation_294[0][0]       \n",
      "________________________________________________________________________________\n",
      "flatten_5 (Flatten)       (None, 2048)      0        avg_pool[0][0]             \n",
      "________________________________________________________________________________\n",
      "dense_19 (Dense)          (None, 128)       262272   flatten_5[0][0]            \n",
      "________________________________________________________________________________\n",
      "dense_20 (Dense)          (None, 2)         258      dense_19[0][0]             \n",
      "================================================================================\n",
      "Total params: 23,850,242\n",
      "Trainable params: 262,530\n",
      "Non-trainable params: 23,587,712\n",
      "________________________________________________________________________________\n"
     ]
    }
   ],
   "source": [
    "# check the architecture of this massive model\n",
    "# special attention: 'only' a fraction of the 24Mio parameters will be fine-tuned\n",
    "summary(model_gen)"
   ]
  },
  {
   "cell_type": "code",
   "execution_count": 147,
   "metadata": {},
   "outputs": [],
   "source": [
    "# train the model on the new data for a few epochs\n",
    "# using the above defined generators\n",
    "history = model_gen %>% fit_generator(generator = train_generator,\n",
    "                        # amount of batches to be fed \n",
    "                        steps_per_epoch = ceiling(length(all_train_paths) / 32) * 2, \n",
    "                        validation_data = validation_generator,\n",
    "                        # amount of batches to be fed \n",
    "                        validation_steps = ceiling(length(all_train_paths) / 32),\n",
    "                        epochs = 2, \n",
    "                        verbose = 1)"
   ]
  },
  {
   "cell_type": "code",
   "execution_count": 148,
   "metadata": {},
   "outputs": [
    {
     "data": {},
     "metadata": {},
     "output_type": "display_data"
    },
    {
     "data": {
      "image/png": "[encoded data removed]",
      "text/plain": [
       "plot without title"
      ]
     },
     "metadata": {},
     "output_type": "display_data"
    }
   ],
   "source": [
    "plot(history)"
   ]
  },
  {
   "cell_type": "code",
   "execution_count": 149,
   "metadata": {},
   "outputs": [],
   "source": [
    "# make predictions on the validation data\n",
    "preds = predict_generator(object = model_gen, \n",
    "                          steps = 3,\n",
    "                          generator = validation_generator, \n",
    "                          verbose = 1)"
   ]
  },
  {
   "cell_type": "code",
   "execution_count": 150,
   "metadata": {},
   "outputs": [
    {
     "name": "stdout",
     "output_type": "stream",
     "text": [
      "$loss\n",
      "[1] 0.0258033\n",
      "\n",
      "$acc\n",
      "[1] 1\n",
      "\n"
     ]
    }
   ],
   "source": [
    "# evaluate the results using the simple (and not optimal)\n",
    "# accuracy measure provided by the evaluat_generator() function \n",
    "# for the validation generator\n",
    "eval_result = evaluate_generator(object = model_gen, \n",
    "                   generator = validation_generator, \n",
    "                   steps = 3,\n",
    "                   workers = 1)\n",
    "print(eval_result)"
   ]
  },
  {
   "cell_type": "markdown",
   "metadata": {},
   "source": [
    "## Sources\n",
    "\n",
    "* [CRAN vignette for keras](https://cran.r-project.org/web/packages/keras/vignettes/getting_started.html)\n",
    "* [Image manipulation in R with magick](https://cran.r-project.org/web/packages/magick/vignettes/intro.html)\n",
    "* [Examples for keras in R](https://keras.rstudio.com/articles/examples/index.html)\n",
    "* [Transfer learning with keras in R](https://cran.rstudio.com/web/packages/keras/vignettes/applications.html)\n",
    "* [kaggle kernel on vgg16](https://www.kaggle.com/dkoops/keras-r-vgg16-base)\n",
    "* [folder structure for the train generator](https://gist.github.com/fchollet/0830affa1f7f19fd47b06d4cf89ed44d)"
   ]
  },
  {
   "cell_type": "code",
   "execution_count": null,
   "metadata": {},
   "outputs": [],
   "source": []
  }
 ],
 "metadata": {
  "kernelspec": {
   "display_name": "R",
   "language": "R",
   "name": "ir"
  },
  "language_info": {
   "codemirror_mode": "r",
   "file_extension": ".r",
   "mimetype": "text/x-r-source",
   "name": "R",
   "pygments_lexer": "r",
   "version": "3.4.2"
  }
 },
 "nbformat": 4,
 "nbformat_minor": 2
}
