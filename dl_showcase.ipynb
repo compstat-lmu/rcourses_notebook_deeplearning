{
 "cells": [
  {
   "cell_type": "markdown",
   "metadata": {},
   "source": [
    "# MRC - Deep learning showcase"
   ]
  },
  {
   "cell_type": "markdown",
   "metadata": {},
   "source": [
    "Content:\n",
    "1. working with image data in R (downloading data, plotting, preprocessing)\n",
    "2. creating deep learning architectures using the keras interface\n",
    "    1. Starting with Fashion MNIST\n",
    "    2. Evaluation of model output\n",
    "    3. Storage and loading of models\n",
    "    4. Sequential and Functional API\n",
    "3. running and comparing different architectures (FCN, CNN)\n",
    "4. Regularization and its effects on the generalization performance\n",
    "5. Transfer learning with pretrained models in case of few labeled data\n",
    "6. Data generator functionality for huge data sets\n"
   ]
  },
  {
   "cell_type": "markdown",
   "metadata": {},
   "source": [
    "## 1. Working with image data in R"
   ]
  },
  {
   "cell_type": "markdown",
   "metadata": {},
   "source": [
    "### Data provided by the keras package - MNIST\n",
    "\n",
    "MNIST is a [famous dataset provided by Yann LeCun et al.](http://yann.lecun.com/exdb/mnist/) that consists of 70K 28x28 grayscale images of handwritten digits."
   ]
  },
  {
   "cell_type": "code",
   "execution_count": 1,
   "metadata": {},
   "outputs": [
    {
     "name": "stderr",
     "output_type": "stream",
     "text": [
      "Warning message:\n",
      "“package ‘magick’ was built under R version 3.4.4”Linking to ImageMagick 6.9.9.39\n",
      "Enabled features: cairo, fontconfig, freetype, lcms, pango, rsvg, webp\n",
      "Disabled features: fftw, ghostscript, x11\n",
      "Warning message:\n",
      "“package ‘tesseract’ was built under R version 3.4.4”Warning message:\n",
      "“package ‘caret’ was built under R version 3.4.4”Loading required package: lattice\n",
      "Loading required package: ggplot2\n"
     ]
    }
   ],
   "source": [
    "# install and load requried packages\n",
    "# use install.packages('<package name>') to install a packages\n",
    "# use library('<package name>') to load already installed packages\n",
    "# devtools::install_github('rstudio/keras')\n",
    "library('keras')\n",
    "library('grid')\n",
    "library('magick')\n",
    "library('tesseract')\n",
    "library('caret')"
   ]
  },
  {
   "cell_type": "code",
   "execution_count": 50,
   "metadata": {},
   "outputs": [
    {
     "name": "stdout",
     "output_type": "stream",
     "text": [
      "List of 2\n",
      " $ train:List of 2\n",
      "  ..$ x: int [1:60000, 1:28, 1:28] 0 0 0 0 0 0 0 0 0 0 ...\n",
      "  ..$ y: int [1:60000(1d)] 5 0 4 1 9 2 1 3 1 4 ...\n",
      " $ test :List of 2\n",
      "  ..$ x: int [1:10000, 1:28, 1:28] 0 0 0 0 0 0 0 0 0 0 ...\n",
      "  ..$ y: int [1:10000(1d)] 7 2 1 0 4 1 4 9 5 9 ...\n"
     ]
    }
   ],
   "source": [
    "# files will be stored at\n",
    "# ~/.keras/datasets\n",
    "mnist = dataset_mnist()\n",
    "# what does the object contain?\n",
    "str(mnist)\n",
    "# 60K train and 10K test data with input X and labels y"
   ]
  },
  {
   "cell_type": "code",
   "execution_count": 51,
   "metadata": {},
   "outputs": [],
   "source": [
    "# assign values \n",
    "x_train = mnist$train$x\n",
    "x_test = mnist$test$x\n",
    "y_train = mnist$train$y\n",
    "y_test = mnist$test$y"
   ]
  },
  {
   "cell_type": "code",
   "execution_count": 52,
   "metadata": {},
   "outputs": [
    {
     "data": {
      "text/plain": [
       "y_test\n",
       "   0    1    2    3    4    5    6    7    8    9 \n",
       " 980 1135 1032 1010  982  892  958 1028  974 1009 "
      ]
     },
     "metadata": {},
     "output_type": "display_data"
    },
    {
     "data": {
      "text/plain": [
       "y_train\n",
       "   0    1    2    3    4    5    6    7    8    9 \n",
       "5923 6742 5958 6131 5842 5421 5918 6265 5851 5949 "
      ]
     },
     "metadata": {},
     "output_type": "display_data"
    }
   ],
   "source": [
    "# classes for train and test are equally balanced \n",
    "# (-> what if they were not?)\n",
    "table(y_test)\n",
    "table(y_train)"
   ]
  },
  {
   "cell_type": "code",
   "execution_count": 53,
   "metadata": {},
   "outputs": [
    {
     "name": "stdout",
     "output_type": "stream",
     "text": [
      "class: matrix\n",
      "max value: 254\n",
      "min value: 0\n",
      "mean value: 27.8469387755102\n",
      "data type: integer"
     ]
    }
   ],
   "source": [
    "# x_train is an array that contains 60K images with channel size 1 and dimensions 28x28 (as they are black-white)\n",
    "# resulting in tensor of shape [amount images, xdim, ydim]\n",
    "# If the images were coloured, they would contain  3 channels (RGB) resulting in shape\n",
    "# [60000, 28, 28, 3]\n",
    "\n",
    "# inspect one train image\n",
    "idx = 87\n",
    "foo_img = x_train[idx, , ]\n",
    "foo_label = y_train[idx]\n",
    "cat(paste0('class: ', class(foo_img), \n",
    "    '\\nmax value: ', max(foo_img), \n",
    "    '\\nmin value: ', min(foo_img), \n",
    "    '\\nmean value: ', mean(foo_img),\n",
    "    '\\ndata type: ', typeof(foo_img)))"
   ]
  },
  {
   "cell_type": "code",
   "execution_count": 54,
   "metadata": {},
   "outputs": [
    {
     "data": {
      "image/png": "[encoded data removed]",
      "text/plain": [
       "Plot with title \"Image 87 with label 3\""
      ]
     },
     "metadata": {},
     "output_type": "display_data"
    }
   ],
   "source": [
    "# helper to rotate the image\n",
    "rot = function(x){t(apply(x, 2, rev))}\n",
    "# plot the image with the label as header\n",
    "image(rot(foo_img), \n",
    "    axes = FALSE, \n",
    "    col = grey(seq(0, 1, length = 256)), \n",
    "    main = paste0('Image ', idx, ' with label ', foo_label))"
   ]
  },
  {
   "cell_type": "markdown",
   "metadata": {},
   "source": [
    "### Data provided by the keras package - Fashion MNIST\n",
    "\n",
    "Fashion Mnist is mainly a more complicated version of MNIST with 10 classes of different fashion objects. The dataset is published by [Zalando Research](https://github.com/zalandoresearch/fashion-mnist) and also often used for deep learning benchmarks. The dataset as well consists of 70K 28x28 grayscale images of fashion objects in 10 balanced categories such as bags, shoes, trousers, ..."
   ]
  },
  {
   "cell_type": "code",
   "execution_count": 55,
   "metadata": {},
   "outputs": [
    {
     "name": "stdout",
     "output_type": "stream",
     "text": [
      "List of 2\n",
      " $ train:List of 2\n",
      "  ..$ x: int [1:60000, 1:28, 1:28] 0 0 0 0 0 0 0 0 0 0 ...\n",
      "  ..$ y: int [1:60000(1d)] 9 0 0 3 0 2 7 2 5 5 ...\n",
      " $ test :List of 2\n",
      "  ..$ x: int [1:10000, 1:28, 1:28] 0 0 0 0 0 0 0 0 0 0 ...\n",
      "  ..$ y: int [1:10000(1d)] 9 2 1 1 6 1 4 6 5 7 ...\n"
     ]
    }
   ],
   "source": [
    "# files will be stored at\n",
    "# ~/.keras/datasets\n",
    "fmnist = dataset_fashion_mnist()\n",
    "# what does the object contain?\n",
    "str(fmnist)\n",
    "# 60K train and 10K test data with input X and labels y\n",
    "# assign values \n",
    "x_train = fmnist$train$x\n",
    "x_test = fmnist$test$x\n",
    "y_train = fmnist$train$y\n",
    "y_test = fmnist$test$y"
   ]
  },
  {
   "cell_type": "code",
   "execution_count": 56,
   "metadata": {},
   "outputs": [
    {
     "name": "stdout",
     "output_type": "stream",
     "text": [
      "class: matrix\n",
      "max value: 255\n",
      "min value: 0\n",
      "mean value: 107.353316326531\n",
      "data type: integer"
     ]
    },
    {
     "data": {
      "image/png": "[encoded data removed]",
      "text/plain": [
       "Plot with title \"Image 6 with label 2\""
      ]
     },
     "metadata": {},
     "output_type": "display_data"
    }
   ],
   "source": [
    "# inspect one train image\n",
    "idx = 6\n",
    "foo_img = x_train[idx, , ]\n",
    "foo_label = y_train[idx]\n",
    "cat(paste0('class: ', class(foo_img), \n",
    "    '\\nmax value: ', max(foo_img), \n",
    "    '\\nmin value: ', min(foo_img), \n",
    "    '\\nmean value: ', mean(foo_img),\n",
    "    '\\ndata type: ', typeof(foo_img)))\n",
    "# helper to rotate the image\n",
    "rot = function(x){t(apply(x, 2, rev))}\n",
    "# plot the image with the label as header\n",
    "image(rot(foo_img), \n",
    "    axes = FALSE, \n",
    "    col = grey(seq(0, 1, length = 256)), \n",
    "    main = paste0('Image ', idx, ' with label ', foo_label))"
   ]
  },
  {
   "cell_type": "markdown",
   "metadata": {},
   "source": [
    "### Data provided by the keras package - CIFAR 10\n",
    "\n",
    "Cifar10 is a [public dataset](https://www.cs.toronto.edu/%7Ekriz/cifar.html) that contains 60K 32x32 RGB images from 10 classes (airplanes, deer, cars, cats, ...) and is widely used for benchmarking DL algorithms in image classification. "
   ]
  },
  {
   "cell_type": "code",
   "execution_count": 57,
   "metadata": {},
   "outputs": [],
   "source": [
    "# can take up to 5 min as the dataset contains roughly 170MB\n",
    "# also stored at ~/.keras/datasets\n",
    "cifar = dataset_cifar10()"
   ]
  },
  {
   "cell_type": "code",
   "execution_count": 58,
   "metadata": {},
   "outputs": [
    {
     "name": "stdout",
     "output_type": "stream",
     "text": [
      "List of 2\n",
      " $ train:List of 2\n",
      "  ..$ x: int [1:50000, 1:32, 1:32, 1:3] 59 154 255 28 170 159 164 28 134 125 ...\n",
      "  ..$ y: int [1:50000, 1] 6 9 9 4 1 1 2 7 8 3 ...\n",
      " $ test :List of 2\n",
      "  ..$ x: int [1:10000, 1:32, 1:32, 1:3] 158 235 158 155 65 179 160 83 23 217 ...\n",
      "  ..$ y: num [1:10000, 1] 3 8 8 0 6 6 1 6 3 1 ...\n"
     ]
    }
   ],
   "source": [
    "# similar structure as MNIST\n",
    "# but now with channel depth 3\n",
    "str(cifar)\n",
    "x_train = cifar$train$x\n",
    "y_train = cifar$train$y\n",
    "x_test = cifar$test$x\n",
    "y_test = cifar$test$y"
   ]
  },
  {
   "cell_type": "code",
   "execution_count": 59,
   "metadata": {},
   "outputs": [
    {
     "name": "stdout",
     "output_type": "stream",
     "text": [
      "class: array\n",
      "max value: 247\n",
      "min value: 0\n",
      "mean value: 111.307291666667\n",
      "data type: integer\n",
      "label of image 177 is 1"
     ]
    },
    {
     "ename": "ERROR",
     "evalue": "Error in file(con, \"rb\"): kann Verbindung nicht öffnen\n",
     "output_type": "error",
     "traceback": [
      "Error in file(con, \"rb\"): kann Verbindung nicht öffnen\nTraceback:\n"
     ]
    },
    {
     "data": {
      "text/plain": [
       "plot without title"
      ]
     },
     "metadata": {},
     "output_type": "display_data"
    }
   ],
   "source": [
    "# inspect one train image\n",
    "# consists of 3 matrices of RGB integers in {0, ..., 255}\n",
    "idx = 177\n",
    "foo_img = x_train[idx, , ,]\n",
    "foo_label = y_train[idx]\n",
    "cat(paste0('class: ', class(foo_img), \n",
    "    '\\nmax value: ', max(foo_img), \n",
    "    '\\nmin value: ', min(foo_img), \n",
    "    '\\nmean value: ', mean(foo_img),\n",
    "    '\\ndata type: ', typeof(foo_img)))\n",
    "\n",
    "# print the label \n",
    "cat(paste0('\\nlabel of image ', idx, ' is ', foo_label))\n",
    "\n",
    "# plot the images with grid package\n",
    "# therefore, pixels have to be squashed to [0, 1]\n",
    "r = foo_img[ , , 1] / 255\n",
    "g = foo_img[ , , 2] / 255\n",
    "b = foo_img[ , , 3] / 255\n",
    "col <- rgb(r, g, b)\n",
    "dim(col) <- dim(r)\n",
    "grid.raster(col, interpolate=FALSE, name = \"yo\")"
   ]
  },
  {
   "cell_type": "markdown",
   "metadata": {},
   "source": [
    "## Load and manipulate your own image data\n",
    "\n",
    "We transform one example image in the R-eadable data format. [Random Forest creator Leo Breiman](https://de.wikipedia.org/wiki/Leo_Breiman) serves as an example here. The R package [magick](https://cran.r-project.org/web/packages/magick/vignettes/intro.html#installing_magick) offers very comprehensive image manipulation methods in a unified framework."
   ]
  },
  {
   "cell_type": "code",
   "execution_count": 60,
   "metadata": {},
   "outputs": [],
   "source": [
    "# install.packages('magick')\n",
    "# read the image\n",
    "data_path = './data/Breiman.jpg'\n",
    "img = image_read(path = data_path)\n"
   ]
  },
  {
   "cell_type": "code",
   "execution_count": 61,
   "metadata": {
    "scrolled": false
   },
   "outputs": [
    {
     "data": {
      "image/jpeg": "[encoded data removed]"
     },
     "metadata": {},
     "output_type": "display_data"
    },
    {
     "data": {
      "text/plain": [
       "  format width height colorspace matte filesize density\n",
       "1   JPEG   400    350       Gray FALSE    23266   72x72"
      ]
     },
     "metadata": {},
     "output_type": "display_data"
    }
   ],
   "source": [
    "# plot the image\n",
    "img"
   ]
  },
  {
   "cell_type": "code",
   "execution_count": 62,
   "metadata": {},
   "outputs": [
    {
     "data": {
      "text/html": [
       "<ol class=list-inline>\n",
       "\t<li>350</li>\n",
       "\t<li>400</li>\n",
       "\t<li>1</li>\n",
       "</ol>\n"
      ],
      "text/latex": [
       "\\begin{enumerate*}\n",
       "\\item 350\n",
       "\\item 400\n",
       "\\item 1\n",
       "\\end{enumerate*}\n"
      ],
      "text/markdown": [
       "1. 350\n",
       "2. 400\n",
       "3. 1\n",
       "\n",
       "\n"
      ],
      "text/plain": [
       "[1] 350 400   1"
      ]
     },
     "metadata": {},
     "output_type": "display_data"
    },
    {
     "data": {
      "text/html": [
       "<table>\n",
       "<tbody>\n",
       "\t<tr><td>81</td><td>81</td><td>81</td><td>81</td><td>80</td><td>78</td></tr>\n",
       "\t<tr><td>82</td><td>82</td><td>83</td><td>83</td><td>82</td><td>80</td></tr>\n",
       "\t<tr><td>83</td><td>83</td><td>84</td><td>85</td><td>84</td><td>82</td></tr>\n",
       "\t<tr><td>82</td><td>82</td><td>83</td><td>85</td><td>85</td><td>83</td></tr>\n",
       "\t<tr><td>79</td><td>79</td><td>81</td><td>83</td><td>83</td><td>83</td></tr>\n",
       "\t<tr><td>76</td><td>76</td><td>78</td><td>80</td><td>81</td><td>80</td></tr>\n",
       "</tbody>\n",
       "</table>\n"
      ],
      "text/latex": [
       "\\begin{tabular}{llllll}\n",
       "\t 81 & 81 & 81 & 81 & 80 & 78\\\\\n",
       "\t 82 & 82 & 83 & 83 & 82 & 80\\\\\n",
       "\t 83 & 83 & 84 & 85 & 84 & 82\\\\\n",
       "\t 82 & 82 & 83 & 85 & 85 & 83\\\\\n",
       "\t 79 & 79 & 81 & 83 & 83 & 83\\\\\n",
       "\t 76 & 76 & 78 & 80 & 81 & 80\\\\\n",
       "\\end{tabular}\n"
      ],
      "text/markdown": [
       "\n",
       "| 81 | 81 | 81 | 81 | 80 | 78 | \n",
       "| 82 | 82 | 83 | 83 | 82 | 80 | \n",
       "| 83 | 83 | 84 | 85 | 84 | 82 | \n",
       "| 82 | 82 | 83 | 85 | 85 | 83 | \n",
       "| 79 | 79 | 81 | 83 | 83 | 83 | \n",
       "| 76 | 76 | 78 | 80 | 81 | 80 | \n",
       "\n",
       "\n"
      ],
      "text/plain": [
       "     [,1] [,2] [,3] [,4] [,5] [,6]\n",
       "[1,] 81   81   81   81   80   78  \n",
       "[2,] 82   82   83   83   82   80  \n",
       "[3,] 83   83   84   85   84   82  \n",
       "[4,] 82   82   83   85   85   83  \n",
       "[5,] 79   79   81   83   83   83  \n",
       "[6,] 76   76   78   80   81   80  "
      ]
     },
     "metadata": {},
     "output_type": "display_data"
    },
    {
     "data": {
      "text/plain": [
       "   Min. 1st Qu.  Median    Mean 3rd Qu.    Max. \n",
       "   30.0   109.0   123.0   136.3   171.0   255.0 "
      ]
     },
     "metadata": {},
     "output_type": "display_data"
    }
   ],
   "source": [
    "# get data from the image object\n",
    "# then convert it to integer values\n",
    "img_data = as.integer(image_data(img))\n",
    "# dimension of the image\n",
    "dim(img_data)\n",
    "# some elements of the image\n",
    "img_data[25:30, 40:45, 1]\n",
    "# values should lie in the range {0, ..., 255}\n",
    "summary(img_data)"
   ]
  },
  {
   "cell_type": "code",
   "execution_count": 63,
   "metadata": {},
   "outputs": [
    {
     "data": {
      "image/jpeg": "[encoded data removed]"
     },
     "metadata": {},
     "output_type": "display_data"
    },
    {
     "data": {
      "text/plain": [
       "  format width height colorspace matte filesize density\n",
       "1   JPEG   224    224       Gray FALSE        0   72x72"
      ]
     },
     "metadata": {},
     "output_type": "display_data"
    }
   ],
   "source": [
    "# resize the image in case they have different formats\n",
    "# e.g. Resnet takes 224x224 images as input\n",
    "resized_img = magick::image_resize(image = img, geometry = \"224x224!\")\n",
    "resized_img"
   ]
  },
  {
   "cell_type": "code",
   "execution_count": 64,
   "metadata": {
    "scrolled": true
   },
   "outputs": [
    {
     "data": {
      "image/jpeg": "[encoded data removed]"
     },
     "metadata": {},
     "output_type": "display_data"
    },
    {
     "data": {
      "text/plain": [
       "  format width height colorspace matte filesize density\n",
       "1   JPEG   224    224       Gray FALSE        0   72x72"
      ]
     },
     "metadata": {},
     "output_type": "display_data"
    }
   ],
   "source": [
    "# Convolve over the image with a Sobel filter to detect edges (as is done in the lecture slides)\n",
    "# therefore, the pipe operator is used which works the same was as in unix\n",
    "sobel_img = resized_img %>%\n",
    "    image_convolve('Sobel')\n",
    "sobel_img"
   ]
  },
  {
   "cell_type": "code",
   "execution_count": 65,
   "metadata": {},
   "outputs": [
    {
     "name": "stderr",
     "output_type": "stream",
     "text": [
      "Warning message in file(con, \"wb\"):\n",
      "\"kann Datei '/var/folders/xm/908htbf54d36yqzy0frpz8m00000gn/T//RtmporQ7DC/file1f175f2d30d7.png' nicht öffnen: No space left on device\""
     ]
    },
    {
     "ename": "ERROR",
     "evalue": "Error in file(con, \"wb\"): kann Verbindung nicht öffnen\n",
     "output_type": "error",
     "traceback": [
      "Error in file(con, \"wb\"): kann Verbindung nicht öffnen\nTraceback:\n",
      "1. image_read(\"http://d2jaiao3zdxbzm.cloudfront.net/wp-content/uploads/figure-65.png\")",
      "2. vapply(path, replace_url, character(1))",
      "3. FUN(X[[i]], ...)",
      "4. paste0(download_url(path), suffix)",
      "5. download_url(path)",
      "6. writeBin(req$content, filename)",
      "7. file(con, \"wb\")"
     ]
    }
   ],
   "source": [
    "# last perk: automated Optical Character Recognition on images of text \n",
    "# requires package\n",
    "# install.packages(\"tesseract\")\n",
    "text_img = image_read('http://d2jaiao3zdxbzm.cloudfront.net/wp-content/uploads/figure-65.png')\n",
    "text_img"
   ]
  },
  {
   "cell_type": "code",
   "execution_count": null,
   "metadata": {},
   "outputs": [],
   "source": [
    "text = image_ocr(text_img)\n",
    "cat(text)"
   ]
  },
  {
   "cell_type": "markdown",
   "metadata": {},
   "source": [
    "## 2. Getting started with Keras for modeling\n",
    "\n",
    "Running and training neural networks with keras mainly consists of the following steps:\n",
    "1. Reading and splitting data\n",
    "2. Defininig the architecture of the model\n",
    "3. Training the model and setting the hyperparameters for this\n",
    "4. Evaluation of the model performance\n",
    "\n",
    "In the following, we will train different model architectures on the task to classifiy the Fashion Mnist images in their corresponding 10 categories. Also, Keras allows the specification of the model architecture in a *sequential* and a *functional* way, both of which will be used in the following. \n"
   ]
  },
  {
   "cell_type": "markdown",
   "metadata": {},
   "source": [
    "### Reading and preparing the data"
   ]
  },
  {
   "cell_type": "code",
   "execution_count": null,
   "metadata": {},
   "outputs": [],
   "source": [
    "# read the data\n",
    "fmnist = dataset_fashion_mnist()\n",
    "# assign values \n",
    "x_train = fmnist$train$x\n",
    "x_test = fmnist$test$x\n",
    "y_train = fmnist$train$y\n",
    "y_test = fmnist$test$y\n",
    "# dictionary for translation of the labels to meaningful category names\n",
    "label_dict = cbind(c('tshirt', 'trouser', 'pullover', 'dress', 'coat', \n",
    "                     'sandal', 'shirt', 'sneaker', 'bag', 'ankleboot'), \n",
    "                   c(0:9))"
   ]
  },
  {
   "cell_type": "code",
   "execution_count": null,
   "metadata": {},
   "outputs": [],
   "source": [
    "dim(x_train)"
   ]
  },
  {
   "cell_type": "code",
   "execution_count": null,
   "metadata": {},
   "outputs": [],
   "source": [
    "# convert the labels to categorical one-hot-encoded vectors\n",
    "# store the real value as well and translate them into meaningful classes\n",
    "y_train_noncateg = cbind(y_train, label_dict[match(y_train, label_dict[, 2]), 1])\n",
    "y_test_noncateg = cbind(y_test, label_dict[match(y_test, label_dict[, 2]), 1])\n",
    "y_train = to_categorical(y = y_train)\n",
    "y_test = to_categorical(y = y_test)\n",
    "\n",
    "# flatten the data input arrays from 60K 28x28 matrix to 60K 784 vector format\n",
    "x_train = array_reshape(x_train, c(nrow(x_train), 28*28))\n",
    "x_test = array_reshape(x_test, c(nrow(x_test), 28*28))"
   ]
  },
  {
   "cell_type": "markdown",
   "metadata": {},
   "source": [
    "## Defining the architecture - Sequential\n",
    "\n",
    "For a first run, we want to use a Multi-Layer-Preceptron (MLP), which consists of three inner hidden layers with varying size (128, 64, 32). In this example, we use the __sequential architecture__ which allows to stack layers upon each other using the __pipe operator %>%__ which is known from the unix bash. \n"
   ]
  },
  {
   "cell_type": "code",
   "execution_count": null,
   "metadata": {},
   "outputs": [],
   "source": [
    "# define and instantiate the sequential model type\n",
    "model_seq = keras_model_sequential() \n",
    "\n",
    "# build the model sequentially layer-wise with the pipe operator %>%\n",
    "model_seq %>% \n",
    "    # input the data as vectors of length 28x28 = 784\n",
    "    # define the three hidden layers with relu activation and (128, 64, 32) neurons per layer\n",
    "    layer_dense(units = 128, activation = 'relu', input_shape = c(784)) %>% \n",
    "    layer_dense(units = 64, activation = 'relu') %>%\n",
    "    layer_dense(units = 32, activation = 'relu') %>%\n",
    "\n",
    "    # add softmax as activation for the last layer as we want to output probality \n",
    "    # scores in [0, 1] for the 10 classes\n",
    "    layer_dense(units = 10, activation = 'softmax')\n"
   ]
  },
  {
   "cell_type": "code",
   "execution_count": null,
   "metadata": {},
   "outputs": [],
   "source": [
    "# summary() allows us to check the architecture\n",
    "# for instance, the 3rd layer contains 2080 = 64*32 + 32 weight parameters, as 32 neurons are connected\n",
    "# with the output from the preceeding 64 neurons and are each combined with a bias factor\n",
    "summary(model_seq)"
   ]
  },
  {
   "cell_type": "markdown",
   "metadata": {},
   "source": [
    "### Compiling and running the model "
   ]
  },
  {
   "cell_type": "code",
   "execution_count": null,
   "metadata": {},
   "outputs": [],
   "source": [
    "# again, use the pipe operator %>%\n",
    "# choose categorical cross entropy as the classifier loss and \n",
    "# optimize the weights sequentially with rmsprop \n",
    "# check the CRAN documentation for more information on choosable losses, optimizer and metrics\n",
    "# this step defines the computational graph that is getting executed in the next step\n",
    "model_seq %>% compile(\n",
    "  loss = 'categorical_crossentropy',\n",
    "  optimizer = optimizer_rmsprop(),\n",
    "  metrics = c('accuracy')\n",
    ")"
   ]
  },
  {
   "cell_type": "code",
   "execution_count": null,
   "metadata": {},
   "outputs": [],
   "source": [
    "# train the compiled model with the fit function\n",
    "# save the training progress in the history file\n",
    "history = model_seq %>% fit(\n",
    "    x_train, y_train, \n",
    "    epochs = 3, batch_size = 32, \n",
    "    validation_split = 0.2, \n",
    "    verbose = 1\n",
    ")"
   ]
  },
  {
   "cell_type": "code",
   "execution_count": null,
   "metadata": {},
   "outputs": [],
   "source": [
    "plot(history)"
   ]
  },
  {
   "cell_type": "markdown",
   "metadata": {},
   "source": [
    "### Making predictions"
   ]
  },
  {
   "cell_type": "code",
   "execution_count": null,
   "metadata": {},
   "outputs": [],
   "source": [
    "# get the test performance of the trained model\n",
    "test_perf = model %>% evaluate(x_test, y_test)\n",
    "test_perf"
   ]
  },
  {
   "cell_type": "code",
   "execution_count": null,
   "metadata": {},
   "outputs": [],
   "source": [
    "# make hard predictions on all our test data\n",
    "preds = model_seq %>% predict_classes(x_test)\n",
    "pred_frame = as.data.frame(cbind(preds, label_dict[match(preds, label_dict[, 2]), 1], y_test_noncateg))\n",
    "pred_frame[, 1] = factor(pred_frame[, 1], levels = as.character(c(0:9)))\n",
    "colnames(pred_frame) = c('yhat', 'yhat_label', 'y', 'y_label')\n",
    "head(pred_frame)"
   ]
  },
  {
   "cell_type": "code",
   "execution_count": null,
   "metadata": {},
   "outputs": [],
   "source": [
    "# make soft predictions (softmax) on all our test data\n",
    "preds = model_seq %>% predict_proba(x_test)\n",
    "soft_pred_frame = cbind(preds, y_test_noncateg)\n",
    "colnames(soft_pred_frame) = c(paste0('yhat_class_', c(0:9)), 'y', 'y_label')\n",
    "head(soft_pred_frame)"
   ]
  },
  {
   "cell_type": "code",
   "execution_count": null,
   "metadata": {},
   "outputs": [],
   "source": [
    "# check predictions for one test image\n",
    "idx = 119\n",
    "img_test = array_reshape(x_test[idx, ], c(28, 28))\n",
    "rot = function(x){t(apply(x, 2, rev))}\n",
    "# plot the image with the label as header\n",
    "image(rot(img_test), \n",
    "    axes = FALSE, \n",
    "    col = grey(seq(0, 1, length = 256)), \n",
    "    main = paste0('Test image ', idx,  \n",
    "                ' with true label ', \n",
    "                y_test_noncateg[idx, 1], \n",
    "                ': ', \n",
    "                y_test_noncateg[idx, 2], \n",
    "                ' and prediction ', \n",
    "                pred_frame[idx, 1], ': ', \n",
    "                pred_frame[idx, 2]))"
   ]
  },
  {
   "cell_type": "code",
   "execution_count": null,
   "metadata": {},
   "outputs": [],
   "source": [
    "# check the confusion matrix\n",
    "# install.packages('caret')\n",
    "conf = confusionMatrix(data = pred_frame[, 1], reference = pred_frame[, 3])\n",
    "conf_matrix = conf$table\n",
    "colnames(conf_matrix) = label_dict[, 1]\n",
    "rownames(conf_matrix) = label_dict[, 1]\n",
    "conf_matrix"
   ]
  },
  {
   "cell_type": "markdown",
   "metadata": {},
   "source": [
    "### Saving and re-loading the model weights"
   ]
  },
  {
   "cell_type": "code",
   "execution_count": null,
   "metadata": {},
   "outputs": [],
   "source": [
    "# save model weights and architecture to hdf5 file\n",
    "save_model_hdf5(object =  model_seq, filepath = './model_1.h5')"
   ]
  },
  {
   "cell_type": "code",
   "execution_count": null,
   "metadata": {},
   "outputs": [],
   "source": [
    "# load model with a new name \n",
    "loaded_model = load_model_hdf5(filepath = './model_1.h5')\n",
    "\n",
    "# check the architecture and the test performance of the loaded model\n",
    "summary(loaded_model)\n",
    "loaded_model %>% evaluate(x_test, y_test)"
   ]
  },
  {
   "cell_type": "markdown",
   "metadata": {},
   "source": [
    "## Defining the architecture - Functional\n",
    "\n",
    "Again, we want to use a Multi-Layer-Preceptron (MLP), which consists of three inner hidden layers with varying size (128, 64, 32). For this chapter, the functional style is used. "
   ]
  },
  {
   "cell_type": "code",
   "execution_count": null,
   "metadata": {},
   "outputs": [],
   "source": [
    "# define the start point of the architecture (input layer)\n",
    "input = layer_input(shape = c(784))\n",
    "\n",
    "# define the end point of the computational graph (predictions)\n",
    "output = input %>% \n",
    "    layer_dense(units = 128, activation = 'relu', input_shape = c(784)) %>% \n",
    "    layer_dense(units = 64, activation = 'relu') %>%\n",
    "    layer_dense(units = 32, activation = 'relu') %>%\n",
    "    layer_dense(units = 10, activation = 'softmax')\n",
    "\n",
    "# merge both layers to compile the model\n",
    "model_func = keras_model(inputs = input, outputs = output)\n",
    "model_func %>% compile(\n",
    "  optimizer = 'rmsprop',\n",
    "  loss = 'categorical_crossentropy',\n",
    "  metrics = c('accuracy')\n",
    ")\n",
    "\n",
    "# fit the model\n",
    "history = model_func %>% fit(\n",
    "    x = x_train, y = y_train, \n",
    "    epochs = 3, batch_size = 32, \n",
    "    validation_split = 0.2, \n",
    "    verbose = 1\n",
    ")\n",
    "\n",
    "# check test performance\n",
    "model_func %>% evaluate(x_test, y_test)"
   ]
  },
  {
   "cell_type": "code",
   "execution_count": null,
   "metadata": {},
   "outputs": [],
   "source": [
    "# compare both architectures\n",
    "summary(model_func)\n",
    "summary(model)"
   ]
  },
  {
   "cell_type": "markdown",
   "metadata": {},
   "source": [
    "# 3. Different architectures: from FCN to CNN\n",
    "\n",
    "In chapter two, each image was treated as a vector of integers of size 28x28=784 which was then fed in to a Multi-Layer-Perceptron, also called *Vanilla-Fully-Connected-Network*. \n",
    "\n",
    "An alternative to this simple neural net architecture is the use of __convolutional layers__ to extraxt features throughout the network. \n",
    "\n",
    "Convolutional neural networks (CNNs) are very popular in image processing tasks and recently are as well adapted to text and sequence modeling tasks. We apply them on the Fashion MNIST task and compare the performance with the previous FCN architecture. We will use the sequential modeling style for this task."
   ]
  },
  {
   "cell_type": "code",
   "execution_count": null,
   "metadata": {},
   "outputs": [],
   "source": [
    "# define and instantiate the sequential model type\n",
    "model_conv = keras_model_sequential() \n",
    "\n",
    "model_conv %>% \n",
    "    # input the data as matrices of dimension 28x28x1 as we are working with grayscale images\n",
    "    # first convolutional block creating 64 feature maps\n",
    "    layer_conv_2d(filters = 64, kernel_size = c(3, 3), activation = 'relu', \n",
    "                 padding = 'same', input_shape = c(28, 28, 1)) %>% \n",
    "    layer_max_pooling_2d(pool_size = c(3, 3)) %>% \n",
    "\n",
    "    # second convolutional block creating 128 feature maps\n",
    "    layer_conv_2d(filters = 128, kernel_size = c(3, 3), activation = 'relu', \n",
    "                 padding = 'same') %>% \n",
    "    layer_max_pooling_2d(pool_size = c(3, 3)) %>% \n",
    "\n",
    "    # connect the feature maps with a fully connected (dense) layer to the final output\n",
    "    # therefore, flatten the 2dimensional feature maps to vector format\n",
    "    layer_flatten() %>% \n",
    "    layer_dense(units = 512, activation = 'relu') %>% \n",
    "    layer_dense(units = 10, activation = 'softmax')\n",
    "\n",
    "# compile the model \n",
    "model_conv %>% compile(\n",
    "  loss = 'categorical_crossentropy',\n",
    "  optimizer = optimizer_rmsprop(),\n",
    "  metrics = c('accuracy')\n",
    ")\n",
    "\n",
    "# check the model architecture\n",
    "summary(model_conv)"
   ]
  },
  {
   "cell_type": "code",
   "execution_count": null,
   "metadata": {},
   "outputs": [],
   "source": [
    "# get the data in 28x28 format\n",
    "fmnist = dataset_fashion_mnist()\n",
    "x_train = fmnist$train$x\n",
    "x_test = fmnist$test$x\n",
    "y_train = fmnist$train$y\n",
    "y_test = fmnist$test$y\n",
    "\n",
    "# reshape the array to dimension (#data, Xdim, Ydim, #channels)\n",
    "x_train = array(x_train, c(60000, 28, 28, 1))\n",
    "x_test = array(x_test, c(10000, 28, 28, 1))\n",
    "\n",
    "# check the dimensionality of each of the 60K train images\n",
    "dim(x_train)\n",
    "# one-hot encode the labels\n",
    "y_train = to_categorical(y = y_train)\n",
    "y_test = to_categorical(y = y_test)\n"
   ]
  },
  {
   "cell_type": "code",
   "execution_count": null,
   "metadata": {},
   "outputs": [],
   "source": [
    "# train the compiled model with the fit function\n",
    "# save the training progress in the history file\n",
    "history = model_conv %>% fit(\n",
    "    x = x_train, \n",
    "    y = y_train, \n",
    "    epochs = 10, \n",
    "    batch_size = 32, \n",
    "    validation_split = 0.2, \n",
    "    verbose = 2\n",
    ")"
   ]
  },
  {
   "cell_type": "code",
   "execution_count": null,
   "metadata": {},
   "outputs": [],
   "source": [
    "plot(history)"
   ]
  },
  {
   "cell_type": "code",
   "execution_count": null,
   "metadata": {},
   "outputs": [],
   "source": [
    "# evaluate the performance\n",
    "model_conv %>% evaluate(x_test, y_test)"
   ]
  },
  {
   "cell_type": "markdown",
   "metadata": {},
   "source": [
    "# 4. The importance of regularization "
   ]
  },
  {
   "cell_type": "code",
   "execution_count": null,
   "metadata": {},
   "outputs": [],
   "source": []
  },
  {
   "cell_type": "code",
   "execution_count": null,
   "metadata": {},
   "outputs": [],
   "source": []
  },
  {
   "cell_type": "code",
   "execution_count": null,
   "metadata": {},
   "outputs": [],
   "source": []
  },
  {
   "cell_type": "markdown",
   "metadata": {},
   "source": [
    "# 5. Transfer Learning: working with pre-trained models\n",
    "\n",
    "In real-world applications, the amount of available, labeled train data is often times limited. As the performance of deep learning models is highly dependent on vast amounts of data, methods to overcome this problem were and currently are developed. One of such techniques is __transfer learnig__.\n",
    "\n",
    "The basic idea behind transfer learning is training a model on a rich, labeled dataset for a task that is related to the task of interest and then fine-tune this model on the small amount of labeled data form the initial task of interest. \n",
    "\n",
    "One example for a rich, labeled and public data set is [ImageNet](http://www.image-net.org/) provided by Stanford University, which contains XXX million images for YYY classes. \n",
    "\n",
    "In this chapter, we \n",
    "\n",
    "1. use a pretrained model to classifiy the object in a new, arbitrary image\n",
    "2. fine-tune a pre-trained model on a new task"
   ]
  },
  {
   "cell_type": "markdown",
   "metadata": {},
   "source": [
    "## 5.1. Use a pretrained net for classification \n",
    "\n",
    "We use the a pretrained VGG16 architecture to classify a new, arbitrary image. We use the picture of a peaceful cow and a set of dishes (licensed for free, commercial use by [pexels.com](https://www.pexels.com/search/cow/)). The VGG16 was trained on coloured RGB images with the dimension (xdim = 224, ydim = 224, channels = 3), thus we made sure, the images have the same dimensions. "
   ]
  },
  {
   "cell_type": "markdown",
   "metadata": {},
   "source": [
    "### 5.1.1. Cow detection "
   ]
  },
  {
   "cell_type": "code",
   "execution_count": 28,
   "metadata": {},
   "outputs": [
    {
     "data": {
      "image/jpeg": "[encoded data removed]"
     },
     "metadata": {},
     "output_type": "display_data"
    },
    {
     "data": {
      "text/plain": [
       "  format width height colorspace matte filesize density\n",
       "1   JPEG   224    224       sRGB FALSE    20166   72x72"
      ]
     },
     "metadata": {},
     "output_type": "display_data"
    },
    {
     "data": {
      "text/html": [
       "<ol class=list-inline>\n",
       "\t<li>1</li>\n",
       "\t<li>224</li>\n",
       "\t<li>224</li>\n",
       "\t<li>3</li>\n",
       "</ol>\n"
      ],
      "text/latex": [
       "\\begin{enumerate*}\n",
       "\\item 1\n",
       "\\item 224\n",
       "\\item 224\n",
       "\\item 3\n",
       "\\end{enumerate*}\n"
      ],
      "text/markdown": [
       "1. 1\n",
       "2. 224\n",
       "3. 224\n",
       "4. 3\n",
       "\n",
       "\n"
      ],
      "text/plain": [
       "[1]   1 224 224   3"
      ]
     },
     "metadata": {},
     "output_type": "display_data"
    }
   ],
   "source": [
    "# get the image\n",
    "# magick package\n",
    "cow = image_read(path = './data/cow.jpg')\n",
    "cow\n",
    "# get the data\n",
    "cow_data = as.integer(image_data(cow))\n",
    "# add 4th dimension such that the resulting array has dim\n",
    "# (batch size, xdim, ydim, channel size)\n",
    "cow_data = array(cow_data, c(1, 224, 224, 3))\n",
    "dim(cow_data)"
   ]
  },
  {
   "cell_type": "code",
   "execution_count": 13,
   "metadata": {},
   "outputs": [],
   "source": [
    "# get the pretrained model from the keras library\n",
    "# load the weights from the folder of this Repository\n",
    "# we already downloaded the weights to this location for you\n",
    "model_pretrained = application_resnet50(weights = \n",
    "    './models/resnet50_weights_tf_dim_ordering_tf_kernels.h5')"
   ]
  },
  {
   "cell_type": "code",
   "execution_count": 38,
   "metadata": {
    "collapsed": true
   },
   "outputs": [
    {
     "name": "stdout",
     "output_type": "stream",
     "text": [
      "________________________________________________________________________________\n",
      "Layer (type)              Output Shape      Param #  Connected to               \n",
      "================================================================================\n",
      "input_5 (InputLayer)      (None, 224, 224,  0                                   \n",
      "________________________________________________________________________________\n",
      "conv1 (Conv2D)            (None, 112, 112,  9472     input_5[0][0]              \n",
      "________________________________________________________________________________\n",
      "bn_conv1 (BatchNormalizat (None, 112, 112,  256      conv1[0][0]                \n",
      "________________________________________________________________________________\n",
      "activation_50 (Activation (None, 112, 112,  0        bn_conv1[0][0]             \n",
      "________________________________________________________________________________\n",
      "max_pooling2d_2 (MaxPooli (None, 55, 55, 64 0        activation_50[0][0]        \n",
      "________________________________________________________________________________\n",
      "res2a_branch2a (Conv2D)   (None, 55, 55, 64 4160     max_pooling2d_2[0][0]      \n",
      "________________________________________________________________________________\n",
      "bn2a_branch2a (BatchNorma (None, 55, 55, 64 256      res2a_branch2a[0][0]       \n",
      "________________________________________________________________________________\n",
      "activation_51 (Activation (None, 55, 55, 64 0        bn2a_branch2a[0][0]        \n",
      "________________________________________________________________________________\n",
      "res2a_branch2b (Conv2D)   (None, 55, 55, 64 36928    activation_51[0][0]        \n",
      "________________________________________________________________________________\n",
      "bn2a_branch2b (BatchNorma (None, 55, 55, 64 256      res2a_branch2b[0][0]       \n",
      "________________________________________________________________________________\n",
      "activation_52 (Activation (None, 55, 55, 64 0        bn2a_branch2b[0][0]        \n",
      "________________________________________________________________________________\n",
      "res2a_branch2c (Conv2D)   (None, 55, 55, 25 16640    activation_52[0][0]        \n",
      "________________________________________________________________________________\n",
      "res2a_branch1 (Conv2D)    (None, 55, 55, 25 16640    max_pooling2d_2[0][0]      \n",
      "________________________________________________________________________________\n",
      "bn2a_branch2c (BatchNorma (None, 55, 55, 25 1024     res2a_branch2c[0][0]       \n",
      "________________________________________________________________________________\n",
      "bn2a_branch1 (BatchNormal (None, 55, 55, 25 1024     res2a_branch1[0][0]        \n",
      "________________________________________________________________________________\n",
      "add_17 (Add)              (None, 55, 55, 25 0        bn2a_branch2c[0][0]        \n",
      "                                                     bn2a_branch1[0][0]         \n",
      "________________________________________________________________________________\n",
      "activation_53 (Activation (None, 55, 55, 25 0        add_17[0][0]               \n",
      "________________________________________________________________________________\n",
      "res2b_branch2a (Conv2D)   (None, 55, 55, 64 16448    activation_53[0][0]        \n",
      "________________________________________________________________________________\n",
      "bn2b_branch2a (BatchNorma (None, 55, 55, 64 256      res2b_branch2a[0][0]       \n",
      "________________________________________________________________________________\n",
      "activation_54 (Activation (None, 55, 55, 64 0        bn2b_branch2a[0][0]        \n",
      "________________________________________________________________________________\n",
      "res2b_branch2b (Conv2D)   (None, 55, 55, 64 36928    activation_54[0][0]        \n",
      "________________________________________________________________________________\n",
      "bn2b_branch2b (BatchNorma (None, 55, 55, 64 256      res2b_branch2b[0][0]       \n",
      "________________________________________________________________________________\n",
      "activation_55 (Activation (None, 55, 55, 64 0        bn2b_branch2b[0][0]        \n",
      "________________________________________________________________________________\n",
      "res2b_branch2c (Conv2D)   (None, 55, 55, 25 16640    activation_55[0][0]        \n",
      "________________________________________________________________________________\n",
      "bn2b_branch2c (BatchNorma (None, 55, 55, 25 1024     res2b_branch2c[0][0]       \n",
      "________________________________________________________________________________\n",
      "add_18 (Add)              (None, 55, 55, 25 0        bn2b_branch2c[0][0]        \n",
      "                                                     activation_53[0][0]        \n",
      "________________________________________________________________________________\n",
      "activation_56 (Activation (None, 55, 55, 25 0        add_18[0][0]               \n",
      "________________________________________________________________________________\n",
      "res2c_branch2a (Conv2D)   (None, 55, 55, 64 16448    activation_56[0][0]        \n",
      "________________________________________________________________________________\n",
      "bn2c_branch2a (BatchNorma (None, 55, 55, 64 256      res2c_branch2a[0][0]       \n",
      "________________________________________________________________________________\n",
      "activation_57 (Activation (None, 55, 55, 64 0        bn2c_branch2a[0][0]        \n",
      "________________________________________________________________________________\n",
      "res2c_branch2b (Conv2D)   (None, 55, 55, 64 36928    activation_57[0][0]        \n",
      "________________________________________________________________________________\n",
      "bn2c_branch2b (BatchNorma (None, 55, 55, 64 256      res2c_branch2b[0][0]       \n",
      "________________________________________________________________________________\n",
      "activation_58 (Activation (None, 55, 55, 64 0        bn2c_branch2b[0][0]        \n",
      "________________________________________________________________________________\n",
      "res2c_branch2c (Conv2D)   (None, 55, 55, 25 16640    activation_58[0][0]        \n",
      "________________________________________________________________________________\n",
      "bn2c_branch2c (BatchNorma (None, 55, 55, 25 1024     res2c_branch2c[0][0]       \n",
      "________________________________________________________________________________\n",
      "add_19 (Add)              (None, 55, 55, 25 0        bn2c_branch2c[0][0]        \n",
      "                                                     activation_56[0][0]        \n",
      "________________________________________________________________________________\n",
      "activation_59 (Activation (None, 55, 55, 25 0        add_19[0][0]               \n",
      "________________________________________________________________________________\n",
      "res3a_branch2a (Conv2D)   (None, 28, 28, 12 32896    activation_59[0][0]        \n",
      "________________________________________________________________________________\n",
      "bn3a_branch2a (BatchNorma (None, 28, 28, 12 512      res3a_branch2a[0][0]       \n",
      "________________________________________________________________________________\n",
      "activation_60 (Activation (None, 28, 28, 12 0        bn3a_branch2a[0][0]        \n",
      "________________________________________________________________________________\n",
      "res3a_branch2b (Conv2D)   (None, 28, 28, 12 147584   activation_60[0][0]        \n",
      "________________________________________________________________________________\n",
      "bn3a_branch2b (BatchNorma (None, 28, 28, 12 512      res3a_branch2b[0][0]       \n",
      "________________________________________________________________________________\n",
      "activation_61 (Activation (None, 28, 28, 12 0        bn3a_branch2b[0][0]        \n",
      "________________________________________________________________________________\n",
      "res3a_branch2c (Conv2D)   (None, 28, 28, 51 66048    activation_61[0][0]        \n",
      "________________________________________________________________________________\n",
      "res3a_branch1 (Conv2D)    (None, 28, 28, 51 131584   activation_59[0][0]        \n",
      "________________________________________________________________________________\n",
      "bn3a_branch2c (BatchNorma (None, 28, 28, 51 2048     res3a_branch2c[0][0]       \n",
      "________________________________________________________________________________\n",
      "bn3a_branch1 (BatchNormal (None, 28, 28, 51 2048     res3a_branch1[0][0]        \n",
      "________________________________________________________________________________\n",
      "add_20 (Add)              (None, 28, 28, 51 0        bn3a_branch2c[0][0]        \n",
      "                                                     bn3a_branch1[0][0]         \n",
      "________________________________________________________________________________\n",
      "activation_62 (Activation (None, 28, 28, 51 0        add_20[0][0]               \n",
      "________________________________________________________________________________\n",
      "res3b_branch2a (Conv2D)   (None, 28, 28, 12 65664    activation_62[0][0]        \n",
      "________________________________________________________________________________\n",
      "bn3b_branch2a (BatchNorma (None, 28, 28, 12 512      res3b_branch2a[0][0]       \n",
      "________________________________________________________________________________\n",
      "activation_63 (Activation (None, 28, 28, 12 0        bn3b_branch2a[0][0]        \n",
      "________________________________________________________________________________\n",
      "res3b_branch2b (Conv2D)   (None, 28, 28, 12 147584   activation_63[0][0]        \n",
      "________________________________________________________________________________\n",
      "bn3b_branch2b (BatchNorma (None, 28, 28, 12 512      res3b_branch2b[0][0]       \n",
      "________________________________________________________________________________\n",
      "activation_64 (Activation (None, 28, 28, 12 0        bn3b_branch2b[0][0]        \n",
      "________________________________________________________________________________\n",
      "res3b_branch2c (Conv2D)   (None, 28, 28, 51 66048    activation_64[0][0]        \n",
      "________________________________________________________________________________\n",
      "bn3b_branch2c (BatchNorma (None, 28, 28, 51 2048     res3b_branch2c[0][0]       \n",
      "________________________________________________________________________________\n",
      "add_21 (Add)              (None, 28, 28, 51 0        bn3b_branch2c[0][0]        \n",
      "                                                     activation_62[0][0]        \n",
      "________________________________________________________________________________\n",
      "activation_65 (Activation (None, 28, 28, 51 0        add_21[0][0]               \n",
      "________________________________________________________________________________\n",
      "res3c_branch2a (Conv2D)   (None, 28, 28, 12 65664    activation_65[0][0]        \n",
      "________________________________________________________________________________\n",
      "bn3c_branch2a (BatchNorma (None, 28, 28, 12 512      res3c_branch2a[0][0]       \n",
      "________________________________________________________________________________\n",
      "activation_66 (Activation (None, 28, 28, 12 0        bn3c_branch2a[0][0]        \n",
      "________________________________________________________________________________\n",
      "res3c_branch2b (Conv2D)   (None, 28, 28, 12 147584   activation_66[0][0]        \n",
      "________________________________________________________________________________\n",
      "bn3c_branch2b (BatchNorma (None, 28, 28, 12 512      res3c_branch2b[0][0]       \n",
      "________________________________________________________________________________\n",
      "activation_67 (Activation (None, 28, 28, 12 0        bn3c_branch2b[0][0]        \n",
      "________________________________________________________________________________\n",
      "res3c_branch2c (Conv2D)   (None, 28, 28, 51 66048    activation_67[0][0]        \n",
      "________________________________________________________________________________\n",
      "bn3c_branch2c (BatchNorma (None, 28, 28, 51 2048     res3c_branch2c[0][0]       \n",
      "________________________________________________________________________________\n",
      "add_22 (Add)              (None, 28, 28, 51 0        bn3c_branch2c[0][0]        \n",
      "                                                     activation_65[0][0]        \n",
      "________________________________________________________________________________\n",
      "activation_68 (Activation (None, 28, 28, 51 0        add_22[0][0]               \n",
      "________________________________________________________________________________\n",
      "res3d_branch2a (Conv2D)   (None, 28, 28, 12 65664    activation_68[0][0]        \n",
      "________________________________________________________________________________\n",
      "bn3d_branch2a (BatchNorma (None, 28, 28, 12 512      res3d_branch2a[0][0]       \n",
      "________________________________________________________________________________\n",
      "activation_69 (Activation (None, 28, 28, 12 0        bn3d_branch2a[0][0]        \n",
      "________________________________________________________________________________\n",
      "res3d_branch2b (Conv2D)   (None, 28, 28, 12 147584   activation_69[0][0]        \n",
      "________________________________________________________________________________\n",
      "bn3d_branch2b (BatchNorma (None, 28, 28, 12 512      res3d_branch2b[0][0]       \n",
      "________________________________________________________________________________\n",
      "activation_70 (Activation (None, 28, 28, 12 0        bn3d_branch2b[0][0]        \n",
      "________________________________________________________________________________\n",
      "res3d_branch2c (Conv2D)   (None, 28, 28, 51 66048    activation_70[0][0]        \n",
      "________________________________________________________________________________\n",
      "bn3d_branch2c (BatchNorma (None, 28, 28, 51 2048     res3d_branch2c[0][0]       \n",
      "________________________________________________________________________________\n",
      "add_23 (Add)              (None, 28, 28, 51 0        bn3d_branch2c[0][0]        \n",
      "                                                     activation_68[0][0]        \n",
      "________________________________________________________________________________\n",
      "activation_71 (Activation (None, 28, 28, 51 0        add_23[0][0]               \n",
      "________________________________________________________________________________\n",
      "res4a_branch2a (Conv2D)   (None, 14, 14, 25 131328   activation_71[0][0]        \n",
      "________________________________________________________________________________\n",
      "bn4a_branch2a (BatchNorma (None, 14, 14, 25 1024     res4a_branch2a[0][0]       \n",
      "________________________________________________________________________________\n",
      "activation_72 (Activation (None, 14, 14, 25 0        bn4a_branch2a[0][0]        \n",
      "________________________________________________________________________________\n",
      "res4a_branch2b (Conv2D)   (None, 14, 14, 25 590080   activation_72[0][0]        \n",
      "________________________________________________________________________________\n",
      "bn4a_branch2b (BatchNorma (None, 14, 14, 25 1024     res4a_branch2b[0][0]       \n",
      "________________________________________________________________________________\n",
      "activation_73 (Activation (None, 14, 14, 25 0        bn4a_branch2b[0][0]        \n",
      "________________________________________________________________________________\n",
      "res4a_branch2c (Conv2D)   (None, 14, 14, 10 263168   activation_73[0][0]        \n",
      "________________________________________________________________________________\n",
      "res4a_branch1 (Conv2D)    (None, 14, 14, 10 525312   activation_71[0][0]        \n",
      "________________________________________________________________________________\n",
      "bn4a_branch2c (BatchNorma (None, 14, 14, 10 4096     res4a_branch2c[0][0]       \n",
      "________________________________________________________________________________\n",
      "bn4a_branch1 (BatchNormal (None, 14, 14, 10 4096     res4a_branch1[0][0]        \n",
      "________________________________________________________________________________\n",
      "add_24 (Add)              (None, 14, 14, 10 0        bn4a_branch2c[0][0]        \n",
      "                                                     bn4a_branch1[0][0]         \n",
      "________________________________________________________________________________\n",
      "activation_74 (Activation (None, 14, 14, 10 0        add_24[0][0]               \n",
      "________________________________________________________________________________\n",
      "res4b_branch2a (Conv2D)   (None, 14, 14, 25 262400   activation_74[0][0]        \n",
      "________________________________________________________________________________\n",
      "bn4b_branch2a (BatchNorma (None, 14, 14, 25 1024     res4b_branch2a[0][0]       \n",
      "________________________________________________________________________________\n",
      "activation_75 (Activation (None, 14, 14, 25 0        bn4b_branch2a[0][0]        \n",
      "________________________________________________________________________________\n",
      "res4b_branch2b (Conv2D)   (None, 14, 14, 25 590080   activation_75[0][0]        \n",
      "________________________________________________________________________________\n",
      "bn4b_branch2b (BatchNorma (None, 14, 14, 25 1024     res4b_branch2b[0][0]       \n",
      "________________________________________________________________________________\n",
      "activation_76 (Activation (None, 14, 14, 25 0        bn4b_branch2b[0][0]        \n",
      "________________________________________________________________________________\n",
      "res4b_branch2c (Conv2D)   (None, 14, 14, 10 263168   activation_76[0][0]        \n",
      "________________________________________________________________________________\n",
      "bn4b_branch2c (BatchNorma (None, 14, 14, 10 4096     res4b_branch2c[0][0]       \n",
      "________________________________________________________________________________\n",
      "add_25 (Add)              (None, 14, 14, 10 0        bn4b_branch2c[0][0]        \n",
      "                                                     activation_74[0][0]        \n",
      "________________________________________________________________________________\n",
      "activation_77 (Activation (None, 14, 14, 10 0        add_25[0][0]               \n",
      "________________________________________________________________________________\n",
      "res4c_branch2a (Conv2D)   (None, 14, 14, 25 262400   activation_77[0][0]        \n",
      "________________________________________________________________________________\n",
      "bn4c_branch2a (BatchNorma (None, 14, 14, 25 1024     res4c_branch2a[0][0]       \n",
      "________________________________________________________________________________\n",
      "activation_78 (Activation (None, 14, 14, 25 0        bn4c_branch2a[0][0]        \n",
      "________________________________________________________________________________\n",
      "res4c_branch2b (Conv2D)   (None, 14, 14, 25 590080   activation_78[0][0]        \n",
      "________________________________________________________________________________\n",
      "bn4c_branch2b (BatchNorma (None, 14, 14, 25 1024     res4c_branch2b[0][0]       \n",
      "________________________________________________________________________________\n",
      "activation_79 (Activation (None, 14, 14, 25 0        bn4c_branch2b[0][0]        \n",
      "________________________________________________________________________________\n",
      "res4c_branch2c (Conv2D)   (None, 14, 14, 10 263168   activation_79[0][0]        \n",
      "________________________________________________________________________________\n",
      "bn4c_branch2c (BatchNorma (None, 14, 14, 10 4096     res4c_branch2c[0][0]       \n",
      "________________________________________________________________________________\n",
      "add_26 (Add)              (None, 14, 14, 10 0        bn4c_branch2c[0][0]        \n",
      "                                                     activation_77[0][0]        \n",
      "________________________________________________________________________________\n",
      "activation_80 (Activation (None, 14, 14, 10 0        add_26[0][0]               \n",
      "________________________________________________________________________________\n",
      "res4d_branch2a (Conv2D)   (None, 14, 14, 25 262400   activation_80[0][0]        \n",
      "________________________________________________________________________________\n",
      "bn4d_branch2a (BatchNorma (None, 14, 14, 25 1024     res4d_branch2a[0][0]       \n",
      "________________________________________________________________________________\n",
      "activation_81 (Activation (None, 14, 14, 25 0        bn4d_branch2a[0][0]        \n",
      "________________________________________________________________________________\n",
      "res4d_branch2b (Conv2D)   (None, 14, 14, 25 590080   activation_81[0][0]        \n",
      "________________________________________________________________________________\n",
      "bn4d_branch2b (BatchNorma (None, 14, 14, 25 1024     res4d_branch2b[0][0]       \n",
      "________________________________________________________________________________\n",
      "activation_82 (Activation (None, 14, 14, 25 0        bn4d_branch2b[0][0]        \n",
      "________________________________________________________________________________\n",
      "res4d_branch2c (Conv2D)   (None, 14, 14, 10 263168   activation_82[0][0]        \n",
      "________________________________________________________________________________\n",
      "bn4d_branch2c (BatchNorma (None, 14, 14, 10 4096     res4d_branch2c[0][0]       \n",
      "________________________________________________________________________________\n",
      "add_27 (Add)              (None, 14, 14, 10 0        bn4d_branch2c[0][0]        \n",
      "                                                     activation_80[0][0]        \n",
      "________________________________________________________________________________\n",
      "activation_83 (Activation (None, 14, 14, 10 0        add_27[0][0]               \n",
      "________________________________________________________________________________\n",
      "res4e_branch2a (Conv2D)   (None, 14, 14, 25 262400   activation_83[0][0]        \n",
      "________________________________________________________________________________\n",
      "bn4e_branch2a (BatchNorma (None, 14, 14, 25 1024     res4e_branch2a[0][0]       \n",
      "________________________________________________________________________________\n",
      "activation_84 (Activation (None, 14, 14, 25 0        bn4e_branch2a[0][0]        \n",
      "________________________________________________________________________________\n",
      "res4e_branch2b (Conv2D)   (None, 14, 14, 25 590080   activation_84[0][0]        \n",
      "________________________________________________________________________________\n",
      "bn4e_branch2b (BatchNorma (None, 14, 14, 25 1024     res4e_branch2b[0][0]       \n",
      "________________________________________________________________________________\n",
      "activation_85 (Activation (None, 14, 14, 25 0        bn4e_branch2b[0][0]        \n",
      "________________________________________________________________________________\n",
      "res4e_branch2c (Conv2D)   (None, 14, 14, 10 263168   activation_85[0][0]        \n",
      "________________________________________________________________________________\n",
      "bn4e_branch2c (BatchNorma (None, 14, 14, 10 4096     res4e_branch2c[0][0]       \n",
      "________________________________________________________________________________\n",
      "add_28 (Add)              (None, 14, 14, 10 0        bn4e_branch2c[0][0]        \n",
      "                                                     activation_83[0][0]        \n",
      "________________________________________________________________________________\n",
      "activation_86 (Activation (None, 14, 14, 10 0        add_28[0][0]               \n",
      "________________________________________________________________________________\n",
      "res4f_branch2a (Conv2D)   (None, 14, 14, 25 262400   activation_86[0][0]        \n",
      "________________________________________________________________________________\n",
      "bn4f_branch2a (BatchNorma (None, 14, 14, 25 1024     res4f_branch2a[0][0]       \n",
      "________________________________________________________________________________\n",
      "activation_87 (Activation (None, 14, 14, 25 0        bn4f_branch2a[0][0]        \n",
      "________________________________________________________________________________\n",
      "res4f_branch2b (Conv2D)   (None, 14, 14, 25 590080   activation_87[0][0]        \n",
      "________________________________________________________________________________\n",
      "bn4f_branch2b (BatchNorma (None, 14, 14, 25 1024     res4f_branch2b[0][0]       \n",
      "________________________________________________________________________________\n",
      "activation_88 (Activation (None, 14, 14, 25 0        bn4f_branch2b[0][0]        \n",
      "________________________________________________________________________________\n",
      "res4f_branch2c (Conv2D)   (None, 14, 14, 10 263168   activation_88[0][0]        \n",
      "________________________________________________________________________________\n",
      "bn4f_branch2c (BatchNorma (None, 14, 14, 10 4096     res4f_branch2c[0][0]       \n",
      "________________________________________________________________________________\n",
      "add_29 (Add)              (None, 14, 14, 10 0        bn4f_branch2c[0][0]        \n",
      "                                                     activation_86[0][0]        \n",
      "________________________________________________________________________________\n",
      "activation_89 (Activation (None, 14, 14, 10 0        add_29[0][0]               \n",
      "________________________________________________________________________________\n",
      "res5a_branch2a (Conv2D)   (None, 7, 7, 512) 524800   activation_89[0][0]        \n",
      "________________________________________________________________________________\n",
      "bn5a_branch2a (BatchNorma (None, 7, 7, 512) 2048     res5a_branch2a[0][0]       \n",
      "________________________________________________________________________________\n",
      "activation_90 (Activation (None, 7, 7, 512) 0        bn5a_branch2a[0][0]        \n",
      "________________________________________________________________________________\n",
      "res5a_branch2b (Conv2D)   (None, 7, 7, 512) 2359808  activation_90[0][0]        \n",
      "________________________________________________________________________________\n",
      "bn5a_branch2b (BatchNorma (None, 7, 7, 512) 2048     res5a_branch2b[0][0]       \n",
      "________________________________________________________________________________\n",
      "activation_91 (Activation (None, 7, 7, 512) 0        bn5a_branch2b[0][0]        \n",
      "________________________________________________________________________________\n",
      "res5a_branch2c (Conv2D)   (None, 7, 7, 2048 1050624  activation_91[0][0]        \n",
      "________________________________________________________________________________\n",
      "res5a_branch1 (Conv2D)    (None, 7, 7, 2048 2099200  activation_89[0][0]        \n",
      "________________________________________________________________________________\n",
      "bn5a_branch2c (BatchNorma (None, 7, 7, 2048 8192     res5a_branch2c[0][0]       \n",
      "________________________________________________________________________________\n",
      "bn5a_branch1 (BatchNormal (None, 7, 7, 2048 8192     res5a_branch1[0][0]        \n",
      "________________________________________________________________________________\n",
      "add_30 (Add)              (None, 7, 7, 2048 0        bn5a_branch2c[0][0]        \n",
      "                                                     bn5a_branch1[0][0]         \n",
      "________________________________________________________________________________\n",
      "activation_92 (Activation (None, 7, 7, 2048 0        add_30[0][0]               \n",
      "________________________________________________________________________________\n",
      "res5b_branch2a (Conv2D)   (None, 7, 7, 512) 1049088  activation_92[0][0]        \n",
      "________________________________________________________________________________\n",
      "bn5b_branch2a (BatchNorma (None, 7, 7, 512) 2048     res5b_branch2a[0][0]       \n",
      "________________________________________________________________________________\n",
      "activation_93 (Activation (None, 7, 7, 512) 0        bn5b_branch2a[0][0]        \n",
      "________________________________________________________________________________\n",
      "res5b_branch2b (Conv2D)   (None, 7, 7, 512) 2359808  activation_93[0][0]        \n",
      "________________________________________________________________________________\n",
      "bn5b_branch2b (BatchNorma (None, 7, 7, 512) 2048     res5b_branch2b[0][0]       \n",
      "________________________________________________________________________________\n",
      "activation_94 (Activation (None, 7, 7, 512) 0        bn5b_branch2b[0][0]        \n",
      "________________________________________________________________________________\n",
      "res5b_branch2c (Conv2D)   (None, 7, 7, 2048 1050624  activation_94[0][0]        \n",
      "________________________________________________________________________________\n",
      "bn5b_branch2c (BatchNorma (None, 7, 7, 2048 8192     res5b_branch2c[0][0]       \n",
      "________________________________________________________________________________\n",
      "add_31 (Add)              (None, 7, 7, 2048 0        bn5b_branch2c[0][0]        \n",
      "                                                     activation_92[0][0]        \n",
      "________________________________________________________________________________\n",
      "activation_95 (Activation (None, 7, 7, 2048 0        add_31[0][0]               \n",
      "________________________________________________________________________________\n",
      "res5c_branch2a (Conv2D)   (None, 7, 7, 512) 1049088  activation_95[0][0]        \n",
      "________________________________________________________________________________\n",
      "bn5c_branch2a (BatchNorma (None, 7, 7, 512) 2048     res5c_branch2a[0][0]       \n",
      "________________________________________________________________________________\n",
      "activation_96 (Activation (None, 7, 7, 512) 0        bn5c_branch2a[0][0]        \n",
      "________________________________________________________________________________\n",
      "res5c_branch2b (Conv2D)   (None, 7, 7, 512) 2359808  activation_96[0][0]        \n",
      "________________________________________________________________________________\n",
      "bn5c_branch2b (BatchNorma (None, 7, 7, 512) 2048     res5c_branch2b[0][0]       \n",
      "________________________________________________________________________________\n",
      "activation_97 (Activation (None, 7, 7, 512) 0        bn5c_branch2b[0][0]        \n",
      "________________________________________________________________________________\n",
      "res5c_branch2c (Conv2D)   (None, 7, 7, 2048 1050624  activation_97[0][0]        \n",
      "________________________________________________________________________________\n",
      "bn5c_branch2c (BatchNorma (None, 7, 7, 2048 8192     res5c_branch2c[0][0]       \n",
      "________________________________________________________________________________\n",
      "add_32 (Add)              (None, 7, 7, 2048 0        bn5c_branch2c[0][0]        \n",
      "                                                     activation_95[0][0]        \n",
      "________________________________________________________________________________\n",
      "activation_98 (Activation (None, 7, 7, 2048 0        add_32[0][0]               \n",
      "________________________________________________________________________________\n",
      "avg_pool (AveragePooling2 (None, 1, 1, 2048 0        activation_98[0][0]        \n",
      "________________________________________________________________________________\n",
      "flatten_2 (Flatten)       (None, 2048)      0        avg_pool[0][0]             \n",
      "________________________________________________________________________________\n",
      "fc1000 (Dense)            (None, 1000)      2049000  flatten_2[0][0]            \n",
      "================================================================================\n",
      "Total params: 25,636,712\n",
      "Trainable params: 25,583,592\n",
      "Non-trainable params: 53,120\n",
      "________________________________________________________________________________\n"
     ]
    }
   ],
   "source": [
    "# The ResNet50 architecture, that we now deploy as a classifier for the cow and the dished, is a \n",
    "# lot more advanced than the simple CNN that we build in chapter 2. Let us take a look at the architecture:\n",
    "summary(model_pretrained)"
   ]
  },
  {
   "cell_type": "code",
   "execution_count": 39,
   "metadata": {},
   "outputs": [],
   "source": [
    "# run the model to make the prediction \n",
    "prediction = model_pretrained %>% predict(cow_data)"
   ]
  },
  {
   "cell_type": "code",
   "execution_count": 40,
   "metadata": {},
   "outputs": [
    {
     "data": {
      "text/html": [
       "<ol>\n",
       "\t<li><table>\n",
       "<thead><tr><th scope=col>class_name</th><th scope=col>class_description</th><th scope=col>score</th></tr></thead>\n",
       "<tbody>\n",
       "\t<tr><td>n02403003    </td><td>ox           </td><td>0.9488235712 </td></tr>\n",
       "\t<tr><td>n03868242    </td><td>oxcart       </td><td>0.0484120362 </td></tr>\n",
       "\t<tr><td>n03967562    </td><td>plow         </td><td>0.0008429451 </td></tr>\n",
       "\t<tr><td>n02408429    </td><td>water_buffalo</td><td>0.0004129720 </td></tr>\n",
       "\t<tr><td>n02389026    </td><td>sorrel       </td><td>0.0002694723 </td></tr>\n",
       "</tbody>\n",
       "</table>\n",
       "</li>\n",
       "</ol>\n"
      ],
      "text/latex": [
       "\\begin{enumerate}\n",
       "\\item \\begin{tabular}{r|lll}\n",
       " class\\_name & class\\_description & score\\\\\n",
       "\\hline\n",
       "\t n02403003     & ox            & 0.9488235712 \\\\\n",
       "\t n03868242     & oxcart        & 0.0484120362 \\\\\n",
       "\t n03967562     & plow          & 0.0008429451 \\\\\n",
       "\t n02408429       & water\\_buffalo & 0.0004129720   \\\\\n",
       "\t n02389026     & sorrel        & 0.0002694723 \\\\\n",
       "\\end{tabular}\n",
       "\n",
       "\\end{enumerate}\n"
      ],
      "text/markdown": [
       "1. \n",
       "class_name | class_description | score | \n",
       "|---|---|---|---|---|\n",
       "| n02403003     | ox            | 0.9488235712  | \n",
       "| n03868242     | oxcart        | 0.0484120362  | \n",
       "| n03967562     | plow          | 0.0008429451  | \n",
       "| n02408429     | water_buffalo | 0.0004129720  | \n",
       "| n02389026     | sorrel        | 0.0002694723  | \n",
       "\n",
       "\n",
       "\n",
       "\n",
       "\n"
      ],
      "text/plain": [
       "[[1]]\n",
       "  class_name class_description        score\n",
       "1  n02403003                ox 0.9488235712\n",
       "2  n03868242            oxcart 0.0484120362\n",
       "3  n03967562              plow 0.0008429451\n",
       "4  n02408429     water_buffalo 0.0004129720\n",
       "5  n02389026            sorrel 0.0002694723\n"
      ]
     },
     "metadata": {},
     "output_type": "display_data"
    }
   ],
   "source": [
    "# check the predicted classes with the top 5 highest scores\n",
    "imagenet_decode_predictions(preds = prediction, top = 5)[1]"
   ]
  },
  {
   "cell_type": "markdown",
   "metadata": {},
   "source": [
    "### 5.1.1. Dishes detection "
   ]
  },
  {
   "cell_type": "code",
   "execution_count": 41,
   "metadata": {},
   "outputs": [
    {
     "data": {
      "image/jpeg": "[encoded data removed]"
     },
     "metadata": {},
     "output_type": "display_data"
    },
    {
     "data": {
      "text/plain": [
       "  format width height colorspace matte filesize density\n",
       "1   JPEG   224    224       sRGB FALSE    18408   72x72"
      ]
     },
     "metadata": {},
     "output_type": "display_data"
    }
   ],
   "source": [
    "# get the dishes image\n",
    "dishes = image_read(path = './data/dishes.jpg')\n",
    "dishes_data = as.integer(image_data(dishes))\n",
    "dishes_data = array(dishes_data, c(1, 224, 224, 3))\n",
    "dishes"
   ]
  },
  {
   "cell_type": "code",
   "execution_count": 42,
   "metadata": {},
   "outputs": [
    {
     "data": {
      "text/html": [
       "<ol>\n",
       "\t<li><table>\n",
       "<thead><tr><th scope=col>class_name</th><th scope=col>class_description</th><th scope=col>score</th></tr></thead>\n",
       "<tbody>\n",
       "\t<tr><td>n03666591   </td><td>lighter     </td><td>0.21436484  </td></tr>\n",
       "\t<tr><td>n03063689   </td><td>coffeepot   </td><td>0.11708578  </td></tr>\n",
       "\t<tr><td>n04557648   </td><td>water_bottle</td><td>0.05618625  </td></tr>\n",
       "\t<tr><td>n03759954   </td><td>microphone  </td><td>0.04109137  </td></tr>\n",
       "\t<tr><td>n03544143   </td><td>hourglass   </td><td>0.03379996  </td></tr>\n",
       "</tbody>\n",
       "</table>\n",
       "</li>\n",
       "</ol>\n"
      ],
      "text/latex": [
       "\\begin{enumerate}\n",
       "\\item \\begin{tabular}{r|lll}\n",
       " class\\_name & class\\_description & score\\\\\n",
       "\\hline\n",
       "\t n03666591    & lighter      & 0.21436484  \\\\\n",
       "\t n03063689    & coffeepot    & 0.11708578  \\\\\n",
       "\t n04557648      & water\\_bottle & 0.05618625    \\\\\n",
       "\t n03759954    & microphone   & 0.04109137  \\\\\n",
       "\t n03544143    & hourglass    & 0.03379996  \\\\\n",
       "\\end{tabular}\n",
       "\n",
       "\\end{enumerate}\n"
      ],
      "text/markdown": [
       "1. \n",
       "class_name | class_description | score | \n",
       "|---|---|---|---|---|\n",
       "| n03666591    | lighter      | 0.21436484   | \n",
       "| n03063689    | coffeepot    | 0.11708578   | \n",
       "| n04557648    | water_bottle | 0.05618625   | \n",
       "| n03759954    | microphone   | 0.04109137   | \n",
       "| n03544143    | hourglass    | 0.03379996   | \n",
       "\n",
       "\n",
       "\n",
       "\n",
       "\n"
      ],
      "text/plain": [
       "[[1]]\n",
       "  class_name class_description      score\n",
       "1  n03666591           lighter 0.21436484\n",
       "2  n03063689         coffeepot 0.11708578\n",
       "3  n04557648      water_bottle 0.05618625\n",
       "4  n03759954        microphone 0.04109137\n",
       "5  n03544143         hourglass 0.03379996\n"
      ]
     },
     "metadata": {},
     "output_type": "display_data"
    }
   ],
   "source": [
    "# make prediction and show top5 results\n",
    "prediction = model_pretrained %>% predict(dishes_data)\n",
    "imagenet_decode_predictions(preds = prediction, top = 5)[1]"
   ]
  },
  {
   "cell_type": "markdown",
   "metadata": {},
   "source": [
    "## 5.2. Fine-tune a pretrained net on a new task\n",
    "\n",
    "We gathered a data set of 150 images of chicago buildings and 250 ancient egyptian from [Wikicommons](https://commons.wikimedia.org/wiki/Hauptseite) provided by [researcher Zhe Xu](https://sites.google.com/site/zhexuutssjtu/projects/arch). \n",
    "\n",
    "As the type of the building has a major impact on its insurance premium, we want to predict the architecture from images of the buildings. \n",
    "\n",
    "Unfortunately, our data set is too small to train a deep convolutional neural network for this task end-to-end. Thus, we use the previous pretrained ResNet50 and fine tune it on our specific task.\n",
    "\n",
    "We will use a data loader for this task. "
   ]
  },
  {
   "cell_type": "code",
   "execution_count": 12,
   "metadata": {},
   "outputs": [
    {
     "data": {
      "image/jpeg": "[encoded data removed]"
     },
     "metadata": {},
     "output_type": "display_data"
    },
    {
     "data": {
      "text/plain": [
       "  format width height colorspace matte filesize density\n",
       "1   JPEG   799    600       sRGB FALSE   118120 180x180"
      ]
     },
     "metadata": {},
     "output_type": "display_data"
    }
   ],
   "source": [
    "egyptian = image_read(path = './data/arch_data/train/egypt/egypt1.jpg')\n",
    "egyptian"
   ]
  },
  {
   "cell_type": "code",
   "execution_count": 13,
   "metadata": {},
   "outputs": [
    {
     "data": {
      "image/jpeg": "[encoded data removed]"
     },
     "metadata": {},
     "output_type": "display_data"
    },
    {
     "data": {
      "text/plain": [
       "  format width height colorspace matte filesize density\n",
       "1   JPEG   450    600       sRGB FALSE    87771 180x180"
      ]
     },
     "metadata": {},
     "output_type": "display_data"
    }
   ],
   "source": [
    "chicago = image_read(path = './data/arch_data/train/chicago/chicago1.jpg')\n",
    "chicago"
   ]
  },
  {
   "cell_type": "code",
   "execution_count": 117,
   "metadata": {},
   "outputs": [],
   "source": [
    "data_generator = image_data_generator(\n",
    "    samplewise_std_normalization = TRUE, \n",
    "    samplewise_center = TRUE, \n",
    "    horizontal_flip = FALSE,\n",
    "    vertical_flip = TRUE)"
   ]
  },
  {
   "cell_type": "code",
   "execution_count": 118,
   "metadata": {},
   "outputs": [],
   "source": [
    "train_generator = flow_images_from_directory(\n",
    "    directory = './data/arch_data/train/', \n",
    "    generator = data_generator, \n",
    "    target_size = c(224, 224), \n",
    "    # classes = c('chicago', 'egypt'),\n",
    "    color_mode = 'rgb',\n",
    "    batch_size = 16,\n",
    "    class_mode = 'binary',\n",
    "    shuffle = TRUE\n",
    ")\n",
    "validation_generator = flow_images_from_directory(\n",
    "    directory = './data/arch_data/validation/', \n",
    "    generator = data_generator, \n",
    "    target_size = c(224, 224),\n",
    "    # classes = c('chicago', 'egypt'),\n",
    "    color_mode = 'rgb',\n",
    "    batch_size = 16, \n",
    "    class_mode = 'binary',\n",
    "    shuffle = FALSE\n",
    ")"
   ]
  },
  {
   "cell_type": "code",
   "execution_count": 96,
   "metadata": {},
   "outputs": [],
   "source": [
    "# we use the pretrained Resnet and 'cut off its head' and add two convolutional layers, \n",
    "# which we will fine-tune\n",
    "base_model <- application_resnet50(weights = \n",
    "                                   './models/resnet50_weights_tf_dim_ordering_tf_kernels_notop.h5', \n",
    "                                   include_top = FALSE)"
   ]
  },
  {
   "cell_type": "code",
   "execution_count": 29,
   "metadata": {
    "collapsed": true
   },
   "outputs": [
    {
     "name": "stdout",
     "output_type": "stream",
     "text": [
      "________________________________________________________________________________\n",
      "Layer (type)              Output Shape      Param #  Connected to               \n",
      "================================================================================\n",
      "input_3 (InputLayer)      (None, None, None 0                                   \n",
      "________________________________________________________________________________\n",
      "conv1 (Conv2D)            (None, None, None 9472     input_3[0][0]              \n",
      "________________________________________________________________________________\n",
      "bn_conv1 (BatchNormalizat (None, None, None 256      conv1[0][0]                \n",
      "________________________________________________________________________________\n",
      "activation_99 (Activation (None, None, None 0        bn_conv1[0][0]             \n",
      "________________________________________________________________________________\n",
      "max_pooling2d_3 (MaxPooli (None, None, None 0        activation_99[0][0]        \n",
      "________________________________________________________________________________\n",
      "res2a_branch2a (Conv2D)   (None, None, None 4160     max_pooling2d_3[0][0]      \n",
      "________________________________________________________________________________\n",
      "bn2a_branch2a (BatchNorma (None, None, None 256      res2a_branch2a[0][0]       \n",
      "________________________________________________________________________________\n",
      "activation_100 (Activatio (None, None, None 0        bn2a_branch2a[0][0]        \n",
      "________________________________________________________________________________\n",
      "res2a_branch2b (Conv2D)   (None, None, None 36928    activation_100[0][0]       \n",
      "________________________________________________________________________________\n",
      "bn2a_branch2b (BatchNorma (None, None, None 256      res2a_branch2b[0][0]       \n",
      "________________________________________________________________________________\n",
      "activation_101 (Activatio (None, None, None 0        bn2a_branch2b[0][0]        \n",
      "________________________________________________________________________________\n",
      "res2a_branch2c (Conv2D)   (None, None, None 16640    activation_101[0][0]       \n",
      "________________________________________________________________________________\n",
      "res2a_branch1 (Conv2D)    (None, None, None 16640    max_pooling2d_3[0][0]      \n",
      "________________________________________________________________________________\n",
      "bn2a_branch2c (BatchNorma (None, None, None 1024     res2a_branch2c[0][0]       \n",
      "________________________________________________________________________________\n",
      "bn2a_branch1 (BatchNormal (None, None, None 1024     res2a_branch1[0][0]        \n",
      "________________________________________________________________________________\n",
      "add_33 (Add)              (None, None, None 0        bn2a_branch2c[0][0]        \n",
      "                                                     bn2a_branch1[0][0]         \n",
      "________________________________________________________________________________\n",
      "activation_102 (Activatio (None, None, None 0        add_33[0][0]               \n",
      "________________________________________________________________________________\n",
      "res2b_branch2a (Conv2D)   (None, None, None 16448    activation_102[0][0]       \n",
      "________________________________________________________________________________\n",
      "bn2b_branch2a (BatchNorma (None, None, None 256      res2b_branch2a[0][0]       \n",
      "________________________________________________________________________________\n",
      "activation_103 (Activatio (None, None, None 0        bn2b_branch2a[0][0]        \n",
      "________________________________________________________________________________\n",
      "res2b_branch2b (Conv2D)   (None, None, None 36928    activation_103[0][0]       \n",
      "________________________________________________________________________________\n",
      "bn2b_branch2b (BatchNorma (None, None, None 256      res2b_branch2b[0][0]       \n",
      "________________________________________________________________________________\n",
      "activation_104 (Activatio (None, None, None 0        bn2b_branch2b[0][0]        \n",
      "________________________________________________________________________________\n",
      "res2b_branch2c (Conv2D)   (None, None, None 16640    activation_104[0][0]       \n",
      "________________________________________________________________________________\n",
      "bn2b_branch2c (BatchNorma (None, None, None 1024     res2b_branch2c[0][0]       \n",
      "________________________________________________________________________________\n",
      "add_34 (Add)              (None, None, None 0        bn2b_branch2c[0][0]        \n",
      "                                                     activation_102[0][0]       \n",
      "________________________________________________________________________________\n",
      "activation_105 (Activatio (None, None, None 0        add_34[0][0]               \n",
      "________________________________________________________________________________\n",
      "res2c_branch2a (Conv2D)   (None, None, None 16448    activation_105[0][0]       \n",
      "________________________________________________________________________________\n",
      "bn2c_branch2a (BatchNorma (None, None, None 256      res2c_branch2a[0][0]       \n",
      "________________________________________________________________________________\n",
      "activation_106 (Activatio (None, None, None 0        bn2c_branch2a[0][0]        \n",
      "________________________________________________________________________________\n",
      "res2c_branch2b (Conv2D)   (None, None, None 36928    activation_106[0][0]       \n",
      "________________________________________________________________________________\n",
      "bn2c_branch2b (BatchNorma (None, None, None 256      res2c_branch2b[0][0]       \n",
      "________________________________________________________________________________\n",
      "activation_107 (Activatio (None, None, None 0        bn2c_branch2b[0][0]        \n",
      "________________________________________________________________________________\n",
      "res2c_branch2c (Conv2D)   (None, None, None 16640    activation_107[0][0]       \n",
      "________________________________________________________________________________\n",
      "bn2c_branch2c (BatchNorma (None, None, None 1024     res2c_branch2c[0][0]       \n",
      "________________________________________________________________________________\n",
      "add_35 (Add)              (None, None, None 0        bn2c_branch2c[0][0]        \n",
      "                                                     activation_105[0][0]       \n",
      "________________________________________________________________________________\n",
      "activation_108 (Activatio (None, None, None 0        add_35[0][0]               \n",
      "________________________________________________________________________________\n",
      "res3a_branch2a (Conv2D)   (None, None, None 32896    activation_108[0][0]       \n",
      "________________________________________________________________________________\n",
      "bn3a_branch2a (BatchNorma (None, None, None 512      res3a_branch2a[0][0]       \n",
      "________________________________________________________________________________\n",
      "activation_109 (Activatio (None, None, None 0        bn3a_branch2a[0][0]        \n",
      "________________________________________________________________________________\n",
      "res3a_branch2b (Conv2D)   (None, None, None 147584   activation_109[0][0]       \n",
      "________________________________________________________________________________\n",
      "bn3a_branch2b (BatchNorma (None, None, None 512      res3a_branch2b[0][0]       \n",
      "________________________________________________________________________________\n",
      "activation_110 (Activatio (None, None, None 0        bn3a_branch2b[0][0]        \n",
      "________________________________________________________________________________\n",
      "res3a_branch2c (Conv2D)   (None, None, None 66048    activation_110[0][0]       \n",
      "________________________________________________________________________________\n",
      "res3a_branch1 (Conv2D)    (None, None, None 131584   activation_108[0][0]       \n",
      "________________________________________________________________________________\n",
      "bn3a_branch2c (BatchNorma (None, None, None 2048     res3a_branch2c[0][0]       \n",
      "________________________________________________________________________________\n",
      "bn3a_branch1 (BatchNormal (None, None, None 2048     res3a_branch1[0][0]        \n",
      "________________________________________________________________________________\n",
      "add_36 (Add)              (None, None, None 0        bn3a_branch2c[0][0]        \n",
      "                                                     bn3a_branch1[0][0]         \n",
      "________________________________________________________________________________\n",
      "activation_111 (Activatio (None, None, None 0        add_36[0][0]               \n",
      "________________________________________________________________________________\n",
      "res3b_branch2a (Conv2D)   (None, None, None 65664    activation_111[0][0]       \n",
      "________________________________________________________________________________\n",
      "bn3b_branch2a (BatchNorma (None, None, None 512      res3b_branch2a[0][0]       \n",
      "________________________________________________________________________________\n",
      "activation_112 (Activatio (None, None, None 0        bn3b_branch2a[0][0]        \n",
      "________________________________________________________________________________\n",
      "res3b_branch2b (Conv2D)   (None, None, None 147584   activation_112[0][0]       \n",
      "________________________________________________________________________________\n",
      "bn3b_branch2b (BatchNorma (None, None, None 512      res3b_branch2b[0][0]       \n",
      "________________________________________________________________________________\n",
      "activation_113 (Activatio (None, None, None 0        bn3b_branch2b[0][0]        \n",
      "________________________________________________________________________________\n",
      "res3b_branch2c (Conv2D)   (None, None, None 66048    activation_113[0][0]       \n",
      "________________________________________________________________________________\n",
      "bn3b_branch2c (BatchNorma (None, None, None 2048     res3b_branch2c[0][0]       \n",
      "________________________________________________________________________________\n",
      "add_37 (Add)              (None, None, None 0        bn3b_branch2c[0][0]        \n",
      "                                                     activation_111[0][0]       \n",
      "________________________________________________________________________________\n",
      "activation_114 (Activatio (None, None, None 0        add_37[0][0]               \n",
      "________________________________________________________________________________\n",
      "res3c_branch2a (Conv2D)   (None, None, None 65664    activation_114[0][0]       \n",
      "________________________________________________________________________________\n",
      "bn3c_branch2a (BatchNorma (None, None, None 512      res3c_branch2a[0][0]       \n",
      "________________________________________________________________________________\n",
      "activation_115 (Activatio (None, None, None 0        bn3c_branch2a[0][0]        \n",
      "________________________________________________________________________________\n",
      "res3c_branch2b (Conv2D)   (None, None, None 147584   activation_115[0][0]       \n",
      "________________________________________________________________________________\n",
      "bn3c_branch2b (BatchNorma (None, None, None 512      res3c_branch2b[0][0]       \n",
      "________________________________________________________________________________\n",
      "activation_116 (Activatio (None, None, None 0        bn3c_branch2b[0][0]        \n",
      "________________________________________________________________________________\n",
      "res3c_branch2c (Conv2D)   (None, None, None 66048    activation_116[0][0]       \n",
      "________________________________________________________________________________\n",
      "bn3c_branch2c (BatchNorma (None, None, None 2048     res3c_branch2c[0][0]       \n",
      "________________________________________________________________________________\n",
      "add_38 (Add)              (None, None, None 0        bn3c_branch2c[0][0]        \n",
      "                                                     activation_114[0][0]       \n",
      "________________________________________________________________________________\n",
      "activation_117 (Activatio (None, None, None 0        add_38[0][0]               \n",
      "________________________________________________________________________________\n",
      "res3d_branch2a (Conv2D)   (None, None, None 65664    activation_117[0][0]       \n",
      "________________________________________________________________________________\n",
      "bn3d_branch2a (BatchNorma (None, None, None 512      res3d_branch2a[0][0]       \n",
      "________________________________________________________________________________\n",
      "activation_118 (Activatio (None, None, None 0        bn3d_branch2a[0][0]        \n",
      "________________________________________________________________________________\n",
      "res3d_branch2b (Conv2D)   (None, None, None 147584   activation_118[0][0]       \n",
      "________________________________________________________________________________\n",
      "bn3d_branch2b (BatchNorma (None, None, None 512      res3d_branch2b[0][0]       \n",
      "________________________________________________________________________________\n",
      "activation_119 (Activatio (None, None, None 0        bn3d_branch2b[0][0]        \n",
      "________________________________________________________________________________\n",
      "res3d_branch2c (Conv2D)   (None, None, None 66048    activation_119[0][0]       \n",
      "________________________________________________________________________________\n",
      "bn3d_branch2c (BatchNorma (None, None, None 2048     res3d_branch2c[0][0]       \n",
      "________________________________________________________________________________\n",
      "add_39 (Add)              (None, None, None 0        bn3d_branch2c[0][0]        \n",
      "                                                     activation_117[0][0]       \n",
      "________________________________________________________________________________\n",
      "activation_120 (Activatio (None, None, None 0        add_39[0][0]               \n",
      "________________________________________________________________________________\n",
      "res4a_branch2a (Conv2D)   (None, None, None 131328   activation_120[0][0]       \n",
      "________________________________________________________________________________\n",
      "bn4a_branch2a (BatchNorma (None, None, None 1024     res4a_branch2a[0][0]       \n",
      "________________________________________________________________________________\n",
      "activation_121 (Activatio (None, None, None 0        bn4a_branch2a[0][0]        \n",
      "________________________________________________________________________________\n",
      "res4a_branch2b (Conv2D)   (None, None, None 590080   activation_121[0][0]       \n",
      "________________________________________________________________________________\n",
      "bn4a_branch2b (BatchNorma (None, None, None 1024     res4a_branch2b[0][0]       \n",
      "________________________________________________________________________________\n",
      "activation_122 (Activatio (None, None, None 0        bn4a_branch2b[0][0]        \n",
      "________________________________________________________________________________\n",
      "res4a_branch2c (Conv2D)   (None, None, None 263168   activation_122[0][0]       \n",
      "________________________________________________________________________________\n",
      "res4a_branch1 (Conv2D)    (None, None, None 525312   activation_120[0][0]       \n",
      "________________________________________________________________________________\n",
      "bn4a_branch2c (BatchNorma (None, None, None 4096     res4a_branch2c[0][0]       \n",
      "________________________________________________________________________________\n",
      "bn4a_branch1 (BatchNormal (None, None, None 4096     res4a_branch1[0][0]        \n",
      "________________________________________________________________________________\n",
      "add_40 (Add)              (None, None, None 0        bn4a_branch2c[0][0]        \n",
      "                                                     bn4a_branch1[0][0]         \n",
      "________________________________________________________________________________\n",
      "activation_123 (Activatio (None, None, None 0        add_40[0][0]               \n",
      "________________________________________________________________________________\n",
      "res4b_branch2a (Conv2D)   (None, None, None 262400   activation_123[0][0]       \n",
      "________________________________________________________________________________\n",
      "bn4b_branch2a (BatchNorma (None, None, None 1024     res4b_branch2a[0][0]       \n",
      "________________________________________________________________________________\n",
      "activation_124 (Activatio (None, None, None 0        bn4b_branch2a[0][0]        \n",
      "________________________________________________________________________________\n",
      "res4b_branch2b (Conv2D)   (None, None, None 590080   activation_124[0][0]       \n",
      "________________________________________________________________________________\n",
      "bn4b_branch2b (BatchNorma (None, None, None 1024     res4b_branch2b[0][0]       \n",
      "________________________________________________________________________________\n",
      "activation_125 (Activatio (None, None, None 0        bn4b_branch2b[0][0]        \n",
      "________________________________________________________________________________\n",
      "res4b_branch2c (Conv2D)   (None, None, None 263168   activation_125[0][0]       \n",
      "________________________________________________________________________________\n",
      "bn4b_branch2c (BatchNorma (None, None, None 4096     res4b_branch2c[0][0]       \n",
      "________________________________________________________________________________\n",
      "add_41 (Add)              (None, None, None 0        bn4b_branch2c[0][0]        \n",
      "                                                     activation_123[0][0]       \n",
      "________________________________________________________________________________\n",
      "activation_126 (Activatio (None, None, None 0        add_41[0][0]               \n",
      "________________________________________________________________________________\n",
      "res4c_branch2a (Conv2D)   (None, None, None 262400   activation_126[0][0]       \n",
      "________________________________________________________________________________\n",
      "bn4c_branch2a (BatchNorma (None, None, None 1024     res4c_branch2a[0][0]       \n",
      "________________________________________________________________________________\n",
      "activation_127 (Activatio (None, None, None 0        bn4c_branch2a[0][0]        \n",
      "________________________________________________________________________________\n",
      "res4c_branch2b (Conv2D)   (None, None, None 590080   activation_127[0][0]       \n",
      "________________________________________________________________________________\n",
      "bn4c_branch2b (BatchNorma (None, None, None 1024     res4c_branch2b[0][0]       \n",
      "________________________________________________________________________________\n",
      "activation_128 (Activatio (None, None, None 0        bn4c_branch2b[0][0]        \n",
      "________________________________________________________________________________\n",
      "res4c_branch2c (Conv2D)   (None, None, None 263168   activation_128[0][0]       \n",
      "________________________________________________________________________________\n",
      "bn4c_branch2c (BatchNorma (None, None, None 4096     res4c_branch2c[0][0]       \n",
      "________________________________________________________________________________\n",
      "add_42 (Add)              (None, None, None 0        bn4c_branch2c[0][0]        \n",
      "                                                     activation_126[0][0]       \n",
      "________________________________________________________________________________\n",
      "activation_129 (Activatio (None, None, None 0        add_42[0][0]               \n",
      "________________________________________________________________________________\n",
      "res4d_branch2a (Conv2D)   (None, None, None 262400   activation_129[0][0]       \n",
      "________________________________________________________________________________\n",
      "bn4d_branch2a (BatchNorma (None, None, None 1024     res4d_branch2a[0][0]       \n",
      "________________________________________________________________________________\n",
      "activation_130 (Activatio (None, None, None 0        bn4d_branch2a[0][0]        \n",
      "________________________________________________________________________________\n",
      "res4d_branch2b (Conv2D)   (None, None, None 590080   activation_130[0][0]       \n",
      "________________________________________________________________________________\n",
      "bn4d_branch2b (BatchNorma (None, None, None 1024     res4d_branch2b[0][0]       \n",
      "________________________________________________________________________________\n",
      "activation_131 (Activatio (None, None, None 0        bn4d_branch2b[0][0]        \n",
      "________________________________________________________________________________\n",
      "res4d_branch2c (Conv2D)   (None, None, None 263168   activation_131[0][0]       \n",
      "________________________________________________________________________________\n",
      "bn4d_branch2c (BatchNorma (None, None, None 4096     res4d_branch2c[0][0]       \n",
      "________________________________________________________________________________\n",
      "add_43 (Add)              (None, None, None 0        bn4d_branch2c[0][0]        \n",
      "                                                     activation_129[0][0]       \n",
      "________________________________________________________________________________\n",
      "activation_132 (Activatio (None, None, None 0        add_43[0][0]               \n",
      "________________________________________________________________________________\n",
      "res4e_branch2a (Conv2D)   (None, None, None 262400   activation_132[0][0]       \n",
      "________________________________________________________________________________\n",
      "bn4e_branch2a (BatchNorma (None, None, None 1024     res4e_branch2a[0][0]       \n",
      "________________________________________________________________________________\n",
      "activation_133 (Activatio (None, None, None 0        bn4e_branch2a[0][0]        \n",
      "________________________________________________________________________________\n",
      "res4e_branch2b (Conv2D)   (None, None, None 590080   activation_133[0][0]       \n",
      "________________________________________________________________________________\n",
      "bn4e_branch2b (BatchNorma (None, None, None 1024     res4e_branch2b[0][0]       \n",
      "________________________________________________________________________________\n",
      "activation_134 (Activatio (None, None, None 0        bn4e_branch2b[0][0]        \n",
      "________________________________________________________________________________\n",
      "res4e_branch2c (Conv2D)   (None, None, None 263168   activation_134[0][0]       \n",
      "________________________________________________________________________________\n",
      "bn4e_branch2c (BatchNorma (None, None, None 4096     res4e_branch2c[0][0]       \n",
      "________________________________________________________________________________\n",
      "add_44 (Add)              (None, None, None 0        bn4e_branch2c[0][0]        \n",
      "                                                     activation_132[0][0]       \n",
      "________________________________________________________________________________\n",
      "activation_135 (Activatio (None, None, None 0        add_44[0][0]               \n",
      "________________________________________________________________________________\n",
      "res4f_branch2a (Conv2D)   (None, None, None 262400   activation_135[0][0]       \n",
      "________________________________________________________________________________\n",
      "bn4f_branch2a (BatchNorma (None, None, None 1024     res4f_branch2a[0][0]       \n",
      "________________________________________________________________________________\n",
      "activation_136 (Activatio (None, None, None 0        bn4f_branch2a[0][0]        \n",
      "________________________________________________________________________________\n",
      "res4f_branch2b (Conv2D)   (None, None, None 590080   activation_136[0][0]       \n",
      "________________________________________________________________________________\n",
      "bn4f_branch2b (BatchNorma (None, None, None 1024     res4f_branch2b[0][0]       \n",
      "________________________________________________________________________________\n",
      "activation_137 (Activatio (None, None, None 0        bn4f_branch2b[0][0]        \n",
      "________________________________________________________________________________\n",
      "res4f_branch2c (Conv2D)   (None, None, None 263168   activation_137[0][0]       \n",
      "________________________________________________________________________________\n",
      "bn4f_branch2c (BatchNorma (None, None, None 4096     res4f_branch2c[0][0]       \n",
      "________________________________________________________________________________\n",
      "add_45 (Add)              (None, None, None 0        bn4f_branch2c[0][0]        \n",
      "                                                     activation_135[0][0]       \n",
      "________________________________________________________________________________\n",
      "activation_138 (Activatio (None, None, None 0        add_45[0][0]               \n",
      "________________________________________________________________________________\n",
      "res5a_branch2a (Conv2D)   (None, None, None 524800   activation_138[0][0]       \n",
      "________________________________________________________________________________\n",
      "bn5a_branch2a (BatchNorma (None, None, None 2048     res5a_branch2a[0][0]       \n",
      "________________________________________________________________________________\n",
      "activation_139 (Activatio (None, None, None 0        bn5a_branch2a[0][0]        \n",
      "________________________________________________________________________________\n",
      "res5a_branch2b (Conv2D)   (None, None, None 2359808  activation_139[0][0]       \n",
      "________________________________________________________________________________\n",
      "bn5a_branch2b (BatchNorma (None, None, None 2048     res5a_branch2b[0][0]       \n",
      "________________________________________________________________________________\n",
      "activation_140 (Activatio (None, None, None 0        bn5a_branch2b[0][0]        \n",
      "________________________________________________________________________________\n",
      "res5a_branch2c (Conv2D)   (None, None, None 1050624  activation_140[0][0]       \n",
      "________________________________________________________________________________\n",
      "res5a_branch1 (Conv2D)    (None, None, None 2099200  activation_138[0][0]       \n",
      "________________________________________________________________________________\n",
      "bn5a_branch2c (BatchNorma (None, None, None 8192     res5a_branch2c[0][0]       \n",
      "________________________________________________________________________________\n",
      "bn5a_branch1 (BatchNormal (None, None, None 8192     res5a_branch1[0][0]        \n",
      "________________________________________________________________________________\n",
      "add_46 (Add)              (None, None, None 0        bn5a_branch2c[0][0]        \n",
      "                                                     bn5a_branch1[0][0]         \n",
      "________________________________________________________________________________\n",
      "activation_141 (Activatio (None, None, None 0        add_46[0][0]               \n",
      "________________________________________________________________________________\n",
      "res5b_branch2a (Conv2D)   (None, None, None 1049088  activation_141[0][0]       \n",
      "________________________________________________________________________________\n",
      "bn5b_branch2a (BatchNorma (None, None, None 2048     res5b_branch2a[0][0]       \n",
      "________________________________________________________________________________\n",
      "activation_142 (Activatio (None, None, None 0        bn5b_branch2a[0][0]        \n",
      "________________________________________________________________________________\n",
      "res5b_branch2b (Conv2D)   (None, None, None 2359808  activation_142[0][0]       \n",
      "________________________________________________________________________________\n",
      "bn5b_branch2b (BatchNorma (None, None, None 2048     res5b_branch2b[0][0]       \n",
      "________________________________________________________________________________\n",
      "activation_143 (Activatio (None, None, None 0        bn5b_branch2b[0][0]        \n",
      "________________________________________________________________________________\n",
      "res5b_branch2c (Conv2D)   (None, None, None 1050624  activation_143[0][0]       \n",
      "________________________________________________________________________________\n",
      "bn5b_branch2c (BatchNorma (None, None, None 8192     res5b_branch2c[0][0]       \n",
      "________________________________________________________________________________\n",
      "add_47 (Add)              (None, None, None 0        bn5b_branch2c[0][0]        \n",
      "                                                     activation_141[0][0]       \n",
      "________________________________________________________________________________\n",
      "activation_144 (Activatio (None, None, None 0        add_47[0][0]               \n",
      "________________________________________________________________________________\n",
      "res5c_branch2a (Conv2D)   (None, None, None 1049088  activation_144[0][0]       \n",
      "________________________________________________________________________________\n",
      "bn5c_branch2a (BatchNorma (None, None, None 2048     res5c_branch2a[0][0]       \n",
      "________________________________________________________________________________\n",
      "activation_145 (Activatio (None, None, None 0        bn5c_branch2a[0][0]        \n",
      "________________________________________________________________________________\n",
      "res5c_branch2b (Conv2D)   (None, None, None 2359808  activation_145[0][0]       \n",
      "________________________________________________________________________________\n",
      "bn5c_branch2b (BatchNorma (None, None, None 2048     res5c_branch2b[0][0]       \n",
      "________________________________________________________________________________\n",
      "activation_146 (Activatio (None, None, None 0        bn5c_branch2b[0][0]        \n",
      "________________________________________________________________________________\n",
      "res5c_branch2c (Conv2D)   (None, None, None 1050624  activation_146[0][0]       \n",
      "________________________________________________________________________________\n",
      "bn5c_branch2c (BatchNorma (None, None, None 8192     res5c_branch2c[0][0]       \n",
      "________________________________________________________________________________\n",
      "add_48 (Add)              (None, None, None 0        bn5c_branch2c[0][0]        \n",
      "                                                     activation_144[0][0]       \n",
      "________________________________________________________________________________\n",
      "activation_147 (Activatio (None, None, None 0        add_48[0][0]               \n",
      "________________________________________________________________________________\n",
      "avg_pool (AveragePooling2 (None, None, None 0        activation_147[0][0]       \n",
      "================================================================================\n",
      "Total params: 23,587,712\n",
      "Trainable params: 0\n",
      "Non-trainable params: 23,587,712\n",
      "________________________________________________________________________________\n"
     ]
    }
   ],
   "source": [
    "summary(base_model)"
   ]
  },
  {
   "cell_type": "code",
   "execution_count": 119,
   "metadata": {},
   "outputs": [],
   "source": [
    "# add our custom layers\n",
    "ext_model <- base_model$output %>% \n",
    "    layer_conv_2d(filters = 32, kernel_size = c(3, 3), activation = 'relu', \n",
    "                 padding = 'valid', stride = 2) %>% \n",
    "    layer_global_average_pooling_2d() %>% \n",
    "    layer_dense(units = 1024, activation = 'relu') %>% \n",
    "    layer_dense(units = 1, activation = 'sigmoid')\n",
    "\n",
    "# this is the model we will train\n",
    "model <- keras_model(inputs = base_model$input, outputs = ext_model)\n"
   ]
  },
  {
   "cell_type": "code",
   "execution_count": 120,
   "metadata": {
    "collapsed": true
   },
   "outputs": [
    {
     "name": "stdout",
     "output_type": "stream",
     "text": [
      "1 input_8 \n",
      "2 conv1 \n",
      "3 bn_conv1 \n",
      "4 activation_344 \n",
      "5 max_pooling2d_8 \n",
      "6 res2a_branch2a \n",
      "7 bn2a_branch2a \n",
      "8 activation_345 \n",
      "9 res2a_branch2b \n",
      "10 bn2a_branch2b \n",
      "11 activation_346 \n",
      "12 res2a_branch2c \n",
      "13 res2a_branch1 \n",
      "14 bn2a_branch2c \n",
      "15 bn2a_branch1 \n",
      "16 add_113 \n",
      "17 activation_347 \n",
      "18 res2b_branch2a \n",
      "19 bn2b_branch2a \n",
      "20 activation_348 \n",
      "21 res2b_branch2b \n",
      "22 bn2b_branch2b \n",
      "23 activation_349 \n",
      "24 res2b_branch2c \n",
      "25 bn2b_branch2c \n",
      "26 add_114 \n",
      "27 activation_350 \n",
      "28 res2c_branch2a \n",
      "29 bn2c_branch2a \n",
      "30 activation_351 \n",
      "31 res2c_branch2b \n",
      "32 bn2c_branch2b \n",
      "33 activation_352 \n",
      "34 res2c_branch2c \n",
      "35 bn2c_branch2c \n",
      "36 add_115 \n",
      "37 activation_353 \n",
      "38 res3a_branch2a \n",
      "39 bn3a_branch2a \n",
      "40 activation_354 \n",
      "41 res3a_branch2b \n",
      "42 bn3a_branch2b \n",
      "43 activation_355 \n",
      "44 res3a_branch2c \n",
      "45 res3a_branch1 \n",
      "46 bn3a_branch2c \n",
      "47 bn3a_branch1 \n",
      "48 add_116 \n",
      "49 activation_356 \n",
      "50 res3b_branch2a \n",
      "51 bn3b_branch2a \n",
      "52 activation_357 \n",
      "53 res3b_branch2b \n",
      "54 bn3b_branch2b \n",
      "55 activation_358 \n",
      "56 res3b_branch2c \n",
      "57 bn3b_branch2c \n",
      "58 add_117 \n",
      "59 activation_359 \n",
      "60 res3c_branch2a \n",
      "61 bn3c_branch2a \n",
      "62 activation_360 \n",
      "63 res3c_branch2b \n",
      "64 bn3c_branch2b \n",
      "65 activation_361 \n",
      "66 res3c_branch2c \n",
      "67 bn3c_branch2c \n",
      "68 add_118 \n",
      "69 activation_362 \n",
      "70 res3d_branch2a \n",
      "71 bn3d_branch2a \n",
      "72 activation_363 \n",
      "73 res3d_branch2b \n",
      "74 bn3d_branch2b \n",
      "75 activation_364 \n",
      "76 res3d_branch2c \n",
      "77 bn3d_branch2c \n",
      "78 add_119 \n",
      "79 activation_365 \n",
      "80 res4a_branch2a \n",
      "81 bn4a_branch2a \n",
      "82 activation_366 \n",
      "83 res4a_branch2b \n",
      "84 bn4a_branch2b \n",
      "85 activation_367 \n",
      "86 res4a_branch2c \n",
      "87 res4a_branch1 \n",
      "88 bn4a_branch2c \n",
      "89 bn4a_branch1 \n",
      "90 add_120 \n",
      "91 activation_368 \n",
      "92 res4b_branch2a \n",
      "93 bn4b_branch2a \n",
      "94 activation_369 \n",
      "95 res4b_branch2b \n",
      "96 bn4b_branch2b \n",
      "97 activation_370 \n",
      "98 res4b_branch2c \n",
      "99 bn4b_branch2c \n",
      "100 add_121 \n",
      "101 activation_371 \n",
      "102 res4c_branch2a \n",
      "103 bn4c_branch2a \n",
      "104 activation_372 \n",
      "105 res4c_branch2b \n",
      "106 bn4c_branch2b \n",
      "107 activation_373 \n",
      "108 res4c_branch2c \n",
      "109 bn4c_branch2c \n",
      "110 add_122 \n",
      "111 activation_374 \n",
      "112 res4d_branch2a \n",
      "113 bn4d_branch2a \n",
      "114 activation_375 \n",
      "115 res4d_branch2b \n",
      "116 bn4d_branch2b \n",
      "117 activation_376 \n",
      "118 res4d_branch2c \n",
      "119 bn4d_branch2c \n",
      "120 add_123 \n",
      "121 activation_377 \n",
      "122 res4e_branch2a \n",
      "123 bn4e_branch2a \n",
      "124 activation_378 \n",
      "125 res4e_branch2b \n",
      "126 bn4e_branch2b \n",
      "127 activation_379 \n",
      "128 res4e_branch2c \n",
      "129 bn4e_branch2c \n",
      "130 add_124 \n",
      "131 activation_380 \n",
      "132 res4f_branch2a \n",
      "133 bn4f_branch2a \n",
      "134 activation_381 \n",
      "135 res4f_branch2b \n",
      "136 bn4f_branch2b \n",
      "137 activation_382 \n",
      "138 res4f_branch2c \n",
      "139 bn4f_branch2c \n",
      "140 add_125 \n",
      "141 activation_383 \n",
      "142 res5a_branch2a \n",
      "143 bn5a_branch2a \n",
      "144 activation_384 \n",
      "145 res5a_branch2b \n",
      "146 bn5a_branch2b \n",
      "147 activation_385 \n",
      "148 res5a_branch2c \n",
      "149 res5a_branch1 \n",
      "150 bn5a_branch2c \n",
      "151 bn5a_branch1 \n",
      "152 add_126 \n",
      "153 activation_386 \n",
      "154 res5b_branch2a \n",
      "155 bn5b_branch2a \n",
      "156 activation_387 \n",
      "157 res5b_branch2b \n",
      "158 bn5b_branch2b \n",
      "159 activation_388 \n",
      "160 res5b_branch2c \n",
      "161 bn5b_branch2c \n",
      "162 add_127 \n",
      "163 activation_389 \n",
      "164 res5c_branch2a \n",
      "165 bn5c_branch2a \n",
      "166 activation_390 \n",
      "167 res5c_branch2b \n",
      "168 bn5c_branch2b \n",
      "169 activation_391 \n",
      "170 res5c_branch2c \n",
      "171 bn5c_branch2c \n",
      "172 add_128 \n",
      "173 activation_392 \n",
      "174 avg_pool \n",
      "175 conv2d_19 \n",
      "176 global_average_pooling2d_24 \n",
      "177 dense_47 \n",
      "178 dense_48 \n"
     ]
    }
   ],
   "source": [
    "# check the layers in this huge model\n",
    "layers <- model$layers\n",
    "for (i in 1:length(layers))\n",
    "  cat(i, layers[[i]]$name, \"\\n\")"
   ]
  },
  {
   "cell_type": "code",
   "execution_count": 121,
   "metadata": {},
   "outputs": [],
   "source": [
    "# train only the top layers \n",
    "# freeze all layers from the ResNet50\n",
    "freeze_weights(model, from = 1, to = 175)\n",
    "model %>% compile(optimizer = 'adam', loss = 'binary_crossentropy')"
   ]
  },
  {
   "cell_type": "code",
   "execution_count": 113,
   "metadata": {
    "collapsed": true
   },
   "outputs": [
    {
     "name": "stdout",
     "output_type": "stream",
     "text": [
      "________________________________________________________________________________\n",
      "Layer (type)              Output Shape      Param #  Connected to               \n",
      "================================================================================\n",
      "input_8 (InputLayer)      (None, None, None 0                                   \n",
      "________________________________________________________________________________\n",
      "conv1 (Conv2D)            (None, None, None 9472     input_8[0][0]              \n",
      "________________________________________________________________________________\n",
      "bn_conv1 (BatchNormalizat (None, None, None 256      conv1[0][0]                \n",
      "________________________________________________________________________________\n",
      "activation_344 (Activatio (None, None, None 0        bn_conv1[0][0]             \n",
      "________________________________________________________________________________\n",
      "max_pooling2d_8 (MaxPooli (None, None, None 0        activation_344[0][0]       \n",
      "________________________________________________________________________________\n",
      "res2a_branch2a (Conv2D)   (None, None, None 4160     max_pooling2d_8[0][0]      \n",
      "________________________________________________________________________________\n",
      "bn2a_branch2a (BatchNorma (None, None, None 256      res2a_branch2a[0][0]       \n",
      "________________________________________________________________________________\n",
      "activation_345 (Activatio (None, None, None 0        bn2a_branch2a[0][0]        \n",
      "________________________________________________________________________________\n",
      "res2a_branch2b (Conv2D)   (None, None, None 36928    activation_345[0][0]       \n",
      "________________________________________________________________________________\n",
      "bn2a_branch2b (BatchNorma (None, None, None 256      res2a_branch2b[0][0]       \n",
      "________________________________________________________________________________\n",
      "activation_346 (Activatio (None, None, None 0        bn2a_branch2b[0][0]        \n",
      "________________________________________________________________________________\n",
      "res2a_branch2c (Conv2D)   (None, None, None 16640    activation_346[0][0]       \n",
      "________________________________________________________________________________\n",
      "res2a_branch1 (Conv2D)    (None, None, None 16640    max_pooling2d_8[0][0]      \n",
      "________________________________________________________________________________\n",
      "bn2a_branch2c (BatchNorma (None, None, None 1024     res2a_branch2c[0][0]       \n",
      "________________________________________________________________________________\n",
      "bn2a_branch1 (BatchNormal (None, None, None 1024     res2a_branch1[0][0]        \n",
      "________________________________________________________________________________\n",
      "add_113 (Add)             (None, None, None 0        bn2a_branch2c[0][0]        \n",
      "                                                     bn2a_branch1[0][0]         \n",
      "________________________________________________________________________________\n",
      "activation_347 (Activatio (None, None, None 0        add_113[0][0]              \n",
      "________________________________________________________________________________\n",
      "res2b_branch2a (Conv2D)   (None, None, None 16448    activation_347[0][0]       \n",
      "________________________________________________________________________________\n",
      "bn2b_branch2a (BatchNorma (None, None, None 256      res2b_branch2a[0][0]       \n",
      "________________________________________________________________________________\n",
      "activation_348 (Activatio (None, None, None 0        bn2b_branch2a[0][0]        \n",
      "________________________________________________________________________________\n",
      "res2b_branch2b (Conv2D)   (None, None, None 36928    activation_348[0][0]       \n",
      "________________________________________________________________________________\n",
      "bn2b_branch2b (BatchNorma (None, None, None 256      res2b_branch2b[0][0]       \n",
      "________________________________________________________________________________\n",
      "activation_349 (Activatio (None, None, None 0        bn2b_branch2b[0][0]        \n",
      "________________________________________________________________________________\n",
      "res2b_branch2c (Conv2D)   (None, None, None 16640    activation_349[0][0]       \n",
      "________________________________________________________________________________\n",
      "bn2b_branch2c (BatchNorma (None, None, None 1024     res2b_branch2c[0][0]       \n",
      "________________________________________________________________________________\n",
      "add_114 (Add)             (None, None, None 0        bn2b_branch2c[0][0]        \n",
      "                                                     activation_347[0][0]       \n",
      "________________________________________________________________________________\n",
      "activation_350 (Activatio (None, None, None 0        add_114[0][0]              \n",
      "________________________________________________________________________________\n",
      "res2c_branch2a (Conv2D)   (None, None, None 16448    activation_350[0][0]       \n",
      "________________________________________________________________________________\n",
      "bn2c_branch2a (BatchNorma (None, None, None 256      res2c_branch2a[0][0]       \n",
      "________________________________________________________________________________\n",
      "activation_351 (Activatio (None, None, None 0        bn2c_branch2a[0][0]        \n",
      "________________________________________________________________________________\n",
      "res2c_branch2b (Conv2D)   (None, None, None 36928    activation_351[0][0]       \n",
      "________________________________________________________________________________\n",
      "bn2c_branch2b (BatchNorma (None, None, None 256      res2c_branch2b[0][0]       \n",
      "________________________________________________________________________________\n",
      "activation_352 (Activatio (None, None, None 0        bn2c_branch2b[0][0]        \n",
      "________________________________________________________________________________\n",
      "res2c_branch2c (Conv2D)   (None, None, None 16640    activation_352[0][0]       \n",
      "________________________________________________________________________________\n",
      "bn2c_branch2c (BatchNorma (None, None, None 1024     res2c_branch2c[0][0]       \n",
      "________________________________________________________________________________\n",
      "add_115 (Add)             (None, None, None 0        bn2c_branch2c[0][0]        \n",
      "                                                     activation_350[0][0]       \n",
      "________________________________________________________________________________\n",
      "activation_353 (Activatio (None, None, None 0        add_115[0][0]              \n",
      "________________________________________________________________________________\n",
      "res3a_branch2a (Conv2D)   (None, None, None 32896    activation_353[0][0]       \n",
      "________________________________________________________________________________\n",
      "bn3a_branch2a (BatchNorma (None, None, None 512      res3a_branch2a[0][0]       \n",
      "________________________________________________________________________________\n",
      "activation_354 (Activatio (None, None, None 0        bn3a_branch2a[0][0]        \n",
      "________________________________________________________________________________\n",
      "res3a_branch2b (Conv2D)   (None, None, None 147584   activation_354[0][0]       \n",
      "________________________________________________________________________________\n",
      "bn3a_branch2b (BatchNorma (None, None, None 512      res3a_branch2b[0][0]       \n",
      "________________________________________________________________________________\n",
      "activation_355 (Activatio (None, None, None 0        bn3a_branch2b[0][0]        \n",
      "________________________________________________________________________________\n",
      "res3a_branch2c (Conv2D)   (None, None, None 66048    activation_355[0][0]       \n",
      "________________________________________________________________________________\n",
      "res3a_branch1 (Conv2D)    (None, None, None 131584   activation_353[0][0]       \n",
      "________________________________________________________________________________\n",
      "bn3a_branch2c (BatchNorma (None, None, None 2048     res3a_branch2c[0][0]       \n",
      "________________________________________________________________________________\n",
      "bn3a_branch1 (BatchNormal (None, None, None 2048     res3a_branch1[0][0]        \n",
      "________________________________________________________________________________\n",
      "add_116 (Add)             (None, None, None 0        bn3a_branch2c[0][0]        \n",
      "                                                     bn3a_branch1[0][0]         \n",
      "________________________________________________________________________________\n",
      "activation_356 (Activatio (None, None, None 0        add_116[0][0]              \n",
      "________________________________________________________________________________\n",
      "res3b_branch2a (Conv2D)   (None, None, None 65664    activation_356[0][0]       \n",
      "________________________________________________________________________________\n",
      "bn3b_branch2a (BatchNorma (None, None, None 512      res3b_branch2a[0][0]       \n",
      "________________________________________________________________________________\n",
      "activation_357 (Activatio (None, None, None 0        bn3b_branch2a[0][0]        \n",
      "________________________________________________________________________________\n",
      "res3b_branch2b (Conv2D)   (None, None, None 147584   activation_357[0][0]       \n",
      "________________________________________________________________________________\n",
      "bn3b_branch2b (BatchNorma (None, None, None 512      res3b_branch2b[0][0]       \n",
      "________________________________________________________________________________\n",
      "activation_358 (Activatio (None, None, None 0        bn3b_branch2b[0][0]        \n",
      "________________________________________________________________________________\n",
      "res3b_branch2c (Conv2D)   (None, None, None 66048    activation_358[0][0]       \n",
      "________________________________________________________________________________\n",
      "bn3b_branch2c (BatchNorma (None, None, None 2048     res3b_branch2c[0][0]       \n",
      "________________________________________________________________________________\n",
      "add_117 (Add)             (None, None, None 0        bn3b_branch2c[0][0]        \n",
      "                                                     activation_356[0][0]       \n",
      "________________________________________________________________________________\n",
      "activation_359 (Activatio (None, None, None 0        add_117[0][0]              \n",
      "________________________________________________________________________________\n",
      "res3c_branch2a (Conv2D)   (None, None, None 65664    activation_359[0][0]       \n",
      "________________________________________________________________________________\n",
      "bn3c_branch2a (BatchNorma (None, None, None 512      res3c_branch2a[0][0]       \n",
      "________________________________________________________________________________\n",
      "activation_360 (Activatio (None, None, None 0        bn3c_branch2a[0][0]        \n",
      "________________________________________________________________________________\n",
      "res3c_branch2b (Conv2D)   (None, None, None 147584   activation_360[0][0]       \n",
      "________________________________________________________________________________\n",
      "bn3c_branch2b (BatchNorma (None, None, None 512      res3c_branch2b[0][0]       \n",
      "________________________________________________________________________________\n",
      "activation_361 (Activatio (None, None, None 0        bn3c_branch2b[0][0]        \n",
      "________________________________________________________________________________\n",
      "res3c_branch2c (Conv2D)   (None, None, None 66048    activation_361[0][0]       \n",
      "________________________________________________________________________________\n",
      "bn3c_branch2c (BatchNorma (None, None, None 2048     res3c_branch2c[0][0]       \n",
      "________________________________________________________________________________\n",
      "add_118 (Add)             (None, None, None 0        bn3c_branch2c[0][0]        \n",
      "                                                     activation_359[0][0]       \n",
      "________________________________________________________________________________\n",
      "activation_362 (Activatio (None, None, None 0        add_118[0][0]              \n",
      "________________________________________________________________________________\n",
      "res3d_branch2a (Conv2D)   (None, None, None 65664    activation_362[0][0]       \n",
      "________________________________________________________________________________\n",
      "bn3d_branch2a (BatchNorma (None, None, None 512      res3d_branch2a[0][0]       \n",
      "________________________________________________________________________________\n",
      "activation_363 (Activatio (None, None, None 0        bn3d_branch2a[0][0]        \n",
      "________________________________________________________________________________\n",
      "res3d_branch2b (Conv2D)   (None, None, None 147584   activation_363[0][0]       \n",
      "________________________________________________________________________________\n",
      "bn3d_branch2b (BatchNorma (None, None, None 512      res3d_branch2b[0][0]       \n",
      "________________________________________________________________________________\n",
      "activation_364 (Activatio (None, None, None 0        bn3d_branch2b[0][0]        \n",
      "________________________________________________________________________________\n",
      "res3d_branch2c (Conv2D)   (None, None, None 66048    activation_364[0][0]       \n",
      "________________________________________________________________________________\n",
      "bn3d_branch2c (BatchNorma (None, None, None 2048     res3d_branch2c[0][0]       \n",
      "________________________________________________________________________________\n",
      "add_119 (Add)             (None, None, None 0        bn3d_branch2c[0][0]        \n",
      "                                                     activation_362[0][0]       \n",
      "________________________________________________________________________________\n",
      "activation_365 (Activatio (None, None, None 0        add_119[0][0]              \n",
      "________________________________________________________________________________\n",
      "res4a_branch2a (Conv2D)   (None, None, None 131328   activation_365[0][0]       \n",
      "________________________________________________________________________________\n",
      "bn4a_branch2a (BatchNorma (None, None, None 1024     res4a_branch2a[0][0]       \n",
      "________________________________________________________________________________\n",
      "activation_366 (Activatio (None, None, None 0        bn4a_branch2a[0][0]        \n",
      "________________________________________________________________________________\n",
      "res4a_branch2b (Conv2D)   (None, None, None 590080   activation_366[0][0]       \n",
      "________________________________________________________________________________\n",
      "bn4a_branch2b (BatchNorma (None, None, None 1024     res4a_branch2b[0][0]       \n",
      "________________________________________________________________________________\n",
      "activation_367 (Activatio (None, None, None 0        bn4a_branch2b[0][0]        \n",
      "________________________________________________________________________________\n",
      "res4a_branch2c (Conv2D)   (None, None, None 263168   activation_367[0][0]       \n",
      "________________________________________________________________________________\n",
      "res4a_branch1 (Conv2D)    (None, None, None 525312   activation_365[0][0]       \n",
      "________________________________________________________________________________\n",
      "bn4a_branch2c (BatchNorma (None, None, None 4096     res4a_branch2c[0][0]       \n",
      "________________________________________________________________________________\n",
      "bn4a_branch1 (BatchNormal (None, None, None 4096     res4a_branch1[0][0]        \n",
      "________________________________________________________________________________\n",
      "add_120 (Add)             (None, None, None 0        bn4a_branch2c[0][0]        \n",
      "                                                     bn4a_branch1[0][0]         \n",
      "________________________________________________________________________________\n",
      "activation_368 (Activatio (None, None, None 0        add_120[0][0]              \n",
      "________________________________________________________________________________\n",
      "res4b_branch2a (Conv2D)   (None, None, None 262400   activation_368[0][0]       \n",
      "________________________________________________________________________________\n",
      "bn4b_branch2a (BatchNorma (None, None, None 1024     res4b_branch2a[0][0]       \n",
      "________________________________________________________________________________\n",
      "activation_369 (Activatio (None, None, None 0        bn4b_branch2a[0][0]        \n",
      "________________________________________________________________________________\n",
      "res4b_branch2b (Conv2D)   (None, None, None 590080   activation_369[0][0]       \n",
      "________________________________________________________________________________\n",
      "bn4b_branch2b (BatchNorma (None, None, None 1024     res4b_branch2b[0][0]       \n",
      "________________________________________________________________________________\n",
      "activation_370 (Activatio (None, None, None 0        bn4b_branch2b[0][0]        \n",
      "________________________________________________________________________________\n",
      "res4b_branch2c (Conv2D)   (None, None, None 263168   activation_370[0][0]       \n",
      "________________________________________________________________________________\n",
      "bn4b_branch2c (BatchNorma (None, None, None 4096     res4b_branch2c[0][0]       \n",
      "________________________________________________________________________________\n",
      "add_121 (Add)             (None, None, None 0        bn4b_branch2c[0][0]        \n",
      "                                                     activation_368[0][0]       \n",
      "________________________________________________________________________________\n",
      "activation_371 (Activatio (None, None, None 0        add_121[0][0]              \n",
      "________________________________________________________________________________\n",
      "res4c_branch2a (Conv2D)   (None, None, None 262400   activation_371[0][0]       \n",
      "________________________________________________________________________________\n",
      "bn4c_branch2a (BatchNorma (None, None, None 1024     res4c_branch2a[0][0]       \n",
      "________________________________________________________________________________\n",
      "activation_372 (Activatio (None, None, None 0        bn4c_branch2a[0][0]        \n",
      "________________________________________________________________________________\n",
      "res4c_branch2b (Conv2D)   (None, None, None 590080   activation_372[0][0]       \n",
      "________________________________________________________________________________\n",
      "bn4c_branch2b (BatchNorma (None, None, None 1024     res4c_branch2b[0][0]       \n",
      "________________________________________________________________________________\n",
      "activation_373 (Activatio (None, None, None 0        bn4c_branch2b[0][0]        \n",
      "________________________________________________________________________________\n",
      "res4c_branch2c (Conv2D)   (None, None, None 263168   activation_373[0][0]       \n",
      "________________________________________________________________________________\n",
      "bn4c_branch2c (BatchNorma (None, None, None 4096     res4c_branch2c[0][0]       \n",
      "________________________________________________________________________________\n",
      "add_122 (Add)             (None, None, None 0        bn4c_branch2c[0][0]        \n",
      "                                                     activation_371[0][0]       \n",
      "________________________________________________________________________________\n",
      "activation_374 (Activatio (None, None, None 0        add_122[0][0]              \n",
      "________________________________________________________________________________\n",
      "res4d_branch2a (Conv2D)   (None, None, None 262400   activation_374[0][0]       \n",
      "________________________________________________________________________________\n",
      "bn4d_branch2a (BatchNorma (None, None, None 1024     res4d_branch2a[0][0]       \n",
      "________________________________________________________________________________\n",
      "activation_375 (Activatio (None, None, None 0        bn4d_branch2a[0][0]        \n",
      "________________________________________________________________________________\n",
      "res4d_branch2b (Conv2D)   (None, None, None 590080   activation_375[0][0]       \n",
      "________________________________________________________________________________\n",
      "bn4d_branch2b (BatchNorma (None, None, None 1024     res4d_branch2b[0][0]       \n",
      "________________________________________________________________________________\n",
      "activation_376 (Activatio (None, None, None 0        bn4d_branch2b[0][0]        \n",
      "________________________________________________________________________________\n",
      "res4d_branch2c (Conv2D)   (None, None, None 263168   activation_376[0][0]       \n",
      "________________________________________________________________________________\n",
      "bn4d_branch2c (BatchNorma (None, None, None 4096     res4d_branch2c[0][0]       \n",
      "________________________________________________________________________________\n",
      "add_123 (Add)             (None, None, None 0        bn4d_branch2c[0][0]        \n",
      "                                                     activation_374[0][0]       \n",
      "________________________________________________________________________________\n",
      "activation_377 (Activatio (None, None, None 0        add_123[0][0]              \n",
      "________________________________________________________________________________\n",
      "res4e_branch2a (Conv2D)   (None, None, None 262400   activation_377[0][0]       \n",
      "________________________________________________________________________________\n",
      "bn4e_branch2a (BatchNorma (None, None, None 1024     res4e_branch2a[0][0]       \n",
      "________________________________________________________________________________\n",
      "activation_378 (Activatio (None, None, None 0        bn4e_branch2a[0][0]        \n",
      "________________________________________________________________________________\n",
      "res4e_branch2b (Conv2D)   (None, None, None 590080   activation_378[0][0]       \n",
      "________________________________________________________________________________\n",
      "bn4e_branch2b (BatchNorma (None, None, None 1024     res4e_branch2b[0][0]       \n",
      "________________________________________________________________________________\n",
      "activation_379 (Activatio (None, None, None 0        bn4e_branch2b[0][0]        \n",
      "________________________________________________________________________________\n",
      "res4e_branch2c (Conv2D)   (None, None, None 263168   activation_379[0][0]       \n",
      "________________________________________________________________________________\n",
      "bn4e_branch2c (BatchNorma (None, None, None 4096     res4e_branch2c[0][0]       \n",
      "________________________________________________________________________________\n",
      "add_124 (Add)             (None, None, None 0        bn4e_branch2c[0][0]        \n",
      "                                                     activation_377[0][0]       \n",
      "________________________________________________________________________________\n",
      "activation_380 (Activatio (None, None, None 0        add_124[0][0]              \n",
      "________________________________________________________________________________\n",
      "res4f_branch2a (Conv2D)   (None, None, None 262400   activation_380[0][0]       \n",
      "________________________________________________________________________________\n",
      "bn4f_branch2a (BatchNorma (None, None, None 1024     res4f_branch2a[0][0]       \n",
      "________________________________________________________________________________\n",
      "activation_381 (Activatio (None, None, None 0        bn4f_branch2a[0][0]        \n",
      "________________________________________________________________________________\n",
      "res4f_branch2b (Conv2D)   (None, None, None 590080   activation_381[0][0]       \n",
      "________________________________________________________________________________\n",
      "bn4f_branch2b (BatchNorma (None, None, None 1024     res4f_branch2b[0][0]       \n",
      "________________________________________________________________________________\n",
      "activation_382 (Activatio (None, None, None 0        bn4f_branch2b[0][0]        \n",
      "________________________________________________________________________________\n",
      "res4f_branch2c (Conv2D)   (None, None, None 263168   activation_382[0][0]       \n",
      "________________________________________________________________________________\n",
      "bn4f_branch2c (BatchNorma (None, None, None 4096     res4f_branch2c[0][0]       \n",
      "________________________________________________________________________________\n",
      "add_125 (Add)             (None, None, None 0        bn4f_branch2c[0][0]        \n",
      "                                                     activation_380[0][0]       \n",
      "________________________________________________________________________________\n",
      "activation_383 (Activatio (None, None, None 0        add_125[0][0]              \n",
      "________________________________________________________________________________\n",
      "res5a_branch2a (Conv2D)   (None, None, None 524800   activation_383[0][0]       \n",
      "________________________________________________________________________________\n",
      "bn5a_branch2a (BatchNorma (None, None, None 2048     res5a_branch2a[0][0]       \n",
      "________________________________________________________________________________\n",
      "activation_384 (Activatio (None, None, None 0        bn5a_branch2a[0][0]        \n",
      "________________________________________________________________________________\n",
      "res5a_branch2b (Conv2D)   (None, None, None 2359808  activation_384[0][0]       \n",
      "________________________________________________________________________________\n",
      "bn5a_branch2b (BatchNorma (None, None, None 2048     res5a_branch2b[0][0]       \n",
      "________________________________________________________________________________\n",
      "activation_385 (Activatio (None, None, None 0        bn5a_branch2b[0][0]        \n",
      "________________________________________________________________________________\n",
      "res5a_branch2c (Conv2D)   (None, None, None 1050624  activation_385[0][0]       \n",
      "________________________________________________________________________________\n",
      "res5a_branch1 (Conv2D)    (None, None, None 2099200  activation_383[0][0]       \n",
      "________________________________________________________________________________\n",
      "bn5a_branch2c (BatchNorma (None, None, None 8192     res5a_branch2c[0][0]       \n",
      "________________________________________________________________________________\n",
      "bn5a_branch1 (BatchNormal (None, None, None 8192     res5a_branch1[0][0]        \n",
      "________________________________________________________________________________\n",
      "add_126 (Add)             (None, None, None 0        bn5a_branch2c[0][0]        \n",
      "                                                     bn5a_branch1[0][0]         \n",
      "________________________________________________________________________________\n",
      "activation_386 (Activatio (None, None, None 0        add_126[0][0]              \n",
      "________________________________________________________________________________\n",
      "res5b_branch2a (Conv2D)   (None, None, None 1049088  activation_386[0][0]       \n",
      "________________________________________________________________________________\n",
      "bn5b_branch2a (BatchNorma (None, None, None 2048     res5b_branch2a[0][0]       \n",
      "________________________________________________________________________________\n",
      "activation_387 (Activatio (None, None, None 0        bn5b_branch2a[0][0]        \n",
      "________________________________________________________________________________\n",
      "res5b_branch2b (Conv2D)   (None, None, None 2359808  activation_387[0][0]       \n",
      "________________________________________________________________________________\n",
      "bn5b_branch2b (BatchNorma (None, None, None 2048     res5b_branch2b[0][0]       \n",
      "________________________________________________________________________________\n",
      "activation_388 (Activatio (None, None, None 0        bn5b_branch2b[0][0]        \n",
      "________________________________________________________________________________\n",
      "res5b_branch2c (Conv2D)   (None, None, None 1050624  activation_388[0][0]       \n",
      "________________________________________________________________________________\n",
      "bn5b_branch2c (BatchNorma (None, None, None 8192     res5b_branch2c[0][0]       \n",
      "________________________________________________________________________________\n",
      "add_127 (Add)             (None, None, None 0        bn5b_branch2c[0][0]        \n",
      "                                                     activation_386[0][0]       \n",
      "________________________________________________________________________________\n",
      "activation_389 (Activatio (None, None, None 0        add_127[0][0]              \n",
      "________________________________________________________________________________\n",
      "res5c_branch2a (Conv2D)   (None, None, None 1049088  activation_389[0][0]       \n",
      "________________________________________________________________________________\n",
      "bn5c_branch2a (BatchNorma (None, None, None 2048     res5c_branch2a[0][0]       \n",
      "________________________________________________________________________________\n",
      "activation_390 (Activatio (None, None, None 0        bn5c_branch2a[0][0]        \n",
      "________________________________________________________________________________\n",
      "res5c_branch2b (Conv2D)   (None, None, None 2359808  activation_390[0][0]       \n",
      "________________________________________________________________________________\n",
      "bn5c_branch2b (BatchNorma (None, None, None 2048     res5c_branch2b[0][0]       \n",
      "________________________________________________________________________________\n",
      "activation_391 (Activatio (None, None, None 0        bn5c_branch2b[0][0]        \n",
      "________________________________________________________________________________\n",
      "res5c_branch2c (Conv2D)   (None, None, None 1050624  activation_391[0][0]       \n",
      "________________________________________________________________________________\n",
      "bn5c_branch2c (BatchNorma (None, None, None 8192     res5c_branch2c[0][0]       \n",
      "________________________________________________________________________________\n",
      "add_128 (Add)             (None, None, None 0        bn5c_branch2c[0][0]        \n",
      "                                                     activation_389[0][0]       \n",
      "________________________________________________________________________________\n",
      "activation_392 (Activatio (None, None, None 0        add_128[0][0]              \n",
      "________________________________________________________________________________\n",
      "avg_pool (AveragePooling2 (None, None, None 0        activation_392[0][0]       \n",
      "________________________________________________________________________________\n",
      "conv2d_18 (Conv2D)        (None, None, None 589856   avg_pool[0][0]             \n",
      "________________________________________________________________________________\n",
      "global_average_pooling2d_ (None, 32)        0        conv2d_18[0][0]            \n",
      "________________________________________________________________________________\n",
      "dense_45 (Dense)          (None, 1024)      33792    global_average_pooling2d_23\n",
      "________________________________________________________________________________\n",
      "dense_46 (Dense)          (None, 1)         1025     dense_45[0][0]             \n",
      "================================================================================\n",
      "Total params: 24,212,385\n",
      "Trainable params: 34,817\n",
      "Non-trainable params: 24,177,568\n",
      "________________________________________________________________________________\n"
     ]
    }
   ],
   "source": [
    "# check the architecture of this massive model\n",
    "# special attention: 'only' a fraction of the 24Mio parameters will be fine-tuned\n",
    "summary(model)"
   ]
  },
  {
   "cell_type": "code",
   "execution_count": 122,
   "metadata": {},
   "outputs": [],
   "source": [
    "# train the model on the new data for a few epochs\n",
    "model %>% fit_generator(generator = train_generator,\n",
    "                        steps_per_epoch = 1, \n",
    "                        validation_data = validation_generator,\n",
    "                        epochs = 1, \n",
    "                        verbose = 1)"
   ]
  },
  {
   "cell_type": "markdown",
   "metadata": {},
   "source": [
    "# 6. Data Generator for huge data sets\n",
    "\n",
    "One problem in deep learning with massive amounts of data is, that the whole data set might not fit in the GPU memory. One option to overcome this limitation is the usage of a __data generator__. This is basically an object, that sequentially loads one batch of data (usually 32-64 data points) into the model during the batch-wise training process. \n",
    "\n",
    "In addition to that, one can use __data augmentation__ techniques within the data gernerator. This means, that each image is getting shifted/ rotated/ cropped  in such a way, that the meaning of the image does not change (a flipped t-shirt is still a t-shirt). This way, the dataset is augmented artificially which can help increase the model performance. \n",
    "\n",
    "Keras utilities make it straightforward to implement such a data generator. "
   ]
  },
  {
   "cell_type": "code",
   "execution_count": 47,
   "metadata": {},
   "outputs": [],
   "source": [
    "# First, define the data generator that applies the data set augmentation strategies\n",
    "# for this tutorial, we will only apply horizontal and vertical flipping\n",
    "# many more options can be discovered via ?image_data_generator\n",
    "data_generator <- image_data_generator(\n",
    "  horizontal_flip = TRUE,\n",
    "  vertical_flip = TRUE)"
   ]
  },
  {
   "cell_type": "code",
   "execution_count": null,
   "metadata": {},
   "outputs": [],
   "source": [
    "# flow_images_from_directory allows to read the data batch-wise from the disk \n",
    "# and feed it sequentially into the network\n",
    "#TODO: setup folder structure as fchollet https://gist.github.com/fchollet/0830affa1f7f19fd47b06d4cf89ed44d\n",
    "#takes only images of the popular image formats bmp, png, ....\n",
    "train_generator = flow_images_from_directory(\n",
    "    directory = './data/fashion_mnist/train/', \n",
    "    generator = data_generator, \n",
    "    target_size = c(28, 28), \n",
    "    color_mode = 'grayscale',\n",
    "    batch_size = 32, \n",
    "    shuffle = TRUE\n",
    ")"
   ]
  },
  {
   "cell_type": "markdown",
   "metadata": {},
   "source": [
    "## (Re) sources\n",
    "\n",
    "* [CRAN vignette for keras](https://cran.r-project.org/web/packages/keras/vignettes/getting_started.html)\n",
    "* [Image manipulation in R with magick](https://cran.r-project.org/web/packages/magick/vignettes/intro.html)\n",
    "* [Examples for keras in R](https://keras.rstudio.com/articles/examples/index.html)\n",
    "* [Transfer learning with keras in R](https://cran.rstudio.com/web/packages/keras/vignettes/applications.html)\n",
    "* [kaggle kernel on vgg16](https://www.kaggle.com/dkoops/keras-r-vgg16-base)\n",
    "* [folder structure for the train generator](https://gist.github.com/fchollet/0830affa1f7f19fd47b06d4cf89ed44d)"
   ]
  },
  {
   "cell_type": "code",
   "execution_count": null,
   "metadata": {},
   "outputs": [],
   "source": []
  }
 ],
 "metadata": {
  "kernelspec": {
   "display_name": "R",
   "language": "R",
   "name": "ir"
  },
  "language_info": {
   "codemirror_mode": "r",
   "file_extension": ".r",
   "mimetype": "text/x-r-source",
   "name": "R",
   "pygments_lexer": "r",
   "version": "3.4.2"
  }
 },
 "nbformat": 4,
 "nbformat_minor": 2
}
