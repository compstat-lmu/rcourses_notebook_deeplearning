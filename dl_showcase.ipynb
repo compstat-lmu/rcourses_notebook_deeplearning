{
 "cells": [
  {
   "cell_type": "markdown",
   "metadata": {},
   "source": [
    "# Munich R Courses - Deep learning showcase"
   ]
  },
  {
   "cell_type": "markdown",
   "metadata": {},
   "source": [
    "Content:\n",
    "1. working with image data in R (downloading data, plotting, preprocessing)\n",
    "2. creating deep learning architectures using the keras interface\n",
    "    1. Starting with Fashion MNIST\n",
    "    3. Evaluation of model output\n",
    "    4. Storage and loading of models\n",
    "    2. Sequential and Functional API\n",
    "3. running and comparing different architectures (FCN, CNN)\n",
    "5. Regularization and its effects on the generalization performance\n",
    "6. From bw to rgb images\n",
    "7. Transfer learning with pretrained models in case of few labeled data\n"
   ]
  },
  {
   "cell_type": "markdown",
   "metadata": {},
   "source": [
    "## 1. Working with image data in R"
   ]
  },
  {
   "cell_type": "markdown",
   "metadata": {},
   "source": [
    "### Data provided by the keras package - MNIST\n",
    "\n",
    "MNIST is a [famous dataset provided by Yann LeCun et al.](http://yann.lecun.com/exdb/mnist/) that consists of 70K 28x28 grayscale images of handwritten digits."
   ]
  },
  {
   "cell_type": "code",
   "execution_count": 2,
   "metadata": {},
   "outputs": [
    {
     "name": "stderr",
     "output_type": "stream",
     "text": [
      "Warning message:\n",
      "“package ‘keras’ was built under R version 3.4.4”"
     ]
    }
   ],
   "source": [
    "# install and load the package\n",
    "# install.packages('keras')\n",
    "library('keras')"
   ]
  },
  {
   "cell_type": "code",
   "execution_count": null,
   "metadata": {},
   "outputs": [],
   "source": [
    "# files will be stored at\n",
    "# ~/.keras/datasets\n",
    "mnist = dataset_mnist()\n",
    "# what does the object contain?\n",
    "str(mnist)\n",
    "# 60K train and 10K test data with input X and labels y"
   ]
  },
  {
   "cell_type": "code",
   "execution_count": null,
   "metadata": {},
   "outputs": [],
   "source": [
    "# assign values \n",
    "x_train = mnist$train$x\n",
    "x_test = mnist$test$x\n",
    "y_train = mnist$train$y\n",
    "y_test = mnist$test$y"
   ]
  },
  {
   "cell_type": "code",
   "execution_count": null,
   "metadata": {},
   "outputs": [],
   "source": [
    "# classes for train and test are equally balanced \n",
    "# (-> what if they were not?)\n",
    "table(y_test)\n",
    "table(y_train)"
   ]
  },
  {
   "cell_type": "code",
   "execution_count": null,
   "metadata": {},
   "outputs": [],
   "source": [
    "# x_train is an array that contains 60K images with channel size 1 and dimensions 28x28 (as they are black-white)\n",
    "# resulting in tensor of shape [amount images, xdim, ydim]\n",
    "# If the images were coloured, they would contain  3 channels (RGB) resulting in shape\n",
    "# [60000, 28, 28, 3]\n",
    "\n",
    "# inspect one train image\n",
    "idx = 87\n",
    "foo_img = x_train[idx, , ]\n",
    "foo_label = y_train[idx]\n",
    "cat(paste0('class: ', class(foo_img), \n",
    "    '\\nmax value: ', max(foo_img), \n",
    "    '\\nmin value: ', min(foo_img), \n",
    "    '\\nmean value: ', mean(foo_img),\n",
    "    '\\ndata type: ', typeof(foo_img)))"
   ]
  },
  {
   "cell_type": "code",
   "execution_count": null,
   "metadata": {},
   "outputs": [],
   "source": [
    "# helper to rotate the image\n",
    "rot = function(x){t(apply(x, 2, rev))}\n",
    "# plot the image with the label as header\n",
    "image(rot(foo_img), \n",
    "    axes = FALSE, \n",
    "    col = grey(seq(0, 1, length = 256)), \n",
    "    main = paste0('Image ', idx, ' with label ', foo_label))"
   ]
  },
  {
   "cell_type": "markdown",
   "metadata": {},
   "source": [
    "### Data provided by the keras package - Fashion MNIST\n",
    "\n",
    "Fashion Mnist is mainly a more complicated version of MNIST with 10 classes of different fashion objects. The dataset is published by [Zalando Research](https://github.com/zalandoresearch/fashion-mnist) and also often used for deep learning benchmarks. The dataset as well consists of 70K 28x28 grayscale images of fashion objects in 10 balanced categories such as bags, shoes, trousers, ..."
   ]
  },
  {
   "cell_type": "code",
   "execution_count": null,
   "metadata": {},
   "outputs": [],
   "source": [
    "# files will be stored at\n",
    "# ~/.keras/datasets\n",
    "fmnist = dataset_fashion_mnist()\n",
    "# what does the object contain?\n",
    "str(fmnist)\n",
    "# 60K train and 10K test data with input X and labels y\n",
    "# assign values \n",
    "x_train = mnist$train$x\n",
    "x_test = mnist$test$x\n",
    "y_train = mnist$train$y\n",
    "y_test = mnist$test$y"
   ]
  },
  {
   "cell_type": "code",
   "execution_count": null,
   "metadata": {},
   "outputs": [],
   "source": [
    "# inspect one train image\n",
    "idx = 87\n",
    "foo_img = x_train[idx, , ]\n",
    "foo_label = y_train[idx]\n",
    "cat(paste0('class: ', class(foo_img), \n",
    "    '\\nmax value: ', max(foo_img), \n",
    "    '\\nmin value: ', min(foo_img), \n",
    "    '\\nmean value: ', mean(foo_img),\n",
    "    '\\ndata type: ', typeof(foo_img)))\n",
    "# helper to rotate the image\n",
    "rot = function(x){t(apply(x, 2, rev))}\n",
    "# plot the image with the label as header\n",
    "image(rot(foo_img), \n",
    "    axes = FALSE, \n",
    "    col = grey(seq(0, 1, length = 256)), \n",
    "    main = paste0('Image ', idx, ' with label ', foo_label))"
   ]
  },
  {
   "cell_type": "markdown",
   "metadata": {},
   "source": [
    "### Data provided by the keras package - CIFAR 10\n",
    "\n",
    "Cifar10 is a [public dataset](https://www.cs.toronto.edu/%7Ekriz/cifar.html) that contains 60K 32x32 RGB images from 10 classes (airplanes, deer, cars, cats, ...) and is widely used for benchmarking DL algorithms in image classification. "
   ]
  },
  {
   "cell_type": "code",
   "execution_count": null,
   "metadata": {},
   "outputs": [],
   "source": [
    "# can take up to 5 min as the dataset contains roughly 170MB\n",
    "# also stored at ~/.keras/datasets\n",
    "cifar = dataset_cifar10()"
   ]
  },
  {
   "cell_type": "code",
   "execution_count": null,
   "metadata": {},
   "outputs": [],
   "source": [
    "# similar structure as MNIST\n",
    "# but now with channel depth 3\n",
    "str(cifar)\n",
    "x_train = cifar$train$x\n",
    "y_train = cifar$train$y\n",
    "x_test = cifar$test$x\n",
    "y_test = cifar$test$y"
   ]
  },
  {
   "cell_type": "code",
   "execution_count": null,
   "metadata": {},
   "outputs": [],
   "source": [
    "# inspect one train image\n",
    "# consists of 3 matrices of RGB integers in {0, ..., 255}\n",
    "idx = 177\n",
    "foo_img = x_train[idx, , ,]\n",
    "foo_label = y_train[idx]\n",
    "cat(paste0('class: ', class(foo_img), \n",
    "    '\\nmax value: ', max(foo_img), \n",
    "    '\\nmin value: ', min(foo_img), \n",
    "    '\\nmean value: ', mean(foo_img),\n",
    "    '\\ndata type: ', typeof(foo_img)))\n",
    "\n",
    "# print the label \n",
    "cat(paste0('\\nlabel of image ', idx, ' is ', foo_label))\n",
    "\n",
    "# plot the images with grid package\n",
    "# therefore, pixels have to be squashed to [0, 1]\n",
    "library(grid)\n",
    "r = foo_img[ , , 1] / 255\n",
    "g = foo_img[ , , 2] / 255\n",
    "b = foo_img[ , , 3] / 255\n",
    "col <- rgb(r, g, b)\n",
    "dim(col) <- dim(r)\n",
    "grid.raster(col, interpolate=FALSE, name = \"yo\")"
   ]
  },
  {
   "cell_type": "markdown",
   "metadata": {},
   "source": [
    "### Data provided by the keras package - imdb \n",
    "\n",
    "Besides image data, the package also provides dummy datasets for text mining. This dataset contains 25K movie reviews and their correpsonding sentiment (positive/ negative). The dataset was already heavily preprocessed: words were encoded in a dictionary of integers for data storage reasons and can be re-coded this way. Also, they were sorted according to their occurence frequency in the text. The dataset can be used for sentiment analysis on text data.\n",
    "\n"
   ]
  },
  {
   "cell_type": "code",
   "execution_count": null,
   "metadata": {},
   "outputs": [],
   "source": [
    "# TODO: whole chapter, does this even make sense?\n",
    "imdb = dataset_imdb()\n",
    "imdb_dict = dataset_imdb_word_index()"
   ]
  },
  {
   "cell_type": "code",
   "execution_count": null,
   "metadata": {},
   "outputs": [],
   "source": [
    "str(imdb)"
   ]
  },
  {
   "cell_type": "code",
   "execution_count": null,
   "metadata": {},
   "outputs": [],
   "source": [
    "# assign the data\n",
    "x_train = imdb$train$x\n",
    "y_train = imdb$train$y\n",
    "x_test = imdb$test$x\n",
    "y_test = imdb$test$y"
   ]
  },
  {
   "cell_type": "code",
   "execution_count": null,
   "metadata": {},
   "outputs": [],
   "source": [
    "# look at the class frequencies\n",
    "table(y_train)"
   ]
  },
  {
   "cell_type": "code",
   "execution_count": null,
   "metadata": {},
   "outputs": [],
   "source": [
    "# exemplary review\n",
    "foo_text = x_train[1][[1]]\n",
    "foo_text"
   ]
  },
  {
   "cell_type": "code",
   "execution_count": null,
   "metadata": {},
   "outputs": [],
   "source": [
    "# decode and use helper function therefore\n",
    "get_word = function(idx, dict){\n",
    "    return(names(which(dict == as.integer(idx))))\n",
    "}\n",
    "decoded = lapply(foo_text, function(x)(get_word(idx = x, dict = imdb_dict)))\n",
    "decoded"
   ]
  },
  {
   "cell_type": "markdown",
   "metadata": {},
   "source": [
    "## Load and manipulate your own image data\n",
    "\n",
    "We transform one example image in the R-eadable data format. [Random Forest creator Leo Breiman](https://de.wikipedia.org/wiki/Leo_Breiman) serves as an example here. The R package [magick](https://cran.r-project.org/web/packages/magick/vignettes/intro.html#installing_magick) offers very comprehensive image manipulation methods in a unified framework."
   ]
  },
  {
   "cell_type": "code",
   "execution_count": null,
   "metadata": {},
   "outputs": [],
   "source": [
    "# install.packages('magick')\n",
    "library('magick')\n",
    "# read the image\n",
    "data_path = './data/Breiman.jpg'\n",
    "img = image_read(path = data_path)\n"
   ]
  },
  {
   "cell_type": "code",
   "execution_count": null,
   "metadata": {
    "scrolled": false
   },
   "outputs": [],
   "source": [
    "# plot the image\n",
    "img"
   ]
  },
  {
   "cell_type": "code",
   "execution_count": null,
   "metadata": {},
   "outputs": [],
   "source": [
    "# get data from the image object\n",
    "img_data = image_data(img)\n",
    "str(img_data)"
   ]
  },
  {
   "cell_type": "code",
   "execution_count": null,
   "metadata": {},
   "outputs": [],
   "source": [
    "# resize the image in case they have different formats\n",
    "# e.g. Resnet takes 224x224 images as input\n",
    "resized_img = magick::image_resize(image = img, geometry = \"224x224!\")\n",
    "resized_img"
   ]
  },
  {
   "cell_type": "code",
   "execution_count": null,
   "metadata": {},
   "outputs": [],
   "source": [
    "# Convolve over the image with a Sobel filter to detect edges (as is done in the lecture slides)\n",
    "# therefore, the pipe operator is used which works the same was as in unix\n",
    "sobel_img = resized_img %>%\n",
    "    image_convolve('Sobel')\n",
    "sobel_img"
   ]
  },
  {
   "cell_type": "code",
   "execution_count": null,
   "metadata": {},
   "outputs": [],
   "source": [
    "# last perk: automated Optical Character Recognition on images of text \n",
    "# requires package\n",
    "# install.packages(\"tesseract\")\n",
    "library('tesseract')\n",
    "text_img = image_read('http://d2jaiao3zdxbzm.cloudfront.net/wp-content/uploads/figure-65.png')\n",
    "text_img"
   ]
  },
  {
   "cell_type": "code",
   "execution_count": null,
   "metadata": {},
   "outputs": [],
   "source": [
    "text = image_ocr(text_img)\n",
    "cat(text)"
   ]
  },
  {
   "cell_type": "markdown",
   "metadata": {},
   "source": [
    "## 2. Getting started with Keras for modeling\n",
    "\n",
    "Running and training neural networks with keras mainly consists of the following steps:\n",
    "1. Reading and splitting data\n",
    "2. Defininig the architecture of the model\n",
    "3. Training the model and setting the hyperparameters for this\n",
    "4. Evaluation of the model performance\n",
    "\n",
    "In the following, we will train different model architectures on the task to classifiy the Fashion Mnist images in their corresponding 10 categories. Also, Keras allows the specification of the model architecture in a *sequential* and a *functional* way, both of which will be used in the following. \n"
   ]
  },
  {
   "cell_type": "markdown",
   "metadata": {},
   "source": [
    "### Reading and preparing the data"
   ]
  },
  {
   "cell_type": "code",
   "execution_count": 13,
   "metadata": {},
   "outputs": [],
   "source": [
    "# read the data\n",
    "fmnist = dataset_fashion_mnist()\n",
    "# assign values \n",
    "x_train = fmnist$train$x\n",
    "x_test = fmnist$test$x\n",
    "y_train = fmnist$train$y\n",
    "y_test = fmnist$test$y\n",
    "# dictionary for translation of the labels to meaningful category names\n",
    "label_dict = cbind(c('tshirt', 'trouser', 'pullover', 'dress', 'coat', \n",
    "                     'sandal', 'shirt', 'sneaker', 'bag', 'ankleboot'), \n",
    "                   c(0:9))"
   ]
  },
  {
   "cell_type": "code",
   "execution_count": 14,
   "metadata": {},
   "outputs": [],
   "source": [
    "# convert the labels to categorical one-hot-encoded vectors\n",
    "# store the real value as well and translate them into meaningful classes\n",
    "y_train_noncateg = cbind(y_train, label_dict[match(y_train, label_dict[, 2]), 1])\n",
    "y_test_noncateg = cbind(y_test, label_dict[match(y_test, label_dict[, 2]), 1])\n",
    "y_train = to_categorical(y = y_train)\n",
    "y_test = to_categorical(y = y_test)\n",
    "\n",
    "# flatten the data input arrays from 60K 28x28 matrix to 60K 784 vector format\n",
    "x_train = array_reshape(x_train, c(nrow(x_train), 28*28))\n",
    "x_test = array_reshape(x_test, c(nrow(x_test), 28*28))"
   ]
  },
  {
   "cell_type": "markdown",
   "metadata": {},
   "source": [
    "## Defining the architecture - Sequential\n",
    "\n",
    "For a first run, we want to use a Multi-Layer-Preceptron (MLP), which consists of three inner hidden layers with varying size (128, 64, 32) \n"
   ]
  },
  {
   "cell_type": "code",
   "execution_count": 15,
   "metadata": {},
   "outputs": [],
   "source": [
    "# define and instantiate the sequential model type\n",
    "model = keras_model_sequential() \n",
    "\n",
    "# build the model sequentially layer-wise with the pipe operator %>%\n",
    "model %>% \n",
    "    # input the data as vectors of length 28x28 = 784\n",
    "    # define the three hidden layers with relu activation and (128, 64, 32) neurons per layer\n",
    "    layer_dense(units = 128, activation = 'relu', input_shape = c(784)) %>% \n",
    "    layer_dense(units = 64, activation = 'relu') %>%\n",
    "    layer_dense(units = 32, activation = 'relu') %>%\n",
    "\n",
    "    # add softmax as activation for the last layer as we want to output probality \n",
    "    # scores in [0, 1] for the 10 classes\n",
    "    layer_dense(units = 10, activation = 'softmax')\n"
   ]
  },
  {
   "cell_type": "code",
   "execution_count": 16,
   "metadata": {},
   "outputs": [
    {
     "name": "stdout",
     "output_type": "stream",
     "text": [
      "________________________________________________________________________________\n",
      "Layer (type)                        Output Shape                    Param #     \n",
      "================================================================================\n",
      "dense_25 (Dense)                    (None, 128)                     100480      \n",
      "________________________________________________________________________________\n",
      "dense_26 (Dense)                    (None, 64)                      8256        \n",
      "________________________________________________________________________________\n",
      "dense_27 (Dense)                    (None, 32)                      2080        \n",
      "________________________________________________________________________________\n",
      "dense_28 (Dense)                    (None, 10)                      330         \n",
      "================================================================================\n",
      "Total params: 111,146\n",
      "Trainable params: 111,146\n",
      "Non-trainable params: 0\n",
      "________________________________________________________________________________\n"
     ]
    }
   ],
   "source": [
    "# summary() allows us to check the architecture\n",
    "# for instance, the 3rd layer contains 2080 = 64*32 + 32 weight parameters, as 32 neurons are connected\n",
    "# with the output from the preceeding 64 neurons and are each summed with a bias \n",
    "summary(model)"
   ]
  },
  {
   "cell_type": "markdown",
   "metadata": {},
   "source": [
    "### Compiling and running the model "
   ]
  },
  {
   "cell_type": "code",
   "execution_count": 17,
   "metadata": {},
   "outputs": [],
   "source": [
    "# again, use the pipe operator %>%\n",
    "# choose categorical XE as the classifier loss and \n",
    "# optimize the weights sequentially with rmsprop \n",
    "# check the CRAN documentation for more information on choosable losses, optimizer and metrics\n",
    "# this step defines the computational graph that is getting executed in the next step\n",
    "model %>% compile(\n",
    "  loss = 'categorical_crossentropy',\n",
    "  optimizer = optimizer_rmsprop(),\n",
    "  metrics = c('accuracy')\n",
    ")"
   ]
  },
  {
   "cell_type": "code",
   "execution_count": 18,
   "metadata": {},
   "outputs": [],
   "source": [
    "# train the compiled model with the fit function\n",
    "# save the training progress in the history file\n",
    "history = model %>% fit(\n",
    "    x_train, y_train, \n",
    "    epochs = 5, batch_size = 32, \n",
    "    validation_split = 0.2, \n",
    "    verbose = 1\n",
    ")"
   ]
  },
  {
   "cell_type": "code",
   "execution_count": 19,
   "metadata": {},
   "outputs": [
    {
     "data": {},
     "metadata": {},
     "output_type": "display_data"
    },
    {
     "data": {
      "image/png": "[encoded data removed]",
      "text/plain": [
       "plot without title"
      ]
     },
     "metadata": {},
     "output_type": "display_data"
    }
   ],
   "source": [
    "plot(history)"
   ]
  },
  {
   "cell_type": "markdown",
   "metadata": {},
   "source": [
    "### Making predictions"
   ]
  },
  {
   "cell_type": "code",
   "execution_count": 20,
   "metadata": {},
   "outputs": [
    {
     "data": {
      "text/html": [
       "<dl>\n",
       "\t<dt>$loss</dt>\n",
       "\t\t<dd>9.18936164703369</dd>\n",
       "\t<dt>$acc</dt>\n",
       "\t\t<dd>0.4294</dd>\n",
       "</dl>\n"
      ],
      "text/latex": [
       "\\begin{description}\n",
       "\\item[\\$loss] 9.18936164703369\n",
       "\\item[\\$acc] 0.4294\n",
       "\\end{description}\n"
      ],
      "text/markdown": [
       "$loss\n",
       ":   9.18936164703369\n",
       "$acc\n",
       ":   0.4294\n",
       "\n",
       "\n"
      ],
      "text/plain": [
       "$loss\n",
       "[1] 9.189362\n",
       "\n",
       "$acc\n",
       "[1] 0.4294\n"
      ]
     },
     "metadata": {},
     "output_type": "display_data"
    }
   ],
   "source": [
    "# get the test performance of the trained model\n",
    "test_perf = model %>% evaluate(x_test, y_test)\n",
    "test_perf"
   ]
  },
  {
   "cell_type": "code",
   "execution_count": 21,
   "metadata": {},
   "outputs": [
    {
     "data": {
      "text/html": [
       "<table>\n",
       "<thead><tr><th scope=col>yhat</th><th scope=col>yhat_label</th><th scope=col>y</th><th scope=col>y_label</th></tr></thead>\n",
       "<tbody>\n",
       "\t<tr><td>7        </td><td>sneaker  </td><td>9        </td><td>ankleboot</td></tr>\n",
       "\t<tr><td>6        </td><td>shirt    </td><td>2        </td><td>pullover </td></tr>\n",
       "\t<tr><td>3        </td><td>dress    </td><td>1        </td><td>trouser  </td></tr>\n",
       "\t<tr><td>3        </td><td>dress    </td><td>1        </td><td>trouser  </td></tr>\n",
       "\t<tr><td>6        </td><td>shirt    </td><td>6        </td><td>shirt    </td></tr>\n",
       "\t<tr><td>3        </td><td>dress    </td><td>1        </td><td>trouser  </td></tr>\n",
       "</tbody>\n",
       "</table>\n"
      ],
      "text/latex": [
       "\\begin{tabular}{r|llll}\n",
       " yhat & yhat\\_label & y & y\\_label\\\\\n",
       "\\hline\n",
       "\t 7         & sneaker   & 9         & ankleboot\\\\\n",
       "\t 6         & shirt     & 2         & pullover \\\\\n",
       "\t 3         & dress     & 1         & trouser  \\\\\n",
       "\t 3         & dress     & 1         & trouser  \\\\\n",
       "\t 6         & shirt     & 6         & shirt    \\\\\n",
       "\t 3         & dress     & 1         & trouser  \\\\\n",
       "\\end{tabular}\n"
      ],
      "text/markdown": [
       "\n",
       "yhat | yhat_label | y | y_label | \n",
       "|---|---|---|---|---|---|\n",
       "| 7         | sneaker   | 9         | ankleboot | \n",
       "| 6         | shirt     | 2         | pullover  | \n",
       "| 3         | dress     | 1         | trouser   | \n",
       "| 3         | dress     | 1         | trouser   | \n",
       "| 6         | shirt     | 6         | shirt     | \n",
       "| 3         | dress     | 1         | trouser   | \n",
       "\n",
       "\n"
      ],
      "text/plain": [
       "  yhat yhat_label y y_label  \n",
       "1 7    sneaker    9 ankleboot\n",
       "2 6    shirt      2 pullover \n",
       "3 3    dress      1 trouser  \n",
       "4 3    dress      1 trouser  \n",
       "5 6    shirt      6 shirt    \n",
       "6 3    dress      1 trouser  "
      ]
     },
     "metadata": {},
     "output_type": "display_data"
    }
   ],
   "source": [
    "# make hard predictions on all our test data\n",
    "preds = model %>% predict_classes(x_test)\n",
    "pred_frame = as.data.frame(cbind(preds, label_dict[match(preds, label_dict[, 2]), 1], y_test_noncateg))\n",
    "pred_frame[, 1] = factor(pred_frame[, 1], levels = as.character(c(0:9)))\n",
    "colnames(pred_frame) = c('yhat', 'yhat_label', 'y', 'y_label')\n",
    "head(pred_frame)"
   ]
  },
  {
   "cell_type": "code",
   "execution_count": 22,
   "metadata": {},
   "outputs": [
    {
     "data": {
      "text/html": [
       "<table>\n",
       "<thead><tr><th scope=col>yhat_class_0</th><th scope=col>yhat_class_1</th><th scope=col>yhat_class_2</th><th scope=col>yhat_class_3</th><th scope=col>yhat_class_4</th><th scope=col>yhat_class_5</th><th scope=col>yhat_class_6</th><th scope=col>yhat_class_7</th><th scope=col>yhat_class_8</th><th scope=col>yhat_class_9</th><th scope=col>y</th><th scope=col>y_label</th></tr></thead>\n",
       "<tbody>\n",
       "\t<tr><td>0        </td><td>0        </td><td>0        </td><td>0        </td><td>0        </td><td>0        </td><td>0        </td><td>1        </td><td>0        </td><td>0        </td><td>9        </td><td>ankleboot</td></tr>\n",
       "\t<tr><td>0        </td><td>0        </td><td>0        </td><td>0        </td><td>0        </td><td>0        </td><td>1        </td><td>0        </td><td>0        </td><td>0        </td><td>2        </td><td>pullover </td></tr>\n",
       "\t<tr><td>0        </td><td>0        </td><td>0        </td><td>1        </td><td>0        </td><td>0        </td><td>0        </td><td>0        </td><td>0        </td><td>0        </td><td>1        </td><td>trouser  </td></tr>\n",
       "\t<tr><td>0        </td><td>0        </td><td>0        </td><td>1        </td><td>0        </td><td>0        </td><td>0        </td><td>0        </td><td>0        </td><td>0        </td><td>1        </td><td>trouser  </td></tr>\n",
       "\t<tr><td>0        </td><td>0        </td><td>0        </td><td>0        </td><td>0        </td><td>0        </td><td>1        </td><td>0        </td><td>0        </td><td>0        </td><td>6        </td><td>shirt    </td></tr>\n",
       "\t<tr><td>0        </td><td>0        </td><td>0        </td><td>1        </td><td>0        </td><td>0        </td><td>0        </td><td>0        </td><td>0        </td><td>0        </td><td>1        </td><td>trouser  </td></tr>\n",
       "</tbody>\n",
       "</table>\n"
      ],
      "text/latex": [
       "\\begin{tabular}{llllllllllll}\n",
       " yhat\\_class\\_0 & yhat\\_class\\_1 & yhat\\_class\\_2 & yhat\\_class\\_3 & yhat\\_class\\_4 & yhat\\_class\\_5 & yhat\\_class\\_6 & yhat\\_class\\_7 & yhat\\_class\\_8 & yhat\\_class\\_9 & y & y\\_label\\\\\n",
       "\\hline\n",
       "\t 0         & 0         & 0         & 0         & 0         & 0         & 0         & 1         & 0         & 0         & 9         & ankleboot\\\\\n",
       "\t 0         & 0         & 0         & 0         & 0         & 0         & 1         & 0         & 0         & 0         & 2         & pullover \\\\\n",
       "\t 0         & 0         & 0         & 1         & 0         & 0         & 0         & 0         & 0         & 0         & 1         & trouser  \\\\\n",
       "\t 0         & 0         & 0         & 1         & 0         & 0         & 0         & 0         & 0         & 0         & 1         & trouser  \\\\\n",
       "\t 0         & 0         & 0         & 0         & 0         & 0         & 1         & 0         & 0         & 0         & 6         & shirt    \\\\\n",
       "\t 0         & 0         & 0         & 1         & 0         & 0         & 0         & 0         & 0         & 0         & 1         & trouser  \\\\\n",
       "\\end{tabular}\n"
      ],
      "text/markdown": [
       "\n",
       "yhat_class_0 | yhat_class_1 | yhat_class_2 | yhat_class_3 | yhat_class_4 | yhat_class_5 | yhat_class_6 | yhat_class_7 | yhat_class_8 | yhat_class_9 | y | y_label | \n",
       "|---|---|---|---|---|---|\n",
       "| 0         | 0         | 0         | 0         | 0         | 0         | 0         | 1         | 0         | 0         | 9         | ankleboot | \n",
       "| 0         | 0         | 0         | 0         | 0         | 0         | 1         | 0         | 0         | 0         | 2         | pullover  | \n",
       "| 0         | 0         | 0         | 1         | 0         | 0         | 0         | 0         | 0         | 0         | 1         | trouser   | \n",
       "| 0         | 0         | 0         | 1         | 0         | 0         | 0         | 0         | 0         | 0         | 1         | trouser   | \n",
       "| 0         | 0         | 0         | 0         | 0         | 0         | 1         | 0         | 0         | 0         | 6         | shirt     | \n",
       "| 0         | 0         | 0         | 1         | 0         | 0         | 0         | 0         | 0         | 0         | 1         | trouser   | \n",
       "\n",
       "\n"
      ],
      "text/plain": [
       "     yhat_class_0 yhat_class_1 yhat_class_2 yhat_class_3 yhat_class_4\n",
       "[1,] 0            0            0            0            0           \n",
       "[2,] 0            0            0            0            0           \n",
       "[3,] 0            0            0            1            0           \n",
       "[4,] 0            0            0            1            0           \n",
       "[5,] 0            0            0            0            0           \n",
       "[6,] 0            0            0            1            0           \n",
       "     yhat_class_5 yhat_class_6 yhat_class_7 yhat_class_8 yhat_class_9 y\n",
       "[1,] 0            0            1            0            0            9\n",
       "[2,] 0            1            0            0            0            2\n",
       "[3,] 0            0            0            0            0            1\n",
       "[4,] 0            0            0            0            0            1\n",
       "[5,] 0            1            0            0            0            6\n",
       "[6,] 0            0            0            0            0            1\n",
       "     y_label  \n",
       "[1,] ankleboot\n",
       "[2,] pullover \n",
       "[3,] trouser  \n",
       "[4,] trouser  \n",
       "[5,] shirt    \n",
       "[6,] trouser  "
      ]
     },
     "metadata": {},
     "output_type": "display_data"
    }
   ],
   "source": [
    "# make soft predictions (softmax) on all our test data\n",
    "preds = model %>% predict_proba(x_test)\n",
    "soft_pred_frame = cbind(preds, y_test_noncateg)\n",
    "colnames(soft_pred_frame) = c(paste0('yhat_class_', c(0:9)), 'y', 'y_label')\n",
    "head(soft_pred_frame)"
   ]
  },
  {
   "cell_type": "code",
   "execution_count": 23,
   "metadata": {},
   "outputs": [
    {
     "data": {
      "image/png": "[encoded data removed]",
      "text/plain": [
       "Plot with title “Test image 119 with true label 7: sneaker and prediction 7: sneaker”"
      ]
     },
     "metadata": {},
     "output_type": "display_data"
    }
   ],
   "source": [
    "# check predictions for one test image\n",
    "idx = 119\n",
    "img_test = array_reshape(x_test[idx, ], c(28, 28))\n",
    "rot = function(x){t(apply(x, 2, rev))}\n",
    "# plot the image with the label as header\n",
    "image(rot(img_test), \n",
    "    axes = FALSE, \n",
    "    col = grey(seq(0, 1, length = 256)), \n",
    "    main = paste0('Test image ', idx,  \n",
    "                ' with true label ', \n",
    "                y_test_noncateg[idx, 1], \n",
    "                ': ', \n",
    "                y_test_noncateg[idx, 2], \n",
    "                ' and prediction ', \n",
    "                pred_frame[idx, 1], ': ', \n",
    "                pred_frame[idx, 2]))"
   ]
  },
  {
   "cell_type": "code",
   "execution_count": 24,
   "metadata": {},
   "outputs": [
    {
     "name": "stderr",
     "output_type": "stream",
     "text": [
      "Warning message:\n",
      "“package ‘caret’ was built under R version 3.4.4”Loading required package: lattice\n",
      "Loading required package: ggplot2\n"
     ]
    },
    {
     "data": {
      "text/plain": [
       "           Reference\n",
       "Prediction  tshirt trouser pullover dress coat sandal shirt sneaker bag\n",
       "  tshirt         0       0        0     0    0      0     0       0   0\n",
       "  trouser        0       0        0     0    0      0     0       0   0\n",
       "  pullover       0       0        0     0    0      1     0       0   0\n",
       "  dress        112     933        9   760   63     11    65       0   7\n",
       "  coat           0       0        0     0    0      0     0       0   0\n",
       "  sandal         0       0        0     0    0    772     0      13   1\n",
       "  shirt        878      67      987   234  930      4   927       0 137\n",
       "  sneaker        0       0        0     0    0    193     0     986   6\n",
       "  bag           10       0        4     6    7     19     8       1 849\n",
       "  ankleboot      0       0        0     0    0      0     0       0   0\n",
       "           Reference\n",
       "Prediction  ankleboot\n",
       "  tshirt            0\n",
       "  trouser           0\n",
       "  pullover          2\n",
       "  dress             2\n",
       "  coat              0\n",
       "  sandal          550\n",
       "  shirt             7\n",
       "  sneaker         422\n",
       "  bag              17\n",
       "  ankleboot         0"
      ]
     },
     "metadata": {},
     "output_type": "display_data"
    }
   ],
   "source": [
    "# check the confusion matrix\n",
    "# install.packages('caret')\n",
    "library('caret')\n",
    "conf = confusionMatrix(data = pred_frame[, 1], reference = pred_frame[, 3])\n",
    "conf_matrix = conf$table\n",
    "colnames(conf_matrix) = label_dict[, 1]\n",
    "rownames(conf_matrix) = label_dict[, 1]\n",
    "conf_matrix"
   ]
  },
  {
   "cell_type": "markdown",
   "metadata": {},
   "source": [
    "### Saving and re-loading the model weights"
   ]
  },
  {
   "cell_type": "code",
   "execution_count": 25,
   "metadata": {},
   "outputs": [],
   "source": [
    "# save model weights and architecture to hdf5 file\n",
    "save_model_hdf5(object =  model, filepath = './model1.h5')"
   ]
  },
  {
   "cell_type": "code",
   "execution_count": 26,
   "metadata": {},
   "outputs": [
    {
     "name": "stdout",
     "output_type": "stream",
     "text": [
      "________________________________________________________________________________\n",
      "Layer (type)                        Output Shape                    Param #     \n",
      "================================================================================\n",
      "dense_25 (Dense)                    (None, 128)                     100480      \n",
      "________________________________________________________________________________\n",
      "dense_26 (Dense)                    (None, 64)                      8256        \n",
      "________________________________________________________________________________\n",
      "dense_27 (Dense)                    (None, 32)                      2080        \n",
      "________________________________________________________________________________\n",
      "dense_28 (Dense)                    (None, 10)                      330         \n",
      "================================================================================\n",
      "Total params: 111,146\n",
      "Trainable params: 111,146\n",
      "Non-trainable params: 0\n",
      "________________________________________________________________________________\n"
     ]
    },
    {
     "data": {
      "text/html": [
       "<dl>\n",
       "\t<dt>$loss</dt>\n",
       "\t\t<dd>9.18936164703369</dd>\n",
       "\t<dt>$acc</dt>\n",
       "\t\t<dd>0.4294</dd>\n",
       "</dl>\n"
      ],
      "text/latex": [
       "\\begin{description}\n",
       "\\item[\\$loss] 9.18936164703369\n",
       "\\item[\\$acc] 0.4294\n",
       "\\end{description}\n"
      ],
      "text/markdown": [
       "$loss\n",
       ":   9.18936164703369\n",
       "$acc\n",
       ":   0.4294\n",
       "\n",
       "\n"
      ],
      "text/plain": [
       "$loss\n",
       "[1] 9.189362\n",
       "\n",
       "$acc\n",
       "[1] 0.4294\n"
      ]
     },
     "metadata": {},
     "output_type": "display_data"
    }
   ],
   "source": [
    "# load model with a new name \n",
    "loaded_model = load_model_hdf5(filepath = './model1.h5')\n",
    "\n",
    "# check the architecture and the test performance of the loaded model\n",
    "summary(loaded_model)\n",
    "loaded_model %>% evaluate(x_test, y_test)"
   ]
  },
  {
   "cell_type": "markdown",
   "metadata": {},
   "source": [
    "## Defining the architecture - Functional\n",
    "\n",
    "Again, we want to use a Multi-Layer-Preceptron (MLP), which consists of three inner hidden layers with varying size (128, 64, 32). For this chapter, the functional style is used. "
   ]
  },
  {
   "cell_type": "code",
   "execution_count": 27,
   "metadata": {},
   "outputs": [
    {
     "data": {
      "text/html": [
       "<dl>\n",
       "\t<dt>$loss</dt>\n",
       "\t\t<dd>12.9766546478271</dd>\n",
       "\t<dt>$acc</dt>\n",
       "\t\t<dd>0.1948</dd>\n",
       "</dl>\n"
      ],
      "text/latex": [
       "\\begin{description}\n",
       "\\item[\\$loss] 12.9766546478271\n",
       "\\item[\\$acc] 0.1948\n",
       "\\end{description}\n"
      ],
      "text/markdown": [
       "$loss\n",
       ":   12.9766546478271\n",
       "$acc\n",
       ":   0.1948\n",
       "\n",
       "\n"
      ],
      "text/plain": [
       "$loss\n",
       "[1] 12.97665\n",
       "\n",
       "$acc\n",
       "[1] 0.1948\n"
      ]
     },
     "metadata": {},
     "output_type": "display_data"
    }
   ],
   "source": [
    "# define the start point of the architecture (input layer)\n",
    "input = layer_input(shape = c(784))\n",
    "\n",
    "# define the end point of the computational graph (predictions)\n",
    "output = input %>% \n",
    "    layer_dense(units = 128, activation = 'relu', input_shape = c(784)) %>% \n",
    "    layer_dense(units = 64, activation = 'relu') %>%\n",
    "    layer_dense(units = 32, activation = 'relu') %>%\n",
    "    layer_dense(units = 10, activation = 'softmax')\n",
    "\n",
    "# merge both layers to compile the model\n",
    "model_func = keras_model(inputs = input, outputs = output)\n",
    "model_func %>% compile(\n",
    "  optimizer = 'rmsprop',\n",
    "  loss = 'categorical_crossentropy',\n",
    "  metrics = c('accuracy')\n",
    ")\n",
    "\n",
    "# fit the model\n",
    "history = model_func %>% fit(\n",
    "    x = x_train, y = y_train, \n",
    "    epochs = 3, batch_size = 32, \n",
    "    validation_split = 0.2, \n",
    "    verbose = 1\n",
    ")\n",
    "\n",
    "# check test performance\n",
    "model_func %>% evaluate(x_test, y_test)"
   ]
  },
  {
   "cell_type": "code",
   "execution_count": 28,
   "metadata": {},
   "outputs": [
    {
     "name": "stdout",
     "output_type": "stream",
     "text": [
      "________________________________________________________________________________\n",
      "Layer (type)                        Output Shape                    Param #     \n",
      "================================================================================\n",
      "input_7 (InputLayer)                (None, 784)                     0           \n",
      "________________________________________________________________________________\n",
      "dense_29 (Dense)                    (None, 128)                     100480      \n",
      "________________________________________________________________________________\n",
      "dense_30 (Dense)                    (None, 64)                      8256        \n",
      "________________________________________________________________________________\n",
      "dense_31 (Dense)                    (None, 32)                      2080        \n",
      "________________________________________________________________________________\n",
      "dense_32 (Dense)                    (None, 10)                      330         \n",
      "================================================================================\n",
      "Total params: 111,146\n",
      "Trainable params: 111,146\n",
      "Non-trainable params: 0\n",
      "________________________________________________________________________________\n",
      "________________________________________________________________________________\n",
      "Layer (type)                        Output Shape                    Param #     \n",
      "================================================================================\n",
      "dense_25 (Dense)                    (None, 128)                     100480      \n",
      "________________________________________________________________________________\n",
      "dense_26 (Dense)                    (None, 64)                      8256        \n",
      "________________________________________________________________________________\n",
      "dense_27 (Dense)                    (None, 32)                      2080        \n",
      "________________________________________________________________________________\n",
      "dense_28 (Dense)                    (None, 10)                      330         \n",
      "================================================================================\n",
      "Total params: 111,146\n",
      "Trainable params: 111,146\n",
      "Non-trainable params: 0\n",
      "________________________________________________________________________________\n"
     ]
    }
   ],
   "source": [
    "# compare both architectures\n",
    "summary(model_func)\n",
    "summary(model)"
   ]
  },
  {
   "cell_type": "markdown",
   "metadata": {},
   "source": [
    "# 3. Different architectures: from FCN to CNN"
   ]
  },
  {
   "cell_type": "code",
   "execution_count": null,
   "metadata": {},
   "outputs": [],
   "source": []
  },
  {
   "cell_type": "code",
   "execution_count": null,
   "metadata": {},
   "outputs": [],
   "source": []
  },
  {
   "cell_type": "code",
   "execution_count": null,
   "metadata": {},
   "outputs": [],
   "source": []
  },
  {
   "cell_type": "markdown",
   "metadata": {},
   "source": [
    "# 4. The importance of regularization "
   ]
  },
  {
   "cell_type": "code",
   "execution_count": null,
   "metadata": {},
   "outputs": [],
   "source": []
  },
  {
   "cell_type": "code",
   "execution_count": null,
   "metadata": {},
   "outputs": [],
   "source": []
  },
  {
   "cell_type": "code",
   "execution_count": null,
   "metadata": {},
   "outputs": [],
   "source": []
  },
  {
   "cell_type": "markdown",
   "metadata": {},
   "source": [
    "# 5. Using RGB images"
   ]
  },
  {
   "cell_type": "code",
   "execution_count": null,
   "metadata": {},
   "outputs": [],
   "source": []
  },
  {
   "cell_type": "code",
   "execution_count": null,
   "metadata": {},
   "outputs": [],
   "source": []
  },
  {
   "cell_type": "code",
   "execution_count": null,
   "metadata": {},
   "outputs": [],
   "source": []
  },
  {
   "cell_type": "markdown",
   "metadata": {},
   "source": [
    "# 6. Transfer Learning: working with pre-trained models"
   ]
  },
  {
   "cell_type": "code",
   "execution_count": null,
   "metadata": {},
   "outputs": [],
   "source": []
  },
  {
   "cell_type": "code",
   "execution_count": null,
   "metadata": {},
   "outputs": [],
   "source": []
  },
  {
   "cell_type": "code",
   "execution_count": null,
   "metadata": {},
   "outputs": [],
   "source": []
  },
  {
   "cell_type": "code",
   "execution_count": null,
   "metadata": {},
   "outputs": [],
   "source": []
  },
  {
   "cell_type": "markdown",
   "metadata": {},
   "source": [
    "## (Re) sources\n",
    "\n",
    "* [CRAN vignette for keras](https://cran.r-project.org/web/packages/keras/vignettes/getting_started.html)\n",
    "* [Image manipulation in R with magick](https://cran.r-project.org/web/packages/magick/vignettes/intro.html)"
   ]
  },
  {
   "cell_type": "code",
   "execution_count": null,
   "metadata": {},
   "outputs": [],
   "source": []
  }
 ],
 "metadata": {
  "kernelspec": {
   "display_name": "R",
   "language": "R",
   "name": "ir"
  },
  "language_info": {
   "codemirror_mode": "r",
   "file_extension": ".r",
   "mimetype": "text/x-r-source",
   "name": "R",
   "pygments_lexer": "r",
   "version": "3.4.2"
  }
 },
 "nbformat": 4,
 "nbformat_minor": 2
}
